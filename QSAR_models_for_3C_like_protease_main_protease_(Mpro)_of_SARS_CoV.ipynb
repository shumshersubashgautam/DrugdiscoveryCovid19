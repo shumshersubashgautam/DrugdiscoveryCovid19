{
  "nbformat": 4,
  "nbformat_minor": 0,
  "metadata": {
    "colab": {
      "name": "QSAR models for 3C-like protease main protease (Mpro) of SARS-CoV.ipynb",
      "provenance": [],
      "authorship_tag": "ABX9TyMA8SHfYkNB2X0KnnSqPcs7",
      "include_colab_link": true
    },
    "kernelspec": {
      "name": "python3",
      "display_name": "Python 3"
    },
    "accelerator": "GPU"
  },
  "cells": [
    {
      "cell_type": "markdown",
      "metadata": {
        "id": "view-in-github",
        "colab_type": "text"
      },
      "source": [
        "<a href=\"https://colab.research.google.com/github/shumshersubashgautam/DrugdiscoveryCovid19/blob/master/QSAR_models_for_3C_like_protease_main_protease_(Mpro)_of_SARS_CoV.ipynb\" target=\"_parent\"><img src=\"https://colab.research.google.com/assets/colab-badge.svg\" alt=\"Open In Colab\"/></a>"
      ]
    },
    {
      "cell_type": "code",
      "metadata": {
        "id": "g0ZgTp_DVHqj",
        "colab_type": "code",
        "colab": {
          "base_uri": "https://localhost:8080/",
          "height": 124
        },
        "outputId": "0c75dd9d-80d6-40c3-a30f-a1d34b8d76fa"
      },
      "source": [
        "!git clone https://github.com/alvesvm/sars-cov-mpro.git"
      ],
      "execution_count": 2,
      "outputs": [
        {
          "output_type": "stream",
          "text": [
            "Cloning into 'sars-cov-mpro'...\n",
            "remote: Enumerating objects: 61, done.\u001b[K\n",
            "remote: Counting objects: 100% (61/61), done.\u001b[K\n",
            "remote: Compressing objects: 100% (44/44), done.\u001b[K\n",
            "remote: Total 61 (delta 19), reused 53 (delta 15), pack-reused 0\u001b[K\n",
            "Unpacking objects: 100% (61/61), done.\n"
          ],
          "name": "stdout"
        }
      ]
    },
    {
      "cell_type": "code",
      "metadata": {
        "id": "cJjRbLxIVLXk",
        "colab_type": "code",
        "colab": {
          "base_uri": "https://localhost:8080/",
          "height": 35
        },
        "outputId": "0a4a36bb-c7ce-4884-d76b-3b093ba08992"
      },
      "source": [
        "cd /content/sars-cov-mpro"
      ],
      "execution_count": 3,
      "outputs": [
        {
          "output_type": "stream",
          "text": [
            "/content/sars-cov-mpro\n"
          ],
          "name": "stdout"
        }
      ]
    },
    {
      "cell_type": "code",
      "metadata": {
        "id": "kPiUUX52VU4W",
        "colab_type": "code",
        "colab": {
          "base_uri": "https://localhost:8080/",
          "height": 17
        },
        "outputId": "60285ca8-0b88-4c73-a424-bfc0971f79a4"
      },
      "source": [
        "import numpy as np\n",
        "import pandas as pd\n",
        "import seaborn as sns\n",
        "import matplotlib.pyplot as plt\n",
        "import _pickle as cPickle\n",
        "import gzip\n",
        "\n",
        "#from BalanceBySim import *\n",
        "from stats import *\n",
        "\n",
        "from collections import Counter\n",
        "\n",
        "from rdkit import Chem\n",
        "from rdkit.Chem import AllChem\n",
        "from rdkit.Chem import Draw\n",
        "from rdkit.Chem import PandasTools\n",
        "from rdkit.Chem.Draw import IPythonConsole\n",
        "\n",
        "from sklearn import metrics\n",
        "from sklearn.ensemble import RandomForestClassifier\n",
        "from sklearn.feature_selection import VarianceThreshold\n",
        "from sklearn.model_selection import train_test_split, cross_validate, GridSearchCV\n",
        "from sklearn.model_selection import permutation_test_score, StratifiedKFold\n",
        "\n",
        "def warn(*args, **kwargs):\n",
        "    pass\n",
        "import warnings\n",
        "warnings.filterwarnings(\"ignore\")\n",
        "warnings.warn = warn\n",
        "\n",
        "from IPython.core.interactiveshell import InteractiveShell\n",
        "InteractiveShell.ast_node_interactivity = \"all\"\n",
        "%matplotlib inline\n",
        "%reload_ext autoreload\n",
        "%autoreload 2\n",
        "Draw.DrawingOptions.atomLabelFontFace = \"DejaVu Sans\"\n",
        "Draw.DrawingOptions.atomLabelFontSize = 18\n",
        "\n",
        "from IPython.core.display import display, HTML\n",
        "display(HTML(\"<style>.container { width:90% !important; }</style>\"))"
      ],
      "execution_count": 9,
      "outputs": [
        {
          "output_type": "display_data",
          "data": {
            "text/html": [
              "<style>.container { width:90% !important; }</style>"
            ],
            "text/plain": [
              "<IPython.core.display.HTML object>"
            ]
          },
          "metadata": {
            "tags": []
          }
        }
      ]
    },
    {
      "cell_type": "code",
      "metadata": {
        "id": "9y-XUEv3VbNa",
        "colab_type": "code",
        "colab": {
          "base_uri": "https://localhost:8080/",
          "height": 1000
        },
        "outputId": "1f7640ac-510e-4c7f-b579-1fa661702cab"
      },
      "source": [
        "!wget -c https://repo.continuum.io/miniconda/Miniconda3-latest-Linux-x86_64.sh\n",
        "!chmod +x Miniconda3-latest-Linux-x86_64.sh\n",
        "!time bash ./Miniconda3-latest-Linux-x86_64.sh -b -f -p /usr/local\n",
        "!time conda install -q -y -c conda-forge rdkit"
      ],
      "execution_count": 6,
      "outputs": [
        {
          "output_type": "stream",
          "text": [
            "--2020-04-18 04:51:40--  https://repo.continuum.io/miniconda/Miniconda3-latest-Linux-x86_64.sh\n",
            "Resolving repo.continuum.io (repo.continuum.io)... 104.18.201.79, 104.18.200.79, 2606:4700::6812:c84f, ...\n",
            "Connecting to repo.continuum.io (repo.continuum.io)|104.18.201.79|:443... connected.\n",
            "HTTP request sent, awaiting response... 301 Moved Permanently\n",
            "Location: https://repo.anaconda.com/miniconda/Miniconda3-latest-Linux-x86_64.sh [following]\n",
            "--2020-04-18 04:51:40--  https://repo.anaconda.com/miniconda/Miniconda3-latest-Linux-x86_64.sh\n",
            "Resolving repo.anaconda.com (repo.anaconda.com)... 104.16.131.3, 104.16.130.3, 2606:4700::6810:8303, ...\n",
            "Connecting to repo.anaconda.com (repo.anaconda.com)|104.16.131.3|:443... connected.\n",
            "HTTP request sent, awaiting response... 200 OK\n",
            "Length: 85055499 (81M) [application/x-sh]\n",
            "Saving to: ‘Miniconda3-latest-Linux-x86_64.sh’\n",
            "\n",
            "Miniconda3-latest-L 100%[===================>]  81.12M   123MB/s    in 0.7s    \n",
            "\n",
            "2020-04-18 04:51:41 (123 MB/s) - ‘Miniconda3-latest-Linux-x86_64.sh’ saved [85055499/85055499]\n",
            "\n",
            "PREFIX=/usr/local\n",
            "Unpacking payload ...\n",
            "Collecting package metadata (current_repodata.json): - \b\b\\ \b\b| \b\bdone\n",
            "Solving environment: - \b\b\\ \b\bdone\n",
            "\n",
            "## Package Plan ##\n",
            "\n",
            "  environment location: /usr/local\n",
            "\n",
            "  added / updated specs:\n",
            "    - _libgcc_mutex==0.1=main\n",
            "    - asn1crypto==1.3.0=py37_0\n",
            "    - ca-certificates==2020.1.1=0\n",
            "    - certifi==2019.11.28=py37_0\n",
            "    - cffi==1.14.0=py37h2e261b9_0\n",
            "    - chardet==3.0.4=py37_1003\n",
            "    - conda-package-handling==1.6.0=py37h7b6447c_0\n",
            "    - conda==4.8.2=py37_0\n",
            "    - cryptography==2.8=py37h1ba5d50_0\n",
            "    - idna==2.8=py37_0\n",
            "    - ld_impl_linux-64==2.33.1=h53a641e_7\n",
            "    - libedit==3.1.20181209=hc058e9b_0\n",
            "    - libffi==3.2.1=hd88cf55_4\n",
            "    - libgcc-ng==9.1.0=hdf63c60_0\n",
            "    - libstdcxx-ng==9.1.0=hdf63c60_0\n",
            "    - ncurses==6.2=he6710b0_0\n",
            "    - openssl==1.1.1d=h7b6447c_4\n",
            "    - pip==20.0.2=py37_1\n",
            "    - pycosat==0.6.3=py37h7b6447c_0\n",
            "    - pycparser==2.19=py37_0\n",
            "    - pyopenssl==19.1.0=py37_0\n",
            "    - pysocks==1.7.1=py37_0\n",
            "    - python==3.7.6=h0371630_2\n",
            "    - readline==7.0=h7b6447c_5\n",
            "    - requests==2.22.0=py37_1\n",
            "    - ruamel_yaml==0.15.87=py37h7b6447c_0\n",
            "    - setuptools==45.2.0=py37_0\n",
            "    - six==1.14.0=py37_0\n",
            "    - sqlite==3.31.1=h7b6447c_0\n",
            "    - tk==8.6.8=hbc83047_0\n",
            "    - tqdm==4.42.1=py_0\n",
            "    - urllib3==1.25.8=py37_0\n",
            "    - wheel==0.34.2=py37_0\n",
            "    - xz==5.2.4=h14c3975_4\n",
            "    - yaml==0.1.7=had09818_2\n",
            "    - zlib==1.2.11=h7b6447c_3\n",
            "\n",
            "\n",
            "The following NEW packages will be INSTALLED:\n",
            "\n",
            "  _libgcc_mutex      pkgs/main/linux-64::_libgcc_mutex-0.1-main\n",
            "  asn1crypto         pkgs/main/linux-64::asn1crypto-1.3.0-py37_0\n",
            "  ca-certificates    pkgs/main/linux-64::ca-certificates-2020.1.1-0\n",
            "  certifi            pkgs/main/linux-64::certifi-2019.11.28-py37_0\n",
            "  cffi               pkgs/main/linux-64::cffi-1.14.0-py37h2e261b9_0\n",
            "  chardet            pkgs/main/linux-64::chardet-3.0.4-py37_1003\n",
            "  conda              pkgs/main/linux-64::conda-4.8.2-py37_0\n",
            "  conda-package-han~ pkgs/main/linux-64::conda-package-handling-1.6.0-py37h7b6447c_0\n",
            "  cryptography       pkgs/main/linux-64::cryptography-2.8-py37h1ba5d50_0\n",
            "  idna               pkgs/main/linux-64::idna-2.8-py37_0\n",
            "  ld_impl_linux-64   pkgs/main/linux-64::ld_impl_linux-64-2.33.1-h53a641e_7\n",
            "  libedit            pkgs/main/linux-64::libedit-3.1.20181209-hc058e9b_0\n",
            "  libffi             pkgs/main/linux-64::libffi-3.2.1-hd88cf55_4\n",
            "  libgcc-ng          pkgs/main/linux-64::libgcc-ng-9.1.0-hdf63c60_0\n",
            "  libstdcxx-ng       pkgs/main/linux-64::libstdcxx-ng-9.1.0-hdf63c60_0\n",
            "  ncurses            pkgs/main/linux-64::ncurses-6.2-he6710b0_0\n",
            "  openssl            pkgs/main/linux-64::openssl-1.1.1d-h7b6447c_4\n",
            "  pip                pkgs/main/linux-64::pip-20.0.2-py37_1\n",
            "  pycosat            pkgs/main/linux-64::pycosat-0.6.3-py37h7b6447c_0\n",
            "  pycparser          pkgs/main/linux-64::pycparser-2.19-py37_0\n",
            "  pyopenssl          pkgs/main/linux-64::pyopenssl-19.1.0-py37_0\n",
            "  pysocks            pkgs/main/linux-64::pysocks-1.7.1-py37_0\n",
            "  python             pkgs/main/linux-64::python-3.7.6-h0371630_2\n",
            "  readline           pkgs/main/linux-64::readline-7.0-h7b6447c_5\n",
            "  requests           pkgs/main/linux-64::requests-2.22.0-py37_1\n",
            "  ruamel_yaml        pkgs/main/linux-64::ruamel_yaml-0.15.87-py37h7b6447c_0\n",
            "  setuptools         pkgs/main/linux-64::setuptools-45.2.0-py37_0\n",
            "  six                pkgs/main/linux-64::six-1.14.0-py37_0\n",
            "  sqlite             pkgs/main/linux-64::sqlite-3.31.1-h7b6447c_0\n",
            "  tk                 pkgs/main/linux-64::tk-8.6.8-hbc83047_0\n",
            "  tqdm               pkgs/main/noarch::tqdm-4.42.1-py_0\n",
            "  urllib3            pkgs/main/linux-64::urllib3-1.25.8-py37_0\n",
            "  wheel              pkgs/main/linux-64::wheel-0.34.2-py37_0\n",
            "  xz                 pkgs/main/linux-64::xz-5.2.4-h14c3975_4\n",
            "  yaml               pkgs/main/linux-64::yaml-0.1.7-had09818_2\n",
            "  zlib               pkgs/main/linux-64::zlib-1.2.11-h7b6447c_3\n",
            "\n",
            "\n",
            "Preparing transaction: / \b\b- \b\b\\ \b\bdone\n",
            "Executing transaction: / \b\b- \b\b\\ \b\b| \b\b/ \b\b- \b\b\\ \b\b| \b\b/ \b\b- \b\b\\ \b\b| \b\bdone\n",
            "installation finished.\n",
            "WARNING:\n",
            "    You currently have a PYTHONPATH environment variable set. This may cause\n",
            "    unexpected behavior when running the Python interpreter in Miniconda3.\n",
            "    For best results, please verify that your PYTHONPATH only points to\n",
            "    directories of packages that are compatible with the Python interpreter\n",
            "    in Miniconda3: /usr/local\n",
            "\n",
            "real\t0m23.060s\n",
            "user\t0m6.536s\n",
            "sys\t0m3.254s\n",
            "Collecting package metadata (current_repodata.json): ...working... done\n",
            "Solving environment: ...working... done\n",
            "\n",
            "## Package Plan ##\n",
            "\n",
            "  environment location: /usr/local\n",
            "\n",
            "  added / updated specs:\n",
            "    - rdkit\n",
            "\n",
            "\n",
            "The following packages will be downloaded:\n",
            "\n",
            "    package                    |            build\n",
            "    ---------------------------|-----------------\n",
            "    boost-1.72.0               |   py37h9de70de_0         316 KB  conda-forge\n",
            "    boost-cpp-1.72.0           |       h8e57a91_0        21.8 MB  conda-forge\n",
            "    bzip2-1.0.8                |       h516909a_2         396 KB  conda-forge\n",
            "    ca-certificates-2020.4.5.1 |       hecc5488_0         146 KB  conda-forge\n",
            "    cairo-1.16.0               |    hcf35c78_1003         1.5 MB  conda-forge\n",
            "    certifi-2020.4.5.1         |   py37hc8dfbb8_0         151 KB  conda-forge\n",
            "    conda-4.8.3                |   py37hc8dfbb8_1         3.0 MB  conda-forge\n",
            "    fontconfig-2.13.1          |    h86ecdb6_1001         340 KB  conda-forge\n",
            "    freetype-2.10.1            |       he06d7ca_0         877 KB  conda-forge\n",
            "    gettext-0.19.8.1           |    hc5be6a0_1002         3.6 MB  conda-forge\n",
            "    glib-2.64.2                |       h6f030ca_0         3.4 MB  conda-forge\n",
            "    icu-64.2                   |       he1b5a44_1        12.6 MB  conda-forge\n",
            "    jpeg-9c                    |    h14c3975_1001         251 KB  conda-forge\n",
            "    libblas-3.8.0              |      14_openblas          10 KB  conda-forge\n",
            "    libcblas-3.8.0             |      14_openblas          10 KB  conda-forge\n",
            "    libgfortran-ng-7.3.0       |       hdf63c60_5         1.7 MB  conda-forge\n",
            "    libiconv-1.15              |    h516909a_1006         2.0 MB  conda-forge\n",
            "    liblapack-3.8.0            |      14_openblas          10 KB  conda-forge\n",
            "    libopenblas-0.3.7          |       h5ec1e0e_6         7.6 MB  conda-forge\n",
            "    libpng-1.6.37              |       hed695b0_1         308 KB  conda-forge\n",
            "    libtiff-4.1.0              |       hc7e4089_6         668 KB  conda-forge\n",
            "    libuuid-2.32.1             |    h14c3975_1000          26 KB  conda-forge\n",
            "    libwebp-base-1.1.0         |       h516909a_3         845 KB  conda-forge\n",
            "    libxcb-1.13                |    h14c3975_1002         396 KB  conda-forge\n",
            "    libxml2-2.9.10             |       hee79883_0         1.3 MB  conda-forge\n",
            "    lz4-c-1.8.3                |    he1b5a44_1001         187 KB  conda-forge\n",
            "    numpy-1.18.1               |   py37h8960a57_1         5.2 MB  conda-forge\n",
            "    olefile-0.46               |             py_0          31 KB  conda-forge\n",
            "    openssl-1.1.1f             |       h516909a_0         2.1 MB  conda-forge\n",
            "    pandas-1.0.3               |   py37h0da4684_1        11.1 MB  conda-forge\n",
            "    pcre-8.44                  |       he1b5a44_0         261 KB  conda-forge\n",
            "    pillow-7.0.0               |   py37hb39fc2d_0         598 KB\n",
            "    pixman-0.38.0              |    h516909a_1003         594 KB  conda-forge\n",
            "    pthread-stubs-0.4          |    h14c3975_1001           5 KB  conda-forge\n",
            "    pycairo-1.19.1             |   py37h01af8b0_3          77 KB  conda-forge\n",
            "    python-dateutil-2.8.1      |             py_0         220 KB  conda-forge\n",
            "    python_abi-3.7             |          1_cp37m           4 KB  conda-forge\n",
            "    pytz-2019.3                |             py_0         237 KB  conda-forge\n",
            "    rdkit-2020.03.1            |   py37hdd87690_1        24.7 MB  conda-forge\n",
            "    xorg-kbproto-1.0.7         |    h14c3975_1002          26 KB  conda-forge\n",
            "    xorg-libice-1.0.10         |       h516909a_0          57 KB  conda-forge\n",
            "    xorg-libsm-1.2.3           |    h84519dc_1000          25 KB  conda-forge\n",
            "    xorg-libx11-1.6.9          |       h516909a_0         918 KB  conda-forge\n",
            "    xorg-libxau-1.0.9          |       h14c3975_0          13 KB  conda-forge\n",
            "    xorg-libxdmcp-1.1.3        |       h516909a_0          18 KB  conda-forge\n",
            "    xorg-libxext-1.3.4         |       h516909a_0          51 KB  conda-forge\n",
            "    xorg-libxrender-0.9.10     |    h516909a_1002          31 KB  conda-forge\n",
            "    xorg-renderproto-0.11.1    |    h14c3975_1002           8 KB  conda-forge\n",
            "    xorg-xextproto-7.3.0       |    h14c3975_1002          27 KB  conda-forge\n",
            "    xorg-xproto-7.0.31         |    h14c3975_1007          72 KB  conda-forge\n",
            "    zstd-1.4.4                 |       h3b9ef0a_2         982 KB  conda-forge\n",
            "    ------------------------------------------------------------\n",
            "                                           Total:       110.7 MB\n",
            "\n",
            "The following NEW packages will be INSTALLED:\n",
            "\n",
            "  boost              conda-forge/linux-64::boost-1.72.0-py37h9de70de_0\n",
            "  boost-cpp          conda-forge/linux-64::boost-cpp-1.72.0-h8e57a91_0\n",
            "  bzip2              conda-forge/linux-64::bzip2-1.0.8-h516909a_2\n",
            "  cairo              conda-forge/linux-64::cairo-1.16.0-hcf35c78_1003\n",
            "  fontconfig         conda-forge/linux-64::fontconfig-2.13.1-h86ecdb6_1001\n",
            "  freetype           conda-forge/linux-64::freetype-2.10.1-he06d7ca_0\n",
            "  gettext            conda-forge/linux-64::gettext-0.19.8.1-hc5be6a0_1002\n",
            "  glib               conda-forge/linux-64::glib-2.64.2-h6f030ca_0\n",
            "  icu                conda-forge/linux-64::icu-64.2-he1b5a44_1\n",
            "  jpeg               conda-forge/linux-64::jpeg-9c-h14c3975_1001\n",
            "  libblas            conda-forge/linux-64::libblas-3.8.0-14_openblas\n",
            "  libcblas           conda-forge/linux-64::libcblas-3.8.0-14_openblas\n",
            "  libgfortran-ng     conda-forge/linux-64::libgfortran-ng-7.3.0-hdf63c60_5\n",
            "  libiconv           conda-forge/linux-64::libiconv-1.15-h516909a_1006\n",
            "  liblapack          conda-forge/linux-64::liblapack-3.8.0-14_openblas\n",
            "  libopenblas        conda-forge/linux-64::libopenblas-0.3.7-h5ec1e0e_6\n",
            "  libpng             conda-forge/linux-64::libpng-1.6.37-hed695b0_1\n",
            "  libtiff            conda-forge/linux-64::libtiff-4.1.0-hc7e4089_6\n",
            "  libuuid            conda-forge/linux-64::libuuid-2.32.1-h14c3975_1000\n",
            "  libwebp-base       conda-forge/linux-64::libwebp-base-1.1.0-h516909a_3\n",
            "  libxcb             conda-forge/linux-64::libxcb-1.13-h14c3975_1002\n",
            "  libxml2            conda-forge/linux-64::libxml2-2.9.10-hee79883_0\n",
            "  lz4-c              conda-forge/linux-64::lz4-c-1.8.3-he1b5a44_1001\n",
            "  numpy              conda-forge/linux-64::numpy-1.18.1-py37h8960a57_1\n",
            "  olefile            conda-forge/noarch::olefile-0.46-py_0\n",
            "  pandas             conda-forge/linux-64::pandas-1.0.3-py37h0da4684_1\n",
            "  pcre               conda-forge/linux-64::pcre-8.44-he1b5a44_0\n",
            "  pillow             pkgs/main/linux-64::pillow-7.0.0-py37hb39fc2d_0\n",
            "  pixman             conda-forge/linux-64::pixman-0.38.0-h516909a_1003\n",
            "  pthread-stubs      conda-forge/linux-64::pthread-stubs-0.4-h14c3975_1001\n",
            "  pycairo            conda-forge/linux-64::pycairo-1.19.1-py37h01af8b0_3\n",
            "  python-dateutil    conda-forge/noarch::python-dateutil-2.8.1-py_0\n",
            "  python_abi         conda-forge/linux-64::python_abi-3.7-1_cp37m\n",
            "  pytz               conda-forge/noarch::pytz-2019.3-py_0\n",
            "  rdkit              conda-forge/linux-64::rdkit-2020.03.1-py37hdd87690_1\n",
            "  xorg-kbproto       conda-forge/linux-64::xorg-kbproto-1.0.7-h14c3975_1002\n",
            "  xorg-libice        conda-forge/linux-64::xorg-libice-1.0.10-h516909a_0\n",
            "  xorg-libsm         conda-forge/linux-64::xorg-libsm-1.2.3-h84519dc_1000\n",
            "  xorg-libx11        conda-forge/linux-64::xorg-libx11-1.6.9-h516909a_0\n",
            "  xorg-libxau        conda-forge/linux-64::xorg-libxau-1.0.9-h14c3975_0\n",
            "  xorg-libxdmcp      conda-forge/linux-64::xorg-libxdmcp-1.1.3-h516909a_0\n",
            "  xorg-libxext       conda-forge/linux-64::xorg-libxext-1.3.4-h516909a_0\n",
            "  xorg-libxrender    conda-forge/linux-64::xorg-libxrender-0.9.10-h516909a_1002\n",
            "  xorg-renderproto   conda-forge/linux-64::xorg-renderproto-0.11.1-h14c3975_1002\n",
            "  xorg-xextproto     conda-forge/linux-64::xorg-xextproto-7.3.0-h14c3975_1002\n",
            "  xorg-xproto        conda-forge/linux-64::xorg-xproto-7.0.31-h14c3975_1007\n",
            "  zstd               conda-forge/linux-64::zstd-1.4.4-h3b9ef0a_2\n",
            "\n",
            "The following packages will be UPDATED:\n",
            "\n",
            "  ca-certificates     pkgs/main::ca-certificates-2020.1.1-0 --> conda-forge::ca-certificates-2020.4.5.1-hecc5488_0\n",
            "  certifi              pkgs/main::certifi-2019.11.28-py37_0 --> conda-forge::certifi-2020.4.5.1-py37hc8dfbb8_0\n",
            "  conda                       pkgs/main::conda-4.8.2-py37_0 --> conda-forge::conda-4.8.3-py37hc8dfbb8_1\n",
            "  openssl              pkgs/main::openssl-1.1.1d-h7b6447c_4 --> conda-forge::openssl-1.1.1f-h516909a_0\n",
            "\n",
            "\n",
            "Preparing transaction: ...working... done\n",
            "Verifying transaction: ...working... done\n",
            "Executing transaction: ...working... done\n",
            "\n",
            "real\t0m36.876s\n",
            "user\t0m30.702s\n",
            "sys\t0m3.423s\n"
          ],
          "name": "stdout"
        }
      ]
    },
    {
      "cell_type": "code",
      "metadata": {
        "id": "J6GcTDqcoLmj",
        "colab_type": "code",
        "colab": {}
      },
      "source": [
        "%matplotlib inline\n",
        "import matplotlib.pyplot as plt\n",
        "import sys\n",
        "import os\n",
        "sys.path.append('/usr/local/lib/python3.7/site-packages/')"
      ],
      "execution_count": 0,
      "outputs": []
    },
    {
      "cell_type": "code",
      "metadata": {
        "id": "muSFeXhFo3bu",
        "colab_type": "code",
        "colab": {
          "base_uri": "https://localhost:8080/",
          "height": 352
        },
        "outputId": "2efd71ff-206c-4ae3-af79-a426b9c4b4a0"
      },
      "source": [
        "# Set file path\n",
        "file = 'datasets/curated_data/chembl-pdb-sars-cov-3C-like-proteinase.sdf.gz'\n",
        "sdfInfo = dict(smilesName='SMILES', molColName='ROMol')\n",
        "moldf = PandasTools.LoadSDF(file, **sdfInfo)\n",
        "print('Original data: ', moldf.shape)\n",
        "# Rename ROMol\n",
        "moldf = moldf.rename(columns={'ROMol': 'Mol'})\n",
        "# Remove missing RDKit molecules\n",
        "moldf = moldf[pd.notnull(moldf['Mol'])]\n",
        "if 'StandardizerResult' in moldf.columns:\n",
        "    moldf = moldf.drop(columns='StandardizerResult')\n",
        "# Columns\n",
        "print('Kept data: ', moldf.shape)\n",
        "moldf.head(1)"
      ],
      "execution_count": 10,
      "outputs": [
        {
          "output_type": "stream",
          "text": [
            "Original data:  (113, 11)\n",
            "Kept data:  (113, 11)\n"
          ],
          "name": "stdout"
        },
        {
          "output_type": "execute_result",
          "data": {
            "text/html": [
              "<div>\n",
              "<style scoped>\n",
              "    .dataframe tbody tr th:only-of-type {\n",
              "        vertical-align: middle;\n",
              "    }\n",
              "\n",
              "    .dataframe tbody tr th {\n",
              "        vertical-align: top;\n",
              "    }\n",
              "\n",
              "    .dataframe thead th {\n",
              "        text-align: right;\n",
              "    }\n",
              "</style>\n",
              "<table border=\"1\" class=\"dataframe\">\n",
              "  <thead>\n",
              "    <tr style=\"text-align: right;\">\n",
              "      <th></th>\n",
              "      <th>Compound_name</th>\n",
              "      <th>Standard Type</th>\n",
              "      <th>Standard Relation</th>\n",
              "      <th>Standard Value</th>\n",
              "      <th>Standard Units</th>\n",
              "      <th>Outcome</th>\n",
              "      <th>InChIKey</th>\n",
              "      <th>Molecule ChEMBL ID</th>\n",
              "      <th>ID</th>\n",
              "      <th>SMILES</th>\n",
              "      <th>Mol</th>\n",
              "    </tr>\n",
              "  </thead>\n",
              "  <tbody>\n",
              "    <tr>\n",
              "      <th>0</th>\n",
              "      <td></td>\n",
              "      <td>IC50</td>\n",
              "      <td>=</td>\n",
              "      <td>5700.0</td>\n",
              "      <td>nM</td>\n",
              "      <td>Active</td>\n",
              "      <td>AEYIBAPLFDNVGD-UHFFFAOYNA-N</td>\n",
              "      <td></td>\n",
              "      <td></td>\n",
              "      <td>CC(=O)NC(CO)C(=O)NC(C)C(=O)NC(C(=O)NC(CC(C)C)C...</td>\n",
              "      <td><img data-content=\"rdkit/molecule\" src=\"data:image/png;base64,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\" alt=\"Mol\"/></td>\n",
              "    </tr>\n",
              "  </tbody>\n",
              "</table>\n",
              "</div>"
            ],
            "text/plain": [
              "  Compound_name  ...                                                Mol\n",
              "0                ...  <img data-content=\"rdkit/molecule\" src=\"data:i...\n",
              "\n",
              "[1 rows x 11 columns]"
            ]
          },
          "metadata": {
            "tags": []
          },
          "execution_count": 10
        }
      ]
    },
    {
      "cell_type": "code",
      "metadata": {
        "id": "fcd-GqeGpKX1",
        "colab_type": "code",
        "colab": {
          "base_uri": "https://localhost:8080/",
          "height": 106
        },
        "outputId": "a3c4322c-3952-47f5-d987-e3b4002f7773"
      },
      "source": [
        "\n",
        "moldf['Outcome'] = moldf['Outcome'].replace('Active', 1)\n",
        "moldf['Outcome'] = moldf['Outcome'].replace('Inactive', 0)\n",
        "\n",
        "classes = Counter(moldf['Outcome'])\n",
        "print('\\033[1m' + 'Training set shape:' + '\\n' + '\\033[0m')\n",
        "for key, value in classes.items():\n",
        "    print('\\t\\t Class %d: %d' % (key, value))\n",
        "print('\\t\\t Total number of compounds: %d' % (len(moldf['Outcome'])))"
      ],
      "execution_count": 11,
      "outputs": [
        {
          "output_type": "stream",
          "text": [
            "\u001b[1mTraining set shape:\n",
            "\u001b[0m\n",
            "\t\t Class 1: 40\n",
            "\t\t Class 0: 73\n",
            "\t\t Total number of compounds: 113\n"
          ],
          "name": "stdout"
        }
      ]
    },
    {
      "cell_type": "code",
      "metadata": {
        "id": "qyUFntWvpQ9a",
        "colab_type": "code",
        "colab": {
          "base_uri": "https://localhost:8080/",
          "height": 35
        },
        "outputId": "8cac9007-ef95-4f4b-fda8-a7724b103991"
      },
      "source": [
        "\n",
        "def calcfp(mol,funcFPInfo=dict(radius=3, nBits=2048, useFeatures=False, useChirality=False)):\n",
        "    fp = AllChem.GetMorganFingerprintAsBitVect(mol, **funcFPInfo)\n",
        "    fp = pd.Series(np.asarray(fp))\n",
        "    fp = fp.add_prefix('Bit_')\n",
        "    return fp\n",
        "\n",
        "# Training set\n",
        "desc = moldf.Mol.apply(calcfp)\n",
        "descriptors = desc.columns.difference(moldf.columns).tolist()\n",
        "desc.shape"
      ],
      "execution_count": 12,
      "outputs": [
        {
          "output_type": "execute_result",
          "data": {
            "text/plain": [
              "(113, 2048)"
            ]
          },
          "metadata": {
            "tags": []
          },
          "execution_count": 12
        }
      ]
    },
    {
      "cell_type": "code",
      "metadata": {
        "id": "EIDbkFqbpVBw",
        "colab_type": "code",
        "colab": {
          "base_uri": "https://localhost:8080/",
          "height": 52
        },
        "outputId": "54f66941-7076-4d1a-acf8-5d48d5a794df"
      },
      "source": [
        "moldf_desc = pd.concat([moldf,desc], axis=1)\n",
        "balance_data = 'no'\n",
        "\n",
        "if balance_data == 'yes':\n",
        "    # Balance data using 1/2 similarity and 1/2 random\n",
        "    moldf_desc = BalanceBySim(moldf_desc, 'Outcome', 2)\n",
        "    # Print shape\n",
        "    print('Training set shape: %s' % Counter(moldf_desc['Outcome'].loc[moldf_desc['Set'] == 'train']))\n",
        "    print('External set shape: %s' % Counter(moldf_desc['Outcome'].loc[moldf_desc['Set'] == 'ext']))\n",
        "      \n",
        "else:\n",
        "    moldf_desc['Set'] = 'train'\n",
        "    # Print shape\n",
        "    print('Training set shape: %s' % Counter(moldf_desc['Outcome'].loc[moldf_desc['Set'] == 'train']))\n",
        "    print('External set shape: %s' % Counter(moldf_desc['Outcome'].loc[moldf_desc['Set'] == 'ext']))"
      ],
      "execution_count": 13,
      "outputs": [
        {
          "output_type": "stream",
          "text": [
            "Training set shape: Counter({0: 73, 1: 40})\n",
            "External set shape: Counter()\n"
          ],
          "name": "stdout"
        }
      ]
    },
    {
      "cell_type": "code",
      "metadata": {
        "id": "ZjUcIgkOpYhs",
        "colab_type": "code",
        "colab": {
          "base_uri": "https://localhost:8080/",
          "height": 35
        },
        "outputId": "c8ce37a0-2c8f-4c43-e85e-091c9723a191"
      },
      "source": [
        "moldf_train = moldf_desc[(moldf_desc['Set'] == 'train')]\n",
        "\n",
        "y_train = moldf_train['Outcome'].to_numpy()\n",
        "X_train = moldf_train[descriptors]\n",
        "X_train.shape"
      ],
      "execution_count": 14,
      "outputs": [
        {
          "output_type": "execute_result",
          "data": {
            "text/plain": [
              "(113, 2048)"
            ]
          },
          "metadata": {
            "tags": []
          },
          "execution_count": 14
        }
      ]
    },
    {
      "cell_type": "code",
      "metadata": {
        "id": "Cb4Ho7TjpcSn",
        "colab_type": "code",
        "colab": {
          "base_uri": "https://localhost:8080/",
          "height": 230
        },
        "outputId": "644019af-81ca-41f6-e1d2-f58fb935ae56"
      },
      "source": [
        "%%time\n",
        "# Number of trees in random forest\n",
        "n_estimators = [100, 250, 500, 750, 1000]\n",
        "max_features = ['auto', 'sqrt']\n",
        "criterion = ['gini', 'entropy']\n",
        "if balance_data == 'yes':\n",
        "    class_weight = [None]\n",
        "else:\n",
        "    class_weight = [None,'balanced',\n",
        "                    {0:.9, 1:.1}, {0:.8, 1:.2}, {0:.7, 1:.3}, {0:.6, 1:.4},\n",
        "                    {0:.4, 1:.6}, {0:.3, 1:.7}, {0:.2, 1:.8}, {0:.1, 1:.9}]\n",
        "random_state = [24]\n",
        "\n",
        "# Create the random grid\n",
        "param_grid = {'n_estimators': n_estimators,\n",
        "              'max_features': max_features,\n",
        "              'criterion': criterion,\n",
        "              'random_state': random_state,\n",
        "              'class_weight': class_weight}\n",
        "\n",
        "# setup model building\n",
        "rf = GridSearchCV(RandomForestClassifier(), param_grid, n_jobs=-1, cv=5, verbose=1)\n",
        "rf.fit(X_train, y_train)\n",
        "print()\n",
        "print('Best params: %s' % rf.best_params_)\n",
        "print('Score: %.2f' % rf.best_score_)"
      ],
      "execution_count": 15,
      "outputs": [
        {
          "output_type": "stream",
          "text": [
            "Fitting 5 folds for each of 200 candidates, totalling 1000 fits\n"
          ],
          "name": "stdout"
        },
        {
          "output_type": "stream",
          "text": [
            "[Parallel(n_jobs=-1)]: Using backend LokyBackend with 2 concurrent workers.\n",
            "[Parallel(n_jobs=-1)]: Done  46 tasks      | elapsed:   25.5s\n",
            "[Parallel(n_jobs=-1)]: Done 196 tasks      | elapsed:  1.8min\n",
            "[Parallel(n_jobs=-1)]: Done 446 tasks      | elapsed:  4.2min\n",
            "[Parallel(n_jobs=-1)]: Done 796 tasks      | elapsed:  7.6min\n",
            "[Parallel(n_jobs=-1)]: Done 1000 out of 1000 | elapsed:  9.5min finished\n"
          ],
          "name": "stderr"
        },
        {
          "output_type": "stream",
          "text": [
            "\n",
            "Best params: {'class_weight': None, 'criterion': 'gini', 'max_features': 'auto', 'n_estimators': 750, 'random_state': 24}\n",
            "Score: 0.82\n",
            "CPU times: user 4.63 s, sys: 144 ms, total: 4.78 s\n",
            "Wall time: 9min 33s\n"
          ],
          "name": "stdout"
        }
      ]
    },
    {
      "cell_type": "code",
      "metadata": {
        "id": "xLkDZ_Vnpnad",
        "colab_type": "code",
        "colab": {
          "base_uri": "https://localhost:8080/",
          "height": 159
        },
        "outputId": "075400de-4844-4d4f-f3ea-4b66496a8ffa"
      },
      "source": [
        "rf_best = RandomForestClassifier(**rf.best_params_, n_jobs=-1)\n",
        "rf_best.fit(X_train, y_train)"
      ],
      "execution_count": 16,
      "outputs": [
        {
          "output_type": "execute_result",
          "data": {
            "text/plain": [
              "RandomForestClassifier(bootstrap=True, ccp_alpha=0.0, class_weight=None,\n",
              "                       criterion='gini', max_depth=None, max_features='auto',\n",
              "                       max_leaf_nodes=None, max_samples=None,\n",
              "                       min_impurity_decrease=0.0, min_impurity_split=None,\n",
              "                       min_samples_leaf=1, min_samples_split=2,\n",
              "                       min_weight_fraction_leaf=0.0, n_estimators=750,\n",
              "                       n_jobs=-1, oob_score=False, random_state=24, verbose=0,\n",
              "                       warm_start=False)"
            ]
          },
          "metadata": {
            "tags": []
          },
          "execution_count": 16
        }
      ]
    },
    {
      "cell_type": "code",
      "metadata": {
        "id": "2ZqNknbasBQ2",
        "colab_type": "code",
        "colab": {}
      },
      "source": [
        "# Params\n",
        "pred = []\n",
        "ad = []\n",
        "index = []\n",
        "cross_val = StratifiedKFold(n_splits=5)\n",
        "\n",
        "# Do 5-fold loop\n",
        "for train_index, test_index in cross_val.split(X_train, y_train):\n",
        "    \n",
        "    fold_model = rf_best.fit(X_train.iloc[train_index], y_train[train_index])\n",
        "    fold_pred = rf_best.predict(X_train.iloc[test_index])\n",
        "    fold_ad = rf_best.predict_proba(X_train.iloc[test_index])\n",
        "    pred.append(fold_pred)\n",
        "    ad.append(fold_ad)\n",
        "    index.append(test_index)"
      ],
      "execution_count": 0,
      "outputs": []
    },
    {
      "cell_type": "code",
      "metadata": {
        "id": "9AUMKQ9nsN3W",
        "colab_type": "code",
        "colab": {
          "base_uri": "https://localhost:8080/",
          "height": 141
        },
        "outputId": "292dc7be-d2ca-43dc-9fb8-c577d563b878"
      },
      "source": [
        "threshold_ad = 0.70\n",
        "\n",
        "# Prepare results to export    \n",
        "fold_index = np.concatenate(index)    \n",
        "fold_pred = np.concatenate(pred)\n",
        "fold_ad = np.concatenate(ad)\n",
        "fold_ad = (np.amax(fold_ad, axis=1) >= threshold_ad).astype(str)\n",
        "five_fold_morgan = pd.DataFrame({'Prediction': fold_pred,'AD': fold_ad}, index=list(fold_index))\n",
        "five_fold_morgan.AD[five_fold_morgan.AD == 'False'] = np.nan\n",
        "five_fold_morgan.AD[five_fold_morgan.AD == 'True'] = five_fold_morgan.Prediction\n",
        "five_fold_morgan.sort_index(inplace=True)\n",
        "five_fold_morgan['y_train'] = pd.DataFrame(y_train)\n",
        "five_fold_ad = five_fold_morgan.dropna().astype(int)\n",
        "coverage_5f = len(five_fold_ad) / len(five_fold_morgan)\n",
        "\n",
        "\n",
        "# morgan stats\n",
        "morgan = pd.DataFrame(stats(five_fold_morgan['y_train'], five_fold_morgan['Prediction']))\n",
        "morgan['Coverage'] = 1.0\n",
        "\n",
        "# morgan AD stats\n",
        "morgan_ad = five_fold_morgan.dropna(subset=['AD']).astype(int)\n",
        "coverage_morgan_ad = len(morgan_ad['AD']) / len(five_fold_morgan['y_train'])\n",
        "morgan_ad = pd.DataFrame(stats(morgan_ad['y_train'], morgan_ad['AD']))\n",
        "morgan_ad['Coverage'] = round(coverage_morgan_ad, 2)\n",
        "\n",
        "# print stats\n",
        "print('\\033[1m' + '5-fold External Cross Validation Statistical Characteristcs of QSAR models developed morgan' + '\\n' + '\\033[0m')\n",
        "morgan_5f_stats = morgan.append(morgan_ad)\n",
        "morgan_5f_stats.set_index([['Morgan', 'Morgan AD']], drop=True, inplace=True)\n",
        "morgan_5f_stats"
      ],
      "execution_count": 18,
      "outputs": [
        {
          "output_type": "stream",
          "text": [
            "\u001b[1m5-fold External Cross Validation Statistical Characteristcs of QSAR models developed morgan\n",
            "\u001b[0m\n"
          ],
          "name": "stdout"
        },
        {
          "output_type": "execute_result",
          "data": {
            "text/html": [
              "<div>\n",
              "<style scoped>\n",
              "    .dataframe tbody tr th:only-of-type {\n",
              "        vertical-align: middle;\n",
              "    }\n",
              "\n",
              "    .dataframe tbody tr th {\n",
              "        vertical-align: top;\n",
              "    }\n",
              "\n",
              "    .dataframe thead th {\n",
              "        text-align: right;\n",
              "    }\n",
              "</style>\n",
              "<table border=\"1\" class=\"dataframe\">\n",
              "  <thead>\n",
              "    <tr style=\"text-align: right;\">\n",
              "      <th></th>\n",
              "      <th>Kappa</th>\n",
              "      <th>CCR</th>\n",
              "      <th>Sensitivity</th>\n",
              "      <th>PPV</th>\n",
              "      <th>Specificity</th>\n",
              "      <th>NPV</th>\n",
              "      <th>Coverage</th>\n",
              "    </tr>\n",
              "  </thead>\n",
              "  <tbody>\n",
              "    <tr>\n",
              "      <th>Morgan</th>\n",
              "      <td>0.59</td>\n",
              "      <td>0.78</td>\n",
              "      <td>0.65</td>\n",
              "      <td>0.81</td>\n",
              "      <td>0.92</td>\n",
              "      <td>0.83</td>\n",
              "      <td>1.00</td>\n",
              "    </tr>\n",
              "    <tr>\n",
              "      <th>Morgan AD</th>\n",
              "      <td>0.67</td>\n",
              "      <td>0.80</td>\n",
              "      <td>0.62</td>\n",
              "      <td>0.94</td>\n",
              "      <td>0.98</td>\n",
              "      <td>0.85</td>\n",
              "      <td>0.69</td>\n",
              "    </tr>\n",
              "  </tbody>\n",
              "</table>\n",
              "</div>"
            ],
            "text/plain": [
              "           Kappa   CCR  Sensitivity   PPV  Specificity   NPV  Coverage\n",
              "Morgan      0.59  0.78         0.65  0.81         0.92  0.83      1.00\n",
              "Morgan AD   0.67  0.80         0.62  0.94         0.98  0.85      0.69"
            ]
          },
          "metadata": {
            "tags": []
          },
          "execution_count": 18
        }
      ]
    },
    {
      "cell_type": "code",
      "metadata": {
        "id": "yqSn7EfPsV2q",
        "colab_type": "code",
        "colab": {}
      },
      "source": [
        "\n",
        "moldf_ext = moldf_desc[(moldf_desc['Set'] == 'ext')]\n",
        "descriptor_list = list(X_train.columns.values)\n",
        "\n",
        "if len(moldf_ext) > 0:\n",
        "    y_ext = moldf_ext['Outcome'].to_numpy()\n",
        "    X_ext = moldf_ext[descriptors]\n",
        "    \n",
        "    # Filter out descriptors not present in the model\n",
        "    X_ext = X_ext[descriptor_list]\n",
        "    \n",
        "    # Make predictions\n",
        "    ext_set = rf_best.predict(X_ext)\n",
        "    ext_set_ad = rf_best.predict_proba(X_ext)\n",
        "    ext_set_ad = (np.amax(ext_set_ad, axis=1) >= threshold_ad).astype(str)\n",
        "    \n",
        "    # Prepare data\n",
        "    ext_set = pd.DataFrame({'Prediction': ext_set,'AD': ext_set_ad})\n",
        "    ext_set.AD[ext_set.AD == 'False'] = np.nan\n",
        "    ext_set.AD[ext_set.AD == 'True'] = ext_set.Prediction\n",
        "    ext_set.sort_index(inplace=True)\n",
        "    ext_set['y_ext'] = pd.DataFrame(y_ext)\n",
        "    ext_set_ad = ext_set.dropna().astype(int)\n",
        "    coverage_ext = len(ext_set_ad) / len(ext_set)\n",
        "    \n",
        "    # Print stats\n",
        "    ext_set_stats = pd.DataFrame(stats(ext_set.y_ext, ext_set.Prediction))\n",
        "    ext_set_stats['Coverage'] = 1.0\n",
        "    print('External withheld set: \\n', ext_set_stats.to_string(index=False), '\\n')\n",
        "    ext_set_stats_ad = pd.DataFrame(stats(ext_set_ad.y_ext, ext_set_ad.AD))\n",
        "    ext_set_stats_ad['Coverage'] = round(coverage_ext, 2)\n",
        "    print('External withheld set with AD: \\n', ext_set_stats_ad.to_string(index=False), '\\n')\n",
        "else:\n",
        "    pass"
      ],
      "execution_count": 0,
      "outputs": []
    },
    {
      "cell_type": "code",
      "metadata": {
        "id": "h9DfFELCsa1a",
        "colab_type": "code",
        "colab": {
          "base_uri": "https://localhost:8080/",
          "height": 106
        },
        "outputId": "377b2c1b-36db-42cd-ff01-a6a512ede468"
      },
      "source": [
        "permutations = 20\n",
        "score, permutation_scores, pvalue = permutation_test_score(rf_best, X_train, y_train,\n",
        "                                                           cv=5, scoring='balanced_accuracy',\n",
        "                                                           n_permutations=permutations,\n",
        "                                                           n_jobs=-1,\n",
        "                                                           verbose=1,\n",
        "                                                           random_state=24)\n",
        "print('True score = ', score.round(2),\n",
        "      '\\nY-randomization = ', np.mean(permutation_scores).round(2),\n",
        "      '\\np-value = ', pvalue.round(4))"
      ],
      "execution_count": 20,
      "outputs": [
        {
          "output_type": "stream",
          "text": [
            "[Parallel(n_jobs=-1)]: Using backend LokyBackend with 2 concurrent workers.\n"
          ],
          "name": "stderr"
        },
        {
          "output_type": "stream",
          "text": [
            "True score =  0.78 \n",
            "Y-randomization =  0.5 \n",
            "p-value =  0.0476\n"
          ],
          "name": "stdout"
        },
        {
          "output_type": "stream",
          "text": [
            "[Parallel(n_jobs=-1)]: Done  20 out of  20 | elapsed:  1.6min finished\n"
          ],
          "name": "stderr"
        }
      ]
    },
    {
      "cell_type": "code",
      "metadata": {
        "id": "-nRHsH-hstue",
        "colab_type": "code",
        "colab": {}
      },
      "source": [
        "with gzip.GzipFile('model/sars-cov-3clpro-morgan_RF_ad_balanced.pgz', 'w') as f:\n",
        "    cPickle.dump(rf_best, f)"
      ],
      "execution_count": 0,
      "outputs": []
    },
    {
      "cell_type": "code",
      "metadata": {
        "id": "f3arDl_KtLa-",
        "colab_type": "code",
        "colab": {}
      },
      "source": [
        "pred_train = moldf_train[moldf_train.columns.difference(descriptor_list)]\n",
        "pred_train.reset_index(inplace=True)\n",
        "five_fold_exp = five_fold_morgan[['Prediction', 'AD']].rename(columns={'Prediction':'morgan', 'AD':'morgan_ad'}, )\n",
        "pred_train = pd.concat([pred_train, five_fold_exp], axis=1)\n",
        "pred_train['Set'] = 'train'\n",
        "\n",
        "if len(moldf_ext) > 0:\n",
        "    pred_ext = moldf_ext[moldf_ext.columns.difference(descriptor_list)]\n",
        "    pred_ext.reset_index(inplace=True)\n",
        "    ext_set_exp = ext_set[['Prediction', 'AD']].rename(columns={'Prediction':'morgan', 'AD':'morgan_ad'}, )\n",
        "    pred_ext = pd.concat([pred_ext, ext_set_exp], axis=1)\n",
        "    pred_ext['Set'] = 'ext'\n",
        "    \n",
        "    pred_morgan = pd.concat([pred_train, pred_ext], axis=0).sort_values(by='index')\n",
        "    pred_morgan.drop(columns=['index', 'Mol', 'ID'], inplace=True)\n",
        "\n",
        "else:\n",
        "    pred_morgan = pred_train.copy()\n",
        "    pred_morgan.drop(columns=['index', 'Mol', 'ID'], inplace=True)\n",
        "    \n",
        "#for col in ['Outcome', 'morgan', 'morgan_ad']:\n",
        "#    pred_morgan[col].replace(0,'Inactive', inplace=True)\n",
        "#    pred_morgan[col].replace(1,'Active', inplace=True)"
      ],
      "execution_count": 0,
      "outputs": []
    },
    {
      "cell_type": "code",
      "metadata": {
        "id": "RJDqXA4AtPfr",
        "colab_type": "code",
        "colab": {}
      },
      "source": [
        "with pd.ExcelWriter('predictions-morgan.xlsx') as writer:\n",
        "    pred_morgan.to_excel(writer, sheet_name='morgan', index=False)"
      ],
      "execution_count": 0,
      "outputs": []
    },
    {
      "cell_type": "code",
      "metadata": {
        "id": "0AutYWKftSXr",
        "colab_type": "code",
        "colab": {
          "base_uri": "https://localhost:8080/",
          "height": 106
        },
        "outputId": "8663effb-a7ec-418f-9b0e-d4f92635c3a3"
      },
      "source": [
        "# Export stats\n",
        "if len(moldf_ext) > 0:\n",
        "    morgan_stats = pd.concat([morgan, morgan_ad], axis=0)\n",
        "    morgan_stats.set_index([['5-fold CV', 'External withheld set']], drop=True, inplace=True)\n",
        "    morgan_stats\n",
        "else:\n",
        "    morgan_stats = morgan_5f_stats.copy()\n",
        "    morgan_stats"
      ],
      "execution_count": 26,
      "outputs": [
        {
          "output_type": "execute_result",
          "data": {
            "text/html": [
              "<div>\n",
              "<style scoped>\n",
              "    .dataframe tbody tr th:only-of-type {\n",
              "        vertical-align: middle;\n",
              "    }\n",
              "\n",
              "    .dataframe tbody tr th {\n",
              "        vertical-align: top;\n",
              "    }\n",
              "\n",
              "    .dataframe thead th {\n",
              "        text-align: right;\n",
              "    }\n",
              "</style>\n",
              "<table border=\"1\" class=\"dataframe\">\n",
              "  <thead>\n",
              "    <tr style=\"text-align: right;\">\n",
              "      <th></th>\n",
              "      <th>Kappa</th>\n",
              "      <th>CCR</th>\n",
              "      <th>Sensitivity</th>\n",
              "      <th>PPV</th>\n",
              "      <th>Specificity</th>\n",
              "      <th>NPV</th>\n",
              "      <th>Coverage</th>\n",
              "    </tr>\n",
              "  </thead>\n",
              "  <tbody>\n",
              "    <tr>\n",
              "      <th>Morgan</th>\n",
              "      <td>0.59</td>\n",
              "      <td>0.78</td>\n",
              "      <td>0.65</td>\n",
              "      <td>0.81</td>\n",
              "      <td>0.92</td>\n",
              "      <td>0.83</td>\n",
              "      <td>1.00</td>\n",
              "    </tr>\n",
              "    <tr>\n",
              "      <th>Morgan AD</th>\n",
              "      <td>0.67</td>\n",
              "      <td>0.80</td>\n",
              "      <td>0.62</td>\n",
              "      <td>0.94</td>\n",
              "      <td>0.98</td>\n",
              "      <td>0.85</td>\n",
              "      <td>0.69</td>\n",
              "    </tr>\n",
              "  </tbody>\n",
              "</table>\n",
              "</div>"
            ],
            "text/plain": [
              "           Kappa   CCR  Sensitivity   PPV  Specificity   NPV  Coverage\n",
              "Morgan      0.59  0.78         0.65  0.81         0.92  0.83      1.00\n",
              "Morgan AD   0.67  0.80         0.62  0.94         0.98  0.85      0.69"
            ]
          },
          "metadata": {
            "tags": []
          },
          "execution_count": 26
        }
      ]
    },
    {
      "cell_type": "code",
      "metadata": {
        "id": "2HcwAVITtb8u",
        "colab_type": "code",
        "colab": {
          "base_uri": "https://localhost:8080/",
          "height": 442
        },
        "outputId": "2b27e548-6a22-44a6-d72d-a1d1201b33b4"
      },
      "source": [
        "# Transpose stats\n",
        "morgan_stats_t = morgan_stats.T\n",
        "morgan_stats_t = morgan_stats_t.reset_index()\n",
        "morgan_stats_t = morgan_stats_t.rename(columns={'index': 'Stats'})\n",
        "\n",
        "# Make plot\n",
        "plt.style.use('seaborn-colorblind')\n",
        "fig, ax1 = plt.subplots(figsize=(10,6))\n",
        "\n",
        "morgan_stats_t.plot(kind='bar', ax=ax1, width=0.8)\n",
        "ax1.set_xticklabels(labels=morgan_stats_t['Stats'].tolist(), fontsize=14, rotation=0)\n",
        "ax1.axhline(y=.6, color='indianred', ls='dashed')# xmin=0.25, xmax=0.75)\n",
        "ax1.legend_.remove()\n",
        "plt.title('Statistical characteristics', fontsize=16)\n",
        "ax1.set_yticks(np.arange(0, 1.1, 0.1))\n",
        "ax1.tick_params(labelsize=15)\n",
        "\n",
        "handles, labels = ax1.get_legend_handles_labels()\n",
        "ax1.legend(handles, labels, fontsize=16,\n",
        "            loc='upper center', bbox_to_anchor=(0.5, -0.07), fancybox=True,\n",
        "            shadow=True, ncol=2)\n",
        "fig.tight_layout()\n",
        "\n",
        "plt.savefig('statistics-morgan.png', bbox_inches='tight',\n",
        "            transparent=False, format='png', dpi=300)\n",
        "plt.show();"
      ],
      "execution_count": 27,
      "outputs": [
        {
          "output_type": "display_data",
          "data": {
            "image/png": "[encoded data removed]",
            "text/plain": [
              "<Figure size 720x432 with 1 Axes>"
            ]
          },
          "metadata": {
            "tags": [],
            "needs_background": "light"
          }
        }
      ]
    },
    {
      "cell_type": "code",
      "metadata": {
        "id": "SEdkldgXtfoU",
        "colab_type": "code",
        "colab": {}
      },
      "source": [
        ""
      ],
      "execution_count": 0,
      "outputs": []
    }
  ]
}