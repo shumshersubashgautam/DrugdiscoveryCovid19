{
  "nbformat": 4,
  "nbformat_minor": 0,
  "metadata": {
    "colab": {
      "name": "QSAR models for 3C-like protease main protease (Mpro) of SARS-CoV --and others.ipynb",
      "provenance": [],
      "authorship_tag": "ABX9TyOs88dPSM887sCQNpXeaqpw",
      "include_colab_link": true
    },
    "kernelspec": {
      "name": "python3",
      "display_name": "Python 3"
    },
    "accelerator": "GPU"
  },
  "cells": [
    {
      "cell_type": "markdown",
      "metadata": {
        "id": "view-in-github",
        "colab_type": "text"
      },
      "source": [
        "<a href=\"https://colab.research.google.com/github/shumshersubashgautam/DrugdiscoveryCovid19/blob/master/QSAR_models_for_3C_like_protease_main_protease_(Mpro)_of_SARS_CoV_and_others.ipynb\" target=\"_parent\"><img src=\"https://colab.research.google.com/assets/colab-badge.svg\" alt=\"Open In Colab\"/></a>"
      ]
    },
    {
      "cell_type": "code",
      "metadata": {
        "id": "g0ZgTp_DVHqj",
        "colab_type": "code",
        "colab": {
          "base_uri": "https://localhost:8080/",
          "height": 124
        },
        "outputId": "a5ed43d6-b7ab-4d2f-f04c-4b6ffd147e58"
      },
      "source": [
        "!git clone https://github.com/alvesvm/sars-cov-mpro.git"
      ],
      "execution_count": 1,
      "outputs": [
        {
          "output_type": "stream",
          "text": [
            "Cloning into 'sars-cov-mpro'...\n",
            "remote: Enumerating objects: 61, done.\u001b[K\n",
            "remote: Counting objects: 100% (61/61), done.\u001b[K\n",
            "remote: Compressing objects: 100% (44/44), done.\u001b[K\n",
            "remote: Total 61 (delta 19), reused 53 (delta 15), pack-reused 0\u001b[K\n",
            "Unpacking objects: 100% (61/61), done.\n"
          ],
          "name": "stdout"
        }
      ]
    },
    {
      "cell_type": "code",
      "metadata": {
        "id": "cJjRbLxIVLXk",
        "colab_type": "code",
        "colab": {
          "base_uri": "https://localhost:8080/",
          "height": 35
        },
        "outputId": "d4071a98-a06e-4d9d-c301-9d6a5f34dddb"
      },
      "source": [
        "cd /content/sars-cov-mpro"
      ],
      "execution_count": 2,
      "outputs": [
        {
          "output_type": "stream",
          "text": [
            "/content/sars-cov-mpro\n"
          ],
          "name": "stdout"
        }
      ]
    },
    {
      "cell_type": "code",
      "metadata": {
        "id": "kPiUUX52VU4W",
        "colab_type": "code",
        "colab": {
          "base_uri": "https://localhost:8080/",
          "height": 17
        },
        "outputId": "60285ca8-0b88-4c73-a424-bfc0971f79a4"
      },
      "source": [
        "import numpy as np\n",
        "import pandas as pd\n",
        "import seaborn as sns\n",
        "import matplotlib.pyplot as plt\n",
        "import _pickle as cPickle\n",
        "import gzip\n",
        "\n",
        "#from BalanceBySim import *\n",
        "from stats import *\n",
        "\n",
        "from collections import Counter\n",
        "\n",
        "from rdkit import Chem\n",
        "from rdkit.Chem import AllChem\n",
        "from rdkit.Chem import Draw\n",
        "from rdkit.Chem import PandasTools\n",
        "from rdkit.Chem.Draw import IPythonConsole\n",
        "\n",
        "from sklearn import metrics\n",
        "from sklearn.ensemble import RandomForestClassifier\n",
        "from sklearn.feature_selection import VarianceThreshold\n",
        "from sklearn.model_selection import train_test_split, cross_validate, GridSearchCV\n",
        "from sklearn.model_selection import permutation_test_score, StratifiedKFold\n",
        "\n",
        "def warn(*args, **kwargs):\n",
        "    pass\n",
        "import warnings\n",
        "warnings.filterwarnings(\"ignore\")\n",
        "warnings.warn = warn\n",
        "\n",
        "from IPython.core.interactiveshell import InteractiveShell\n",
        "InteractiveShell.ast_node_interactivity = \"all\"\n",
        "%matplotlib inline\n",
        "%reload_ext autoreload\n",
        "%autoreload 2\n",
        "Draw.DrawingOptions.atomLabelFontFace = \"DejaVu Sans\"\n",
        "Draw.DrawingOptions.atomLabelFontSize = 18\n",
        "\n",
        "from IPython.core.display import display, HTML\n",
        "display(HTML(\"<style>.container { width:90% !important; }</style>\"))"
      ],
      "execution_count": 9,
      "outputs": [
        {
          "output_type": "display_data",
          "data": {
            "text/html": [
              "<style>.container { width:90% !important; }</style>"
            ],
            "text/plain": [
              "<IPython.core.display.HTML object>"
            ]
          },
          "metadata": {
            "tags": []
          }
        }
      ]
    },
    {
      "cell_type": "code",
      "metadata": {
        "id": "9y-XUEv3VbNa",
        "colab_type": "code",
        "colab": {
          "base_uri": "https://localhost:8080/",
          "height": 1000
        },
        "outputId": "058a3032-dfb5-40a1-ea41-7772a607a93b"
      },
      "source": [
        "!wget -c https://repo.continuum.io/miniconda/Miniconda3-latest-Linux-x86_64.sh\n",
        "!chmod +x Miniconda3-latest-Linux-x86_64.sh\n",
        "!time bash ./Miniconda3-latest-Linux-x86_64.sh -b -f -p /usr/local\n",
        "!time conda install -q -y -c conda-forge rdkit"
      ],
      "execution_count": 3,
      "outputs": [
        {
          "output_type": "stream",
          "text": [
            "--2020-04-18 08:33:10--  https://repo.continuum.io/miniconda/Miniconda3-latest-Linux-x86_64.sh\n",
            "Resolving repo.continuum.io (repo.continuum.io)... 104.18.200.79, 104.18.201.79, 2606:4700::6812:c94f, ...\n",
            "Connecting to repo.continuum.io (repo.continuum.io)|104.18.200.79|:443... connected.\n",
            "HTTP request sent, awaiting response... 301 Moved Permanently\n",
            "Location: https://repo.anaconda.com/miniconda/Miniconda3-latest-Linux-x86_64.sh [following]\n",
            "--2020-04-18 08:33:10--  https://repo.anaconda.com/miniconda/Miniconda3-latest-Linux-x86_64.sh\n",
            "Resolving repo.anaconda.com (repo.anaconda.com)... 104.16.131.3, 104.16.130.3, 2606:4700::6810:8203, ...\n",
            "Connecting to repo.anaconda.com (repo.anaconda.com)|104.16.131.3|:443... connected.\n",
            "HTTP request sent, awaiting response... 200 OK\n",
            "Length: 85055499 (81M) [application/x-sh]\n",
            "Saving to: ‘Miniconda3-latest-Linux-x86_64.sh’\n",
            "\n",
            "Miniconda3-latest-L 100%[===================>]  81.12M  77.3MB/s    in 1.0s    \n",
            "\n",
            "2020-04-18 08:33:11 (77.3 MB/s) - ‘Miniconda3-latest-Linux-x86_64.sh’ saved [85055499/85055499]\n",
            "\n",
            "PREFIX=/usr/local\n",
            "Unpacking payload ...\n",
            "Collecting package metadata (current_repodata.json): - \b\b\\ \b\b| \b\bdone\n",
            "Solving environment: - \b\bdone\n",
            "\n",
            "## Package Plan ##\n",
            "\n",
            "  environment location: /usr/local\n",
            "\n",
            "  added / updated specs:\n",
            "    - _libgcc_mutex==0.1=main\n",
            "    - asn1crypto==1.3.0=py37_0\n",
            "    - ca-certificates==2020.1.1=0\n",
            "    - certifi==2019.11.28=py37_0\n",
            "    - cffi==1.14.0=py37h2e261b9_0\n",
            "    - chardet==3.0.4=py37_1003\n",
            "    - conda-package-handling==1.6.0=py37h7b6447c_0\n",
            "    - conda==4.8.2=py37_0\n",
            "    - cryptography==2.8=py37h1ba5d50_0\n",
            "    - idna==2.8=py37_0\n",
            "    - ld_impl_linux-64==2.33.1=h53a641e_7\n",
            "    - libedit==3.1.20181209=hc058e9b_0\n",
            "    - libffi==3.2.1=hd88cf55_4\n",
            "    - libgcc-ng==9.1.0=hdf63c60_0\n",
            "    - libstdcxx-ng==9.1.0=hdf63c60_0\n",
            "    - ncurses==6.2=he6710b0_0\n",
            "    - openssl==1.1.1d=h7b6447c_4\n",
            "    - pip==20.0.2=py37_1\n",
            "    - pycosat==0.6.3=py37h7b6447c_0\n",
            "    - pycparser==2.19=py37_0\n",
            "    - pyopenssl==19.1.0=py37_0\n",
            "    - pysocks==1.7.1=py37_0\n",
            "    - python==3.7.6=h0371630_2\n",
            "    - readline==7.0=h7b6447c_5\n",
            "    - requests==2.22.0=py37_1\n",
            "    - ruamel_yaml==0.15.87=py37h7b6447c_0\n",
            "    - setuptools==45.2.0=py37_0\n",
            "    - six==1.14.0=py37_0\n",
            "    - sqlite==3.31.1=h7b6447c_0\n",
            "    - tk==8.6.8=hbc83047_0\n",
            "    - tqdm==4.42.1=py_0\n",
            "    - urllib3==1.25.8=py37_0\n",
            "    - wheel==0.34.2=py37_0\n",
            "    - xz==5.2.4=h14c3975_4\n",
            "    - yaml==0.1.7=had09818_2\n",
            "    - zlib==1.2.11=h7b6447c_3\n",
            "\n",
            "\n",
            "The following NEW packages will be INSTALLED:\n",
            "\n",
            "  _libgcc_mutex      pkgs/main/linux-64::_libgcc_mutex-0.1-main\n",
            "  asn1crypto         pkgs/main/linux-64::asn1crypto-1.3.0-py37_0\n",
            "  ca-certificates    pkgs/main/linux-64::ca-certificates-2020.1.1-0\n",
            "  certifi            pkgs/main/linux-64::certifi-2019.11.28-py37_0\n",
            "  cffi               pkgs/main/linux-64::cffi-1.14.0-py37h2e261b9_0\n",
            "  chardet            pkgs/main/linux-64::chardet-3.0.4-py37_1003\n",
            "  conda              pkgs/main/linux-64::conda-4.8.2-py37_0\n",
            "  conda-package-han~ pkgs/main/linux-64::conda-package-handling-1.6.0-py37h7b6447c_0\n",
            "  cryptography       pkgs/main/linux-64::cryptography-2.8-py37h1ba5d50_0\n",
            "  idna               pkgs/main/linux-64::idna-2.8-py37_0\n",
            "  ld_impl_linux-64   pkgs/main/linux-64::ld_impl_linux-64-2.33.1-h53a641e_7\n",
            "  libedit            pkgs/main/linux-64::libedit-3.1.20181209-hc058e9b_0\n",
            "  libffi             pkgs/main/linux-64::libffi-3.2.1-hd88cf55_4\n",
            "  libgcc-ng          pkgs/main/linux-64::libgcc-ng-9.1.0-hdf63c60_0\n",
            "  libstdcxx-ng       pkgs/main/linux-64::libstdcxx-ng-9.1.0-hdf63c60_0\n",
            "  ncurses            pkgs/main/linux-64::ncurses-6.2-he6710b0_0\n",
            "  openssl            pkgs/main/linux-64::openssl-1.1.1d-h7b6447c_4\n",
            "  pip                pkgs/main/linux-64::pip-20.0.2-py37_1\n",
            "  pycosat            pkgs/main/linux-64::pycosat-0.6.3-py37h7b6447c_0\n",
            "  pycparser          pkgs/main/linux-64::pycparser-2.19-py37_0\n",
            "  pyopenssl          pkgs/main/linux-64::pyopenssl-19.1.0-py37_0\n",
            "  pysocks            pkgs/main/linux-64::pysocks-1.7.1-py37_0\n",
            "  python             pkgs/main/linux-64::python-3.7.6-h0371630_2\n",
            "  readline           pkgs/main/linux-64::readline-7.0-h7b6447c_5\n",
            "  requests           pkgs/main/linux-64::requests-2.22.0-py37_1\n",
            "  ruamel_yaml        pkgs/main/linux-64::ruamel_yaml-0.15.87-py37h7b6447c_0\n",
            "  setuptools         pkgs/main/linux-64::setuptools-45.2.0-py37_0\n",
            "  six                pkgs/main/linux-64::six-1.14.0-py37_0\n",
            "  sqlite             pkgs/main/linux-64::sqlite-3.31.1-h7b6447c_0\n",
            "  tk                 pkgs/main/linux-64::tk-8.6.8-hbc83047_0\n",
            "  tqdm               pkgs/main/noarch::tqdm-4.42.1-py_0\n",
            "  urllib3            pkgs/main/linux-64::urllib3-1.25.8-py37_0\n",
            "  wheel              pkgs/main/linux-64::wheel-0.34.2-py37_0\n",
            "  xz                 pkgs/main/linux-64::xz-5.2.4-h14c3975_4\n",
            "  yaml               pkgs/main/linux-64::yaml-0.1.7-had09818_2\n",
            "  zlib               pkgs/main/linux-64::zlib-1.2.11-h7b6447c_3\n",
            "\n",
            "\n",
            "Preparing transaction: | \b\b/ \b\b- \b\b\\ \b\bdone\n",
            "Executing transaction: / \b\b- \b\b\\ \b\b| \b\b/ \b\b- \b\b\\ \b\b| \b\b/ \b\b- \b\b\\ \b\b| \b\b/ \b\bdone\n",
            "installation finished.\n",
            "WARNING:\n",
            "    You currently have a PYTHONPATH environment variable set. This may cause\n",
            "    unexpected behavior when running the Python interpreter in Miniconda3.\n",
            "    For best results, please verify that your PYTHONPATH only points to\n",
            "    directories of packages that are compatible with the Python interpreter\n",
            "    in Miniconda3: /usr/local\n",
            "\n",
            "real\t0m23.289s\n",
            "user\t0m7.233s\n",
            "sys\t0m3.464s\n",
            "Collecting package metadata (current_repodata.json): ...working... done\n",
            "Solving environment: ...working... done\n",
            "\n",
            "## Package Plan ##\n",
            "\n",
            "  environment location: /usr/local\n",
            "\n",
            "  added / updated specs:\n",
            "    - rdkit\n",
            "\n",
            "\n",
            "The following packages will be downloaded:\n",
            "\n",
            "    package                    |            build\n",
            "    ---------------------------|-----------------\n",
            "    boost-1.72.0               |   py37h9de70de_0         316 KB  conda-forge\n",
            "    boost-cpp-1.72.0           |       h8e57a91_0        21.8 MB  conda-forge\n",
            "    bzip2-1.0.8                |       h516909a_2         396 KB  conda-forge\n",
            "    ca-certificates-2020.4.5.1 |       hecc5488_0         146 KB  conda-forge\n",
            "    cairo-1.16.0               |    hcf35c78_1003         1.5 MB  conda-forge\n",
            "    certifi-2020.4.5.1         |   py37hc8dfbb8_0         151 KB  conda-forge\n",
            "    conda-4.8.3                |   py37hc8dfbb8_1         3.0 MB  conda-forge\n",
            "    fontconfig-2.13.1          |    h86ecdb6_1001         340 KB  conda-forge\n",
            "    freetype-2.10.1            |       he06d7ca_0         877 KB  conda-forge\n",
            "    gettext-0.19.8.1           |    hc5be6a0_1002         3.6 MB  conda-forge\n",
            "    glib-2.64.2                |       h6f030ca_0         3.4 MB  conda-forge\n",
            "    icu-64.2                   |       he1b5a44_1        12.6 MB  conda-forge\n",
            "    jpeg-9c                    |    h14c3975_1001         251 KB  conda-forge\n",
            "    libblas-3.8.0              |      14_openblas          10 KB  conda-forge\n",
            "    libcblas-3.8.0             |      14_openblas          10 KB  conda-forge\n",
            "    libgfortran-ng-7.3.0       |       hdf63c60_5         1.7 MB  conda-forge\n",
            "    libiconv-1.15              |    h516909a_1006         2.0 MB  conda-forge\n",
            "    liblapack-3.8.0            |      14_openblas          10 KB  conda-forge\n",
            "    libopenblas-0.3.7          |       h5ec1e0e_6         7.6 MB  conda-forge\n",
            "    libpng-1.6.37              |       hed695b0_1         308 KB  conda-forge\n",
            "    libtiff-4.1.0              |       hc7e4089_6         668 KB  conda-forge\n",
            "    libuuid-2.32.1             |    h14c3975_1000          26 KB  conda-forge\n",
            "    libwebp-base-1.1.0         |       h516909a_3         845 KB  conda-forge\n",
            "    libxcb-1.13                |    h14c3975_1002         396 KB  conda-forge\n",
            "    libxml2-2.9.10             |       hee79883_0         1.3 MB  conda-forge\n",
            "    lz4-c-1.8.3                |    he1b5a44_1001         187 KB  conda-forge\n",
            "    numpy-1.18.1               |   py37h8960a57_1         5.2 MB  conda-forge\n",
            "    olefile-0.46               |             py_0          31 KB  conda-forge\n",
            "    openssl-1.1.1f             |       h516909a_0         2.1 MB  conda-forge\n",
            "    pandas-1.0.3               |   py37h0da4684_1        11.1 MB  conda-forge\n",
            "    pcre-8.44                  |       he1b5a44_0         261 KB  conda-forge\n",
            "    pillow-7.0.0               |   py37hb39fc2d_0         598 KB\n",
            "    pixman-0.38.0              |    h516909a_1003         594 KB  conda-forge\n",
            "    pthread-stubs-0.4          |    h14c3975_1001           5 KB  conda-forge\n",
            "    pycairo-1.19.1             |   py37h01af8b0_3          77 KB  conda-forge\n",
            "    python-dateutil-2.8.1      |             py_0         220 KB  conda-forge\n",
            "    python_abi-3.7             |          1_cp37m           4 KB  conda-forge\n",
            "    pytz-2019.3                |             py_0         237 KB  conda-forge\n",
            "    rdkit-2020.03.1            |   py37hdd87690_1        24.7 MB  conda-forge\n",
            "    xorg-kbproto-1.0.7         |    h14c3975_1002          26 KB  conda-forge\n",
            "    xorg-libice-1.0.10         |       h516909a_0          57 KB  conda-forge\n",
            "    xorg-libsm-1.2.3           |    h84519dc_1000          25 KB  conda-forge\n",
            "    xorg-libx11-1.6.9          |       h516909a_0         918 KB  conda-forge\n",
            "    xorg-libxau-1.0.9          |       h14c3975_0          13 KB  conda-forge\n",
            "    xorg-libxdmcp-1.1.3        |       h516909a_0          18 KB  conda-forge\n",
            "    xorg-libxext-1.3.4         |       h516909a_0          51 KB  conda-forge\n",
            "    xorg-libxrender-0.9.10     |    h516909a_1002          31 KB  conda-forge\n",
            "    xorg-renderproto-0.11.1    |    h14c3975_1002           8 KB  conda-forge\n",
            "    xorg-xextproto-7.3.0       |    h14c3975_1002          27 KB  conda-forge\n",
            "    xorg-xproto-7.0.31         |    h14c3975_1007          72 KB  conda-forge\n",
            "    zstd-1.4.4                 |       h3b9ef0a_2         982 KB  conda-forge\n",
            "    ------------------------------------------------------------\n",
            "                                           Total:       110.7 MB\n",
            "\n",
            "The following NEW packages will be INSTALLED:\n",
            "\n",
            "  boost              conda-forge/linux-64::boost-1.72.0-py37h9de70de_0\n",
            "  boost-cpp          conda-forge/linux-64::boost-cpp-1.72.0-h8e57a91_0\n",
            "  bzip2              conda-forge/linux-64::bzip2-1.0.8-h516909a_2\n",
            "  cairo              conda-forge/linux-64::cairo-1.16.0-hcf35c78_1003\n",
            "  fontconfig         conda-forge/linux-64::fontconfig-2.13.1-h86ecdb6_1001\n",
            "  freetype           conda-forge/linux-64::freetype-2.10.1-he06d7ca_0\n",
            "  gettext            conda-forge/linux-64::gettext-0.19.8.1-hc5be6a0_1002\n",
            "  glib               conda-forge/linux-64::glib-2.64.2-h6f030ca_0\n",
            "  icu                conda-forge/linux-64::icu-64.2-he1b5a44_1\n",
            "  jpeg               conda-forge/linux-64::jpeg-9c-h14c3975_1001\n",
            "  libblas            conda-forge/linux-64::libblas-3.8.0-14_openblas\n",
            "  libcblas           conda-forge/linux-64::libcblas-3.8.0-14_openblas\n",
            "  libgfortran-ng     conda-forge/linux-64::libgfortran-ng-7.3.0-hdf63c60_5\n",
            "  libiconv           conda-forge/linux-64::libiconv-1.15-h516909a_1006\n",
            "  liblapack          conda-forge/linux-64::liblapack-3.8.0-14_openblas\n",
            "  libopenblas        conda-forge/linux-64::libopenblas-0.3.7-h5ec1e0e_6\n",
            "  libpng             conda-forge/linux-64::libpng-1.6.37-hed695b0_1\n",
            "  libtiff            conda-forge/linux-64::libtiff-4.1.0-hc7e4089_6\n",
            "  libuuid            conda-forge/linux-64::libuuid-2.32.1-h14c3975_1000\n",
            "  libwebp-base       conda-forge/linux-64::libwebp-base-1.1.0-h516909a_3\n",
            "  libxcb             conda-forge/linux-64::libxcb-1.13-h14c3975_1002\n",
            "  libxml2            conda-forge/linux-64::libxml2-2.9.10-hee79883_0\n",
            "  lz4-c              conda-forge/linux-64::lz4-c-1.8.3-he1b5a44_1001\n",
            "  numpy              conda-forge/linux-64::numpy-1.18.1-py37h8960a57_1\n",
            "  olefile            conda-forge/noarch::olefile-0.46-py_0\n",
            "  pandas             conda-forge/linux-64::pandas-1.0.3-py37h0da4684_1\n",
            "  pcre               conda-forge/linux-64::pcre-8.44-he1b5a44_0\n",
            "  pillow             pkgs/main/linux-64::pillow-7.0.0-py37hb39fc2d_0\n",
            "  pixman             conda-forge/linux-64::pixman-0.38.0-h516909a_1003\n",
            "  pthread-stubs      conda-forge/linux-64::pthread-stubs-0.4-h14c3975_1001\n",
            "  pycairo            conda-forge/linux-64::pycairo-1.19.1-py37h01af8b0_3\n",
            "  python-dateutil    conda-forge/noarch::python-dateutil-2.8.1-py_0\n",
            "  python_abi         conda-forge/linux-64::python_abi-3.7-1_cp37m\n",
            "  pytz               conda-forge/noarch::pytz-2019.3-py_0\n",
            "  rdkit              conda-forge/linux-64::rdkit-2020.03.1-py37hdd87690_1\n",
            "  xorg-kbproto       conda-forge/linux-64::xorg-kbproto-1.0.7-h14c3975_1002\n",
            "  xorg-libice        conda-forge/linux-64::xorg-libice-1.0.10-h516909a_0\n",
            "  xorg-libsm         conda-forge/linux-64::xorg-libsm-1.2.3-h84519dc_1000\n",
            "  xorg-libx11        conda-forge/linux-64::xorg-libx11-1.6.9-h516909a_0\n",
            "  xorg-libxau        conda-forge/linux-64::xorg-libxau-1.0.9-h14c3975_0\n",
            "  xorg-libxdmcp      conda-forge/linux-64::xorg-libxdmcp-1.1.3-h516909a_0\n",
            "  xorg-libxext       conda-forge/linux-64::xorg-libxext-1.3.4-h516909a_0\n",
            "  xorg-libxrender    conda-forge/linux-64::xorg-libxrender-0.9.10-h516909a_1002\n",
            "  xorg-renderproto   conda-forge/linux-64::xorg-renderproto-0.11.1-h14c3975_1002\n",
            "  xorg-xextproto     conda-forge/linux-64::xorg-xextproto-7.3.0-h14c3975_1002\n",
            "  xorg-xproto        conda-forge/linux-64::xorg-xproto-7.0.31-h14c3975_1007\n",
            "  zstd               conda-forge/linux-64::zstd-1.4.4-h3b9ef0a_2\n",
            "\n",
            "The following packages will be UPDATED:\n",
            "\n",
            "  ca-certificates     pkgs/main::ca-certificates-2020.1.1-0 --> conda-forge::ca-certificates-2020.4.5.1-hecc5488_0\n",
            "  certifi              pkgs/main::certifi-2019.11.28-py37_0 --> conda-forge::certifi-2020.4.5.1-py37hc8dfbb8_0\n",
            "  conda                       pkgs/main::conda-4.8.2-py37_0 --> conda-forge::conda-4.8.3-py37hc8dfbb8_1\n",
            "  openssl              pkgs/main::openssl-1.1.1d-h7b6447c_4 --> conda-forge::openssl-1.1.1f-h516909a_0\n",
            "\n",
            "\n",
            "Preparing transaction: ...working... done\n",
            "Verifying transaction: ...working... done\n",
            "Executing transaction: ...working... done\n",
            "\n",
            "real\t0m39.097s\n",
            "user\t0m33.666s\n",
            "sys\t0m3.668s\n"
          ],
          "name": "stdout"
        }
      ]
    },
    {
      "cell_type": "code",
      "metadata": {
        "id": "J6GcTDqcoLmj",
        "colab_type": "code",
        "colab": {}
      },
      "source": [
        "%matplotlib inline\n",
        "import matplotlib.pyplot as plt\n",
        "import sys\n",
        "import os\n",
        "sys.path.append('/usr/local/lib/python3.7/site-packages/')"
      ],
      "execution_count": 0,
      "outputs": []
    },
    {
      "cell_type": "code",
      "metadata": {
        "id": "muSFeXhFo3bu",
        "colab_type": "code",
        "colab": {
          "base_uri": "https://localhost:8080/",
          "height": 352
        },
        "outputId": "2efd71ff-206c-4ae3-af79-a426b9c4b4a0"
      },
      "source": [
        "# Set file path\n",
        "file = 'datasets/curated_data/chembl-pdb-sars-cov-3C-like-proteinase.sdf.gz'\n",
        "sdfInfo = dict(smilesName='SMILES', molColName='ROMol')\n",
        "moldf = PandasTools.LoadSDF(file, **sdfInfo)\n",
        "print('Original data: ', moldf.shape)\n",
        "# Rename ROMol\n",
        "moldf = moldf.rename(columns={'ROMol': 'Mol'})\n",
        "# Remove missing RDKit molecules\n",
        "moldf = moldf[pd.notnull(moldf['Mol'])]\n",
        "if 'StandardizerResult' in moldf.columns:\n",
        "    moldf = moldf.drop(columns='StandardizerResult')\n",
        "# Columns\n",
        "print('Kept data: ', moldf.shape)\n",
        "moldf.head(1)"
      ],
      "execution_count": 10,
      "outputs": [
        {
          "output_type": "stream",
          "text": [
            "Original data:  (113, 11)\n",
            "Kept data:  (113, 11)\n"
          ],
          "name": "stdout"
        },
        {
          "output_type": "execute_result",
          "data": {
            "text/html": [
              "<div>\n",
              "<style scoped>\n",
              "    .dataframe tbody tr th:only-of-type {\n",
              "        vertical-align: middle;\n",
              "    }\n",
              "\n",
              "    .dataframe tbody tr th {\n",
              "        vertical-align: top;\n",
              "    }\n",
              "\n",
              "    .dataframe thead th {\n",
              "        text-align: right;\n",
              "    }\n",
              "</style>\n",
              "<table border=\"1\" class=\"dataframe\">\n",
              "  <thead>\n",
              "    <tr style=\"text-align: right;\">\n",
              "      <th></th>\n",
              "      <th>Compound_name</th>\n",
              "      <th>Standard Type</th>\n",
              "      <th>Standard Relation</th>\n",
              "      <th>Standard Value</th>\n",
              "      <th>Standard Units</th>\n",
              "      <th>Outcome</th>\n",
              "      <th>InChIKey</th>\n",
              "      <th>Molecule ChEMBL ID</th>\n",
              "      <th>ID</th>\n",
              "      <th>SMILES</th>\n",
              "      <th>Mol</th>\n",
              "    </tr>\n",
              "  </thead>\n",
              "  <tbody>\n",
              "    <tr>\n",
              "      <th>0</th>\n",
              "      <td></td>\n",
              "      <td>IC50</td>\n",
              "      <td>=</td>\n",
              "      <td>5700.0</td>\n",
              "      <td>nM</td>\n",
              "      <td>Active</td>\n",
              "      <td>AEYIBAPLFDNVGD-UHFFFAOYNA-N</td>\n",
              "      <td></td>\n",
              "      <td></td>\n",
              "      <td>CC(=O)NC(CO)C(=O)NC(C)C(=O)NC(C(=O)NC(CC(C)C)C...</td>\n",
              "      <td><img data-content=\"rdkit/molecule\" src=\"data:image/png;base64,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\" alt=\"Mol\"/></td>\n",
              "    </tr>\n",
              "  </tbody>\n",
              "</table>\n",
              "</div>"
            ],
            "text/plain": [
              "  Compound_name  ...                                                Mol\n",
              "0                ...  <img data-content=\"rdkit/molecule\" src=\"data:i...\n",
              "\n",
              "[1 rows x 11 columns]"
            ]
          },
          "metadata": {
            "tags": []
          },
          "execution_count": 10
        }
      ]
    },
    {
      "cell_type": "code",
      "metadata": {
        "id": "fcd-GqeGpKX1",
        "colab_type": "code",
        "colab": {
          "base_uri": "https://localhost:8080/",
          "height": 106
        },
        "outputId": "a3c4322c-3952-47f5-d987-e3b4002f7773"
      },
      "source": [
        "\n",
        "moldf['Outcome'] = moldf['Outcome'].replace('Active', 1)\n",
        "moldf['Outcome'] = moldf['Outcome'].replace('Inactive', 0)\n",
        "\n",
        "classes = Counter(moldf['Outcome'])\n",
        "print('\\033[1m' + 'Training set shape:' + '\\n' + '\\033[0m')\n",
        "for key, value in classes.items():\n",
        "    print('\\t\\t Class %d: %d' % (key, value))\n",
        "print('\\t\\t Total number of compounds: %d' % (len(moldf['Outcome'])))"
      ],
      "execution_count": 11,
      "outputs": [
        {
          "output_type": "stream",
          "text": [
            "\u001b[1mTraining set shape:\n",
            "\u001b[0m\n",
            "\t\t Class 1: 40\n",
            "\t\t Class 0: 73\n",
            "\t\t Total number of compounds: 113\n"
          ],
          "name": "stdout"
        }
      ]
    },
    {
      "cell_type": "code",
      "metadata": {
        "id": "qyUFntWvpQ9a",
        "colab_type": "code",
        "colab": {
          "base_uri": "https://localhost:8080/",
          "height": 35
        },
        "outputId": "8cac9007-ef95-4f4b-fda8-a7724b103991"
      },
      "source": [
        "\n",
        "def calcfp(mol,funcFPInfo=dict(radius=3, nBits=2048, useFeatures=False, useChirality=False)):\n",
        "    fp = AllChem.GetMorganFingerprintAsBitVect(mol, **funcFPInfo)\n",
        "    fp = pd.Series(np.asarray(fp))\n",
        "    fp = fp.add_prefix('Bit_')\n",
        "    return fp\n",
        "\n",
        "# Training set\n",
        "desc = moldf.Mol.apply(calcfp)\n",
        "descriptors = desc.columns.difference(moldf.columns).tolist()\n",
        "desc.shape"
      ],
      "execution_count": 12,
      "outputs": [
        {
          "output_type": "execute_result",
          "data": {
            "text/plain": [
              "(113, 2048)"
            ]
          },
          "metadata": {
            "tags": []
          },
          "execution_count": 12
        }
      ]
    },
    {
      "cell_type": "code",
      "metadata": {
        "id": "EIDbkFqbpVBw",
        "colab_type": "code",
        "colab": {
          "base_uri": "https://localhost:8080/",
          "height": 52
        },
        "outputId": "54f66941-7076-4d1a-acf8-5d48d5a794df"
      },
      "source": [
        "moldf_desc = pd.concat([moldf,desc], axis=1)\n",
        "balance_data = 'no'\n",
        "\n",
        "if balance_data == 'yes':\n",
        "    # Balance data using 1/2 similarity and 1/2 random\n",
        "    moldf_desc = BalanceBySim(moldf_desc, 'Outcome', 2)\n",
        "    # Print shape\n",
        "    print('Training set shape: %s' % Counter(moldf_desc['Outcome'].loc[moldf_desc['Set'] == 'train']))\n",
        "    print('External set shape: %s' % Counter(moldf_desc['Outcome'].loc[moldf_desc['Set'] == 'ext']))\n",
        "      \n",
        "else:\n",
        "    moldf_desc['Set'] = 'train'\n",
        "    # Print shape\n",
        "    print('Training set shape: %s' % Counter(moldf_desc['Outcome'].loc[moldf_desc['Set'] == 'train']))\n",
        "    print('External set shape: %s' % Counter(moldf_desc['Outcome'].loc[moldf_desc['Set'] == 'ext']))"
      ],
      "execution_count": 13,
      "outputs": [
        {
          "output_type": "stream",
          "text": [
            "Training set shape: Counter({0: 73, 1: 40})\n",
            "External set shape: Counter()\n"
          ],
          "name": "stdout"
        }
      ]
    },
    {
      "cell_type": "code",
      "metadata": {
        "id": "ZjUcIgkOpYhs",
        "colab_type": "code",
        "colab": {
          "base_uri": "https://localhost:8080/",
          "height": 35
        },
        "outputId": "c8ce37a0-2c8f-4c43-e85e-091c9723a191"
      },
      "source": [
        "moldf_train = moldf_desc[(moldf_desc['Set'] == 'train')]\n",
        "\n",
        "y_train = moldf_train['Outcome'].to_numpy()\n",
        "X_train = moldf_train[descriptors]\n",
        "X_train.shape"
      ],
      "execution_count": 14,
      "outputs": [
        {
          "output_type": "execute_result",
          "data": {
            "text/plain": [
              "(113, 2048)"
            ]
          },
          "metadata": {
            "tags": []
          },
          "execution_count": 14
        }
      ]
    },
    {
      "cell_type": "code",
      "metadata": {
        "id": "Cb4Ho7TjpcSn",
        "colab_type": "code",
        "colab": {
          "base_uri": "https://localhost:8080/",
          "height": 230
        },
        "outputId": "644019af-81ca-41f6-e1d2-f58fb935ae56"
      },
      "source": [
        "%%time\n",
        "# Number of trees in random forest\n",
        "n_estimators = [100, 250, 500, 750, 1000]\n",
        "max_features = ['auto', 'sqrt']\n",
        "criterion = ['gini', 'entropy']\n",
        "if balance_data == 'yes':\n",
        "    class_weight = [None]\n",
        "else:\n",
        "    class_weight = [None,'balanced',\n",
        "                    {0:.9, 1:.1}, {0:.8, 1:.2}, {0:.7, 1:.3}, {0:.6, 1:.4},\n",
        "                    {0:.4, 1:.6}, {0:.3, 1:.7}, {0:.2, 1:.8}, {0:.1, 1:.9}]\n",
        "random_state = [24]\n",
        "\n",
        "# Create the random grid\n",
        "param_grid = {'n_estimators': n_estimators,\n",
        "              'max_features': max_features,\n",
        "              'criterion': criterion,\n",
        "              'random_state': random_state,\n",
        "              'class_weight': class_weight}\n",
        "\n",
        "# setup model building\n",
        "rf = GridSearchCV(RandomForestClassifier(), param_grid, n_jobs=-1, cv=5, verbose=1)\n",
        "rf.fit(X_train, y_train)\n",
        "print()\n",
        "print('Best params: %s' % rf.best_params_)\n",
        "print('Score: %.2f' % rf.best_score_)"
      ],
      "execution_count": 15,
      "outputs": [
        {
          "output_type": "stream",
          "text": [
            "Fitting 5 folds for each of 200 candidates, totalling 1000 fits\n"
          ],
          "name": "stdout"
        },
        {
          "output_type": "stream",
          "text": [
            "[Parallel(n_jobs=-1)]: Using backend LokyBackend with 2 concurrent workers.\n",
            "[Parallel(n_jobs=-1)]: Done  46 tasks      | elapsed:   25.5s\n",
            "[Parallel(n_jobs=-1)]: Done 196 tasks      | elapsed:  1.8min\n",
            "[Parallel(n_jobs=-1)]: Done 446 tasks      | elapsed:  4.2min\n",
            "[Parallel(n_jobs=-1)]: Done 796 tasks      | elapsed:  7.6min\n",
            "[Parallel(n_jobs=-1)]: Done 1000 out of 1000 | elapsed:  9.5min finished\n"
          ],
          "name": "stderr"
        },
        {
          "output_type": "stream",
          "text": [
            "\n",
            "Best params: {'class_weight': None, 'criterion': 'gini', 'max_features': 'auto', 'n_estimators': 750, 'random_state': 24}\n",
            "Score: 0.82\n",
            "CPU times: user 4.63 s, sys: 144 ms, total: 4.78 s\n",
            "Wall time: 9min 33s\n"
          ],
          "name": "stdout"
        }
      ]
    },
    {
      "cell_type": "code",
      "metadata": {
        "id": "xLkDZ_Vnpnad",
        "colab_type": "code",
        "colab": {
          "base_uri": "https://localhost:8080/",
          "height": 159
        },
        "outputId": "075400de-4844-4d4f-f3ea-4b66496a8ffa"
      },
      "source": [
        "rf_best = RandomForestClassifier(**rf.best_params_, n_jobs=-1)\n",
        "rf_best.fit(X_train, y_train)"
      ],
      "execution_count": 16,
      "outputs": [
        {
          "output_type": "execute_result",
          "data": {
            "text/plain": [
              "RandomForestClassifier(bootstrap=True, ccp_alpha=0.0, class_weight=None,\n",
              "                       criterion='gini', max_depth=None, max_features='auto',\n",
              "                       max_leaf_nodes=None, max_samples=None,\n",
              "                       min_impurity_decrease=0.0, min_impurity_split=None,\n",
              "                       min_samples_leaf=1, min_samples_split=2,\n",
              "                       min_weight_fraction_leaf=0.0, n_estimators=750,\n",
              "                       n_jobs=-1, oob_score=False, random_state=24, verbose=0,\n",
              "                       warm_start=False)"
            ]
          },
          "metadata": {
            "tags": []
          },
          "execution_count": 16
        }
      ]
    },
    {
      "cell_type": "code",
      "metadata": {
        "id": "2ZqNknbasBQ2",
        "colab_type": "code",
        "colab": {}
      },
      "source": [
        "# Params\n",
        "pred = []\n",
        "ad = []\n",
        "index = []\n",
        "cross_val = StratifiedKFold(n_splits=5)\n",
        "\n",
        "# Do 5-fold loop\n",
        "for train_index, test_index in cross_val.split(X_train, y_train):\n",
        "    \n",
        "    fold_model = rf_best.fit(X_train.iloc[train_index], y_train[train_index])\n",
        "    fold_pred = rf_best.predict(X_train.iloc[test_index])\n",
        "    fold_ad = rf_best.predict_proba(X_train.iloc[test_index])\n",
        "    pred.append(fold_pred)\n",
        "    ad.append(fold_ad)\n",
        "    index.append(test_index)"
      ],
      "execution_count": 0,
      "outputs": []
    },
    {
      "cell_type": "code",
      "metadata": {
        "id": "9AUMKQ9nsN3W",
        "colab_type": "code",
        "colab": {
          "base_uri": "https://localhost:8080/",
          "height": 141
        },
        "outputId": "292dc7be-d2ca-43dc-9fb8-c577d563b878"
      },
      "source": [
        "threshold_ad = 0.70\n",
        "\n",
        "# Prepare results to export    \n",
        "fold_index = np.concatenate(index)    \n",
        "fold_pred = np.concatenate(pred)\n",
        "fold_ad = np.concatenate(ad)\n",
        "fold_ad = (np.amax(fold_ad, axis=1) >= threshold_ad).astype(str)\n",
        "five_fold_morgan = pd.DataFrame({'Prediction': fold_pred,'AD': fold_ad}, index=list(fold_index))\n",
        "five_fold_morgan.AD[five_fold_morgan.AD == 'False'] = np.nan\n",
        "five_fold_morgan.AD[five_fold_morgan.AD == 'True'] = five_fold_morgan.Prediction\n",
        "five_fold_morgan.sort_index(inplace=True)\n",
        "five_fold_morgan['y_train'] = pd.DataFrame(y_train)\n",
        "five_fold_ad = five_fold_morgan.dropna().astype(int)\n",
        "coverage_5f = len(five_fold_ad) / len(five_fold_morgan)\n",
        "\n",
        "\n",
        "# morgan stats\n",
        "morgan = pd.DataFrame(stats(five_fold_morgan['y_train'], five_fold_morgan['Prediction']))\n",
        "morgan['Coverage'] = 1.0\n",
        "\n",
        "# morgan AD stats\n",
        "morgan_ad = five_fold_morgan.dropna(subset=['AD']).astype(int)\n",
        "coverage_morgan_ad = len(morgan_ad['AD']) / len(five_fold_morgan['y_train'])\n",
        "morgan_ad = pd.DataFrame(stats(morgan_ad['y_train'], morgan_ad['AD']))\n",
        "morgan_ad['Coverage'] = round(coverage_morgan_ad, 2)\n",
        "\n",
        "# print stats\n",
        "print('\\033[1m' + '5-fold External Cross Validation Statistical Characteristcs of QSAR models developed morgan' + '\\n' + '\\033[0m')\n",
        "morgan_5f_stats = morgan.append(morgan_ad)\n",
        "morgan_5f_stats.set_index([['Morgan', 'Morgan AD']], drop=True, inplace=True)\n",
        "morgan_5f_stats"
      ],
      "execution_count": 18,
      "outputs": [
        {
          "output_type": "stream",
          "text": [
            "\u001b[1m5-fold External Cross Validation Statistical Characteristcs of QSAR models developed morgan\n",
            "\u001b[0m\n"
          ],
          "name": "stdout"
        },
        {
          "output_type": "execute_result",
          "data": {
            "text/html": [
              "<div>\n",
              "<style scoped>\n",
              "    .dataframe tbody tr th:only-of-type {\n",
              "        vertical-align: middle;\n",
              "    }\n",
              "\n",
              "    .dataframe tbody tr th {\n",
              "        vertical-align: top;\n",
              "    }\n",
              "\n",
              "    .dataframe thead th {\n",
              "        text-align: right;\n",
              "    }\n",
              "</style>\n",
              "<table border=\"1\" class=\"dataframe\">\n",
              "  <thead>\n",
              "    <tr style=\"text-align: right;\">\n",
              "      <th></th>\n",
              "      <th>Kappa</th>\n",
              "      <th>CCR</th>\n",
              "      <th>Sensitivity</th>\n",
              "      <th>PPV</th>\n",
              "      <th>Specificity</th>\n",
              "      <th>NPV</th>\n",
              "      <th>Coverage</th>\n",
              "    </tr>\n",
              "  </thead>\n",
              "  <tbody>\n",
              "    <tr>\n",
              "      <th>Morgan</th>\n",
              "      <td>0.59</td>\n",
              "      <td>0.78</td>\n",
              "      <td>0.65</td>\n",
              "      <td>0.81</td>\n",
              "      <td>0.92</td>\n",
              "      <td>0.83</td>\n",
              "      <td>1.00</td>\n",
              "    </tr>\n",
              "    <tr>\n",
              "      <th>Morgan AD</th>\n",
              "      <td>0.67</td>\n",
              "      <td>0.80</td>\n",
              "      <td>0.62</td>\n",
              "      <td>0.94</td>\n",
              "      <td>0.98</td>\n",
              "      <td>0.85</td>\n",
              "      <td>0.69</td>\n",
              "    </tr>\n",
              "  </tbody>\n",
              "</table>\n",
              "</div>"
            ],
            "text/plain": [
              "           Kappa   CCR  Sensitivity   PPV  Specificity   NPV  Coverage\n",
              "Morgan      0.59  0.78         0.65  0.81         0.92  0.83      1.00\n",
              "Morgan AD   0.67  0.80         0.62  0.94         0.98  0.85      0.69"
            ]
          },
          "metadata": {
            "tags": []
          },
          "execution_count": 18
        }
      ]
    },
    {
      "cell_type": "code",
      "metadata": {
        "id": "yqSn7EfPsV2q",
        "colab_type": "code",
        "colab": {}
      },
      "source": [
        "\n",
        "moldf_ext = moldf_desc[(moldf_desc['Set'] == 'ext')]\n",
        "descriptor_list = list(X_train.columns.values)\n",
        "\n",
        "if len(moldf_ext) > 0:\n",
        "    y_ext = moldf_ext['Outcome'].to_numpy()\n",
        "    X_ext = moldf_ext[descriptors]\n",
        "    \n",
        "    # Filter out descriptors not present in the model\n",
        "    X_ext = X_ext[descriptor_list]\n",
        "    \n",
        "    # Make predictions\n",
        "    ext_set = rf_best.predict(X_ext)\n",
        "    ext_set_ad = rf_best.predict_proba(X_ext)\n",
        "    ext_set_ad = (np.amax(ext_set_ad, axis=1) >= threshold_ad).astype(str)\n",
        "    \n",
        "    # Prepare data\n",
        "    ext_set = pd.DataFrame({'Prediction': ext_set,'AD': ext_set_ad})\n",
        "    ext_set.AD[ext_set.AD == 'False'] = np.nan\n",
        "    ext_set.AD[ext_set.AD == 'True'] = ext_set.Prediction\n",
        "    ext_set.sort_index(inplace=True)\n",
        "    ext_set['y_ext'] = pd.DataFrame(y_ext)\n",
        "    ext_set_ad = ext_set.dropna().astype(int)\n",
        "    coverage_ext = len(ext_set_ad) / len(ext_set)\n",
        "    \n",
        "    # Print stats\n",
        "    ext_set_stats = pd.DataFrame(stats(ext_set.y_ext, ext_set.Prediction))\n",
        "    ext_set_stats['Coverage'] = 1.0\n",
        "    print('External withheld set: \\n', ext_set_stats.to_string(index=False), '\\n')\n",
        "    ext_set_stats_ad = pd.DataFrame(stats(ext_set_ad.y_ext, ext_set_ad.AD))\n",
        "    ext_set_stats_ad['Coverage'] = round(coverage_ext, 2)\n",
        "    print('External withheld set with AD: \\n', ext_set_stats_ad.to_string(index=False), '\\n')\n",
        "else:\n",
        "    pass"
      ],
      "execution_count": 0,
      "outputs": []
    },
    {
      "cell_type": "code",
      "metadata": {
        "id": "h9DfFELCsa1a",
        "colab_type": "code",
        "colab": {
          "base_uri": "https://localhost:8080/",
          "height": 106
        },
        "outputId": "377b2c1b-36db-42cd-ff01-a6a512ede468"
      },
      "source": [
        "permutations = 20\n",
        "score, permutation_scores, pvalue = permutation_test_score(rf_best, X_train, y_train,\n",
        "                                                           cv=5, scoring='balanced_accuracy',\n",
        "                                                           n_permutations=permutations,\n",
        "                                                           n_jobs=-1,\n",
        "                                                           verbose=1,\n",
        "                                                           random_state=24)\n",
        "print('True score = ', score.round(2),\n",
        "      '\\nY-randomization = ', np.mean(permutation_scores).round(2),\n",
        "      '\\np-value = ', pvalue.round(4))"
      ],
      "execution_count": 20,
      "outputs": [
        {
          "output_type": "stream",
          "text": [
            "[Parallel(n_jobs=-1)]: Using backend LokyBackend with 2 concurrent workers.\n"
          ],
          "name": "stderr"
        },
        {
          "output_type": "stream",
          "text": [
            "True score =  0.78 \n",
            "Y-randomization =  0.5 \n",
            "p-value =  0.0476\n"
          ],
          "name": "stdout"
        },
        {
          "output_type": "stream",
          "text": [
            "[Parallel(n_jobs=-1)]: Done  20 out of  20 | elapsed:  1.6min finished\n"
          ],
          "name": "stderr"
        }
      ]
    },
    {
      "cell_type": "code",
      "metadata": {
        "id": "-nRHsH-hstue",
        "colab_type": "code",
        "colab": {}
      },
      "source": [
        "with gzip.GzipFile('model/sars-cov-3clpro-morgan_RF_ad_balanced.pgz', 'w') as f:\n",
        "    cPickle.dump(rf_best, f)"
      ],
      "execution_count": 0,
      "outputs": []
    },
    {
      "cell_type": "code",
      "metadata": {
        "id": "f3arDl_KtLa-",
        "colab_type": "code",
        "colab": {}
      },
      "source": [
        "pred_train = moldf_train[moldf_train.columns.difference(descriptor_list)]\n",
        "pred_train.reset_index(inplace=True)\n",
        "five_fold_exp = five_fold_morgan[['Prediction', 'AD']].rename(columns={'Prediction':'morgan', 'AD':'morgan_ad'}, )\n",
        "pred_train = pd.concat([pred_train, five_fold_exp], axis=1)\n",
        "pred_train['Set'] = 'train'\n",
        "\n",
        "if len(moldf_ext) > 0:\n",
        "    pred_ext = moldf_ext[moldf_ext.columns.difference(descriptor_list)]\n",
        "    pred_ext.reset_index(inplace=True)\n",
        "    ext_set_exp = ext_set[['Prediction', 'AD']].rename(columns={'Prediction':'morgan', 'AD':'morgan_ad'}, )\n",
        "    pred_ext = pd.concat([pred_ext, ext_set_exp], axis=1)\n",
        "    pred_ext['Set'] = 'ext'\n",
        "    \n",
        "    pred_morgan = pd.concat([pred_train, pred_ext], axis=0).sort_values(by='index')\n",
        "    pred_morgan.drop(columns=['index', 'Mol', 'ID'], inplace=True)\n",
        "\n",
        "else:\n",
        "    pred_morgan = pred_train.copy()\n",
        "    pred_morgan.drop(columns=['index', 'Mol', 'ID'], inplace=True)\n",
        "    \n",
        "#for col in ['Outcome', 'morgan', 'morgan_ad']:\n",
        "#    pred_morgan[col].replace(0,'Inactive', inplace=True)\n",
        "#    pred_morgan[col].replace(1,'Active', inplace=True)"
      ],
      "execution_count": 0,
      "outputs": []
    },
    {
      "cell_type": "code",
      "metadata": {
        "id": "RJDqXA4AtPfr",
        "colab_type": "code",
        "colab": {}
      },
      "source": [
        "with pd.ExcelWriter('predictions-morgan.xlsx') as writer:\n",
        "    pred_morgan.to_excel(writer, sheet_name='morgan', index=False)"
      ],
      "execution_count": 0,
      "outputs": []
    },
    {
      "cell_type": "code",
      "metadata": {
        "id": "0AutYWKftSXr",
        "colab_type": "code",
        "colab": {
          "base_uri": "https://localhost:8080/",
          "height": 106
        },
        "outputId": "8663effb-a7ec-418f-9b0e-d4f92635c3a3"
      },
      "source": [
        "# Export stats\n",
        "if len(moldf_ext) > 0:\n",
        "    morgan_stats = pd.concat([morgan, morgan_ad], axis=0)\n",
        "    morgan_stats.set_index([['5-fold CV', 'External withheld set']], drop=True, inplace=True)\n",
        "    morgan_stats\n",
        "else:\n",
        "    morgan_stats = morgan_5f_stats.copy()\n",
        "    morgan_stats"
      ],
      "execution_count": 26,
      "outputs": [
        {
          "output_type": "execute_result",
          "data": {
            "text/html": [
              "<div>\n",
              "<style scoped>\n",
              "    .dataframe tbody tr th:only-of-type {\n",
              "        vertical-align: middle;\n",
              "    }\n",
              "\n",
              "    .dataframe tbody tr th {\n",
              "        vertical-align: top;\n",
              "    }\n",
              "\n",
              "    .dataframe thead th {\n",
              "        text-align: right;\n",
              "    }\n",
              "</style>\n",
              "<table border=\"1\" class=\"dataframe\">\n",
              "  <thead>\n",
              "    <tr style=\"text-align: right;\">\n",
              "      <th></th>\n",
              "      <th>Kappa</th>\n",
              "      <th>CCR</th>\n",
              "      <th>Sensitivity</th>\n",
              "      <th>PPV</th>\n",
              "      <th>Specificity</th>\n",
              "      <th>NPV</th>\n",
              "      <th>Coverage</th>\n",
              "    </tr>\n",
              "  </thead>\n",
              "  <tbody>\n",
              "    <tr>\n",
              "      <th>Morgan</th>\n",
              "      <td>0.59</td>\n",
              "      <td>0.78</td>\n",
              "      <td>0.65</td>\n",
              "      <td>0.81</td>\n",
              "      <td>0.92</td>\n",
              "      <td>0.83</td>\n",
              "      <td>1.00</td>\n",
              "    </tr>\n",
              "    <tr>\n",
              "      <th>Morgan AD</th>\n",
              "      <td>0.67</td>\n",
              "      <td>0.80</td>\n",
              "      <td>0.62</td>\n",
              "      <td>0.94</td>\n",
              "      <td>0.98</td>\n",
              "      <td>0.85</td>\n",
              "      <td>0.69</td>\n",
              "    </tr>\n",
              "  </tbody>\n",
              "</table>\n",
              "</div>"
            ],
            "text/plain": [
              "           Kappa   CCR  Sensitivity   PPV  Specificity   NPV  Coverage\n",
              "Morgan      0.59  0.78         0.65  0.81         0.92  0.83      1.00\n",
              "Morgan AD   0.67  0.80         0.62  0.94         0.98  0.85      0.69"
            ]
          },
          "metadata": {
            "tags": []
          },
          "execution_count": 26
        }
      ]
    },
    {
      "cell_type": "code",
      "metadata": {
        "id": "2HcwAVITtb8u",
        "colab_type": "code",
        "colab": {
          "base_uri": "https://localhost:8080/",
          "height": 442
        },
        "outputId": "2b27e548-6a22-44a6-d72d-a1d1201b33b4"
      },
      "source": [
        "# Transpose stats\n",
        "morgan_stats_t = morgan_stats.T\n",
        "morgan_stats_t = morgan_stats_t.reset_index()\n",
        "morgan_stats_t = morgan_stats_t.rename(columns={'index': 'Stats'})\n",
        "\n",
        "# Make plot\n",
        "plt.style.use('seaborn-colorblind')\n",
        "fig, ax1 = plt.subplots(figsize=(10,6))\n",
        "\n",
        "morgan_stats_t.plot(kind='bar', ax=ax1, width=0.8)\n",
        "ax1.set_xticklabels(labels=morgan_stats_t['Stats'].tolist(), fontsize=14, rotation=0)\n",
        "ax1.axhline(y=.6, color='indianred', ls='dashed')# xmin=0.25, xmax=0.75)\n",
        "ax1.legend_.remove()\n",
        "plt.title('Statistical characteristics', fontsize=16)\n",
        "ax1.set_yticks(np.arange(0, 1.1, 0.1))\n",
        "ax1.tick_params(labelsize=15)\n",
        "\n",
        "handles, labels = ax1.get_legend_handles_labels()\n",
        "ax1.legend(handles, labels, fontsize=16,\n",
        "            loc='upper center', bbox_to_anchor=(0.5, -0.07), fancybox=True,\n",
        "            shadow=True, ncol=2)\n",
        "fig.tight_layout()\n",
        "\n",
        "plt.savefig('statistics-morgan.png', bbox_inches='tight',\n",
        "            transparent=False, format='png', dpi=300)\n",
        "plt.show();"
      ],
      "execution_count": 27,
      "outputs": [
        {
          "output_type": "display_data",
          "data": {
            "image/png": "[encoded data removed]",
            "text/plain": [
              "<Figure size 720x432 with 1 Axes>"
            ]
          },
          "metadata": {
            "tags": [],
            "needs_background": "light"
          }
        }
      ]
    },
    {
      "cell_type": "code",
      "metadata": {
        "id": "SEdkldgXtfoU",
        "colab_type": "code",
        "colab": {
          "base_uri": "https://localhost:8080/",
          "height": 17
        },
        "outputId": "890efcd3-c943-4a6e-ebb3-3a1716319975"
      },
      "source": [
        "import numpy as np\n",
        "import pandas as pd\n",
        "import seaborn as sns\n",
        "import matplotlib.pyplot as plt\n",
        "import _pickle as cPickle\n",
        "import gzip\n",
        "\n",
        "#from BalanceBySim import *\n",
        "from stats import *\n",
        "\n",
        "from collections import Counter\n",
        "\n",
        "from rdkit import Chem\n",
        "from rdkit.Chem import Draw\n",
        "from rdkit.Chem import PandasTools\n",
        "from rdkit.Chem.Draw import IPythonConsole\n",
        "\n",
        "from sklearn import metrics\n",
        "from sklearn.ensemble import RandomForestClassifier\n",
        "from sklearn.feature_selection import VarianceThreshold\n",
        "from sklearn.model_selection import train_test_split, cross_validate, GridSearchCV\n",
        "from sklearn.model_selection import permutation_test_score, StratifiedKFold\n",
        "\n",
        "def warn(*args, **kwargs):\n",
        "    pass\n",
        "import warnings\n",
        "warnings.filterwarnings(\"ignore\")\n",
        "warnings.warn = warn\n",
        "\n",
        "from IPython.core.interactiveshell import InteractiveShell\n",
        "InteractiveShell.ast_node_interactivity = \"all\"\n",
        "%matplotlib inline\n",
        "%reload_ext autoreload\n",
        "%autoreload 2\n",
        "Draw.DrawingOptions.atomLabelFontFace = \"DejaVu Sans\"\n",
        "Draw.DrawingOptions.atomLabelFontSize = 18\n",
        "\n",
        "from IPython.core.display import display, HTML\n",
        "display(HTML(\"<style>.container { width:90% !important; }</style>\"))"
      ],
      "execution_count": 28,
      "outputs": [
        {
          "output_type": "display_data",
          "data": {
            "text/html": [
              "<style>.container { width:90% !important; }</style>"
            ],
            "text/plain": [
              "<IPython.core.display.HTML object>"
            ]
          },
          "metadata": {
            "tags": []
          }
        }
      ]
    },
    {
      "cell_type": "code",
      "metadata": {
        "id": "A5GHQSb5wQK5",
        "colab_type": "code",
        "colab": {
          "base_uri": "https://localhost:8080/",
          "height": 352
        },
        "outputId": "f8c69085-2bc3-43ef-b4ba-74536d57a061"
      },
      "source": [
        "# Set file path\n",
        "file = 'datasets/curated_data/chembl-pdb-sars-cov-3C-like-proteinase.sdf.gz'\n",
        "sdfInfo = dict(smilesName='SMILES', molColName='ROMol')\n",
        "moldf = PandasTools.LoadSDF(file, **sdfInfo)\n",
        "print('Original data: ', moldf.shape)\n",
        "# Rename ROMol\n",
        "moldf = moldf.rename(columns={'ROMol': 'Mol'})\n",
        "# Remove missing RDKit molecules\n",
        "moldf = moldf[pd.notnull(moldf['Mol'])]\n",
        "if 'StandardizerResult' in moldf.columns:\n",
        "    moldf = moldf.drop(columns='StandardizerResult')\n",
        "# Columns\n",
        "print('Kept data: ', moldf.shape)\n",
        "moldf.head(1)"
      ],
      "execution_count": 29,
      "outputs": [
        {
          "output_type": "stream",
          "text": [
            "Original data:  (113, 11)\n",
            "Kept data:  (113, 11)\n"
          ],
          "name": "stdout"
        },
        {
          "output_type": "execute_result",
          "data": {
            "text/html": [
              "<div>\n",
              "<style scoped>\n",
              "    .dataframe tbody tr th:only-of-type {\n",
              "        vertical-align: middle;\n",
              "    }\n",
              "\n",
              "    .dataframe tbody tr th {\n",
              "        vertical-align: top;\n",
              "    }\n",
              "\n",
              "    .dataframe thead th {\n",
              "        text-align: right;\n",
              "    }\n",
              "</style>\n",
              "<table border=\"1\" class=\"dataframe\">\n",
              "  <thead>\n",
              "    <tr style=\"text-align: right;\">\n",
              "      <th></th>\n",
              "      <th>Compound_name</th>\n",
              "      <th>Standard Type</th>\n",
              "      <th>Standard Relation</th>\n",
              "      <th>Standard Value</th>\n",
              "      <th>Standard Units</th>\n",
              "      <th>Outcome</th>\n",
              "      <th>InChIKey</th>\n",
              "      <th>Molecule ChEMBL ID</th>\n",
              "      <th>ID</th>\n",
              "      <th>SMILES</th>\n",
              "      <th>Mol</th>\n",
              "    </tr>\n",
              "  </thead>\n",
              "  <tbody>\n",
              "    <tr>\n",
              "      <th>0</th>\n",
              "      <td></td>\n",
              "      <td>IC50</td>\n",
              "      <td>=</td>\n",
              "      <td>5700.0</td>\n",
              "      <td>nM</td>\n",
              "      <td>Active</td>\n",
              "      <td>AEYIBAPLFDNVGD-UHFFFAOYNA-N</td>\n",
              "      <td></td>\n",
              "      <td></td>\n",
              "      <td>CC(=O)NC(CO)C(=O)NC(C)C(=O)NC(C(=O)NC(CC(C)C)C...</td>\n",
              "      <td><img data-content=\"rdkit/molecule\" src=\"data:image/png;base64,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\" alt=\"Mol\"/></td>\n",
              "    </tr>\n",
              "  </tbody>\n",
              "</table>\n",
              "</div>"
            ],
            "text/plain": [
              "  Compound_name  ...                                                Mol\n",
              "0                ...  <img data-content=\"rdkit/molecule\" src=\"data:i...\n",
              "\n",
              "[1 rows x 11 columns]"
            ]
          },
          "metadata": {
            "tags": []
          },
          "execution_count": 29
        }
      ]
    },
    {
      "cell_type": "code",
      "metadata": {
        "id": "oxuOjc98wYxg",
        "colab_type": "code",
        "colab": {
          "base_uri": "https://localhost:8080/",
          "height": 106
        },
        "outputId": "6119f4a0-bcae-46e6-d711-30db1b8cc474"
      },
      "source": [
        "moldf['Outcome'] = moldf['Outcome'].replace('Active', 1)\n",
        "moldf['Outcome'] = moldf['Outcome'].replace('Inactive', 0)\n",
        "\n",
        "classes = Counter(moldf['Outcome'])\n",
        "print('\\033[1m' + 'Training set shape:' + '\\n' + '\\033[0m')\n",
        "for key, value in classes.items():\n",
        "    print('\\t\\t Class %d: %d' % (key, value))\n",
        "print('\\t\\t Total number of compounds: %d' % (len(moldf['Outcome'])))"
      ],
      "execution_count": 30,
      "outputs": [
        {
          "output_type": "stream",
          "text": [
            "\u001b[1mTraining set shape:\n",
            "\u001b[0m\n",
            "\t\t Class 1: 40\n",
            "\t\t Class 0: 73\n",
            "\t\t Total number of compounds: 113\n"
          ],
          "name": "stdout"
        }
      ]
    },
    {
      "cell_type": "code",
      "metadata": {
        "id": "BigcSJQpw2Zk",
        "colab_type": "code",
        "colab": {
          "base_uri": "https://localhost:8080/",
          "height": 461
        },
        "outputId": "eab5dff1-6d10-4abf-afbf-fdf5798b348c"
      },
      "source": [
        "desc = pd.read_csv('descriptors/sirms-chembl-pdb-sars-cov-3C-like-proteinase.txt', skiprows=[0,1], sep='\\t')\n",
        "desc.drop(desc.columns[0:2], axis=1,inplace=True)\n",
        "descriptors = desc.columns.difference(moldf.columns).tolist()\n",
        "desc.head()"
      ],
      "execution_count": 31,
      "outputs": [
        {
          "output_type": "error",
          "ename": "FileNotFoundError",
          "evalue": "ignored",
          "traceback": [
            "\u001b[0;31m---------------------------------------------------------------------------\u001b[0m",
            "\u001b[0;31mFileNotFoundError\u001b[0m                         Traceback (most recent call last)",
            "\u001b[0;32m<ipython-input-31-b37d78675a78>\u001b[0m in \u001b[0;36m<module>\u001b[0;34m()\u001b[0m\n\u001b[0;32m----> 1\u001b[0;31m \u001b[0mdesc\u001b[0m \u001b[0;34m=\u001b[0m \u001b[0mpd\u001b[0m\u001b[0;34m.\u001b[0m\u001b[0mread_csv\u001b[0m\u001b[0;34m(\u001b[0m\u001b[0;34m'descriptors/sirms-chembl-pdb-sars-cov-3C-like-proteinase.txt'\u001b[0m\u001b[0;34m,\u001b[0m \u001b[0mskiprows\u001b[0m\u001b[0;34m=\u001b[0m\u001b[0;34m[\u001b[0m\u001b[0;36m0\u001b[0m\u001b[0;34m,\u001b[0m\u001b[0;36m1\u001b[0m\u001b[0;34m]\u001b[0m\u001b[0;34m,\u001b[0m \u001b[0msep\u001b[0m\u001b[0;34m=\u001b[0m\u001b[0;34m'\\t'\u001b[0m\u001b[0;34m)\u001b[0m\u001b[0;34m\u001b[0m\u001b[0;34m\u001b[0m\u001b[0m\n\u001b[0m\u001b[1;32m      2\u001b[0m \u001b[0mdesc\u001b[0m\u001b[0;34m.\u001b[0m\u001b[0mdrop\u001b[0m\u001b[0;34m(\u001b[0m\u001b[0mdesc\u001b[0m\u001b[0;34m.\u001b[0m\u001b[0mcolumns\u001b[0m\u001b[0;34m[\u001b[0m\u001b[0;36m0\u001b[0m\u001b[0;34m:\u001b[0m\u001b[0;36m2\u001b[0m\u001b[0;34m]\u001b[0m\u001b[0;34m,\u001b[0m \u001b[0maxis\u001b[0m\u001b[0;34m=\u001b[0m\u001b[0;36m1\u001b[0m\u001b[0;34m,\u001b[0m\u001b[0minplace\u001b[0m\u001b[0;34m=\u001b[0m\u001b[0;32mTrue\u001b[0m\u001b[0;34m)\u001b[0m\u001b[0;34m\u001b[0m\u001b[0;34m\u001b[0m\u001b[0m\n\u001b[1;32m      3\u001b[0m \u001b[0mdescriptors\u001b[0m \u001b[0;34m=\u001b[0m \u001b[0mdesc\u001b[0m\u001b[0;34m.\u001b[0m\u001b[0mcolumns\u001b[0m\u001b[0;34m.\u001b[0m\u001b[0mdifference\u001b[0m\u001b[0;34m(\u001b[0m\u001b[0mmoldf\u001b[0m\u001b[0;34m.\u001b[0m\u001b[0mcolumns\u001b[0m\u001b[0;34m)\u001b[0m\u001b[0;34m.\u001b[0m\u001b[0mtolist\u001b[0m\u001b[0;34m(\u001b[0m\u001b[0;34m)\u001b[0m\u001b[0;34m\u001b[0m\u001b[0;34m\u001b[0m\u001b[0m\n\u001b[1;32m      4\u001b[0m \u001b[0mdesc\u001b[0m\u001b[0;34m.\u001b[0m\u001b[0mhead\u001b[0m\u001b[0;34m(\u001b[0m\u001b[0;34m)\u001b[0m\u001b[0;34m\u001b[0m\u001b[0;34m\u001b[0m\u001b[0m\n",
            "\u001b[0;32m/usr/local/lib/python3.6/dist-packages/pandas/io/parsers.py\u001b[0m in \u001b[0;36mparser_f\u001b[0;34m(filepath_or_buffer, sep, delimiter, header, names, index_col, usecols, squeeze, prefix, mangle_dupe_cols, dtype, engine, converters, true_values, false_values, skipinitialspace, skiprows, skipfooter, nrows, na_values, keep_default_na, na_filter, verbose, skip_blank_lines, parse_dates, infer_datetime_format, keep_date_col, date_parser, dayfirst, cache_dates, iterator, chunksize, compression, thousands, decimal, lineterminator, quotechar, quoting, doublequote, escapechar, comment, encoding, dialect, error_bad_lines, warn_bad_lines, delim_whitespace, low_memory, memory_map, float_precision)\u001b[0m\n\u001b[1;32m    674\u001b[0m         )\n\u001b[1;32m    675\u001b[0m \u001b[0;34m\u001b[0m\u001b[0m\n\u001b[0;32m--> 676\u001b[0;31m         \u001b[0;32mreturn\u001b[0m \u001b[0m_read\u001b[0m\u001b[0;34m(\u001b[0m\u001b[0mfilepath_or_buffer\u001b[0m\u001b[0;34m,\u001b[0m \u001b[0mkwds\u001b[0m\u001b[0;34m)\u001b[0m\u001b[0;34m\u001b[0m\u001b[0;34m\u001b[0m\u001b[0m\n\u001b[0m\u001b[1;32m    677\u001b[0m \u001b[0;34m\u001b[0m\u001b[0m\n\u001b[1;32m    678\u001b[0m     \u001b[0mparser_f\u001b[0m\u001b[0;34m.\u001b[0m\u001b[0m__name__\u001b[0m \u001b[0;34m=\u001b[0m \u001b[0mname\u001b[0m\u001b[0;34m\u001b[0m\u001b[0;34m\u001b[0m\u001b[0m\n",
            "\u001b[0;32m/usr/local/lib/python3.6/dist-packages/pandas/io/parsers.py\u001b[0m in \u001b[0;36m_read\u001b[0;34m(filepath_or_buffer, kwds)\u001b[0m\n\u001b[1;32m    446\u001b[0m \u001b[0;34m\u001b[0m\u001b[0m\n\u001b[1;32m    447\u001b[0m     \u001b[0;31m# Create the parser.\u001b[0m\u001b[0;34m\u001b[0m\u001b[0;34m\u001b[0m\u001b[0;34m\u001b[0m\u001b[0m\n\u001b[0;32m--> 448\u001b[0;31m     \u001b[0mparser\u001b[0m \u001b[0;34m=\u001b[0m \u001b[0mTextFileReader\u001b[0m\u001b[0;34m(\u001b[0m\u001b[0mfp_or_buf\u001b[0m\u001b[0;34m,\u001b[0m \u001b[0;34m**\u001b[0m\u001b[0mkwds\u001b[0m\u001b[0;34m)\u001b[0m\u001b[0;34m\u001b[0m\u001b[0;34m\u001b[0m\u001b[0m\n\u001b[0m\u001b[1;32m    449\u001b[0m \u001b[0;34m\u001b[0m\u001b[0m\n\u001b[1;32m    450\u001b[0m     \u001b[0;32mif\u001b[0m \u001b[0mchunksize\u001b[0m \u001b[0;32mor\u001b[0m \u001b[0miterator\u001b[0m\u001b[0;34m:\u001b[0m\u001b[0;34m\u001b[0m\u001b[0;34m\u001b[0m\u001b[0m\n",
            "\u001b[0;32m/usr/local/lib/python3.6/dist-packages/pandas/io/parsers.py\u001b[0m in \u001b[0;36m__init__\u001b[0;34m(self, f, engine, **kwds)\u001b[0m\n\u001b[1;32m    878\u001b[0m             \u001b[0mself\u001b[0m\u001b[0;34m.\u001b[0m\u001b[0moptions\u001b[0m\u001b[0;34m[\u001b[0m\u001b[0;34m\"has_index_names\"\u001b[0m\u001b[0;34m]\u001b[0m \u001b[0;34m=\u001b[0m \u001b[0mkwds\u001b[0m\u001b[0;34m[\u001b[0m\u001b[0;34m\"has_index_names\"\u001b[0m\u001b[0;34m]\u001b[0m\u001b[0;34m\u001b[0m\u001b[0;34m\u001b[0m\u001b[0m\n\u001b[1;32m    879\u001b[0m \u001b[0;34m\u001b[0m\u001b[0m\n\u001b[0;32m--> 880\u001b[0;31m         \u001b[0mself\u001b[0m\u001b[0;34m.\u001b[0m\u001b[0m_make_engine\u001b[0m\u001b[0;34m(\u001b[0m\u001b[0mself\u001b[0m\u001b[0;34m.\u001b[0m\u001b[0mengine\u001b[0m\u001b[0;34m)\u001b[0m\u001b[0;34m\u001b[0m\u001b[0;34m\u001b[0m\u001b[0m\n\u001b[0m\u001b[1;32m    881\u001b[0m \u001b[0;34m\u001b[0m\u001b[0m\n\u001b[1;32m    882\u001b[0m     \u001b[0;32mdef\u001b[0m \u001b[0mclose\u001b[0m\u001b[0;34m(\u001b[0m\u001b[0mself\u001b[0m\u001b[0;34m)\u001b[0m\u001b[0;34m:\u001b[0m\u001b[0;34m\u001b[0m\u001b[0;34m\u001b[0m\u001b[0m\n",
            "\u001b[0;32m/usr/local/lib/python3.6/dist-packages/pandas/io/parsers.py\u001b[0m in \u001b[0;36m_make_engine\u001b[0;34m(self, engine)\u001b[0m\n\u001b[1;32m   1112\u001b[0m     \u001b[0;32mdef\u001b[0m \u001b[0m_make_engine\u001b[0m\u001b[0;34m(\u001b[0m\u001b[0mself\u001b[0m\u001b[0;34m,\u001b[0m \u001b[0mengine\u001b[0m\u001b[0;34m=\u001b[0m\u001b[0;34m\"c\"\u001b[0m\u001b[0;34m)\u001b[0m\u001b[0;34m:\u001b[0m\u001b[0;34m\u001b[0m\u001b[0;34m\u001b[0m\u001b[0m\n\u001b[1;32m   1113\u001b[0m         \u001b[0;32mif\u001b[0m \u001b[0mengine\u001b[0m \u001b[0;34m==\u001b[0m \u001b[0;34m\"c\"\u001b[0m\u001b[0;34m:\u001b[0m\u001b[0;34m\u001b[0m\u001b[0;34m\u001b[0m\u001b[0m\n\u001b[0;32m-> 1114\u001b[0;31m             \u001b[0mself\u001b[0m\u001b[0;34m.\u001b[0m\u001b[0m_engine\u001b[0m \u001b[0;34m=\u001b[0m \u001b[0mCParserWrapper\u001b[0m\u001b[0;34m(\u001b[0m\u001b[0mself\u001b[0m\u001b[0;34m.\u001b[0m\u001b[0mf\u001b[0m\u001b[0;34m,\u001b[0m \u001b[0;34m**\u001b[0m\u001b[0mself\u001b[0m\u001b[0;34m.\u001b[0m\u001b[0moptions\u001b[0m\u001b[0;34m)\u001b[0m\u001b[0;34m\u001b[0m\u001b[0;34m\u001b[0m\u001b[0m\n\u001b[0m\u001b[1;32m   1115\u001b[0m         \u001b[0;32melse\u001b[0m\u001b[0;34m:\u001b[0m\u001b[0;34m\u001b[0m\u001b[0;34m\u001b[0m\u001b[0m\n\u001b[1;32m   1116\u001b[0m             \u001b[0;32mif\u001b[0m \u001b[0mengine\u001b[0m \u001b[0;34m==\u001b[0m \u001b[0;34m\"python\"\u001b[0m\u001b[0;34m:\u001b[0m\u001b[0;34m\u001b[0m\u001b[0;34m\u001b[0m\u001b[0m\n",
            "\u001b[0;32m/usr/local/lib/python3.6/dist-packages/pandas/io/parsers.py\u001b[0m in \u001b[0;36m__init__\u001b[0;34m(self, src, **kwds)\u001b[0m\n\u001b[1;32m   1889\u001b[0m         \u001b[0mkwds\u001b[0m\u001b[0;34m[\u001b[0m\u001b[0;34m\"usecols\"\u001b[0m\u001b[0;34m]\u001b[0m \u001b[0;34m=\u001b[0m \u001b[0mself\u001b[0m\u001b[0;34m.\u001b[0m\u001b[0musecols\u001b[0m\u001b[0;34m\u001b[0m\u001b[0;34m\u001b[0m\u001b[0m\n\u001b[1;32m   1890\u001b[0m \u001b[0;34m\u001b[0m\u001b[0m\n\u001b[0;32m-> 1891\u001b[0;31m         \u001b[0mself\u001b[0m\u001b[0;34m.\u001b[0m\u001b[0m_reader\u001b[0m \u001b[0;34m=\u001b[0m \u001b[0mparsers\u001b[0m\u001b[0;34m.\u001b[0m\u001b[0mTextReader\u001b[0m\u001b[0;34m(\u001b[0m\u001b[0msrc\u001b[0m\u001b[0;34m,\u001b[0m \u001b[0;34m**\u001b[0m\u001b[0mkwds\u001b[0m\u001b[0;34m)\u001b[0m\u001b[0;34m\u001b[0m\u001b[0;34m\u001b[0m\u001b[0m\n\u001b[0m\u001b[1;32m   1892\u001b[0m         \u001b[0mself\u001b[0m\u001b[0;34m.\u001b[0m\u001b[0munnamed_cols\u001b[0m \u001b[0;34m=\u001b[0m \u001b[0mself\u001b[0m\u001b[0;34m.\u001b[0m\u001b[0m_reader\u001b[0m\u001b[0;34m.\u001b[0m\u001b[0munnamed_cols\u001b[0m\u001b[0;34m\u001b[0m\u001b[0;34m\u001b[0m\u001b[0m\n\u001b[1;32m   1893\u001b[0m \u001b[0;34m\u001b[0m\u001b[0m\n",
            "\u001b[0;32mpandas/_libs/parsers.pyx\u001b[0m in \u001b[0;36mpandas._libs.parsers.TextReader.__cinit__\u001b[0;34m()\u001b[0m\n",
            "\u001b[0;32mpandas/_libs/parsers.pyx\u001b[0m in \u001b[0;36mpandas._libs.parsers.TextReader._setup_parser_source\u001b[0;34m()\u001b[0m\n",
            "\u001b[0;31mFileNotFoundError\u001b[0m: [Errno 2] File descriptors/sirms-chembl-pdb-sars-cov-3C-like-proteinase.txt does not exist: 'descriptors/sirms-chembl-pdb-sars-cov-3C-like-proteinase.txt'"
          ]
        }
      ]
    },
    {
      "cell_type": "code",
      "metadata": {
        "id": "pQ5dab76w74_",
        "colab_type": "code",
        "colab": {
          "base_uri": "https://localhost:8080/",
          "height": 52
        },
        "outputId": "dcb28eef-a4b5-41eb-8a4b-4649f1bf6118"
      },
      "source": [
        "moldf_desc = pd.concat([moldf,desc], axis=1)\n",
        "balance_data = 'no'\n",
        "\n",
        "if balance_data == 'yes':\n",
        "    # Balance data using 1/2 similarity and 1/2 random\n",
        "    moldf_desc = BalanceBySim(moldf_desc, 'Outcome', 2)\n",
        "    # Print shape\n",
        "    print('Training set shape: %s' % Counter(moldf_desc['Outcome'].loc[moldf_desc['Set'] == 'train']))\n",
        "    print('External set shape: %s' % Counter(moldf_desc['Outcome'].loc[moldf_desc['Set'] == 'ext']))\n",
        "      \n",
        "else:\n",
        "    moldf_desc['Set'] = 'train'\n",
        "    # Print shape\n",
        "    print('Training set shape: %s' % Counter(moldf_desc['Outcome']))\n",
        "    print('External set shape: %s' % Counter(moldf_desc['Outcome'].loc[moldf_desc['Set'] == 'ext']))"
      ],
      "execution_count": 32,
      "outputs": [
        {
          "output_type": "stream",
          "text": [
            "Training set shape: Counter({0: 73, 1: 40})\n",
            "External set shape: Counter()\n"
          ],
          "name": "stdout"
        }
      ]
    },
    {
      "cell_type": "code",
      "metadata": {
        "id": "n50VDqNmxdQG",
        "colab_type": "code",
        "colab": {
          "base_uri": "https://localhost:8080/",
          "height": 35
        },
        "outputId": "8cf01233-d951-4840-fc0a-04e5a3fd6be6"
      },
      "source": [
        "moldf_train = moldf_desc[(moldf_desc['Set'] == 'train')]\n",
        "\n",
        "y_train = moldf_train['Outcome'].to_numpy()\n",
        "X_train = moldf_train[descriptors]\n",
        "X_train.shape"
      ],
      "execution_count": 33,
      "outputs": [
        {
          "output_type": "execute_result",
          "data": {
            "text/plain": [
              "(113, 2048)"
            ]
          },
          "metadata": {
            "tags": []
          },
          "execution_count": 33
        }
      ]
    },
    {
      "cell_type": "code",
      "metadata": {
        "id": "3jsvOynlxgmx",
        "colab_type": "code",
        "colab": {}
      },
      "source": [
        "X_train = X_train.select_dtypes(exclude=['object'])\n",
        "X_train = X_train.dropna(axis=1, how='any')\n",
        "X_train = X_train.fillna(0)\n",
        "\n",
        "# Def low variance filter (10% threshold)\n",
        "def variance_filter(data, threshold=0.1):\n",
        "    selector = VarianceThreshold(threshold)\n",
        "    selector.fit(data)\n",
        "    return data[data.columns[selector.get_support(indices=True)]]\n",
        "\n",
        "# Apply filter\n",
        "X_train = variance_filter(X_train)"
      ],
      "execution_count": 0,
      "outputs": []
    },
    {
      "cell_type": "code",
      "metadata": {
        "id": "U1mGWZbGxkE-",
        "colab_type": "code",
        "colab": {
          "base_uri": "https://localhost:8080/",
          "height": 52
        },
        "outputId": "d5799af5-a992-4655-f75d-3e2afec10b3f"
      },
      "source": [
        "%%time\n",
        "correlated_features = set()  \n",
        "correlation_matrix = X_train.corr()\n",
        "\n",
        "for i in range(len(correlation_matrix.columns)):  \n",
        "    for j in range(i):\n",
        "        if abs(correlation_matrix.iloc[i, j]) > 0.9:\n",
        "            colname = correlation_matrix.columns[i]\n",
        "            correlated_features.add(colname)\n",
        "\n",
        "X_train.drop(labels=correlated_features, axis=1, inplace=True)\n",
        "\n",
        "X_train.shape"
      ],
      "execution_count": 35,
      "outputs": [
        {
          "output_type": "stream",
          "text": [
            "CPU times: user 82.3 ms, sys: 472 µs, total: 82.8 ms\n",
            "Wall time: 83 ms\n"
          ],
          "name": "stdout"
        }
      ]
    },
    {
      "cell_type": "code",
      "metadata": {
        "id": "eDifo4igxm7N",
        "colab_type": "code",
        "colab": {
          "base_uri": "https://localhost:8080/",
          "height": 316
        },
        "outputId": "4d8455d9-dd8a-4a00-a990-245b14de54db"
      },
      "source": [
        "X_train.to_csv('descriptors/sirms-chembl-sars-cov-3C-like-proteinase-processed.txt', sep='\\t', index=False)"
      ],
      "execution_count": 36,
      "outputs": [
        {
          "output_type": "error",
          "ename": "FileNotFoundError",
          "evalue": "ignored",
          "traceback": [
            "\u001b[0;31m---------------------------------------------------------------------------\u001b[0m",
            "\u001b[0;31mFileNotFoundError\u001b[0m                         Traceback (most recent call last)",
            "\u001b[0;32m<ipython-input-36-7689792aad55>\u001b[0m in \u001b[0;36m<module>\u001b[0;34m()\u001b[0m\n\u001b[0;32m----> 1\u001b[0;31m \u001b[0mX_train\u001b[0m\u001b[0;34m.\u001b[0m\u001b[0mto_csv\u001b[0m\u001b[0;34m(\u001b[0m\u001b[0;34m'descriptors/sirms-chembl-sars-cov-3C-like-proteinase-processed.txt'\u001b[0m\u001b[0;34m,\u001b[0m \u001b[0msep\u001b[0m\u001b[0;34m=\u001b[0m\u001b[0;34m'\\t'\u001b[0m\u001b[0;34m,\u001b[0m \u001b[0mindex\u001b[0m\u001b[0;34m=\u001b[0m\u001b[0;32mFalse\u001b[0m\u001b[0;34m)\u001b[0m\u001b[0;34m\u001b[0m\u001b[0;34m\u001b[0m\u001b[0m\n\u001b[0m",
            "\u001b[0;32m/usr/local/lib/python3.6/dist-packages/pandas/core/generic.py\u001b[0m in \u001b[0;36mto_csv\u001b[0;34m(self, path_or_buf, sep, na_rep, float_format, columns, header, index, index_label, mode, encoding, compression, quoting, quotechar, line_terminator, chunksize, date_format, doublequote, escapechar, decimal)\u001b[0m\n\u001b[1;32m   3202\u001b[0m             \u001b[0mdecimal\u001b[0m\u001b[0;34m=\u001b[0m\u001b[0mdecimal\u001b[0m\u001b[0;34m,\u001b[0m\u001b[0;34m\u001b[0m\u001b[0;34m\u001b[0m\u001b[0m\n\u001b[1;32m   3203\u001b[0m         )\n\u001b[0;32m-> 3204\u001b[0;31m         \u001b[0mformatter\u001b[0m\u001b[0;34m.\u001b[0m\u001b[0msave\u001b[0m\u001b[0;34m(\u001b[0m\u001b[0;34m)\u001b[0m\u001b[0;34m\u001b[0m\u001b[0;34m\u001b[0m\u001b[0m\n\u001b[0m\u001b[1;32m   3205\u001b[0m \u001b[0;34m\u001b[0m\u001b[0m\n\u001b[1;32m   3206\u001b[0m         \u001b[0;32mif\u001b[0m \u001b[0mpath_or_buf\u001b[0m \u001b[0;32mis\u001b[0m \u001b[0;32mNone\u001b[0m\u001b[0;34m:\u001b[0m\u001b[0;34m\u001b[0m\u001b[0;34m\u001b[0m\u001b[0m\n",
            "\u001b[0;32m/usr/local/lib/python3.6/dist-packages/pandas/io/formats/csvs.py\u001b[0m in \u001b[0;36msave\u001b[0;34m(self)\u001b[0m\n\u001b[1;32m    186\u001b[0m                 \u001b[0mself\u001b[0m\u001b[0;34m.\u001b[0m\u001b[0mmode\u001b[0m\u001b[0;34m,\u001b[0m\u001b[0;34m\u001b[0m\u001b[0;34m\u001b[0m\u001b[0m\n\u001b[1;32m    187\u001b[0m                 \u001b[0mencoding\u001b[0m\u001b[0;34m=\u001b[0m\u001b[0mself\u001b[0m\u001b[0;34m.\u001b[0m\u001b[0mencoding\u001b[0m\u001b[0;34m,\u001b[0m\u001b[0;34m\u001b[0m\u001b[0;34m\u001b[0m\u001b[0m\n\u001b[0;32m--> 188\u001b[0;31m                 \u001b[0mcompression\u001b[0m\u001b[0;34m=\u001b[0m\u001b[0mdict\u001b[0m\u001b[0;34m(\u001b[0m\u001b[0mself\u001b[0m\u001b[0;34m.\u001b[0m\u001b[0mcompression_args\u001b[0m\u001b[0;34m,\u001b[0m \u001b[0mmethod\u001b[0m\u001b[0;34m=\u001b[0m\u001b[0mself\u001b[0m\u001b[0;34m.\u001b[0m\u001b[0mcompression\u001b[0m\u001b[0;34m)\u001b[0m\u001b[0;34m,\u001b[0m\u001b[0;34m\u001b[0m\u001b[0;34m\u001b[0m\u001b[0m\n\u001b[0m\u001b[1;32m    189\u001b[0m             )\n\u001b[1;32m    190\u001b[0m             \u001b[0mclose\u001b[0m \u001b[0;34m=\u001b[0m \u001b[0;32mTrue\u001b[0m\u001b[0;34m\u001b[0m\u001b[0;34m\u001b[0m\u001b[0m\n",
            "\u001b[0;32m/usr/local/lib/python3.6/dist-packages/pandas/io/common.py\u001b[0m in \u001b[0;36mget_handle\u001b[0;34m(path_or_buf, mode, encoding, compression, memory_map, is_text)\u001b[0m\n\u001b[1;32m    426\u001b[0m         \u001b[0;32mif\u001b[0m \u001b[0mencoding\u001b[0m\u001b[0;34m:\u001b[0m\u001b[0;34m\u001b[0m\u001b[0;34m\u001b[0m\u001b[0m\n\u001b[1;32m    427\u001b[0m             \u001b[0;31m# Encoding\u001b[0m\u001b[0;34m\u001b[0m\u001b[0;34m\u001b[0m\u001b[0;34m\u001b[0m\u001b[0m\n\u001b[0;32m--> 428\u001b[0;31m             \u001b[0mf\u001b[0m \u001b[0;34m=\u001b[0m \u001b[0mopen\u001b[0m\u001b[0;34m(\u001b[0m\u001b[0mpath_or_buf\u001b[0m\u001b[0;34m,\u001b[0m \u001b[0mmode\u001b[0m\u001b[0;34m,\u001b[0m \u001b[0mencoding\u001b[0m\u001b[0;34m=\u001b[0m\u001b[0mencoding\u001b[0m\u001b[0;34m,\u001b[0m \u001b[0mnewline\u001b[0m\u001b[0;34m=\u001b[0m\u001b[0;34m\"\"\u001b[0m\u001b[0;34m)\u001b[0m\u001b[0;34m\u001b[0m\u001b[0;34m\u001b[0m\u001b[0m\n\u001b[0m\u001b[1;32m    429\u001b[0m         \u001b[0;32melif\u001b[0m \u001b[0mis_text\u001b[0m\u001b[0;34m:\u001b[0m\u001b[0;34m\u001b[0m\u001b[0;34m\u001b[0m\u001b[0m\n\u001b[1;32m    430\u001b[0m             \u001b[0;31m# No explicit encoding\u001b[0m\u001b[0;34m\u001b[0m\u001b[0;34m\u001b[0m\u001b[0;34m\u001b[0m\u001b[0m\n",
            "\u001b[0;31mFileNotFoundError\u001b[0m: [Errno 2] No such file or directory: 'descriptors/sirms-chembl-sars-cov-3C-like-proteinase-processed.txt'"
          ]
        }
      ]
    },
    {
      "cell_type": "code",
      "metadata": {
        "id": "zIUoR_AlxqtU",
        "colab_type": "code",
        "colab": {
          "base_uri": "https://localhost:8080/",
          "height": 496
        },
        "outputId": "eb2b7d2d-de81-44e4-c1ff-7040aeb9cd9f"
      },
      "source": [
        "%%time\n",
        "# Number of trees in random forest\n",
        "n_estimators = [100, 250, 500, 750, 1000]\n",
        "max_features = ['auto', 'sqrt']\n",
        "criterion = ['gini', 'entropy']\n",
        "if balance_data == 'yes':\n",
        "    class_weight = [None]\n",
        "else:\n",
        "    class_weight = [None,'balanced',\n",
        "                    {0:.9, 1:.1}, {0:.8, 1:.2}, {0:.7, 1:.3}, {0:.6, 1:.4},\n",
        "                    {0:.4, 1:.6}, {0:.3, 1:.7}, {0:.2, 1:.8}, {0:.1, 1:.9}]\n",
        "random_state = [33]\n",
        "\n",
        "# Create the random grid\n",
        "param_grid = {'n_estimators': n_estimators,\n",
        "              'max_features': max_features,\n",
        "              'criterion': criterion,\n",
        "              'random_state': random_state,\n",
        "              'class_weight': class_weight}\n",
        "\n",
        "# setup model building\n",
        "rf = GridSearchCV(RandomForestClassifier(), param_grid, n_jobs=-1, cv=5, verbose=1)\n",
        "rf.fit(X_train, y_train)\n",
        "print()\n",
        "print('Best params: %s' % rf.best_params_)\n",
        "print('Score: %.2f' % rf.best_score_)"
      ],
      "execution_count": 37,
      "outputs": [
        {
          "output_type": "stream",
          "text": [
            "Fitting 5 folds for each of 200 candidates, totalling 1000 fits\n"
          ],
          "name": "stdout"
        },
        {
          "output_type": "stream",
          "text": [
            "[Parallel(n_jobs=-1)]: Using backend LokyBackend with 2 concurrent workers.\n",
            "[Parallel(n_jobs=-1)]: Done  46 tasks      | elapsed:   23.7s\n",
            "[Parallel(n_jobs=-1)]: Done 196 tasks      | elapsed:  1.7min\n",
            "[Parallel(n_jobs=-1)]: Done 446 tasks      | elapsed:  3.9min\n"
          ],
          "name": "stderr"
        },
        {
          "output_type": "error",
          "ename": "KeyboardInterrupt",
          "evalue": "ignored",
          "traceback": [
            "\u001b[0;31m---------------------------------------------------------------------------\u001b[0m",
            "\u001b[0;31mKeyboardInterrupt\u001b[0m                         Traceback (most recent call last)",
            "\u001b[0;32m<ipython-input-37-bf450ab5bfd6>\u001b[0m in \u001b[0;36m<module>\u001b[0;34m()\u001b[0m\n\u001b[0;32m----> 1\u001b[0;31m \u001b[0mget_ipython\u001b[0m\u001b[0;34m(\u001b[0m\u001b[0;34m)\u001b[0m\u001b[0;34m.\u001b[0m\u001b[0mrun_cell_magic\u001b[0m\u001b[0;34m(\u001b[0m\u001b[0;34m'time'\u001b[0m\u001b[0;34m,\u001b[0m \u001b[0;34m''\u001b[0m\u001b[0;34m,\u001b[0m \u001b[0;34m\"# Number of trees in random forest\\nn_estimators = [100, 250, 500, 750, 1000]\\nmax_features = ['auto', 'sqrt']\\ncriterion = ['gini', 'entropy']\\nif balance_data == 'yes':\\n    class_weight = [None]\\nelse:\\n    class_weight = [None,'balanced',\\n                    {0:.9, 1:.1}, {0:.8, 1:.2}, {0:.7, 1:.3}, {0:.6, 1:.4},\\n                    {0:.4, 1:.6}, {0:.3, 1:.7}, {0:.2, 1:.8}, {0:.1, 1:.9}]\\nrandom_state = [33]\\n\\n# Create the random grid\\nparam_grid = {'n_estimators': n_estimators,\\n              'max_features': max_features,\\n              'criterion': criterion,\\n              'random_state': random_state,\\n              'class_weight': class_weight}\\n\\n# setup model building\\nrf = GridSearchCV(RandomForestClassifier(), param_grid, n_jobs=-1, cv=5, verbose=1)\\nrf.fit(X_train, y_train)\\nprint()\\nprint('Best params: %s' % rf.best_params_)\\nprint('Score: %.2f' % rf.best_score_)\"\u001b[0m\u001b[0;34m)\u001b[0m\u001b[0;34m\u001b[0m\u001b[0;34m\u001b[0m\u001b[0m\n\u001b[0m",
            "\u001b[0;32m/usr/local/lib/python3.6/dist-packages/IPython/core/interactiveshell.py\u001b[0m in \u001b[0;36mrun_cell_magic\u001b[0;34m(self, magic_name, line, cell)\u001b[0m\n\u001b[1;32m   2115\u001b[0m             \u001b[0mmagic_arg_s\u001b[0m \u001b[0;34m=\u001b[0m \u001b[0mself\u001b[0m\u001b[0;34m.\u001b[0m\u001b[0mvar_expand\u001b[0m\u001b[0;34m(\u001b[0m\u001b[0mline\u001b[0m\u001b[0;34m,\u001b[0m \u001b[0mstack_depth\u001b[0m\u001b[0;34m)\u001b[0m\u001b[0;34m\u001b[0m\u001b[0;34m\u001b[0m\u001b[0m\n\u001b[1;32m   2116\u001b[0m             \u001b[0;32mwith\u001b[0m \u001b[0mself\u001b[0m\u001b[0;34m.\u001b[0m\u001b[0mbuiltin_trap\u001b[0m\u001b[0;34m:\u001b[0m\u001b[0;34m\u001b[0m\u001b[0;34m\u001b[0m\u001b[0m\n\u001b[0;32m-> 2117\u001b[0;31m                 \u001b[0mresult\u001b[0m \u001b[0;34m=\u001b[0m \u001b[0mfn\u001b[0m\u001b[0;34m(\u001b[0m\u001b[0mmagic_arg_s\u001b[0m\u001b[0;34m,\u001b[0m \u001b[0mcell\u001b[0m\u001b[0;34m)\u001b[0m\u001b[0;34m\u001b[0m\u001b[0;34m\u001b[0m\u001b[0m\n\u001b[0m\u001b[1;32m   2118\u001b[0m             \u001b[0;32mreturn\u001b[0m \u001b[0mresult\u001b[0m\u001b[0;34m\u001b[0m\u001b[0;34m\u001b[0m\u001b[0m\n\u001b[1;32m   2119\u001b[0m \u001b[0;34m\u001b[0m\u001b[0m\n",
            "\u001b[0;32m<decorator-gen-60>\u001b[0m in \u001b[0;36mtime\u001b[0;34m(self, line, cell, local_ns)\u001b[0m\n",
            "\u001b[0;32m/usr/local/lib/python3.6/dist-packages/IPython/core/magic.py\u001b[0m in \u001b[0;36m<lambda>\u001b[0;34m(f, *a, **k)\u001b[0m\n\u001b[1;32m    186\u001b[0m     \u001b[0;31m# but it's overkill for just that one bit of state.\u001b[0m\u001b[0;34m\u001b[0m\u001b[0;34m\u001b[0m\u001b[0;34m\u001b[0m\u001b[0m\n\u001b[1;32m    187\u001b[0m     \u001b[0;32mdef\u001b[0m \u001b[0mmagic_deco\u001b[0m\u001b[0;34m(\u001b[0m\u001b[0marg\u001b[0m\u001b[0;34m)\u001b[0m\u001b[0;34m:\u001b[0m\u001b[0;34m\u001b[0m\u001b[0;34m\u001b[0m\u001b[0m\n\u001b[0;32m--> 188\u001b[0;31m         \u001b[0mcall\u001b[0m \u001b[0;34m=\u001b[0m \u001b[0;32mlambda\u001b[0m \u001b[0mf\u001b[0m\u001b[0;34m,\u001b[0m \u001b[0;34m*\u001b[0m\u001b[0ma\u001b[0m\u001b[0;34m,\u001b[0m \u001b[0;34m**\u001b[0m\u001b[0mk\u001b[0m\u001b[0;34m:\u001b[0m \u001b[0mf\u001b[0m\u001b[0;34m(\u001b[0m\u001b[0;34m*\u001b[0m\u001b[0ma\u001b[0m\u001b[0;34m,\u001b[0m \u001b[0;34m**\u001b[0m\u001b[0mk\u001b[0m\u001b[0;34m)\u001b[0m\u001b[0;34m\u001b[0m\u001b[0;34m\u001b[0m\u001b[0m\n\u001b[0m\u001b[1;32m    189\u001b[0m \u001b[0;34m\u001b[0m\u001b[0m\n\u001b[1;32m    190\u001b[0m         \u001b[0;32mif\u001b[0m \u001b[0mcallable\u001b[0m\u001b[0;34m(\u001b[0m\u001b[0marg\u001b[0m\u001b[0;34m)\u001b[0m\u001b[0;34m:\u001b[0m\u001b[0;34m\u001b[0m\u001b[0;34m\u001b[0m\u001b[0m\n",
            "\u001b[0;32m/usr/local/lib/python3.6/dist-packages/IPython/core/magics/execution.py\u001b[0m in \u001b[0;36mtime\u001b[0;34m(self, line, cell, local_ns)\u001b[0m\n\u001b[1;32m   1191\u001b[0m         \u001b[0;32melse\u001b[0m\u001b[0;34m:\u001b[0m\u001b[0;34m\u001b[0m\u001b[0;34m\u001b[0m\u001b[0m\n\u001b[1;32m   1192\u001b[0m             \u001b[0mst\u001b[0m \u001b[0;34m=\u001b[0m \u001b[0mclock2\u001b[0m\u001b[0;34m(\u001b[0m\u001b[0;34m)\u001b[0m\u001b[0;34m\u001b[0m\u001b[0;34m\u001b[0m\u001b[0m\n\u001b[0;32m-> 1193\u001b[0;31m             \u001b[0mexec\u001b[0m\u001b[0;34m(\u001b[0m\u001b[0mcode\u001b[0m\u001b[0;34m,\u001b[0m \u001b[0mglob\u001b[0m\u001b[0;34m,\u001b[0m \u001b[0mlocal_ns\u001b[0m\u001b[0;34m)\u001b[0m\u001b[0;34m\u001b[0m\u001b[0;34m\u001b[0m\u001b[0m\n\u001b[0m\u001b[1;32m   1194\u001b[0m             \u001b[0mend\u001b[0m \u001b[0;34m=\u001b[0m \u001b[0mclock2\u001b[0m\u001b[0;34m(\u001b[0m\u001b[0;34m)\u001b[0m\u001b[0;34m\u001b[0m\u001b[0;34m\u001b[0m\u001b[0m\n\u001b[1;32m   1195\u001b[0m             \u001b[0mout\u001b[0m \u001b[0;34m=\u001b[0m \u001b[0;32mNone\u001b[0m\u001b[0;34m\u001b[0m\u001b[0;34m\u001b[0m\u001b[0m\n",
            "\u001b[0;32m<timed exec>\u001b[0m in \u001b[0;36m<module>\u001b[0;34m()\u001b[0m\n",
            "\u001b[0;32m/usr/local/lib/python3.6/dist-packages/sklearn/model_selection/_search.py\u001b[0m in \u001b[0;36mfit\u001b[0;34m(self, X, y, groups, **fit_params)\u001b[0m\n\u001b[1;32m    708\u001b[0m                 \u001b[0;32mreturn\u001b[0m \u001b[0mresults\u001b[0m\u001b[0;34m\u001b[0m\u001b[0;34m\u001b[0m\u001b[0m\n\u001b[1;32m    709\u001b[0m \u001b[0;34m\u001b[0m\u001b[0m\n\u001b[0;32m--> 710\u001b[0;31m             \u001b[0mself\u001b[0m\u001b[0;34m.\u001b[0m\u001b[0m_run_search\u001b[0m\u001b[0;34m(\u001b[0m\u001b[0mevaluate_candidates\u001b[0m\u001b[0;34m)\u001b[0m\u001b[0;34m\u001b[0m\u001b[0;34m\u001b[0m\u001b[0m\n\u001b[0m\u001b[1;32m    711\u001b[0m \u001b[0;34m\u001b[0m\u001b[0m\n\u001b[1;32m    712\u001b[0m         \u001b[0;31m# For multi-metric evaluation, store the best_index_, best_params_ and\u001b[0m\u001b[0;34m\u001b[0m\u001b[0;34m\u001b[0m\u001b[0;34m\u001b[0m\u001b[0m\n",
            "\u001b[0;32m/usr/local/lib/python3.6/dist-packages/sklearn/model_selection/_search.py\u001b[0m in \u001b[0;36m_run_search\u001b[0;34m(self, evaluate_candidates)\u001b[0m\n\u001b[1;32m   1149\u001b[0m     \u001b[0;32mdef\u001b[0m \u001b[0m_run_search\u001b[0m\u001b[0;34m(\u001b[0m\u001b[0mself\u001b[0m\u001b[0;34m,\u001b[0m \u001b[0mevaluate_candidates\u001b[0m\u001b[0;34m)\u001b[0m\u001b[0;34m:\u001b[0m\u001b[0;34m\u001b[0m\u001b[0;34m\u001b[0m\u001b[0m\n\u001b[1;32m   1150\u001b[0m         \u001b[0;34m\"\"\"Search all candidates in param_grid\"\"\"\u001b[0m\u001b[0;34m\u001b[0m\u001b[0;34m\u001b[0m\u001b[0m\n\u001b[0;32m-> 1151\u001b[0;31m         \u001b[0mevaluate_candidates\u001b[0m\u001b[0;34m(\u001b[0m\u001b[0mParameterGrid\u001b[0m\u001b[0;34m(\u001b[0m\u001b[0mself\u001b[0m\u001b[0;34m.\u001b[0m\u001b[0mparam_grid\u001b[0m\u001b[0;34m)\u001b[0m\u001b[0;34m)\u001b[0m\u001b[0;34m\u001b[0m\u001b[0;34m\u001b[0m\u001b[0m\n\u001b[0m\u001b[1;32m   1152\u001b[0m \u001b[0;34m\u001b[0m\u001b[0m\n\u001b[1;32m   1153\u001b[0m \u001b[0;34m\u001b[0m\u001b[0m\n",
            "\u001b[0;32m/usr/local/lib/python3.6/dist-packages/sklearn/model_selection/_search.py\u001b[0m in \u001b[0;36mevaluate_candidates\u001b[0;34m(candidate_params)\u001b[0m\n\u001b[1;32m    687\u001b[0m                                \u001b[0;32mfor\u001b[0m \u001b[0mparameters\u001b[0m\u001b[0;34m,\u001b[0m \u001b[0;34m(\u001b[0m\u001b[0mtrain\u001b[0m\u001b[0;34m,\u001b[0m \u001b[0mtest\u001b[0m\u001b[0;34m)\u001b[0m\u001b[0;34m\u001b[0m\u001b[0;34m\u001b[0m\u001b[0m\n\u001b[1;32m    688\u001b[0m                                in product(candidate_params,\n\u001b[0;32m--> 689\u001b[0;31m                                           cv.split(X, y, groups)))\n\u001b[0m\u001b[1;32m    690\u001b[0m \u001b[0;34m\u001b[0m\u001b[0m\n\u001b[1;32m    691\u001b[0m                 \u001b[0;32mif\u001b[0m \u001b[0mlen\u001b[0m\u001b[0;34m(\u001b[0m\u001b[0mout\u001b[0m\u001b[0;34m)\u001b[0m \u001b[0;34m<\u001b[0m \u001b[0;36m1\u001b[0m\u001b[0;34m:\u001b[0m\u001b[0;34m\u001b[0m\u001b[0;34m\u001b[0m\u001b[0m\n",
            "\u001b[0;32m/usr/local/lib/python3.6/dist-packages/joblib/parallel.py\u001b[0m in \u001b[0;36m__call__\u001b[0;34m(self, iterable)\u001b[0m\n\u001b[1;32m   1015\u001b[0m \u001b[0;34m\u001b[0m\u001b[0m\n\u001b[1;32m   1016\u001b[0m             \u001b[0;32mwith\u001b[0m \u001b[0mself\u001b[0m\u001b[0;34m.\u001b[0m\u001b[0m_backend\u001b[0m\u001b[0;34m.\u001b[0m\u001b[0mretrieval_context\u001b[0m\u001b[0;34m(\u001b[0m\u001b[0;34m)\u001b[0m\u001b[0;34m:\u001b[0m\u001b[0;34m\u001b[0m\u001b[0;34m\u001b[0m\u001b[0m\n\u001b[0;32m-> 1017\u001b[0;31m                 \u001b[0mself\u001b[0m\u001b[0;34m.\u001b[0m\u001b[0mretrieve\u001b[0m\u001b[0;34m(\u001b[0m\u001b[0;34m)\u001b[0m\u001b[0;34m\u001b[0m\u001b[0;34m\u001b[0m\u001b[0m\n\u001b[0m\u001b[1;32m   1018\u001b[0m             \u001b[0;31m# Make sure that we get a last message telling us we are done\u001b[0m\u001b[0;34m\u001b[0m\u001b[0;34m\u001b[0m\u001b[0;34m\u001b[0m\u001b[0m\n\u001b[1;32m   1019\u001b[0m             \u001b[0melapsed_time\u001b[0m \u001b[0;34m=\u001b[0m \u001b[0mtime\u001b[0m\u001b[0;34m.\u001b[0m\u001b[0mtime\u001b[0m\u001b[0;34m(\u001b[0m\u001b[0;34m)\u001b[0m \u001b[0;34m-\u001b[0m \u001b[0mself\u001b[0m\u001b[0;34m.\u001b[0m\u001b[0m_start_time\u001b[0m\u001b[0;34m\u001b[0m\u001b[0;34m\u001b[0m\u001b[0m\n",
            "\u001b[0;32m/usr/local/lib/python3.6/dist-packages/joblib/parallel.py\u001b[0m in \u001b[0;36mretrieve\u001b[0;34m(self)\u001b[0m\n\u001b[1;32m    907\u001b[0m             \u001b[0;32mtry\u001b[0m\u001b[0;34m:\u001b[0m\u001b[0;34m\u001b[0m\u001b[0;34m\u001b[0m\u001b[0m\n\u001b[1;32m    908\u001b[0m                 \u001b[0;32mif\u001b[0m \u001b[0mgetattr\u001b[0m\u001b[0;34m(\u001b[0m\u001b[0mself\u001b[0m\u001b[0;34m.\u001b[0m\u001b[0m_backend\u001b[0m\u001b[0;34m,\u001b[0m \u001b[0;34m'supports_timeout'\u001b[0m\u001b[0;34m,\u001b[0m \u001b[0;32mFalse\u001b[0m\u001b[0;34m)\u001b[0m\u001b[0;34m:\u001b[0m\u001b[0;34m\u001b[0m\u001b[0;34m\u001b[0m\u001b[0m\n\u001b[0;32m--> 909\u001b[0;31m                     \u001b[0mself\u001b[0m\u001b[0;34m.\u001b[0m\u001b[0m_output\u001b[0m\u001b[0;34m.\u001b[0m\u001b[0mextend\u001b[0m\u001b[0;34m(\u001b[0m\u001b[0mjob\u001b[0m\u001b[0;34m.\u001b[0m\u001b[0mget\u001b[0m\u001b[0;34m(\u001b[0m\u001b[0mtimeout\u001b[0m\u001b[0;34m=\u001b[0m\u001b[0mself\u001b[0m\u001b[0;34m.\u001b[0m\u001b[0mtimeout\u001b[0m\u001b[0;34m)\u001b[0m\u001b[0;34m)\u001b[0m\u001b[0;34m\u001b[0m\u001b[0;34m\u001b[0m\u001b[0m\n\u001b[0m\u001b[1;32m    910\u001b[0m                 \u001b[0;32melse\u001b[0m\u001b[0;34m:\u001b[0m\u001b[0;34m\u001b[0m\u001b[0;34m\u001b[0m\u001b[0m\n\u001b[1;32m    911\u001b[0m                     \u001b[0mself\u001b[0m\u001b[0;34m.\u001b[0m\u001b[0m_output\u001b[0m\u001b[0;34m.\u001b[0m\u001b[0mextend\u001b[0m\u001b[0;34m(\u001b[0m\u001b[0mjob\u001b[0m\u001b[0;34m.\u001b[0m\u001b[0mget\u001b[0m\u001b[0;34m(\u001b[0m\u001b[0;34m)\u001b[0m\u001b[0;34m)\u001b[0m\u001b[0;34m\u001b[0m\u001b[0;34m\u001b[0m\u001b[0m\n",
            "\u001b[0;32m/usr/local/lib/python3.6/dist-packages/joblib/_parallel_backends.py\u001b[0m in \u001b[0;36mwrap_future_result\u001b[0;34m(future, timeout)\u001b[0m\n\u001b[1;32m    560\u001b[0m         AsyncResults.get from multiprocessing.\"\"\"\n\u001b[1;32m    561\u001b[0m         \u001b[0;32mtry\u001b[0m\u001b[0;34m:\u001b[0m\u001b[0;34m\u001b[0m\u001b[0;34m\u001b[0m\u001b[0m\n\u001b[0;32m--> 562\u001b[0;31m             \u001b[0;32mreturn\u001b[0m \u001b[0mfuture\u001b[0m\u001b[0;34m.\u001b[0m\u001b[0mresult\u001b[0m\u001b[0;34m(\u001b[0m\u001b[0mtimeout\u001b[0m\u001b[0;34m=\u001b[0m\u001b[0mtimeout\u001b[0m\u001b[0;34m)\u001b[0m\u001b[0;34m\u001b[0m\u001b[0;34m\u001b[0m\u001b[0m\n\u001b[0m\u001b[1;32m    563\u001b[0m         \u001b[0;32mexcept\u001b[0m \u001b[0mLokyTimeoutError\u001b[0m\u001b[0;34m:\u001b[0m\u001b[0;34m\u001b[0m\u001b[0;34m\u001b[0m\u001b[0m\n\u001b[1;32m    564\u001b[0m             \u001b[0;32mraise\u001b[0m \u001b[0mTimeoutError\u001b[0m\u001b[0;34m(\u001b[0m\u001b[0;34m)\u001b[0m\u001b[0;34m\u001b[0m\u001b[0;34m\u001b[0m\u001b[0m\n",
            "\u001b[0;32m/usr/lib/python3.6/concurrent/futures/_base.py\u001b[0m in \u001b[0;36mresult\u001b[0;34m(self, timeout)\u001b[0m\n\u001b[1;32m    425\u001b[0m                 \u001b[0;32mreturn\u001b[0m \u001b[0mself\u001b[0m\u001b[0;34m.\u001b[0m\u001b[0m__get_result\u001b[0m\u001b[0;34m(\u001b[0m\u001b[0;34m)\u001b[0m\u001b[0;34m\u001b[0m\u001b[0;34m\u001b[0m\u001b[0m\n\u001b[1;32m    426\u001b[0m \u001b[0;34m\u001b[0m\u001b[0m\n\u001b[0;32m--> 427\u001b[0;31m             \u001b[0mself\u001b[0m\u001b[0;34m.\u001b[0m\u001b[0m_condition\u001b[0m\u001b[0;34m.\u001b[0m\u001b[0mwait\u001b[0m\u001b[0;34m(\u001b[0m\u001b[0mtimeout\u001b[0m\u001b[0;34m)\u001b[0m\u001b[0;34m\u001b[0m\u001b[0;34m\u001b[0m\u001b[0m\n\u001b[0m\u001b[1;32m    428\u001b[0m \u001b[0;34m\u001b[0m\u001b[0m\n\u001b[1;32m    429\u001b[0m             \u001b[0;32mif\u001b[0m \u001b[0mself\u001b[0m\u001b[0;34m.\u001b[0m\u001b[0m_state\u001b[0m \u001b[0;32min\u001b[0m \u001b[0;34m[\u001b[0m\u001b[0mCANCELLED\u001b[0m\u001b[0;34m,\u001b[0m \u001b[0mCANCELLED_AND_NOTIFIED\u001b[0m\u001b[0;34m]\u001b[0m\u001b[0;34m:\u001b[0m\u001b[0;34m\u001b[0m\u001b[0;34m\u001b[0m\u001b[0m\n",
            "\u001b[0;32m/usr/lib/python3.6/threading.py\u001b[0m in \u001b[0;36mwait\u001b[0;34m(self, timeout)\u001b[0m\n\u001b[1;32m    293\u001b[0m         \u001b[0;32mtry\u001b[0m\u001b[0;34m:\u001b[0m    \u001b[0;31m# restore state no matter what (e.g., KeyboardInterrupt)\u001b[0m\u001b[0;34m\u001b[0m\u001b[0;34m\u001b[0m\u001b[0m\n\u001b[1;32m    294\u001b[0m             \u001b[0;32mif\u001b[0m \u001b[0mtimeout\u001b[0m \u001b[0;32mis\u001b[0m \u001b[0;32mNone\u001b[0m\u001b[0;34m:\u001b[0m\u001b[0;34m\u001b[0m\u001b[0;34m\u001b[0m\u001b[0m\n\u001b[0;32m--> 295\u001b[0;31m                 \u001b[0mwaiter\u001b[0m\u001b[0;34m.\u001b[0m\u001b[0macquire\u001b[0m\u001b[0;34m(\u001b[0m\u001b[0;34m)\u001b[0m\u001b[0;34m\u001b[0m\u001b[0;34m\u001b[0m\u001b[0m\n\u001b[0m\u001b[1;32m    296\u001b[0m                 \u001b[0mgotit\u001b[0m \u001b[0;34m=\u001b[0m \u001b[0;32mTrue\u001b[0m\u001b[0;34m\u001b[0m\u001b[0;34m\u001b[0m\u001b[0m\n\u001b[1;32m    297\u001b[0m             \u001b[0;32melse\u001b[0m\u001b[0;34m:\u001b[0m\u001b[0;34m\u001b[0m\u001b[0;34m\u001b[0m\u001b[0m\n",
            "\u001b[0;31mKeyboardInterrupt\u001b[0m: "
          ]
        }
      ]
    },
    {
      "cell_type": "code",
      "metadata": {
        "id": "fEyXbFJPxvG2",
        "colab_type": "code",
        "colab": {
          "base_uri": "https://localhost:8080/",
          "height": 17
        },
        "outputId": "af570e93-5d72-48ee-e1b1-ce9ea0c4e112"
      },
      "source": [
        "import numpy as np\n",
        "import pandas as pd\n",
        "import seaborn as sns\n",
        "import matplotlib.pyplot as plt\n",
        "import csv\n",
        "import _pickle as cPickle\n",
        "import gzip\n",
        "\n",
        "#from BalanceBySim import *\n",
        "from stats import *\n",
        "\n",
        "from collections import Counter\n",
        "\n",
        "from rdkit import rdBase\n",
        "from rdkit import Chem\n",
        "from rdkit.Chem import AllChem\n",
        "from rdkit.Chem import Draw\n",
        "from rdkit.Chem import PandasTools\n",
        "from rdkit.Chem.Draw import IPythonConsole\n",
        "\n",
        "from sklearn import metrics\n",
        "from sklearn.ensemble import RandomForestClassifier\n",
        "from sklearn.model_selection import train_test_split, cross_validate, GridSearchCV\n",
        "from sklearn.model_selection import permutation_test_score, StratifiedKFold\n",
        "\n",
        "def warn(*args, **kwargs):\n",
        "    pass\n",
        "import warnings\n",
        "warnings.filterwarnings(\"ignore\")\n",
        "warnings.warn = warn\n",
        "\n",
        "from IPython.core.interactiveshell import InteractiveShell\n",
        "InteractiveShell.ast_node_interactivity = \"all\"\n",
        "%matplotlib inline\n",
        "%reload_ext autoreload\n",
        "%autoreload 2\n",
        "Draw.DrawingOptions.atomLabelFontFace = \"DejaVu Sans\"\n",
        "Draw.DrawingOptions.atomLabelFontSize = 18\n",
        "\n",
        "from IPython.core.display import display, HTML\n",
        "display(HTML(\"<style>.container { width:90% !important; }</style>\"))"
      ],
      "execution_count": 38,
      "outputs": [
        {
          "output_type": "display_data",
          "data": {
            "text/html": [
              "<style>.container { width:90% !important; }</style>"
            ],
            "text/plain": [
              "<IPython.core.display.HTML object>"
            ]
          },
          "metadata": {
            "tags": []
          }
        }
      ]
    },
    {
      "cell_type": "code",
      "metadata": {
        "id": "_M8kiMa_ypsO",
        "colab_type": "code",
        "colab": {}
      },
      "source": [
        "\n",
        "# Set file path and format\n",
        "file = 'datasets/curated_data/clinical_trials.sdf.gz'\n",
        "\n",
        "# Read SDF\n",
        "moldf = PandasTools.LoadSDF(file);\n",
        "# Rename ROMol\n",
        "moldf = moldf.rename(columns={'ROMol': 'Mol'})\n",
        "# Remove missing RDKit molecules\n",
        "moldf = moldf[pd.notnull(moldf['Mol'])]\n",
        "if 'StandardizerResult' in moldf.columns:\n",
        "    moldf = moldf.drop(columns='StandardizerResult')"
      ],
      "execution_count": 0,
      "outputs": []
    },
    {
      "cell_type": "code",
      "metadata": {
        "id": "EP_JUY8ry053",
        "colab_type": "code",
        "colab": {
          "base_uri": "https://localhost:8080/",
          "height": 334
        },
        "outputId": "a30c8489-90f4-4618-f3f1-66b5d309ab51"
      },
      "source": [
        "# Columns\n",
        "print('Kept data: ', moldf.shape)\n",
        "moldf.head(1)\n",
        "from molvs.validate import Validator\n",
        "fmt = '%(asctime)s - %(levelname)s - %(validation)s - %(message)s'\n",
        "validator = Validator(log_format=fmt)\n",
        "print('\\n Problematic structures: \\n', validator.validate(moldf))"
      ],
      "execution_count": 42,
      "outputs": [
        {
          "output_type": "stream",
          "text": [
            "Kept data:  (23, 4)\n"
          ],
          "name": "stdout"
        },
        {
          "output_type": "execute_result",
          "data": {
            "text/html": [
              "<div>\n",
              "<style scoped>\n",
              "    .dataframe tbody tr th:only-of-type {\n",
              "        vertical-align: middle;\n",
              "    }\n",
              "\n",
              "    .dataframe tbody tr th {\n",
              "        vertical-align: top;\n",
              "    }\n",
              "\n",
              "    .dataframe thead th {\n",
              "        text-align: right;\n",
              "    }\n",
              "</style>\n",
              "<table border=\"1\" class=\"dataframe\">\n",
              "  <thead>\n",
              "    <tr style=\"text-align: right;\">\n",
              "      <th></th>\n",
              "      <th>Compound_name</th>\n",
              "      <th>InChIKey</th>\n",
              "      <th>ID</th>\n",
              "      <th>Mol</th>\n",
              "    </tr>\n",
              "  </thead>\n",
              "  <tbody>\n",
              "    <tr>\n",
              "      <th>0</th>\n",
              "      <td>Sildenafil</td>\n",
              "      <td>BNRNXUUZRGQAQC-UHFFFAOYSA-N</td>\n",
              "      <td></td>\n",
              "      <td><img data-content=\"rdkit/molecule\" src=\"data:image/png;base64,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\" alt=\"Mol\"/></td>\n",
              "    </tr>\n",
              "  </tbody>\n",
              "</table>\n",
              "</div>"
            ],
            "text/plain": [
              "  Compound_name  ...                                                Mol\n",
              "0    Sildenafil  ...  <img data-content=\"rdkit/molecule\" src=\"data:i...\n",
              "\n",
              "[1 rows x 4 columns]"
            ]
          },
          "metadata": {
            "tags": []
          },
          "execution_count": 42
        },
        {
          "output_type": "stream",
          "text": [
            "\n",
            " Problematic structures: \n",
            " []\n"
          ],
          "name": "stdout"
        }
      ]
    },
    {
      "cell_type": "code",
      "metadata": {
        "id": "dhV1CXW_y4m6",
        "colab_type": "code",
        "colab": {
          "base_uri": "https://localhost:8080/",
          "height": 212
        },
        "outputId": "6703fcee-1072-4285-a7ec-a96457a0726a"
      },
      "source": [
        "!pip install molvs"
      ],
      "execution_count": 41,
      "outputs": [
        {
          "output_type": "stream",
          "text": [
            "Collecting molvs\n",
            "  Downloading MolVS-0.1.1.tar.gz (61 kB)\n",
            "\u001b[?25l\r\u001b[K     |█████▎                          | 10 kB 28.1 MB/s eta 0:00:01\r\u001b[K     |██████████▋                     | 20 kB 33.7 MB/s eta 0:00:01\r\u001b[K     |███████████████▉                | 30 kB 37.4 MB/s eta 0:00:01\r\u001b[K     |█████████████████████▏          | 40 kB 39.8 MB/s eta 0:00:01\r\u001b[K     |██████████████████████████▌     | 51 kB 34.5 MB/s eta 0:00:01\r\u001b[K     |███████████████████████████████▊| 61 kB 20.2 MB/s eta 0:00:01\r\u001b[K     |████████████████████████████████| 61 kB 602 kB/s \n",
            "\u001b[?25hRequirement already satisfied: six in /usr/local/lib/python3.7/site-packages (from molvs) (1.14.0)\n",
            "Building wheels for collected packages: molvs\n",
            "  Building wheel for molvs (setup.py) ... \u001b[?25l\u001b[?25hdone\n",
            "  Created wheel for molvs: filename=MolVS-0.1.1-py3-none-any.whl size=32376 sha256=af191e7367d73e138d9f23c6eb5a70dc36af182b3f4065755e7d290b1141c380\n",
            "  Stored in directory: /root/.cache/pip/wheels/c4/c2/92/e85190307603c2b3733d43e357abae2d1c66b609bfbba6200d\n",
            "Successfully built molvs\n",
            "Installing collected packages: molvs\n",
            "Successfully installed molvs-0.1.1\n"
          ],
          "name": "stdout"
        }
      ]
    },
    {
      "cell_type": "code",
      "metadata": {
        "id": "0-JmizQLy9WD",
        "colab_type": "code",
        "colab": {
          "base_uri": "https://localhost:8080/",
          "height": 35
        },
        "outputId": "24d5e34a-5d20-4b54-a568-5683d91f9e13"
      },
      "source": [
        "def calcfp(mol,funcFPInfo=dict(radius=3, nBits=2048, useFeatures=False, useChirality=False)):\n",
        "    fp = AllChem.GetMorganFingerprintAsBitVect(mol, **funcFPInfo)\n",
        "    fp = pd.Series(np.asarray(fp))\n",
        "    fp = fp.add_prefix('Bit_')\n",
        "    return fp\n",
        "\n",
        "X_vs = moldf.Mol.apply(calcfp)\n",
        "X_vs.shape"
      ],
      "execution_count": 43,
      "outputs": [
        {
          "output_type": "execute_result",
          "data": {
            "text/plain": [
              "(23, 2048)"
            ]
          },
          "metadata": {
            "tags": []
          },
          "execution_count": 43
        }
      ]
    },
    {
      "cell_type": "code",
      "metadata": {
        "id": "6ZIV-aZGzFHh",
        "colab_type": "code",
        "colab": {}
      },
      "source": [
        "with gzip.open('model/sars-cov-3clpro-morgan_RF_ad_balanced.pgz', 'rb') as f:\n",
        "    model = cPickle.load(f)"
      ],
      "execution_count": 0,
      "outputs": []
    },
    {
      "cell_type": "code",
      "metadata": {
        "id": "k9SOP3CDzH_4",
        "colab_type": "code",
        "colab": {
          "base_uri": "https://localhost:8080/",
          "height": 52
        },
        "outputId": "ebb70e12-0c95-4b2c-f6f5-a53a2b000fbe"
      },
      "source": [
        "\n",
        "%%time\n",
        "ad_threshold = 0.70\n",
        "\n",
        "y_pred = model.predict(X_vs)\n",
        "confidence = model.predict_proba(X_vs)\n",
        "confidence = np.amax(confidence, axis=1).round(2)\n",
        "ad = confidence >= ad_threshold"
      ],
      "execution_count": 45,
      "outputs": [
        {
          "output_type": "stream",
          "text": [
            "CPU times: user 253 ms, sys: 62.4 ms, total: 315 ms\n",
            "Wall time: 407 ms\n"
          ],
          "name": "stdout"
        }
      ]
    },
    {
      "cell_type": "code",
      "metadata": {
        "id": "tL0aDnvXzKQ6",
        "colab_type": "code",
        "colab": {}
      },
      "source": [
        "pred = pd.DataFrame({'Prediction': y_pred, 'AD': ad, 'Confidence': confidence}, index=None)\n",
        "pred.AD[pred.AD == False] = np.nan\n",
        "pred.AD[pred.AD == True] = pred.Prediction.astype(int)"
      ],
      "execution_count": 0,
      "outputs": []
    },
    {
      "cell_type": "code",
      "metadata": {
        "id": "7VIOlw2AzM7b",
        "colab_type": "code",
        "colab": {
          "base_uri": "https://localhost:8080/",
          "height": 70
        },
        "outputId": "287afebb-d144-419f-d5e2-226ff31ceabe"
      },
      "source": [
        "pred_ad = pred.dropna().astype(int)\n",
        "coverage_ad = len(pred_ad) * 100 / len(pred)\n",
        "\n",
        "print('VS pred: %s' % Counter(pred.Prediction))\n",
        "print('VS pred AD: %s' % Counter(pred_ad.Prediction))\n",
        "print('Coverage of AD: %.2f%%' % coverage_ad)"
      ],
      "execution_count": 47,
      "outputs": [
        {
          "output_type": "stream",
          "text": [
            "VS pred: Counter({0: 23})\n",
            "VS pred AD: Counter({0: 8})\n",
            "Coverage of AD: 34.78%\n"
          ],
          "name": "stdout"
        }
      ]
    },
    {
      "cell_type": "code",
      "metadata": {
        "id": "oEi-kl31zPuT",
        "colab_type": "code",
        "colab": {
          "base_uri": "https://localhost:8080/",
          "height": 1000
        },
        "outputId": "c8e0426f-5198-4e2d-b570-34341af16f43"
      },
      "source": [
        "predictions = pd.concat([moldf, pred], axis=1)\n",
        "for col in ['Prediction', 'AD']:\n",
        "    predictions[col].replace(0,'Inactive',inplace=True)\n",
        "    predictions[col].replace(1,'Active',inplace=True)\n",
        "predictions"
      ],
      "execution_count": 48,
      "outputs": [
        {
          "output_type": "execute_result",
          "data": {
            "text/html": [
              "<div>\n",
              "<style scoped>\n",
              "    .dataframe tbody tr th:only-of-type {\n",
              "        vertical-align: middle;\n",
              "    }\n",
              "\n",
              "    .dataframe tbody tr th {\n",
              "        vertical-align: top;\n",
              "    }\n",
              "\n",
              "    .dataframe thead th {\n",
              "        text-align: right;\n",
              "    }\n",
              "</style>\n",
              "<table border=\"1\" class=\"dataframe\">\n",
              "  <thead>\n",
              "    <tr style=\"text-align: right;\">\n",
              "      <th></th>\n",
              "      <th>Compound_name</th>\n",
              "      <th>InChIKey</th>\n",
              "      <th>ID</th>\n",
              "      <th>Mol</th>\n",
              "      <th>Prediction</th>\n",
              "      <th>AD</th>\n",
              "      <th>Confidence</th>\n",
              "    </tr>\n",
              "  </thead>\n",
              "  <tbody>\n",
              "    <tr>\n",
              "      <th>0</th>\n",
              "      <td>Sildenafil</td>\n",
              "      <td>BNRNXUUZRGQAQC-UHFFFAOYSA-N</td>\n",
              "      <td></td>\n",
              "      <td><img data-content=\"rdkit/molecule\" src=\"data:image/png;base64,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\" alt=\"Mol\"/></td>\n",
              "      <td>Inactive</td>\n",
              "      <td>NaN</td>\n",
              "      <td>0.65</td>\n",
              "    </tr>\n",
              "    <tr>\n",
              "      <th>1</th>\n",
              "      <td>Darunavir</td>\n",
              "      <td>CJBJHOAVZSMMDJ-UHFFFAOYNA-N</td>\n",
              "      <td></td>\n",
              "      <td><img data-content=\"rdkit/molecule\" src=\"data:image/png;base64,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\" alt=\"Mol\"/></td>\n",
              "      <td>Inactive</td>\n",
              "      <td>NaN</td>\n",
              "      <td>0.61</td>\n",
              "    </tr>\n",
              "    <tr>\n",
              "      <th>2</th>\n",
              "      <td>Ribavirin</td>\n",
              "      <td>IWUCXVSUMQZMFG-UHFFFAOYNA-N</td>\n",
              "      <td></td>\n",
              "      <td><img data-content=\"rdkit/molecule\" src=\"data:image/png;base64,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\" alt=\"Mol\"/></td>\n",
              "      <td>Inactive</td>\n",
              "      <td>Inactive</td>\n",
              "      <td>0.79</td>\n",
              "    </tr>\n",
              "    <tr>\n",
              "      <th>3</th>\n",
              "      <td>Arbidol</td>\n",
              "      <td>KCFYEAOKVJSACF-UHFFFAOYSA-N</td>\n",
              "      <td></td>\n",
              "      <td><img data-content=\"rdkit/molecule\" src=\"data:image/png;base64,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\" alt=\"Mol\"/></td>\n",
              "      <td>Inactive</td>\n",
              "      <td>NaN</td>\n",
              "      <td>0.64</td>\n",
              "    </tr>\n",
              "    <tr>\n",
              "      <th>4</th>\n",
              "      <td>Lopinavir</td>\n",
              "      <td>KJHKTHWMRKYKJE-UHFFFAOYNA-N</td>\n",
              "      <td></td>\n",
              "      <td><img data-content=\"rdkit/molecule\" src=\"data:image/png;base64,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\" alt=\"Mol\"/></td>\n",
              "      <td>Inactive</td>\n",
              "      <td>NaN</td>\n",
              "      <td>0.54</td>\n",
              "    </tr>\n",
              "    <tr>\n",
              "      <th>5</th>\n",
              "      <td>Fingolimod</td>\n",
              "      <td>KKGQTZUTZRNORY-UHFFFAOYSA-N</td>\n",
              "      <td></td>\n",
              "      <td><img data-content=\"rdkit/molecule\" src=\"data:image/png;base64,iVBORw0KGgoAAAANSUhEUgAAAMgAAADICAIAAAAiOjnJAAAABmJLR0QA/wD/AP+gvaeTAAANQ0lEQVR4nO3dbUxTZx/H8T8toiBVQBmK7EGZiqjIxlwGOM1wokSWuTtTQ6ZhyxYmi7LEKZWEhMWBYZnJmnvecW6ZGeiWhfhm3YMMYURk6hBxGASqzikgPiDyYFtklV73i2ueMaClrfzFHX+fV0rbqwf65Vzt6XWKlxCCAEaaZrQ3ANQJYQELhAUsEBawQFjAAmEBC4QFLBAWsEBYwAJhAQuEBSwQFrBAWMACYQELhAUsEBawQFjAAmEBC4QFLBAWsEBYwAJhAQuEBSwQFrBAWMACYQELhAUsEBawQFjAAmEBC4QFLBAWsEBYwAJhAQuEBSwQFrBAWMACYQELhAUsEBawQFjAAmEBC4QFLBAWsEBYwAJhAQuEBSwQFrBAWMACYQELhAUsEBawQFjAAmEBC4QFLBAWsEBYwAJhAQuEBSwQFrBAWMACYQELhAUsEBawQFjAAmEBC4QFLBAWsEBYwAJhAQuEBSy8Pb7lH3/8cfv27ebm5sTERI8H6ezsbGxsNJvNS5YsGTNmjGeD2Gy2iooKX1/fuXPnTpw40eON+emnn8LCwnQ63WOPPebxIMePHw8ODu7o6HjmmWc8HkQNhPssFktOTs64cePCw8OJ6IUXXqitrXV3kL6+voKCgkceeSQoKEir1c6aNev777/3YGMOHTo0d+5crVYbEBAwadIkg8Fw584ddwepr69fvnw5EYWHh/v6+ur1+u7ubncHuXz5clpamkajiYqK8vLyWr16dVNTk7uDqIZ7Ydnt9sLCwtDQUCLy8vKKj48PCgoiIq1Wm56efuPGDRfHKS8vX7BggSz7qaeeeuKJJ+S/k5OTTSaTi4M0NDQkJSXJG86YMUMZ8Omnn66oqHBxkOvXr6elpWm1WiKaPHlyXFycl5cXEYWFhX311Vd2u92VQaxWa25u7vjx44lo3Lhxzz///NixY4lIp9Pl5+ffvn3bxY1REzfCOnHiRHx8vHzwYmJiKisrhRA3b97U6/U+Pj5EFBAQkJ+f39vb62SQpqam9evXKw9eQUGB3W7/888/DQaDnMXGjBmTkZHR2dnpZJCOjg69Xi8fPHmn8sEzGo39G71w4YKTQeSdBgQEyDtNS0tra2sTQlRVVcXGxspBFi5cePToUec/FqPROH36dOVOf//9dyHE+fPnV69eLb/46KOPFhQUOB9EfVwKS9nJE9HUqVP37NnT19fX/wqNjY0rV66UP0dHk5oygRKRn59fTk6O1Wrtf4UbN25kZGTInYejSU2ZQIlIo9GsX7/+6tWr/a9gtVrz8/N1Oh0ROZnU5AQqN/jFF1+sq6vrf6ndbi8oKJgyZYrcMTua1JQJlIjmzJlTXFxcWlqakJCg/FaUlZVFRUXJK3j2hOHfa5iwent7DQbDhAkTiMjHxycjI6Orq8vRlQ8dOhQZGak8WmfOnJFft9vtRUVF8hmxfJwuXrzoaJCamprFixcrs+Thw4eVi/pPoEuWLPntt98cDdLS0qLsF6dNmyb3i/Iik8mUnJwsB5k5c+Z3333naBCz2az8JowfPz4nJ6enp0de1N7ervwOBAUFGQwGk8m0atUqOez27duVQeRvQnBwsPKbcO3aNUf3qCbOwjIajTNmzBiwk3du8KRWXl4+eAId1oD55Zdffhk8gQ47yIBJraSkZMgJ1LkBk9revXv37NkzefJkZQK9dOmSo/4U/Z8wBAYGDvuEQQUchlVTUyMfyKioqJ9//tmtQa9evfrmm2/KqVP+NENDQ12sQWGxWN5//30/Pz8i8vf3lw9bbm7u4IfNib6+vi+++EJOajIprVablpZ2/fp1t74jZeqUPxMiSkpKqq+vd2XGVNTV1S1btkzeXPXPupztsdLT03fv3u3Bq3fp5MmTSUlJ27dvz8rKunXrlmeDNDU1paSkfPzxx+vWrWtpafFskK6urszMzLy8vKSkpFOnTnk2iM1my83NHTt2rE6n++GHH86dO6ccqYqNja2qqnJxnG+//dbf3z8gIEC+VlArT45jPbSamprkXCyE6O7unjp1qgd7YiGEfMql7idbnh95f8jpdDqj0Thnzhx5+MoV8fHxJpPp6NGjrBv2gEBYnnP3TZuOjo729vY7d+4wbc8DBW9CAwuEBSwQ1kNk/36Shzt27qTKStq/nz79lIho2zaqrBzh+0JYD5e2NjKZ7scdIayHS2oqffbZ3//95BNasYKKikb+jhDWw2X6dLpyhazWv/67aRMVF9OaNSN/RwjroZOSQgcOsN8LwvLcO++8I1cQuXj9zMzMjz76KCQkhHWrHGlqIrmlK1dSVxf//Y32of9/E/mWTkhIiN1uP3nypPwBLliwoLy83PVB7HZ7YGAgEXn81qdUU1Nz8eLFmzdvunJlm01ERop584STtY9lZWLHDvHuu8JiuZft+gvCckN3d/eWLVu0Wu2zzz577NgxD5YVVVdXL1q0SKvVTpgwITw8vKioyIPNaG5ulouIoqOj5Wowm83m/CYGgyAS4eHCyUIhs1kIIfR60dHhwUYNhLDcU1xcrKxffeutt5qbmw0Gg1yw6nwhZGtr6+uvvy6XEgUHBysnAiUmJiorIodlNpuzs7N9fX2JyM/PLyIiQg4yf/78srIyR7dqbxeTJgkiYTQOM/7OncLNFVIOISy3yZWlcnWXXNl34cIFZR1iaGio8Z8PoFz8KFfhysWPXV1dNptNWTDo7e097BIxuQr38ccfp3+uwjUajfJcKbnXPH/+/ODbZmXdIBLLlg3zfe3aJTZuFJ9/LtxcqzY0hOWhs2fPKitLn3zyyaKiohMnTsTFxRHRwYMHlas5f+DlEmdvb2+6u8R5yElNTqBykJiYmCNHjvS/dMhwlUtPnz7t7e29aNF/6+rcW9tzjxDWPSktLZ03b558yJcuXVpbW1tSUiIvamhoWLFihbwoIiLixx9/dDSIk2u2trYOOI3F0bpLR9eUpxNnZGSM6Pc9PIR1rwZPaiaTSdkPBQYGuvLkWgzatzU2NjrZDzlSXV3d/wyD3NxcuS90/ZTPgaxW8eqrYtkykZYmhBD79ondu4UQQq8X/9xxDoCwRkZbW1t6ero8b0eu0Pf29t60aVN7e7vrg/T09OzYsUPeXJ6dQUSrVq0a8pmTI3a7fd++fdOmTVOOKOXm5rr/Dd21d6/48EMhhNiwQVRUIKzRUVtbm5CQkJ2d7dZrvQEuX76cmpq6efPmmJiY0tJSzwYxm80JCQkydD8/P71e7/ZpB2azsFjEe+8JeVp5YaHYtUvs2yciI8Xy5WL6dOdheQkhXD+aCv8W165dmzVrVnd399KlS+VJVmFhYXl5ecqrV2eEoAMHaOtWWreOenvppZdo8WIqLCSLhXQ6Mptpwwbato2Sk+nuS4rB8JaOOslTwF955ZXS0tLy8vLo6OiWlpbU1NTY2Nhff/3V2S1PnKBFi2jNGrp0iQ4fpnnz6NgxIqLjxyk62o0t8GxPCw+y6upqjUbj4+Nz9uxZ+RV5QrZ8m3LIjyYQQrS2th7ctk1oNIJITJki9u4VfX2ip0esXStWrBAbNwqBJ+8PMbvdLg96ZWVlDbio/4ep+Pv75+TkyHPBlSNh3hrNragokZEhXHgF6hzCUpvCwkIiCgkJcXR4ov+h3ZkzZ27dulU5zPHyyy9fcOcVqBMIS1UsFot8F/LLL790fk3lQwPk/Dh79mwnh3A9gFeFqpKdnZ2XlxcTE1NVVSWPwjths9l27doVGRl57ty5DRs2yCO6IwVhqUdzc3NERERPT09FRcUixwcC7g8cblCPzZs3W63W1157bdSrIuyxVKOysnLx4sW+vr4NDQ338qnPIwWf3aASHR0dEydOTElJeRCqIkyFqlFfX9/Z2Sk/5nS0t4UIU6Fq3Lp1a/bs2VeuXPn6669TUlJGe3Owx1ILnU73wQcfEFFmZqbFYhntzUFYKvLGG2/ExMT8Z9Kk3v/9b7S3BVOhunQePx4QF0e+vtTQQKP6LB57LFUJeO45WruWrFbS60d3S7DHUp2WFoqIIIuFDh+mu3+K4f7DHkt1wsJoyxYKC/v7M2VGA/ZYatTTQ3Y7ufxxzhywx1IjX1/SaGj1akpMpLffJiLej4UcCsJSqW++oYULqaSENBo6cuT+3z/CUqkzZ0j+gaq4ODp9mojzYyGHgrBUysuL5LNnIUiu+OP7WMihICyVmj/fw9O2RgjCUqk1a+jUKUpKIq2W7v7RxvsJhxuABfZYwAJhAQuEBSwQFrBAWMACYQELhAUsEBawQFjAAmEBC4QFLBAWsEBYwAJhAQuEBSwQFrBAWMACYQELhAUsEBawQFjAAmEBC4QFLBAWsEBYwAJhAQuEBSwQFrBAWMACYQELhAUsEBawQFjAAmEBC4QFLBAWsEBYwAJhAQuEBSwQFrBAWMACYQELhAUsEBawQFjAAmEBC4QFLBAWsEBYwAJhAQuEBSwQFrBAWMACYQELhAUsEBawQFjAAmEBC4QFLBAWsEBYwAJhAQuEBSwQFrBAWMACYQELhAUsEBawQFjAAmEBC4QFLBAWsPg/Kziw7XKL/FEAAAAASUVORK5CYII=\" alt=\"Mol\"/></td>\n",
              "      <td>Inactive</td>\n",
              "      <td>Inactive</td>\n",
              "      <td>0.75</td>\n",
              "    </tr>\n",
              "    <tr>\n",
              "      <th>6</th>\n",
              "      <td>Thymosin</td>\n",
              "      <td>LCJVIYPJPCBWKS-UHFFFAOYNA-N</td>\n",
              "      <td></td>\n",
              "      <td><img data-content=\"rdkit/molecule\" src=\"data:image/png;base64,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\" alt=\"Mol\"/></td>\n",
              "      <td>Inactive</td>\n",
              "      <td>NaN</td>\n",
              "      <td>0.68</td>\n",
              "    </tr>\n",
              "    <tr>\n",
              "      <th>7</th>\n",
              "      <td>Nitric Oxide</td>\n",
              "      <td>MWUXSHHQAYIFBG-UHFFFAOYSA-N</td>\n",
              "      <td></td>\n",
              "      <td><img data-content=\"rdkit/molecule\" src=\"data:image/png;base64,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\" alt=\"Mol\"/></td>\n",
              "      <td>Inactive</td>\n",
              "      <td>Inactive</td>\n",
              "      <td>0.90</td>\n",
              "    </tr>\n",
              "    <tr>\n",
              "      <th>8</th>\n",
              "      <td>Ritonavir</td>\n",
              "      <td>NCDNCNXCDXHOMX-UHFFFAOYNA-N</td>\n",
              "      <td></td>\n",
              "      <td><img data-content=\"rdkit/molecule\" src=\"data:image/png;base64,iVBORw0KGgoAAAANSUhEUgAAAMgAAADICAIAAAAiOjnJAAAABmJLR0QA/wD/AP+gvaeTAAAc8klEQVR4nO2daVhT19bHVwYggEEEQSUEBQEHHEAmUaFOrUqt5dYyOUD1CnoBsbZaeKytbW8VxAlBnMVaqla8Pt5qqVavQx9AUFBUlEFFDASIzGFKGJL9fjiaUpVMshPou3+fIln77MXjn33OWXvttWgIISAQehu6th0g/D0hwiJggQiLgAUiLAIWiLAIWCDCImCBCIuABSIsAhaIsAhYIMIiYIEIi4AFIiwCFoiwCFggwiJggQiLgAUiLAIWiLAIWCDCImCBCIuABSIsAhaIsAhYIMIiYIEIi4AFIiwCFoiwCFggwiJggQiLgAUiLAIWiLAIWCDCImCBCIuABSIsAhaIsAhYIMIiYIEIi4AFIiwCFoiwCFggwiJggQiLgAUiLAIWiLAIWCDCImCBCIuABSIsAhaIsAhYIMIiYIEIi4AFIqx+D4/He/r0aXx8fFNTk7Z9+RMaaYTZr6mpqfHw8BCLxRUVFWw2OzAwcM2aNWPHjtW2X0RY/RmRSDRr1qysrCw7OzsLC4s//vgDAJhMpp9f2SefDJs9G2g0rflGhNVfQUgSHByYknLaxsYmMzNz06ZNkyZNysnJKSpqysxMBQA7OwgPhxUrwNBQO/4R+iVlZRG5uWMnT7YvKiq6cOEC9b85ZsyYhITKTZsQh4MAEABauhRt2oQQQitXatQ9pjbETHhbBILY6uo9dLr+pUv/Y7NHmZqabtmyZe/evZ2d9DVrhhobw/Ll4OAA58/DuHGQlwcdHZr2kNwK+x/19SdKS5cA0EaOPG1s/JHs511dXWlp5XFx1jdugJkZlJUBiwXbt4OVFXR0QEYG7N+vOSdJuKH/wWLZ6+iYc7k7u6sKAJhM5ocfWmdmQk4O7NsHLNaLn7u5wc2bwGBo1ElyK+w3tLXl1tTsp9GYbPaMsWMLmEyTnixdXMDF5cXnjg64dw/s7ODuXQ35SUGE1W9obv7DxGQJmz1dLC6Wo6pXmDEDpkx5sWhpEnVuhe3t7bdv337w4EGve0OQg5nZyubmq8+eBXd08JQfJRAAAAwdisurnlBnxeLz+S4uLiNHjnzy5EmvO0Toiba2uxYW3wFInz71NzJ6T8lR/UlYdDodAKRSaW87Q5CHRNLw7NlyBmOAoeHU2tqDgweHKjOqpkYKQB8yBLd3r6KOsBgMBgBIJJLedoYgj4EDPxg48AMA6cOH48TiQiZzqLHxAoWjKivDDAzOcLl7APw14KQMdZ6xiLC0Ct3MLAwA+Py1Uqn49a+rqqrOnj27fv36TZs2Uf9sa6s1M9PTsJfq3wqJsLSFmdm/amsPi0T3Kiriudzorq6uu3fvZmVlZWdn37hx49mzZ5QZh8P59ttvq6qqAGCoxh+y1L8VkmcsbUGjMbjchF9/3fTBB9uysxcBgKurq+xbIyMjd3d3d3d3c3PzxMTEwsJC6F/CIiuWFmGzvX791aKq6vrnn39++vTpd955x9ra2tHR0cDAgM/n37lzZ8+ePY2NjZRxcnKyhYWFhj1UZ6+wsbFx0KBBxsbGDQ0NOHwiKINAIBg1alRTU1NERIRQKMzKynol+mNvbz958mQPDw9/f/9BgwZp2D11hNXU1DRw4EAjIyOhUIjDJ4KSREdHJyUltbS0UP80NDR0dHR0dnaeNm3a9OnTzczMtOgbuRX2Y1pbW1taWkaNGhUZGTllypRx48YxmX1mj06NHC7qRUNHR6e+vl7Vsdu2aSfv7O8Hdd8AgLt372rblzegWhwLIfTjjz9OnDiRyWRKpVJbW9utW7e2t7erdJHiYi3knf39SE5OFgqF06dPnzhxorZ9eRPKa/DGjRvOzs7UKOqpkPo8atSoc+fOKRxeWIhCQtD69ejUKZSSQlast0IqlY4aNQoAzp49q21f3oxSwqqtrY2MjKTiohwO59ixY9TPL1++7ODgQMlr5syZeXl5bxyem4uWLkUMBgJAbm6otBRFRKCwMNTejqqqeu03+X/F+fPnAWD48OFdXV3a9uXNKBBWZ2dnfHw8dS/X1dWNjIxsbm7ubtDR0XHgwAHqBYROpy9durSyspL6SiKRnDlzZvbsjw0MEADS10erVqGoKFRaio4dQ0uXonnzkK0tEghw/W5vgxqPj5pk9uzZALBjxw5tO9Ij8oR17dq1cePGUQvS/PnzS0pKerKsr6+PiorS09MDAENDwy+//DIxMdHOzo4aO3duzpdfosRE5O6OGhtfDBEK0aRJCABNnIgaGnr3l+qZ0lIUEIAWLUIZGXKsEhMTjYyMcnJyNOWWajx8+JBGoxkYGNTV1Wnblx7pUVi5ubmULOzt7X/77TdlrvXo0aMPP/wQAGgvD0qOGDFiy5Yt33+/S3YaKTHxT3uBANnaIgD07rudYrH47X8ZxURFoYICJBYjf385VhEREQAwcuTIRtnfQV8iNDQUAMLCwrTtiDzkrViBgYGxsbHt7e0qXfHq1au6uroAcPjw4cjIyAEDBgCAh0fZxIno2DHU2fkX47IyNHKk2MPj4wULFnS+8h0OgoIQdSv/6CM5VmKxeNKkSQDg6+uL3SUVqa+vNzQ0pNFoBQUF2vZFHlgOrFIvLAUFBdSb43vvvXf1ao+3lfz8ImrDISQkRCqVdv+qs7OTx+Olp6cfP348NjY2PDz8xIkTVeo98EulqK4ObdiAHjxAYjFavFi++ePHj42MjABg//796kyHjR07dgDArFmztO2IArAIi3q0vHjx4s2bN5UJ32VkZBgYGACAt7f3unXr/P39p0yZwuFwGK8dWbK1tR06dKhAjQf+339H+vooMhL94x9oyRJ086bCEadOnQIAFot1584dlafDxt27dzkcjpeX1yt/hH0NLMJavnw5ABw6dEihpVQqPXToUGtra1paGpPJHPLXFFoGg8HhcKZMmeLv779u3br4+HgXFxcAmDFjhsqv2fPmIQD07bdo0CA0ezZqaVFm0IoVKwDAzs6uqalJtemwwePxTExMACAhIUHbvsgDi7CKi7fduWNVVvaNQktqVXBxcYmLi6OCZDExMcePH09PT+fxeK8/dVVUVFChjc2bN6vg0KNHiE5H+vooLg4BoGnTlBwnEomouHZAQIAK02Hm9OnTAKCnp3f79m1t+9IjWIRVU3M4NxdKSz+Rb9be3j5y5EgqHkOFyn7//XeFF79w4QKH4+HoKExPV9afh99+Kx0wAK1YgcaMQQDo9GllRyJUXFzMZrMB4OjRo91/3tnZWVZWlpGRceLEia1bt0ZERPj4+Gjs9hQWFjZ70iSBmxsSCjUzo6pgEZZQeCk3F4qLZ8o3i42NBYCxY8dS78/vv/++ktffsKELAFlaotpaxcaNjY1sNptrZJR75EiHlRXicl99NVXE0aNHAUBfX3/58uUBAQFTp061tLR8/fkPANR5+FOLDpFI6uSEAFBfWkq7g0VYIlFRbi7k59vKsamurqZWqUOHDjGZTCaT+eDBAyWv39mJpk5FAMjbGylcI2SvUfPmzWPS6WndI2lK4+npOWzYsO4aotPpFhYWHh4efn5+n3/++e7du8+ePdui3KNb7/D4MTIyQgDo4EHNTao0WIQlkYhqag4KhZfl2KxatYoK6M+dOxcAIiIiVJqCx0MmJsjTE8kPYUokEhsbGypqQKfT9fX1a5VZ5V6D2oEIDAxMSUlJT09/9uxZR0eHGtfpZX76CdFoaONGbfvxBrAIq7U159mzf/J4K+vrf36jQUFBAbVKHT58GACMjY1rampUneXBgzff02prUV4eOnfu18TExDVr1owcOdLExCQwMBAAQkNDVZ0FIfT7778DgIWFRZ8Q0yv0yWQshElYAsH2pqZrCCGRqKijo0oiefUGkZqaymazw8LCqJVg+/bt6k3UPW1w82Y0ZgyiNrwBkIUFV3bbGjhwII1GMzExyc/PV2OW999/HwC2bNminpPYUW4DVMNgyWQ1M1spEMTV1R01MVlcW5vc2PgfFmu0gYGLgYFzRYXbqFHjfX19PT09f/rpp71799rY2FB7c+ohSxsUCqGwEADA2Bi4XHBx8WOx2iwtLa2srG7dupWYmCiVSg1VL8f55MmTCxcu6Ovrh4SEqO0kXvbvh6+/BhsbCA6GqVO17c0LsAire/kKhLoA6CLRQ5HoYUPDGTe3NgD62LFjJ0yY8OuvvwJAXFwclRahHv/4B6SmAgCEh0NQEFhZAZtNfbNdZrN48WIej3fu3LnFi5f88UeGjo4KxYQTEhKkUunixYsHDx6stpN4qaoCLhf09KCzU9uudAPHMtjYeK60dFlZ2erq6n0IIYlE1NJys7o6KT//cyqtmZp6/PjxM2bMeJuJtm37M21QPvX19RMnznJ1fb5+vQrXb2pqonYM79279zZ+4kXpDVBNooWqyW1tbVlZWYmJiRkZGW+TACkWIwcHtHcv+uEHtGyZYvvMTCmTiWg0lJam7BS7du0CgJkzFQTktMn162jhQjR3rpIboBqjH5fjTk5GAMjJSYUhMTEIAJmYIB5PsbFEIqE2Bn755Re1ncTOggUIAH33nbb9eJV+LCxnZwSAXubfK4VEgubMQePGoUePFBv/8ssvADBixIg+m1eOSksRg4H09PpgfnefOd+oIunpXbdvM4cMAX+lqz5t3w7Tp8PRo/DFF/DLL9DSAt98A6tWwf79IBZDeTnw+VBdfbm4OIvP55eXl2dnZwPAypUr37h70xeQJiXRJRJYsgQ0X1hNEf1VWAkJgS4uLQEB8Xp6o1QaOGjQi8LUVJzi2TMYOhSeP3/x7bRpxzMyjsmMGQzGXQ1XG1aalpYW5xMnvvPy+vjTT/ug8PulsHg83tmzZxkMxvnzA1UauHMnmJq++EzFKRgMeP4cdHXB0hIsLcHDY4GXF4fL5XK5XAAIDAw8derUnDlzli1b1uu/xdsgEAiOHz/+qLJyr62tv6Ojtt15A/1SWImJiRKJZNGiRaqWffrsMxg3DlatAgBwc4MdO8DSEiorYehQWaOsjwD+rMqfkJCwbNmy1atXu7u7a6FXm0QCRUVQVgZ8PpSXP25vX5mTU15eXl5e3t7eTv3ua9as0bRXSqLthzyVkUqlTk5OAKDq8axt21BODhKJUHDwiwDYsWOK4xRBQUEA4ODg0Nraqr7TKiHborl6FdFoL7aoAOqcnGT/ayYmJrq6uubm5po4gaIW/bKXjkQiuX79+qxZszQwV2trq6ura2FhYUhIyMGDBzUwI0RHQ3Dwiy2a8nIwNAQuF7jcZlPTZKkUISQWi3k83pkzZ5qamm7dujVhwgRNeKUq2lZ2PyA/P19fXx8AUlJSNDFf9zNqX32Fpk1Dw4cjHR1kYEDv1tmSw+FAH8vH7w7jm2++0Zam+wvm5uampqZpaWmXL19euHChnE3D7dvh0iWYPh1WrYKiItDVBRMTWLECfHxUmS83F6ysYOBA+O034PPh0iUQCgEhGDz4vqvr2EmT5syZ4+/vHxQUlJ+fX1RUJBR2vP++sv0ENEa/fHjXPKtWrUpPTz9x4oSfn192dra+vj5CSCAQVFTQebwh5eXA40F5OVhawvPnb12kKTQUoqOByYTISKDR4NNPgcsFS0vQ1T3zV0MbG5t//WvL8eMb3dwgOPjtJu1t+uUzllbIy8vz9vYWCAQjRoyg0+l8Pr+jo8PT81h6epDMxt8fPvroRXNAW1u4cwdMTaG5GX74AZdXycnwz3+CoSHk5MCYMbhmUQOyYinLwYMHBQKBg4PDw4cPqZ8MGTJkyJBqHx+wsgIrK+By4f79F1EMKgbbPbqBieXL4fp1SEkBPz+4eRMMDDDOpRJEWErR0NCQkpJCo9HCw8PDwsLs7e3v3bvHkrWafElZGQCAqytcvw43bkB1Nbys1oORffvg9m2YORN0dLDPpQLafnvoH2zduhUA5s6dq2RhqqwsRKMhXV1065Ym3BOJ/pKl3T1ipy1I614lkEiWXLu2zsnJx8fnypUrBgYGn3zyifwRkydDZCR0dMDHH0N9PXYHqaWzTxV3JbdCJTh71uLixW12dg0lJQbTphVMmkRVT5BPXBxkZsKDB+J///v4rl3/1ICbsixt+OuuqHbQ2lrZj/D0RAAoLg4ZGiIaDRUWKjmupAQ5O78DAHv37lVoLBKJ3sbH7lnafeFWSFYsReTlQXo6DBwIIhG0tsK8eTB6tJJDbWwgOjrC1/ePtWvXTp482cnJSSwWV1ZWPn36tLKysqqqSvahuLh48eLFLi4uVH0bNaDaOVDvDX0CrUm6v9DRgU6eRAkJyMoKASDlqmZ2hzrzPWjQIPkNbQwMDGg0WpryCfndqKhAgwejdevUGIoLEiBVmlu34OefYccOoKlwegwAqJjqgAED6urq9PT0OBzOsGHDLCwsbGxsbGxsqM92dnZJSUkbNmwwMTHJy8uzsrJSaYqNG2HzZvDzg1OnVBqHE20ru2/TG4eMt23bBgCenp7yywhIJJI5c+YAgJeXl0pZ9mIxGjIEAaDMTLV9VEB1dbWqQ4iw5KJclWU5dHV1WVtbA4Ay97jq6mqqseBXX32l/BQnT5azWMjZWT0H/0QsFpeUlKSnp6empsbGxoaGhs6fP9/Z2ZnNZtNotNjYWJ4yZ5teQoQlF+WqLMvhzJkzAGBnZyeRSJSxv379OoPBoNPply5dUnIKR0dHU9PRqalF6nkoFAqPHz9uKjc4QVWI9fDwUL4sChGWXN76kLGXlxcAJKpSlItqEm5ubi7r8SGH69evU8ZqRytWr15tbm4OAHp6ejY2NlOnTvX19Y2Kijpw4MC5c+dyc3MbGxvr6+uHDx8OANHR0UpelghLLs+eoYAAtQ8Z379/HwDYbLZQlYKOEomE2jhSWMO3tbWVqi62idrNUR1ZDYFr1671ZCMWiz/99NMff/xRR0eHRqMp05ALEWFhhdr5Wbt2raoDBQIBdVbi+++/RwjV19fn5uampqbGx8dHRUX5+vo6OzsPGzaMRqMZGxvr6Og8ffpUPQ9lNQT27NlT2EPg9/vvvwcAe3v7r7/+GgDMzMwqKioUXpkICxfV1dUsFotOpz958kSN4RcvXqTT6SwWS85xWRaLZWxsDAArVqxQYwpZDYF9+/bR6XRDQ8M3ZjmLRCJHR0cA8PPze++99wDgnXfeUfjeSoSFi++++w4AFixYoPYVQkJCqIYxgwYNcnZ2nj9/fmhoaGxsbGpqanp6eklJiUQieZt8fFkNgbCwMAAICQnpyfLRo0dU6ej4+HiqFqvCmy8RFhY6Ojqoww5XrlxR+yIXL16k3sXkm+3btw8ABgwYUFSk2ovhzJkzASAmJkaZUk1U6WgWi3XkyBHqvfXyZXk1ZomwsFBZWenp6WlmZvY2ld8bGhrodLqenp7C1miLFi0CgAkTJrS1tSl58QcPHtBotAEDBmzevBmUa84jO2IZHR0NAEOGDJHT14gICwttbW3U07dKgYbXoRrYZmVlyTdrbm62t7cHgNWrVyt5ZWq3Ozw8nKoqrcy7XktLy+jRowFg586dVBhFTsIjERYueqUxycMvv2wbPVoSH6/QMjc3l6q4eebMGYXG9fX11J73nj17AMDa2lrJTaR79+7FxcVJpdLdu3czGIwNGzb0ZEmEhREqr8HW1lalONZfOHIEASDl2iZSsQNjY2M50Yeuri4+n0855u3tvWTJEgDYtWuXqn65uroCQHJyck8GRFgYEYvFVJkJPz8/NS9RUEDVFlfGViqV+vj4AICrq2tjY2NJScnly5cPHDiwadOm0NDQ2bNn29jY6Lw8ccFms3fv3i2RSP773/+q2kg2IyODCmjJCfcTYeFF1lBTmSZ7b0AqRSYmCACVlSljXldXZ2VlJSsf/Do0Gm3YsGFUkSZra+sGtdpx+/r6AsBGuR0xSD4Wdk6dOhUQEMBisbKzs6kmdaqRkgJmZjB9Orx22uyN3Lp1Ky8vLyoqisvlDh8+nPsS6jOHw9HV1e3s7PTy8srOzl64cOF//vMfldypqKig8jWePn1qaWnZo50agiWoClW3zd7eXk4Bj/r6+nv37mW+nlTVPSes97LZnzx5QjXJSkpKUmlgVFQUAAQGBso3I8LSBG1tbVSxoeDg4O45T5GRkdTGH7UzAwAjRoxYsGDBX+JD3XPCevWYRGpqKgDo6ekp35u4ra2NSrDJzs6Wb0mEpSHy8/NZLJacnitGRkYODg5Uot+sWbP+zN/qnhO2bRsKDEQREb11/mblypXwpvdWWZv3n376iWrzTsXlDxw4AAAuLi4Kr0xO6WgIBwcHc3Pz58+fczgcW1tbKysrKysrIyMjPT09Go0mEolqamp8fHzs7OwcHR2vXLmyZcuWjRs3AgBYWgKPB7a2oK8P0MsFIeLj46mG8KGhoT///DMAfPbZZ6mpqQKBQEKd+3mJm5vbhAkTkpKSKBvFl+4V4RMUQm38cTicjo6OuLg4Ozu710s/xMTEIISuXr1Kbca92GfsnhOG4cSgbIP5yJEj6GVEXtbmPSAgYN26dbGxsefPn6fyZywsLNrb2xVelqxYGmL37t0AsHr1ah0dnZaWlsePHwPA4MGDLS0tZa9s1K7wjBkzvvjii5iYmKCgoLt37w4ePhxOnnxxFTe3Fx96rzCSnZ3dwYMHAwMDw8PDzc3N33333bFjxzY1NVVUVPD5/Pz8/LS0tObmZsrY3d39ww8/1NXVVXzd3hI+QQ6PHj3q3t+Vz+cXFBTI2TDu7OycNm0aAMybN08zDcyDg4Pp9B4LebDZbAcHh3nz5imfiU/iWJogIiIiKSlJpfK4fD7fycmptrY2Li5u/fr1WN0DgNbW1lu3boWGhlpYWFDLJ7WUjhgxwtLSUvbSqgI4/wwICCEkFArV602XlpZGo9GYTOYbglt9HlLGCDuHDx9uamqaNWuWqnWzvb29165d29XVFRAQUFdXh8k9XGhb2X9zZHnlSh5ueYX29vYJEyYYGRnduHGj133DClmx8HL+/PmSkhJra2tvb2+VBp48eTIoKKi4uNjW1rapqenmzZuYPMSFtpX9N2fGjBkAEB8fjxBSqWkKlfC0e/duPT09BoOh9gEvbUFWLLzMmTPH0NDQ2dn52rVr9vb2ly5dUmZURkZGTk6OmZnZ8+fP29vbfXx8qISCfgQRFl5KS0tbW1tDQkKuXLlSUVGxdOnSyspKhaOoaGpISEhycjL05RZfctD2kvk3RyQSUTlY/v7+7777LgBMnz5dfoI5n8/X0dHR0dHZuXMnADip1PW6z0CEhZ3i4mJqMy4hIYE67fmd3N7gX3zxBQAsWrTIxcUFAH744QeNudqLEGFpgiNHjgCAoaHh0aNHqQ3m//3vf2+0bG1tpRKe9u/fD4ryyvsyRFgaYunSpQAwbtw4an+mp9OehYWF48ePd3d3X7hwIQB8/fXXmne1VyDC0hCy054hISGenp6mpqZyNmry8vKYTKaOjg6fz9ekk70IEZbmuH//PlXAIzExsby8/JVvm5ubHz58eOHChYMHD3p4eADAYnWrvfUFSD6W5hg/fvz27dvDw8Ojo6PFYnFXV1d5eXlZWVlZWVl5eXlDQ0N34yVLlvTLKMNLSNqMpvH19c3MzKyqqnrl5/r6+rLTWlZWViEhIVT+ez+FCEvTCIVCHo8XExPT/bgfl8uV0xG4P0KERcAC2dIhYIEIi4AFIiwCFoiwCFggwiJggQiLgAUiLAIWiLAIWCDCImCBCIuABSIsAhaIsAhYIMIiYIEIi4AFIiwCFoiwCFggwiJggQiLgAUiLAIWiLAIWCDCImCBCIuABSIsAhaIsAhYIMIiYIEIi4AFIiwCFoiwCFggwiJggQiLgAUiLAIWiLAIWCDCImCBCIuABSIsAhaIsAhYIMIiYIEIi4AFIiwCFoiwCFggwiJggQiLgAUiLAIWiLAIWCDCImCBCIuABSIsAhb+DwcDBq1xDSkLAAAAAElFTkSuQmCC\" alt=\"Mol\"/></td>\n",
              "      <td>Inactive</td>\n",
              "      <td>NaN</td>\n",
              "      <td>0.59</td>\n",
              "    </tr>\n",
              "    <tr>\n",
              "      <th>9</th>\n",
              "      <td>Bromhexine</td>\n",
              "      <td>OJGDCBLYJGHCIH-UHFFFAOYSA-N</td>\n",
              "      <td></td>\n",
              "      <td><img data-content=\"rdkit/molecule\" src=\"data:image/png;base64,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\" alt=\"Mol\"/></td>\n",
              "      <td>Inactive</td>\n",
              "      <td>Inactive</td>\n",
              "      <td>0.81</td>\n",
              "    </tr>\n",
              "    <tr>\n",
              "      <th>10</th>\n",
              "      <td>Losartan</td>\n",
              "      <td>PSIFNNKUMBGKDQ-UHFFFAOYSA-N</td>\n",
              "      <td></td>\n",
              "      <td><img data-content=\"rdkit/molecule\" src=\"data:image/png;base64,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\" alt=\"Mol\"/></td>\n",
              "      <td>Inactive</td>\n",
              "      <td>NaN</td>\n",
              "      <td>0.65</td>\n",
              "    </tr>\n",
              "    <tr>\n",
              "      <th>11</th>\n",
              "      <td>N-acetylcysteine</td>\n",
              "      <td>PWKSKIMOESPYIA-UHFFFAOYNA-N</td>\n",
              "      <td></td>\n",
              "      <td><img data-content=\"rdkit/molecule\" src=\"data:image/png;base64,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\" alt=\"Mol\"/></td>\n",
              "      <td>Inactive</td>\n",
              "      <td>Inactive</td>\n",
              "      <td>0.80</td>\n",
              "    </tr>\n",
              "    <tr>\n",
              "      <th>12</th>\n",
              "      <td>Remdesivir</td>\n",
              "      <td>RWWYLEGWBNMMLJ-UHFFFAOYNA-N</td>\n",
              "      <td></td>\n",
              "      <td><img data-content=\"rdkit/molecule\" src=\"data:image/png;base64,iVBORw0KGgoAAAANSUhEUgAAAMgAAADICAIAAAAiOjnJAAAABmJLR0QA/wD/AP+gvaeTAAAdbUlEQVR4nO2dd1wUV9fHf7tLF+mgoIglaqJGEUREo6hYiYktgvpExRg1vPoSWzR5xYAlxkSjWBN9YgixJDbcoATUSPQRGxERBVRsiCggTaqw7bx/jA/BBrvLDEu5389+/Mjsvfec0R93Zu6cc66IiMBg8I1Y1w4wGidMWAxBYMJiCAITFkMQmLAYgsCExRAEJiyGIDBhMQSBCYshCExYDEFgwmIIAhMWQxCYsBiCwITFEAQmLIYgMGExBIEJiyEITFgMQWDCYggCExZDEJiwGILAhMUQBCYshiAwYTEEgQmLIQhMWAxBYMJiCAITFkMQmLAYgsCExRAEJiyGIDBhMQSBCYshCExYtSI8PPzy5cuRkZG6dqT+QQytSElJGTFiBID27dsD8PLyunbtmq6dqkcwYWlMTk7OJ598IpFIANjY2Pj4+FhYWADQ19f/9NNP8/Pzde1gvYAJSwPkcvn27dttbGwA6OnpzZo1Kycnh4jy8vICAgI4qVlZWYWEhMjlcl07q2OYsNTlzz//7NatG3f/wF34rl+/Pnv2bJlMxjVISUkZPnw41+DNN9+MiorSrcO6hQmrZlJTUydMmMAppmPHjvv37y8oKJg/f76+vj6AjRs3Vm0cERHB3XUBGDVq1J07d3Tltm5hwqqO4uLioKAgQ0NDAKampkFBQWVlZWFhYS1atAAgFounTJmSlZX1Qq+KioqQkBAzMzMABgYGAQEBhYWFOvFfhzBhvZaEhAQ7OztOQB9//HF2dvapU6d69OjBzUaenp4JCQnVdM/IyJgyZYpIJALg4OBw/fr1OvO8PsCE9Vo+++wzCwsLNze38+fPP3jwoFIlrVu3DgsLU6lU6gzy999/u7u7W1lZLVu2TGiH6xVMWK+FW0TIy8sjot69ewNo1qzZypUry8rKNBonLS0NgKOjozBu1lP0BF19bQRws9TXX38dGhq6Zs2aVq1aqdkxMzMzPDzcwcHB1dVVSAfrK7pWdv2Fm7G0XvA8ffo0gP79+9+/fx9Nb8Zi7woZgsCExRAEJiyGIDBhMQSBCYshCExYDEFgwmIIAhMWQxCYsNQiJSVl/fr1crlc/S4tW7b86KOPRo0aJZxX9Rpdr9DWX6quvHPh7VwwlqbjsJV3xnN4eHiYm5svXLgwNzd34cKFXbt2vXXrlo+Pz9ChQ5OSktQcJD8/f9WqVRYWFtxr7CaErpVdf7l48WJlxsS2bduePn1aGfCur69fGfD+OmQy2YYNGyrzLJKSkurM8/oAE1Z1XL9+nbsI4r9h7C/nTSgUipc7njhxojJAfsiQIU0wM4wJq2ZeCGO/fft2QkKCp6cnd+Sbb76p2vjlAHldua1bGoOwKioq1q5du3btWkFNVIax6+vrc2HsBw4c6N2795MnT7g2LwfIl5eXC+dSPacxCOvcuXMikcjY2Pj+/fuCGnr06NGsWbPEYjEAe3v77du3K5VKIlIqlTVmWDQ1GoOwiGjSpEkAfH1968DWpUuX+vXrx13sXF1dN2/e7OzszP3o7u5+4cKFOvCh/tNIhPXgwYNmzZoBOH36dB2YU6lUv/zyCxemzD33OTk57du3rw5MNxQaibCIKDg4GEDPnj1f+ZgmBCUlJX379uWe+zTNsGj0NJ4F0sWLFzs5OSUkJISGhtaNxWbNmnHPhoMGDTI2Nq4bow2FxiMsY2PjNWvWAFi6dGlhYaGu3WnqNB5hAZg4ceKAAQMeP368atUqXfvS1GlUwgIQEhIikUg2bdp08+ZNXfvSpGlswurZs+f06dNlMtmiRYvqwJyfuXlkr16+zZvXga2GRWMTFoCvvvrK3Nz86NGj0dHRQtvqVFjofelSh+JioQ01OBqhsOzs7AIDAwEsWLCgxtA8qRRduoAIly4hMBBSKYKDASA6GoGBwvvaeBFKWImJiVlZWQINXiMBAQFt2rS5c+eOkZGRpAqDB5+RSFD1c+IEjI0RFaUrTxstgghLoVBMnjy5c+fOcXFxQoxfIyKRSCwWi0Qi1Yvg5c+kSfjpp3/67t6NESPYdFVbBBHW1q1bU1JSbG1tK8uU1TGbN29OS0tzdHQsLS1VVCEm5h2FAlU/w4bB1BRt2+Lq1Wd9P/wQ0dFQd72iRw/4+qJLF8FOpaHCfxmj/Pz8lStXAtiwYQMXQ1LH5OTkcA5s3LjRxMSk+sYiEQDMnQsfHwwbprkxX1/4+mrhZKOH/xkrMDAwLy/Py8vrvffe431wNR148uTJ0KFDvb291ezSti3atEFBAdatQ1GR2pYUCkybBm9vvPsuHj/WzttGC7+vHpOTk/X09PT09HQVjJuQkCCRSPT09LSIMZ88mQCaNEntDgcO0MKFRES7d9Nnn2lqrnHDs7CGDRsGICAggN9h1Yd7K7xgwQIt+qalkbExScSqu9eya2799CkFBlJ4OBHR/fs0dKgWFhsxfF4Kw8PDjx8/bmVl9eWXX/I4rPocOHDg9OnTtra2y5Yt06K7kxN+2XSvcH2fduffBale2y4vD59+il69oFKB6NlBiUQrlxstvAlLJpN9/vnnAFauXGltbc3XsOpTXl6+ePFizgEu+E4LPvBr2Yyy8egSrvz8iq9lMqxbhw4dsGkTUlNhZIQzZwAgNhZNs9BoNfA19a1evRpAly5ddLWNzIoVKwD06NGjtoF+V/fQKiM6+1Jqxp0TtKUnObYigIYMoaQkkstp+nQaOZLee49yc2tltNHBj7CysrK4DJZjx47xMqCmZGRkcKHJf/31V23HUqmoMP25IzkptGs4BYOCQSvHUtPeJEdN+FnHWrJkSVFR0dixY4dpsxb0KhQKzJiBnByIRAgNhZ1djQ6UlpZOmDBh4MCBtTUtEsHMETek+PNz2LwJWTFUStw/DSNLeH6J3nMg1q+tiSYAD8KKj4/ftWuXoaHh2rVraz/aM6RS2NoiLAx79mDePFhZVf0y0s4uqsq6UXZ29qFDhwwMDJRKpUKh0NOrxUkpylGWAzNHAOg2EQODkZOMY/PRyx+DVsDERvuRmxq1n/TS09NdXV1dXFxqP9Q/VH2Sf/NNAqp+lv03C7mS999/38rKCsDWrVu1N3ozgja2px/7kEpF1w/TX0FERLf+oIiPeTmnJgUPM5ZcLk9KSpLL5XFxcXzWVKl8kre2xubNVb8ZZWpq98EH3N9jY2OlUqmbm5ufn9+4ceOWLVvm6+ur8WPpg2uICUDaKQAwaI6yxwCQ9BuyEmBgiuHra3cmTRJe5LlkyRIAHh4eam5dVDMHD9K8eUREe/bQ0qXVNNyzZw8AOzu7J0+eaLM8m5dHAQFkY0NBVvSNFV0IIcVTittCSb8+m7EYWsGPsIqKiuzt7QHs3r27tmPJZHTqlPpP8iqVqn///gAWL1589epViUTi4ej4NCWlZkMKBW3YQBYWBJC+Pm1fRU8L6M4J2tqVgkH7ff4R1qN4Ksur7Xk1MXhbx/rpp58AtGrVqqSkpFYDbdxIAGky61y+fFksFhsYGNy8efNicDCZmNCwYTV3U6nI3Z0A8vKia9fo+nX6ccqzNYUtb9Lt6GfNLmyk5WL6Y65WJ9N04U1YSqWSu8H68ssvtR8lL4+srQmgI0c06jd9+vQNHh7FU6f+M0JExKubyuU0dSqNHEne3nT8OB09SgUFtGQJGRiQR09aY0Gxa0hRpUrM42RaoU/LJZR9Vfvzanrw+RK6surLvXv3tBzC3//ZFKIhisxMat6cADp+nEJCCKAOHeiVVYReCEk4eZJsbAggiYRmz6aiVxXpi5xDn7mRn/phDwy+oxsmT54MwMfHR4u+ysREkkhIT4+Sk7WxvWYNAfTWW1RaSm+9RQCtW/eKZi+EJGRkkKkpDRxIV668duSCXLKyIoCkUm0ca5LwLKzKVyunTp3StO+oYcMiPD0rtA5sqqigTp0IoM2bKTqaJk2i9PRXNAsMpEOHiIju36cRI4iIbt6sefDNmwkgftfqGjX8V5tZvnw5AGdnZ41eBh86dAiAlZVVbm3e5kqlBNRw5672QsZzyOUUGEjZasRpMYhICGGVlZW1bdsWwI4dO9TsUlFR0bFjRwDbtm2rrfmjR0mpfO4O/QU11CYkoZphGc8josoFbv7Yt2/fxIkTbW1tIyIimquRfr5z584NGzZ06dIlMTGxVm/6Kjl4EBcuYN067NmDxER8+y0PYwo3bKNECLWqVKquXbtaWlqq6YOJiYlEIvnzzz9580CgoGEWi6w2guxiX1JSkpOT8+TJk7Zt29aYgAXA2tr6l19+4S6gvCFQ0DCLRVYPQYS1atWqx48fe3h4nD17VsRl7tUxzs44cwbjxvEcNCzQsBqSkpJy586dc+fOeXh4eHh42Nra6sqTauD/Huvu3btcgPL58+d1toGMQoFZs5CVBT09hIaClxh8IiiV/A+rIfHx8YMHD7ayskpLS+OOdOzYsU+fPl5ey52d23XrVm9mUt4vrqNHjwYwffp03kfWJZmZ1LkzhYXp1otbt25x1eSHDBnyxRdfDBw4kFs1BNCpUxlApqY0eDAtXUpHj9LBg/TWW6RS0d9/a7Cuwhc8C+vkyZMAmjdv/ujRI35H1jF+fgTQmDE6dOHhw4fcbejQoUNLS0u5g3K5/PLly1u2bJ06VdWhwz/RkEZGdOAAubhQZGTDF5ZCoXj77bcBrFmzhsdhdU98PInFZGBAqam6ciEvj0aOnAygX79+JSUl06ZN8/PzezkhKjubpFJasoTmzKHDh2ntWho/vuELa9OmTQDat2/fqPaQUanonXcIoM8/15ULJSXUpw81b144Zszs/Pz8uXPnAjAzM0utVuiHD9P339PChbRzZ0MWVn5+PhcQLG1cb2qj9++PffttatmSiop04oBMRiNHEkDt2tGjR/Tdd3sBGBkZ1Zjoxgnr3j1yc2vIwuJ+jQYPHszXgPWBkpKS1q1bi0SimL17deKAUkkTJxJAtrZ04wZt3Up6enJPz5mHDx+usS8nLCIaM4bmzBHc1RfgR1jJycn6+voSieTq1UYVDcfVgHBxceF2+ap7Tp8msZjMzSkhgcLDSSIhkYh+/FGDEc6cIRMTGjBAMBdfAz/CGj58OIC5cxtV/G56erqJiYlIJPrPf/5Tl3YPH35umWDfPjp9muRy6t6dAPr2W81GKy4mIyOSSOjxY2HcfQ3VrbyPHj06Pz+/xpWwoqKiq1evWllZcdskNRrWrFlTVlY2adIkLlmjLuHq7XLp3z4+zw6ePIn9+/E//6PuILt2Ye9e7NiBQYMQFYUjR/DRR4J4+0qqE9aFCxceq1eozt/fv3///jopMiMczs7OxsbGbm5udW+aq7f7+efPHbSx0UBVACIiEB2N33/HmDGIisLvv9cbYUVERMhkMnVGeeONN7j0r8aEsbHx06dPv/nmmxkzZnAlT+qMF+rtasfo0Th4EL//jl274O+PxMRHpaVWzZoZ8eRjTdTphbdBoVKp3nnnHQBffPFFXdrla5kgP5/09aljxxv5+UUTJswWi8WHuJjsOqER7kzBFyKRKCQkRCwWf/fdd7du3apj61y93dpgaYmxYz+6devNyMjfe/Vqr1KppFIpT96pQZ1JuIEybdo0AGPHjq1ju3I5ffUVeXlRberYbdmyBcAHH3zA/WJYWFjIZDL+fKwOJqwa0GFNOS6HLSZG+xEyMjJEIpGpqenTp0+7du0KgM8w3WqRNLI1At4xNTUFcPLkycuXL8+ePVssrrubh4cPERsLc3OMHKnlCGZmZvn5+f/617+6d+9+7dq1hISEmJiY9PT0wsJCc3Nzc3NzXv19nrrRb4OmMomoVsW3NOfiRQKoTRuqfQmf1NRUGxsbI6PnHglbtWoVEHBw/Xo6d+7VSeO1gQlLLfhJe9QQlYpatyaA4uNrNU5lINegQYOio6NXrlzp7e3N1akbMCCJi98yNCQPD5o/n7Zte27d//BhCgoiIoqK0uwRlT0VqsW4ceOGDRuWn5/P1WauG0QivP8+ANTmYa6wsNDb2zstLc3d3f3IkSPDhw8PDAyMjIzMzc29fv36rFmOM2eiWzfI5Th/Hhs2oLiYp332avW70JTQyW4ux4+TsTFptc8GEVFpaSm3FNetW7e8vOpKfD15QseO0fLldODAc+GBhw9Thw40fDi5umo2Y7Gbd3WxtbXNysqKi4u7dOlS165dicjY2FgicOqCkxMWLsSoUdr0lcvl48aNi4mJcXR0jImJadmyZTWNjYzQoQM8PZGaCpns2U6OBQVwcICdHX78EW3aID0dgwera51dCjVgxYoVpqamDx486Nevn5OTk5GRkb29vYuLS5GfH/z9sWIFQkMRHY2kJFRU8LIxmJ4ejh9/bnNhNSGimTNnRkVF2dranjhxwtHRUSO7c+fihx9ecTw5GX5++PBD3LtXk+ca2WvipKSklJSUKJVKNze3hw8fZmdnZ2VlZWVlmaaloaDgn3YiEfbs+aec+Lp1tUzGrxrsoCYLFiwICwszMzOLjo7u3LmzphZft+6vUmHTJsTF4coVtGtX7RBaXr2bJFxmW3BwMPejQqF4+PDhxYsXVVIpbd5M//d/NHUqDRlC/frxmIxfNSdi3Djq148WLaLwcKomDSooKAiAkZGRFsWkaqS4mPz86L9ZQq+FzVjqcuvWrSNHjhgaGn7yySfcEYlE4uDg4ODg8IrWy5bxmIxfGexw/z7i43H27LPjbdvigw/+atMmycPDw9nZmaun8v333y9fvlwikezevdvzpYL4taS8HAsWYPVq1Fg4gQlLXTZu3KhSqaZOncqljNYA38n43ObCgwcjJARnzyI2FufOIS0N0dF7k5J+BGBiYtKrVy9LS8sjR46IRKJ///vf48ePr73dF9i6FQUF2LgR776LGsIfeZ8qGyX5+fmmpqYikSgxMVGtDlwVrsGDyc2NEhK0M1paSsnJ/+REjB//3AO/QkFXr9KOHT9Pmzat8i5KLBabmprWh7xOJiy14DbNGzlypGbdZswggDZt0s7o0qWkr0+bN6vVODc39+jRo9ybzczMTO0s8ghbbqgZuVy+bds2APPnz9esJ1cTJS5OC6N37uC776BQoFcvtdpbWlqOHDmyffv2ALKysrSwyC9MWDXz22+/ZWRkdOvWbciQIZr15IR18aIWRufNQ3k5/PzQp0/Njfv06WNgYHD37l1uFZQJq2GwYcMGAAsWLNC41tfbb6NZM9y+jbw8jfr98QcdPQpzc3z9tVrtJRKJUqnMzMzkhJWZmamZnwLAhFUDf/31V0JCgp2d3aRJkzTuLJHAxUVlafnkyhX1O1VUVAQGDvb0TFixQqXOAyiAyomKzVgNBm66mjt37gvBTGqybsAASX7+5nPn1O+yfv36hIRTOTkf+vsr1ezygrCys7O1cJVfmLCq4/z585GRkUZGRrNmzdJuhDbduwOIU/v+PSMjg3sC3bJli76+unsEV+qp/lwK2QLpc8jl8qtXr8bGxsbHx8fHx1+/ft3Ozs7c3Nzq+b2D1YcrlnlRvfv33NzcOXPmlJSU+Pj4DBo0iIhycnLs1HhHWKknLy8v1I9LYRMQllSKK1cQHIzoaMTGIjj4uW3Mra1x4wbi47lPvKGhR0xMZdfmzZsXFRVlZ2ePGzdu37596lSAfoG2bdu2aNEiOzv73r17Dg4OeXl5mZmZjx49Kigo4P5S+WdGRoZMJrOzs9PT01u9erVMJpsxY8bZs2fPnz9f41p/5aWQSxuuD8JqAgukL0TXVt39a+pUMjWtutv0k549XVxc/P39Q0NDk5OTlUplXFwcV5a4d+/ejzUvrCGTybj0GHVu0SwtLbkyBb6+viUlJR4eHgB69epV4xaQf//9NwAXF5eCggIAZmZmWvw78UsTmLEA7N6NCxeQm4sRI5CYiH79AKB/f+zcibIy2NvD1RWurnjnHfO+feOfn5bc3NzOnz8/YsSIuLg4T0/PqKgoJycnNc2ePHly3rx5ycnJBgYG5eXlBgYG1tbWlpaWDg4O9vb2Vf+0tLR0dHQ0MzNLTk7u37//vn37HB0dIyIi+vbte+nSJV9fX6lUWs2eHZUzloWFhbGxcVFRUWlpaWXdW92ga2ULzwsz1gu7fxUUqDNGZmZmz549Adjb2yeo8e4vNTV1woQJ3L/wG2+8wSX5eHt7q7Nn9qlTpwwNDQGEhITcvn2bu8eaOXNmNV1kMhm3U6RSqeTyJm7fvq3OeQlH0xOWdrt/ERUXF3ObmVtYWJw+fbqaZkFBQZwyTE1Ng4KCysvL09PTuWvc+vXr1bH166+/ikQisVh88ODBuLg4bu5ZvXp1NV1ycp5t4dmnTx8AsbGx6p+aEDQ9YdVi96+KioqJEycCMDQ03Ldv3wvfKpXKsLAw7kZbLBZPmTIlKyur8lsumkVfX//cuXPq2OIWHYyMjGJjYyMiIiQSiUgk+vnnn6vpUlxcvH37dnNzc0dHxxorlApNExAWr6hUqkWLFgGQSCRV81cvXLjg7u7OXfvc3d0vXLjwct+AgAAAbdq0qT5hphKurKu1tfWNGzd++OEHAPr6+sePH3+55d27dxcuXGhhYcE5EKDJVu0CwYSlDSEhIdx7wyVLlqSnp0+ZMoX7sXXr1mFhYa+7kZLJZNx1avz48epYUSgUY8eOBdCuXbusrCxO0MuWLava5syZMxMmTKi8r3d1dQ0LC3u5/nvdw4SlJaGhodx/J7c+bmJisnz58rKysup73b59m6uYoGa2fllZGbfo4OrqWlhYGBkZyR0vLy8PCwvr3r07pycDA4MJEyaoeZGtG5iwtOfYsWMWFhYWFhbvvvtuWlqamr3279/P3aVdvnxZnfY5OTmdOnXiHirlcnlmZmZQUJCNjQ0nqRYtWixZsiQjI6MW5yEITFjawxVotbCw0LTj7NmzuWWIwsJCddpzJT24LpUvEN3c3Hbt2lVRUaG543UBE5b2JCQkAOjWrZumHZ8+fers7AzAx8dHzS5xcXHW1tZOTk5isXjUqFEnTpzQ1Ggdw4SlPUePHgUwfPhwLfqmpqZyu2X/+N/tAB48eFD94lNRUVFcXNyDBw+08bXOYWEz2vPo0SMArVq10qJvx44dt2zZYmVl9fPPPycnJ9+6datnz55jx459+PDh67o0b97czc2tdevW2ntchzBhaU+PsrLNffsO69RJu+5Tp06dOHFibGysj4+Pvb29q6trTk7O5MmTlUp14/vqNbqeMhsyH39MwLOsP60oKSnp0qULgBkzZmRnZ3NBL0FBK3n0UVewGasWcJctrS6FAMLDw0NDQ/fv329iYrJz585jx479+uuvnTqN3bt30YkTfLqpG3St7IYMt22SVoUck5KSxGIx9+pwx44dJiY2Xl43b96koCAVQC1bUpXXjA0SJqxaYG1NgNYS4F7RODo65ubm+vsXAeTsTKWl5OVFAA0aRAoFv+7WKUxY2iKTkbU16euTtlsZymQy7r31zJnrioqoc2cCaM4ceviQbG3JwYHu3uXX4zpFRJXVdhhaUF4OrdLCONLS0vz9r8TEjFm3Dp6ecHdHeTn27kW7dmjfXrNKa/UNdvOuFQrFs0qQ48fj8WNIpeBKuUZHa1DOEWjbtu2cOWPkcnz2GeRyfPst9PSQm4s+fRq2qsCEpSVSKWxt8ccfmDwZ69bVZqRRozBnDioq4OuLKVOQmIj//V++vNQlTFhaUTUjg0uf370bI0ZoNF1Vsm4dXFzQtSuI0KULpFJtqtnWN5iwtOWFSpAffojoaKxapcVIhoY4cQJSKSwtnx3hp4S/TmHC0gquEiTAVyVIKytUrWTDbd3boGHC0orRo1FYCG9v/PYbNK3Gpga8bN2rW9hyQ71DKkVWFkaMgI8Phg3T7uqqe9iMVU+p/da9uoXNWAxBYDMWQxCYsBiCwITFEAQmLIYgMGExBIEJiyEITFgMQWDCYggCExZDEJiwGILAhMUQBCYshiAwYTEEgQmLIQhMWAxBYMJiCAITFkMQmLAYgsCExRAEJiyGIDBhMQSBCYshCExYDEFgwmIIAhMWQxCYsBiCwITFEAQmLIYgMGExBIEJiyEITFgMQWDCYggCExZDEJiwGILw/9gOzNCxKO3tAAAAAElFTkSuQmCC\" alt=\"Mol\"/></td>\n",
              "      <td>Inactive</td>\n",
              "      <td>NaN</td>\n",
              "      <td>0.61</td>\n",
              "    </tr>\n",
              "    <tr>\n",
              "      <th>13</th>\n",
              "      <td>Thalidomide</td>\n",
              "      <td>UEJJHQNACJXSKW-UHFFFAOYNA-N</td>\n",
              "      <td></td>\n",
              "      <td><img data-content=\"rdkit/molecule\" src=\"data:image/png;base64,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\" alt=\"Mol\"/></td>\n",
              "      <td>Inactive</td>\n",
              "      <td>Inactive</td>\n",
              "      <td>0.76</td>\n",
              "    </tr>\n",
              "    <tr>\n",
              "      <th>14</th>\n",
              "      <td>Aviptadil</td>\n",
              "      <td>VBUWHHLIZKOSMS-UHFFFAOYNA-N</td>\n",
              "      <td></td>\n",
              "      <td><img data-content=\"rdkit/molecule\" src=\"data:image/png;base64,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\" alt=\"Mol\"/></td>\n",
              "      <td>Inactive</td>\n",
              "      <td>NaN</td>\n",
              "      <td>0.51</td>\n",
              "    </tr>\n",
              "    <tr>\n",
              "      <th>15</th>\n",
              "      <td>Methylprednisolone</td>\n",
              "      <td>VHRSUDSXCMQTMA-UHFFFAOYNA-N</td>\n",
              "      <td></td>\n",
              "      <td><img data-content=\"rdkit/molecule\" src=\"data:image/png;base64,iVBORw0KGgoAAAANSUhEUgAAAMgAAADICAIAAAAiOjnJAAAABmJLR0QA/wD/AP+gvaeTAAAYJ0lEQVR4nO3deVhTV/oH8DcbYSsIgoB2FAVRYbBWVFT8UUWq0vLQWhZtHRTtSBcFtS7Rpx1pddqhyihPnarUbWwRHZBHjXWhjHWrtbbgwiZSEVBBFqsGDEtCcn5/HJuhBJMQ7iEB38/Tpw+Ge889gS/nnnvuuSc8QgggxDW+qSuAeicMFmICg4WYwGAhJjBYiAkMFmICg4WYwGAhJjBYiAkMFmICg4WYwGAhJjBYiAkMFmICg4WYwGAhJjBYiAkMFmICg4WYwGAhJjBYiAkMFmICg4WYwGAhJjBYiAkMFmICg4WYwGAhJjBYiAkMFmICg4WYwGAhJjBYiAkMFmICg4WYwGAhJjBYiAkMFmICg4WYwGAhJjBYiAkMFmICg4WYwGAhJjBYiAkMFmICg4WYwGAhJjBYiAkMFmICg4WYwGAhJjBYiAkMFmICg4WYwGAhJjBYiAkMFmICg4WY6F3BKi6G4cOffJ2cDEuXAgAcOADe3jB0KMTEQGOjCWvHkPm9x94VLG1370JcHJw4ASUlIJfDpk2mrhADZvkee3uwzpyBwEAYNAh4PFi4ELKyTF0hBszyPQpNXQGulZaCuzsAQH09zJ0LdXXg5PTkW87OUFdnupoxY5bvsde1WB4eUF4O5eWwdi0AgLMz1NY++VZtLbi5mbBqrJjle+x1wWpn6lQ4fx7KywEA9uwBf3/YscPEVeJcu/f46qsmrg8A9MJTYTtubrBtG7z6KigUMH487NoFDx6AoyOEh5u6Zhz57DOQyWDdOnj1VZDLYfJkWLzY1HUCAADyTNmwgQAQKyvy00+mropO+/eTESOIpyeZN4/I5eT6dTJs2JNvbd5Mliz535ZeXgSAFBYStZpYWhIej8jlJqlyO739VNjOypXwzjvQ1AQzZ8KdO6auzVMYPnxACNy+DQAwaBBUV0NzMzg5gbV1t9VUh2csWACwZQtMnQr37kFYGDx+3P3HV6vVerYwfPigqgqam8HFBWxsoKwMAGDwYC7r2gXPXrBEIkhPBy8v9e3bW1es0P9r5pRKpXrxxReXLVsml8ufulGHwwd0GMXdHdat+9+WtMNOh1fafm0Gnr1gAYCjIzl69I0BAxalpKxevdqIAtRq9c2bNxUKRWd33L9/f15e3tGjR8Vi8VM36nD4oN0wCtW2lcIWyxzwvLw++Ne/LCwsNm7cmJKSond7mUz2ww8/fPXVV0uWLJk0aZK9vf3QoUM/+OCD1NRUww9KCPn8888B4MMPPxQKn349bvDwAaHbDBoEYHYt1jN2VfhHu3fvBgCRSHTq1Km2rysUimvXrqWmpkokkhkzZjz//PPaPzdnZ2cAEIvFP/zwg4GHy8jIAICBAwe2tLTo2XTePOLmRoYMIQsWkKamp10Vvv322yP79Tu2Zw8h5PvY2KL/+7+H2dmdeP8sPdPBIoQsX74cABwcHHbu3Pn555/PmTNn5MiRIpGoXYxsbW39/f0XLly4ZcuWM2fOPHjwgBASFxcHAH379v31118NOZafnx8AbNu2Tf+mffoQAFJbq3uroKAgAMjKyiKEeHh4AEBxcbEhNekGz3qwVCpVSEiIhYVFuyS5ubmFhoZKJJK9e/cWFBSoVCrtfVtbW0NDQwFgxIgRDx8+1H2go0eP0mKbmpr01KmmhgAQBwe9lR88eDAAlJSUtLa2WlhY8Hg8/YV3l2c9WISQzZs3A4CLi0t8fPyOHTt+/vlnucFjjPX19b6+vgAwffp0pVKpY8uAgAAA2Lx5s/5Cz58nAMTfX/dWra2tIpGIhqmiogIA+vfvb2C1uwEGi0yYMAEA9u3bZ9zuZWVl/fr1A4C4uLinbfPdd98BgJOTU0NDg/4Sd+0iACQ6WvdW5eXlADBgwABCyJkzZwBg4sSJnaw7Q73tqvD69et1nZk3Ulpa+tNPP9nY2ISFhRl3RHd390OHDonF4i1btnz55ZcdbvPpp58CwPLly21tbfWXWFICADB0qO6tysrKAICeDWnIBpvNWAP0vuGGuLi4AQMGnDx50sDtU1NTCSHh4eEG/cqfYuLEiV9//TWPx1uyZMmxY8fafffixYtnz561t7d/7733DCqOBsvLS/dWFhYWY8eOra2t3bp1K728Natg9apTYWVlpUAgsLS01NuV1vDy8gKA7777rutH/+ijjwDAzs4uPz+/7evTp08HgISEBAPLmTF+/HwfnztXrz5tA5lM9sUXXwz/fXb/c889BwCjRo368ccfu1J/bplXsNRqdWlp6aFDh9atWxcREeHl5SWVSm/fvm3g7nT4MTIy0sDtL168CAD9+/dvbW01tsr/o1ar33zzTQBwd3evqamhL+bm5vJ4PDs7u99++82QQlQqlaWlJY/H67A3VlxcLJFI+vTpQyPl5uYmkUgyMzP79+8PAM7OznTogRuGz7DoiImDJZPJcnJy9u7dGx8fHxwc3Ldv33YNqlAoHDVqlEF9XkJGjhwJAEeOHDHw6IsWLQKAFStWdOEd/EFjY+P48eMBICAgoLm5mRDy2muvAcCaNWsMLOHWrVvwe5dcQ6VSSaXS4OBgHo9HfywBAQHp6ekKhYJuUFtbO23aNAAQCAQJCQkdDo50zp07xMmJlJcTtZpERJD16806WEqlsrS0VCqVJiQkREZGent7a35SGg4ODgEBAfHx8SkpKcePH6enqldeeUVvo3L16lUAcHR01D+uTQghRKFQODk5AcDVp590jHDv3r0//elPADB37tyCggI+n29tba1pwPSivcMpU6bQf1ZXVycmJg4cOFBz1ouNjc3Ly9PeUa1WJyYm8vl8AAgKCqquru7S2/jmG/LGG0++zsoikyaZabCam5uzsrK077xaW1uPGTPm7bffTk5OPnXq1P3799vtWFpaSm+erFy5UvchVqxYAQCLFi0ysEpHjhwBAG9vb2Pej05XrlyhlwJ0iGvZsmWG7/vFF18AwLvvvpuTkxMbG2tpaUl/UF5eXomJiXTEX4dTp065uLgAwPPPP3/hwoVOV/3hQ7JpE9m4kWzaRGJjn7x4+TIZNoxcv06EQjJoEBk0iDg46A1WN01NTktLW7ZsWUtLi5ubm5+fn4+Pj7e3t5+f3/DhwwUCgWazhoaGixcv5uXl5eXlJSQk9OvXb8iQIZmZmS+//PLGjRs9PDzeeeedDstXq9UHDhwAgL/85S8GVoneP543b16X31x7o0aN2rdv38yZM/Pz8/l8fk5OTkREBJ/Pt7OzEwgEzz33nFAotLW1FYlENjY2FhYW9P/W1tZisZiOSEml0u3btwOAUCgMDw9ftGjR5MmTtVt3bUFBQTk5ObNnz75w4cJLL73097//fdWqVYbsCMXFsG0b7NoFcjn06QNJSR3PsCguBgBITn5yz1uHTofaKFOmTAGAL7/8st3rlZWVUqk0MTExOjra29ubtuTUyZMnNZvt2bMHAEQi0X//+98Oy8/OzgYADw8PtVptSH1kMpmVlRWfzzf8yqCzpkyZYm9vr/83qoX+pbm4uEgkkvLyciMOrVQqExISaJ7CwsJ0tHPqlhayfz+ZNIkAEADC45Fp08iRI+TOHdK3LykrI4SQWbPIxo2dPRV2R4tVWVl57tw5S0vLt956CwAUCsX777+fl5dXWFjY+MfnwcVisY+Pj6+vr6+v77BhwzSvx8TEFBYWJiUlRUVFXbx40UtrjIc2P9HR0Qb9dQJkZGQ0NTUFBQXR/hDn1Gp1SUmJTCbbsmXL8OHDHz16RAiRyWRqtbq+vl6lUjU0NLS2tj5+/FipVNL/y+VyhUJRUFBQXV0dGRmZmpqqfQfTQEKh8OOPPx49enRMTIxUKn3xxRfT09PHjRvXdpvq6uq9e/fu37XrSl0d79EjsLOD2bMhPh58fJ5soXkIJTAQFi/W30S1Y8QfRGclJiYCQFRUlOYVV1dXenQ3N7fg4OD4+Pi9e/fm5OTQK6kOqVQqeoXl4eFRV1fX9ltyuZyO5dy4ccPAKk2ePBkAdu/ebdw70isrKwsAPD09DWxBNWjPb8KECZxUo6Kiwt/fHwDEYnFycjJ98fTp0xEREZoJYZdmzybbt5PHjzk5okZ3BIv2YaVSqeaVw4cPnzt3zvBhTEoul48dOxYAAgMD21767du3r1O/jIqKCj6fb2lpSRsSFqKjowHgk08+6eyOjx8/trS05PP5hl9I6tbU1KTpmAYEBHh7e9OvRSLRrFmzzp49y8lRtDEP1pUrVwCgb9++Bo4C6FZZWUmn3S1YsEDzYkhICHTUgXuazz77DABmz57d9fp0SC6X06vCkpISI3anI1L0XhNXUlNTbW1tR4wYAQCurq4SiYRd55JiHiw6k27x4sVcFZibm2ttbQ0A//znPwkhNTU1QqFQJBK1Oz9qUyqVRUVF//nPfwYMGAAA3377LVdVaod2+Iyea0Cn8cyZM4fbWl2/fr24uLjtsCpTbIOlUqnob/EnTh8QPXjwIJ/P5/P5R44cSU5OBoCwsDDtzR48eHD+/Pnk5OTY2NiAgADr3x+4s7W1tbKyOnToEIdVamvGjBkAsHXrVuN2v3HjBgA4OjpycqPJVNgGy+g+rF7r1q2jEaGdhvT09Obm5tzc3H//+9/Lly9/+eWX6ThhWzweb/Dgwa+99lpgYCAA2NnZFRQUcFsr8nsLamFhobcF1cHT0xMAzOqmcmexDdbcuXON68PqpVarNWOhQqFwxIgR2s+92NvbT5o06b333tu+ffuFCxdkMplmXzrw0fZuMVc2bdoEAK+//npXComPjweAjz76iKtadT+GwdKMAhjXh9WrpaVl8ODBdnZ2NEYCgWDIkCGhoaEJCQnp6elPm6hONTU10bvFEydO1DHGYYTRo0cDwMGDB7tSyIkTJwBg9OjRXNWq+zEMVhf7sHqp1Wp3d3cAWL16dW5ubmefI7h37x69uRsVFcXVmbqoqIi2lI2NjV0pp7m52dbWlsfjVVZWclKx7scwWF3sw+p19uxZABg4cKDRs0QKCwvpXZf169dzUqU1a9YAwMKFC7teFH3+Z9euXV0vyiSYBEuhUFRUVHS9D6vbwoULoTNTnTp0/PhxgUDA4/HS0tK6WB9NC8rJqOPWrVsBICIioutFmQQ3wWp3YW9lZRUeHt71PqwOLS0tjo6OANBuHrARkpKSAMDKyqqLYyJ0YsKgQYM4mGdHyO3bt+mla/cMO3HOqGDJ5eSXX8jOnWTJEhIUFDNmTLvLMT6fT+8GZmRkcF3hJw4ePMhh9/bdd9+lQ9JdGY/+61//CgAffvghJ1UihPj4+ADA6dOnuSqwO3UmWK2tJCqKeHkRgeDJLAsAApASEGBvbx8QEBAbG5ucnHz+/PnffvstMjLS2tq6qqqKUb1ff/11ANi0aRMnpSkUiqlTpwKA4dOg25HJZLS7xuHY2MqVKwFg1apVXBXYnfQFq92Meg8PAkBEIuLrS956iyQmkuPHm+7ebbdTTU0NvZifMmUKi5b8wYMHYrFYIBDcu3ePwzINnwZNCKmsrMzOzk5OTo6Ojvbz8xOLxf369bOzs+PwOu77778HgD//+c9cFdiddAZLe0b96dPk6lXyx9vJrS0tly9f1h7ypmfD+fPnc17pbdu2AcD06dO5Lba0tJTOgteeBk2ntqakpCxatCgwMFDznIyGQCCg79fV1ZWrKQP79++3sLCIiorqid0sncHSnlFPVVaS7GySnEyio4mfX6vWXDk65H3gwAEbGxsASEpK4rbSdB2Eb775httiCSHnzp2j0+vWr1+fkZGxdu3amTNnenh4aM8fdHZ2njp16rJly3bv3p2Tk9PU1FRXV0cnJgiFwsTExK6MjdXU1MycOZMeaMOGDRy+wW6jM1jaM+q///7JCjtt/xMKZ4wbFxUV9emnn0ql0jI6n5UQQkhmZia9W3z48GGualxWVsbj8WxsbIzrDOm1c+dO+rfRNkYikcjb2zsyMjIhIUEqlZaWlna4b2tra0JCAp1gHRYWZtx8r4yMDPr8iJ2dXUpKStfejcnoa7E04wUnT5LJk8mNG09W2AkIIPHxJCWFnD+ve/3n9evXA4CtrS1XT1l98sknABCtb80Mo9XX14vFYgsLi2nTpq1evXr//v0FBQW6V5Jp5+jRow4ODgDg5eXVqdGQhw8fxsbG0igHBwdXVFR0vvrmQmewqqraz6hXqUgn+8tqtZpOp+zfv/9drW6+Ierq6tp2MuhceC4f+f0j+uDGSy+91JVCfv31V/r0rK2t7YEDBwzZ5cSJE3SKkZWVVWJiIieDYSak76owPZ14exNPzydrFhqlpaWFzjH38/PTu/QUfaAgPT09ISEhNDR0yJAhAHDp0iX63UuXLgGAi4tLp5qQTqHjDjt27OhiOU1NTQsWLKDNT2xsrI4JtDKZLDY2lnbjJkyYYPjMfXPWTY9/3b9/n84xioiIaNerraio+Pbbb//xj3/Mnj3bx8dHe/aLnZ2dpotGV2f84IMPGNXTiGVFdEtJSaFXAwEBAR2ORGRnZ9N74ZaWlomJiT16cl9b3feIfVFREb1KX7t2reZFlUpFrxzbXrc/bfaLUqmkYxmXL19mVMkNGzYA13focnJy6D1EZ2fnts9FNjY2SiQS2tMfN27c9evXOTyoyXXr2g1ZWVlCoZDH47UdKQgJCWl73d5uwolCocjLy9u3b59EIhk/fjyPx3N3d2dXQ9ox4vAaltIeifjxxx/peKxIJJJIJD1xpEq37l5tZseOHQBgYWFx5syZDjfQvp/dtj1zcHAQi8WaLhe3CgoKAMDR0ZHbqX9Ua2vrmjVraEdq2LBhtKF64YUXrl27xvmxzIEJljGiiwc5OTndvHlTLpf/8ssvO3fuXLJkSVBQkPYyRnw+39PTMzw8/OOPP87MzKQXmK6uriwuxem9uffff5/zkjXoSASdSC2RSDh5JM48mSBYSqWSLnJnb2/fdkUQytHRcfLkyXFxcV999dWlS5ce//EJXaVSGRwcDAA+Pj7cPm6qUqnoE4usH2G4efPm/fv3c3NzmR7F5Eyz8NqjR49iYmL8/f2FQqGmq05HtPXeCZHJZHQ+SUhICIfXUJ1dVgTpZsoV/SorK407F9y6dYve9Fi+fDlXlaHrGRm+UijSzbzWIDXcuXPn6DJuBn2CiD6NjY305mDvGJw0Bz01WMSARbMMl5aWBgDjx4/npGKI9OgPEIiJiVm1apVSqYyKiiqha6Mbiz6pZvhqgEgvHiHE1HUwnlqtDg8PP3z48JAhQy5duuSk+WDSzqitraXXg1VVVcaVgLT14BYLAPh8flpa2tixY2/duvXGG2909iNPm5qacnNzly5dqlQqQ0JCMFUc6tktFlVVVeXv73/37t358+fTD//QsWVRUVFhYWFubm5ubu6NGzdUKhUAhIWFLVy4kD4jijjRG4IFAJcvXw4MDJTL5UlJSXRFLgCQyWT5+fn5+fnXrl3Lz88vKCior69vu5dIJBo2bJivr+/SpUvbLdGJuqiXBAsADh48GBUVxePxwsPDm5ub8/Pzy7XWY3Vzc/P19X3hhRfo+rne3t5GLyCLdOs9wQKAlStXpqSkNDQ00H+KRKKhQ4dqlpUfO3asZlFdxFo3fYBA9+jTp09DQ4Ovr+/f/va3kSNHenp6at+LRN2jV7VYvr6+BQUFx44de+WVV0xdl2dd7wlWbm7umDFjnJ2dKysrtT+GHnWznj2O1RYdPX/zzTcxVeagl7RYdDZVdXX1zz//TD9kAJlWL2mxsrOzq6urhw4diqkyE70kWPQ8SBdpRuagN5wK5XK5q6urXC6/efMmfcAVmVxvaLEyMzMfP348adIkTJX56A3BwtlUZqjHnwrph3sLBIKqqirtp8eQqfT4FistLU2lUoWGhmKqzEqPDxaeB81Tzz4VFhUV+fj4ODg43Lt3jz60g8xEz26xvv76awCYNWsWpsrc9OxgZWZmAsCcOXNMXRHUXs8+FT569EgqlUZHR2uvaoxMq2cHC5mtnn0qRGYLg4WYwGAhJjBYiAkMFmICg4WYwGAhJjBYiAkMFmICg4WYwGAhJjBYiAkMFmICg4WYwGAhJjBYiAkMFmICg4WYwGAhJjBYiAkMFmICg4WYwGAhJjBYiAkMFmICg4WYwGAhJjBYiAkMFmICg4WYwGAhJjBYiAkMFmICg4WYwGAhJjBYiAkMFmICg4WYwGAhJjBYiAkMFmICg4WYwGAhJjBYiAkMFmICg4WYwGAhJjBYiAkMFmICg4WYwGAhJjBYiAkMFmICg4WYwGAhJjBYiIn/B8VEYLPWblveAAAAAElFTkSuQmCC\" alt=\"Mol\"/></td>\n",
              "      <td>Inactive</td>\n",
              "      <td>NaN</td>\n",
              "      <td>0.69</td>\n",
              "    </tr>\n",
              "    <tr>\n",
              "      <th>16</th>\n",
              "      <td>Oseltamivir</td>\n",
              "      <td>VSZGPKBBMSAYNT-UHFFFAOYNA-N</td>\n",
              "      <td></td>\n",
              "      <td><img data-content=\"rdkit/molecule\" src=\"data:image/png;base64,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\" alt=\"Mol\"/></td>\n",
              "      <td>Inactive</td>\n",
              "      <td>NaN</td>\n",
              "      <td>0.61</td>\n",
              "    </tr>\n",
              "    <tr>\n",
              "      <th>17</th>\n",
              "      <td>Chloroquine</td>\n",
              "      <td>WHTVZRBIWZFKQO-UHFFFAOYNA-N</td>\n",
              "      <td></td>\n",
              "      <td><img data-content=\"rdkit/molecule\" src=\"data:image/png;base64,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\" alt=\"Mol\"/></td>\n",
              "      <td>Inactive</td>\n",
              "      <td>NaN</td>\n",
              "      <td>0.55</td>\n",
              "    </tr>\n",
              "    <tr>\n",
              "      <th>18</th>\n",
              "      <td>Tetrandrine</td>\n",
              "      <td>WVTKBKWTSCPRNU-UHFFFAOYNA-N</td>\n",
              "      <td></td>\n",
              "      <td><img data-content=\"rdkit/molecule\" src=\"data:image/png;base64,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\" alt=\"Mol\"/></td>\n",
              "      <td>Inactive</td>\n",
              "      <td>Inactive</td>\n",
              "      <td>0.73</td>\n",
              "    </tr>\n",
              "    <tr>\n",
              "      <th>19</th>\n",
              "      <td>Hydroxychloroquine</td>\n",
              "      <td>XXSMGPRMXLTPCZ-UHFFFAOYNA-N</td>\n",
              "      <td></td>\n",
              "      <td><img data-content=\"rdkit/molecule\" src=\"data:image/png;base64,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\" alt=\"Mol\"/></td>\n",
              "      <td>Inactive</td>\n",
              "      <td>NaN</td>\n",
              "      <td>0.55</td>\n",
              "    </tr>\n",
              "    <tr>\n",
              "      <th>20</th>\n",
              "      <td>Favipiravir</td>\n",
              "      <td>ZCGNOVWYSGBHAU-UHFFFAOYSA-N</td>\n",
              "      <td></td>\n",
              "      <td><img data-content=\"rdkit/molecule\" src=\"data:image/png;base64,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\" alt=\"Mol\"/></td>\n",
              "      <td>Inactive</td>\n",
              "      <td>Inactive</td>\n",
              "      <td>0.78</td>\n",
              "    </tr>\n",
              "    <tr>\n",
              "      <th>21</th>\n",
              "      <td>Cobicistat</td>\n",
              "      <td>ZCIGNRJZKPOIKD-UHFFFAOYNA-N</td>\n",
              "      <td></td>\n",
              "      <td><img data-content=\"rdkit/molecule\" src=\"data:image/png;base64,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\" alt=\"Mol\"/></td>\n",
              "      <td>Inactive</td>\n",
              "      <td>NaN</td>\n",
              "      <td>0.55</td>\n",
              "    </tr>\n",
              "    <tr>\n",
              "      <th>22</th>\n",
              "      <td>Danoprevir</td>\n",
              "      <td>ZVTDLPBHTSMEJZ-UHFFFAOYNA-N</td>\n",
              "      <td></td>\n",
              "      <td><img data-content=\"rdkit/molecule\" src=\"data:image/png;base64,iVBORw0KGgoAAAANSUhEUgAAAMgAAADICAIAAAAiOjnJAAAABmJLR0QA/wD/AP+gvaeTAAAgAElEQVR4nO2daVxT19aHVxLCGEBArAIODA6ACoqCgiICCgJqq2JrK63aVq1DQK9DlVuD1AEcaLTWlvb21txWq1z1+tJWqyhUoQoKrQODjFIEUSkgMwSS9X7YNEUmk5OEJHieXz5AcvbOCvyzzz7rrIGBiEBDo2iYqjaApn9CC4tGKdDColEKtLBolAItLBqlQAuLRinQwqJRCrSwaJSCZgurra3t559/VrUVNN2gwcJKS0ubOnXqnDlzvL297969q2pzaJ5Dg4VVXFycnp6ura2dlJTk4uKybt26yspKVRtF044GC4sQEBCwdetWJpP52WefjRw5Mjo6WigUqtooGs0Xlra2dlRU1N27dwMCAqqrqz/88MPx48efP39e1Xa97Gi8sAijR4/+6aefEhIS7O3tc3NzAwMDZ82alZ2drWq7Xl76ibAIvr6+d+7c4fP5xsbGly9fdnZ2Dg0NrampUbVdLyP9SlgAwGazQ0NDCwsLuVyuWCw+fPiwra3toUOHRCKRqk17uehvwiKYmZkdOnQoNTXVw8OjsrIyLCxsxYoVqjbq5aJ/CoswadKkmJiY0aNHAwCLxVK1OS8X/VZYDx8+XLJkyZQpU3Jzc62srAIDA1Vt0ctFPxRWU1NTdHS0g4PDyZMndXV1t27dmpOTs3DhQlXb9XKhpWoDFMwPP/zA5XKLi4sBICgo6NNPPx0xYoSKbXop6T8r1m+//ebp6Tlv3rzi4uIJEyZcu3bthx9+oFWlKvqDsCorK0NDQ11dXZOTk83MzPh8/q1bt6ZPn65qu15qNP5UmJ+fb2trW1NTw2az165dGxkZaWxsrGqjaDRZWLW1tQDw+++/A8DcuXMPHjw4cuRIVRtF044GC+uHH34YNGiQrq7u0aNHaW+CusHQ0BT7pKQkb29vDodz//59S0tLVZtD0xmN3LyLRKKwsDAA2LZtG60q9UQjhRUbG3v37l1ra+uNGzeq2haa7lGdsLZsAV9fmD4d4uJkGicUPouK2gsA+/fv19XVVY5xNPKios17UhLcuweXL0NdHYwbB35+YGwMn38OCxfCoEG9D33yJOKrr+Dq1WX0XRp1RkUrVno6zJwJAGBoCPb2kJMDSUmwZg3Y2kJEBLS09DSuuTmnouKouXn5Rx+F9Z21NLKjImEhQserURYLrKwgMBDq62HnThg/vrHkYrfjHj7ciNg6cOBKPT2nPjKVhhIqEparKyQmAgDU10NeHhQVQW0t/PgjXL4MY8e2WXByKvzz8nybmjI7Dqqp+aG29mcWy8TCIlI1ZtNIjer8WNu3w82b0NoK770HGzdCZSUsXQr79oGZWfWDr/9o3CYSPWMw2Obma62s9jMYWgCQne3U1HR36NBPBg2iz4NqD6qc2lrcvBm1tREAjYyafzoqFre0tlaWlHAzMlj5+UGSA5ubi0pKQsVioQqNpZEStfG8FxTA9u1w5XLmWQaYmVpa7jExCW5qugPAKi+PRGwTi5sMDCZZWHysakNppEJtHKR2dhAX15x+hjFwcEtLQVHR4vz82SyWaWtrGYtlaGt7duTICyyWKWKrqg2lkQq1WbH+ArGtsvLfZWX/BGCMHZsHAEVFr+vo2BgZ+RoZ+TOZ+m1tT58+/Wzw4C1MpoGqjaXpEbUTFqGtrbK5OYfDmUZ+FQr/qK299PTpp6NGJZaVbfvzz3+x2RYWFryBA99To0WXpgNqKiwJ1dX/ZTJ1jY3nAkBh4fzBgz8EYDx8GNrQcBMAzIT+I5gR4OamajNpOqPuX3cOZ1pFRWxh4asFBXPZbMtnz37S0jIfMybVxiZOW3vYkMP1MHUqLF4MJSWqtpTmeVR7Udo7jx5FPngQIhSWk1+rqk6mp0NGBrukhNvWViMS1WH4dtTVRQDkcPDzz1VrLU1H1HfFEgpLHz+Orqz8trk5lzzD4XiamS1DFD19ejgrcwycOweRH0NeHoSEQH09GBmp1mCajqivsMrKtojFDSYmrxsaziDPsNlDRoz4xt7+FoczbUiiDXNhCEyeDH/8Af/5D6Smwu3b1OJwaJSBmgorNVWcmTmIxTK0soru9JK+/sTRo68NtF4PVlbw22/g6QkhIdDQ0B6Hc/48bNkCdOkiVaOOwhKLYf165rx5/OTkEm3t4d0dwmC8+jrk5kJUFBgYAJsNGRmd43BoVIo6CksggPR0sLSEFSsG9Hacvj5s3QqZmbB3bzdxODQqRR2FdekSAEB0NBhI41ofPhxeeaVzHI69vVItpHkhauogvXQJZs0CBkOWMZI4nLAweO01ZVlGIx2qEVZKChw5AidPAgAMHgyPH0NKCvj7Q3ExDBwIzs5w+3bfG0WjSNToVOjoCDExqjaCRkGoLMX+6lXw9wcAqK5uf8bdHX777e9faTQalQlrxoy/T4UERFi/Hg4dknFrRaOWqNGpEAACAyE5GeiWJf0A9RIWAKxdC9nZUFqqajto5EMd3Q3bt8OBA3DpEnh5qdoUGqqo3YoFAAYG0NoK69ZBW5uqTaGhijoKa9MmsLODrCz4179UbQoNVdTxVAgAp09DcDCYmkJ+PpiaqtoaGtlRxxULABYtAi8vqKqCgwcbVW0LDRXUVFgAwOeDl9c5Pt/i/v37qraFRmbUV1hOTjB69M+NjTXr169XtS00MqOmeyxCVVXVyJEjq6qqBAJBdZd7Pe/p6Bh0qqTl7AwzZvSdfTS9oNJUjhcTExMDAN1WsG2xsUGA5x7r1iEibt6MPj44bRqeOqVq819e1HrFAoDW1tZx48bl5uZ6e3uPHTu240u7ORxOff1zR3t6gqkp7NsHFy60F6G8cwfoRhWqQN0bCLDZ7AkTJtTU1EREREjVHmf//s7B71OmKNtImq6ou7CKiorOnTvX0tIyc+ZMxvNhD/U2NjpFRc8dvXYtWFjQwe/qgPpeFRI2bdrU3Nw8e/ZskUjU9jyMtjbo9BCJ6OB3NUGt91iJiYk+Pj6kr8mgLmW62QwGdDKexQImkw5+VwfUV1gikWjixIl3797ds2fPtm3bVG0OjWz00anwyJEjFy92X2G7JyR9TTZs2KAkq2iUSB+4NMaPH0/23UFBQbm5udIMqaqqGjhwIACcOXNG2ebRKIO+EBZpzGxoaAgAbDaby+U+e/as9yFcLhcAZs6c2Qfm0SiDvhCWtbU1AGRkZHC5XBaLBQCkc3NbW1u3x2dnZ7PZbBaLdefOnT4wj0YZ9J2wCgsLEZH0midn4QkTJly9erXr8f7+/gCwZs2aPrCNRkn0tbAI8fHx5Emy8SoqKur4EgCYmJhUVFT0gW00SkI1wkLExsbGqKgosvHS09PbunVrbW1tS0vLqFGjAIDP5/eBYTTKQ2XCIpSVlYWEhJBrRgsLC9KC0N7eXiik+5poNiq+pWNhYfGf//wnJSVl0qRJjx49Onv2LACsXr2azWar1jAaOVGLe4VisRgRAYAsXRs2bFi+fHl5ebmq7aKhjoqFVVZW9vbbb3t6emZkZFhaWn7xxRc7duzQ1tY+duzYyJEjIyIimpubVWshDUX64HTby+adw+HAX5v3uro68lJBQcH8+fOJeQsWnP/f//rARhoFozJ3A3HHA0BQUNCDBw+6jkpISJg+fbGBgRgAfX3x3r0+sJRGYfS1sDIyMiSBoBMmTLh27VovA0UiFAjQ3BwBkMnEkBB8+rQP7KVRAOp4S6cTlZW4bh1qaSEAjh+vbGNpFIOa3oTuyv37GBCAJ05gcjIaGCBxyzs5ISImJ+Prr7cf9sorCjSchjp9cVWor6/PYDDq6urmzp2blZV16NAhY9kzZ0aPhp9+giVLAOhqpZpAXyRTNDU1IeKxY8feeecdhUzYtVpp14qmNKql77J0pEreko6u1Uq7VjSlUS1q4XmnAF2tVM3RSGGVl0NkJHh6Qna2qk2h6QHNE9a0aeDiAjweNDS0Z39Nm9Z+HgSAx49VaBrN32iesGg0AlpYNEqBFhaNUqCFRaMUNFJYRkaZHh7fmJqmq9oQmh7RSGHV1p7/9dcVVVV0t3r1RSOFRaP+0MKiUQpKF9bVq1cVO2FycnJJSYli56RROMoVVnR0tJeXV9dK2tQoLS19++23Z8yYcfr0aQAQi8UKmZZGKSgpzqutre2DDz4AABaLNWXKFF9f3/LycsqzNTQ07NixQ09PDwD09fWDg4PHjh07aNCguLg4BdpMo0CUIqyWlpbFixcDgI6Ozrfffvv9999/9NFHFOcSi1tOnrQdPhwAGAzGkiVLSkpK2traHB0dyRfD398/JydHoebTKADFC6uurm727NlkaXF3d9fR0QEAJpP56NEjmefKyMBp0xAgztNz4sSJJPMiKSnJyckJAHx8fEhxNi0trZUrV8pfRKS6upqkztLIj4KFlZGRYWVl1fFUy2KxZsyYwefzq6urZZiovByXL0cmEwFw8OAWgUAkEhUVFZHiDgBgbW199uzZyspKSYKGqamp9AkaHamsrBQIBEFBQTo6Otu3b6dPrwpBMcIqLCzk8/kuLi4d9eTh4cHn86ksVImJaGSEAKitjVu2YE0N1tXd379fV1cXAAwMDHbv3k3CnQnZ2dl+fn7kfe3t7S9cuCDNm5SXlx89etTHx4f1Vy148oOxsXHHsko01JBLWJmZmTwer6OeyD/myJEjFPJw/qamBgcPRl9fzM5GsRjj4nDYMGSxFo0eHRwc/Mcff3Q7KD4+3sbGhtgQFBTUbXEbRCwpKeHz+b6+vlpaWp2+A48fP37jjTcAYPLkyXS5GzmhLqx169ZJxGRkZKStrQ0AXl5eNTU1FGfs2FyJXEKmpqKbW3sDJje3prS03idoaWnh8/kkz0xbW5vL5UqMKS4u5vP5Hh4ekvYWurq6QUFBpK+YZIbq6mqSrBYeHk7xU9AgojzCOnPmjLm5eUhISHh4OHEELFiwoOMZSjYSE9HfHxGxthaHD8dnzzAyEhkMBEALCxQIUOptdWlp6dKlSyU1t958801nZ2fJd4DD4SxevPjUqVOSUhGdSE5O1tLSYjKZly9fpvhZaOQR1rVr106cOBEdHU3OKevWrROJRNQN2bcPo6Pbf/b3xxs3MCUFtbWRy0VKS+CtW7fc3d0BgLS0GDBgQHBwsEAg6ElPHYmIiAAAS0tLulwlZagL69133yV+BAaDsXv3bnkNiY7GqKj2n/398eZNRMQnT+SZUiwWk0500dHRLS0t0g8UiUTe3t4AMGfOHNoBQQ3qt3QaGhoA4P333//qq6+2b99OeZ52um2u1KV/jkwwGAxTU1MAcHNzI1tAKWEymQKBwMzM7MKFC0eOHJHHhpcWeYUVEBBAli558fICFxfw9YXAQDhwADgcBcwpB1ZWVgKBgMFgbN68+fbt26o1RhORV1gGBgYKs2XPHrh8Ga5eVZOWXYGBgatXrya3p+o7tXKleRHqJCz1IyYmxsnJKT8/f+PGjaq2pY+4efNmbm5uTU2NnPP0c2FZWQU6OXG1tMyoDdfV1T1+/Li+vv5XX331/fffSztsyxbw9YXp0yFOk4Knc3NzAwIC3NzcAgMDbW1tDx06JBKJKM9GvSgIOTtwVL0Z6p3S0i137kBbG/UZHB0dDxw4sGbNmlWrVmVlZZGrAQkbuzbjNDKCe/fg8uX2bud+furf7byqqmrHjh2xsbFtbW0DBgzQ1taurKwMCwsTCAR8Pl/SokY2KF9PmpubA8AT+TwCysbTEwHwl1/kncfW1nZwd4VssOvj1Vc7O+SUQ2tra15eXlJSEoX77h0niY2NJf9KEiTy9OlT7LUnjZRQX7E04lSoEE6fPl1YWKijo7Ns2TITE5PnXuu6YjU390G389bWVi8vr8bGxtu3b5uZmQUEBAQHB/v5+cnkVUlMTAwLC7t37x4AeHt7f/LJJ+PHjwcAkUg0ffr0rKysw4cP7969+8cff7xy5QqXyw0PDye3y6SCmtLFYjGDwWAwGHJ525WP/CvWw4cPyenvs88+k2pAUhLOno2IWFeHNjYohaOfAlu2bAEAMzOzkSNHSv6VJiYm77zzTnx8/AtvrOXn5wcHB5NRdnZ2nSKFvvjiCxKD1NraWlpa2rEnjUAgkNJjTFFYZIOlr69PbXifIaewRCKRl5cXAAQGBsrggt+2DX180NMTz57F1lYsLqb49j2QmJjIZDK1tLSuX7+OiJmZmVFRUR4eHhKF6evrk/vrtbW1ncbW19fzeDxJABKPx+uqQonmxo8fn5iYiIg3b96cOnUqeXLy5MnkfXuHorCePHkCAObm5tSG9xlvvIHW1viiqIge2bFjBwBYWlr++eefVMYXFqKjIzo4YGsrRQu68PTp0yFDhgDAnj17Or304MGDniI4nj17JhaLBQIB2SkyGIyQkJBeshC6xiB1Gh4cHFxSUtKLnRSFVVRUBAAjRoygNlwjuHbtGovFYjKZV65coThFSwuOGoUAePiwQkwSi3H16sNkS9TLJqS4uPjgwYPu7u5MZrs7SUdHR7IZd3d3v3XrlhS2t/D5fCMjI+gQg1RbW7t161YSbm5oaHj79u2ehlMUFtnxOTo6UhvePR3jseSma9Vumaiqqho+fDgA7NixQy47zp1DADQxQUUESsTEIAD6+cWVlZVJc3xFRQWJumaxWFZWVqamptJvkghlZWUrV64kAh0yZEhsbKxIJPrjjz/eeOMNExOTVatW9TSQorBSU1MBwNXVldrwbugaj4WIlKO7EJOT0dUVt21DpCSsV199FQA8PDxa5T+L+fkhAK5dK+c0GRmoo4MMBv7f/8k8dvPmzQCwjfw5ZCc1NdXNzY0seEePHkXEx48fA8CgQYN6GkLR8058DYr0jqanw8yZAACGhmBvDzk5cPs2DB0Khw5R9m92qtqdkgIZGVINPHr06Llz5wYMGPDdd99JIpipc/AgaGm1ff11hRwlUxsa4K23oKUF1q+HefNkHk68Qmw2WyQSXbx48cqVKzINd3Nzu3HjhkAgcHNzk7KmOkVh3bhxw9DQUAavxgtB7Oz+OX4c/vwTwsJg4sT2iBrpqK+HgwdBJOpctXvLFpg0CYYPh9BQSEmBnvKos7KyNm3aBACff/65pJOUXDg6Zm3f7mxl9WZoKOU51q2D+/dh7FiIipLLlubmZn9//3mya5PBYLz99tupqan6+vpSDaCwMN68eZPD4ejq6t69e5fa0toNndw/ZEdy5gza2LR7tF97TdRDfoQESeIFAG7YgKGhiIje3ujggCIRcrloafm3h9zSEnfuzOzkuW5qaiJOwpUrVyrsoyFWVVWRFMj/Ue2RFxWFAwZgdjZFA0hM7I4dOxTlJ3rhqVBmYRUUFLzyyisAsHTpUgVHV0rcPydPoo1Ne7Ovlhbk89HICBkM7sSJHfMjOnH9Orq6totmyhT88st2YZ05gx2/PpmZyOO1X6uNG7caAMzMzEJCQuLj41taWlavXg0ADg4ODQ0NivxoiJ9++ikA2NjYUE4LkCkvsxPqLqwnT54QV29gYKACdrU9ceFCe7MvU1P89FNsbcWysoItW4h7ZsiQIceOHeuo6dLS0s2bfyaJF5aW+O23UiVeZGRgePhHo0ePlizeZMuoq6t7584dhX8moVA4btw4ANi7d680x8t5VdsJtRZWTU3NhAkTAMDV1bW+vl5Oy15AZib6+ravP46O4oQERExPT5f4l11cXJKTkyX5XgMGmAweXMHlYhdXszRv9bfn+p133pH21o2MfP3110TEenp6np6eMzsQEnJw5kzs9Dh7Vq6r2k6or7BaWlpmzZoFAHZ2dn0X0ZCQgPb2CHDZy8vX1zcrK0ssFsfFxREP08yZMyWb60WLFhUXy55y/Tx5eXnyRAr0Qm1tLXGXBwcHzyQXvx1wdt7YNUji+HEMC0M/P6yq0khhSXUtLRaLQ0JCEhISLCwsEhISBsmX4yADvr7w+++tR46siI4uqaiYOHFiaGhoeHh4QECAq6trUlISADg5OfH5fHJHT0463tBVLB9//HF5efnUqVNPnTq1fPlyXV3djRs3+vj4kFe1tMy7elTE4m56UWkS0sgzLCwMAIyMjH7//Xc5lU6NioqKjt1ZV61aNXXqVA6HQ60KSB9TUFCgo6PDZDJv3ryZn59Pfn7hTZXk5OeuauVEHU+Fe/bsAQBtbe2EhAQ5rZETST9pEsfC5XJVa4+UvPbqqwCwfPlyRAwICADpfBkSYZGr2qoq3LULKccoqZ2wvvvuOwaDwWQy//vf/8ppikIQi8XHjx9fsWIFAGzevFnV5khBQkK9o+O6yZPLy8sTEhIAwNDQkEJxQ+JJkaT0ykrfC6s3z/v58+eXLVuGiJ988smiRYuUcSKWFQaD8eabb3b0Eag1IhFs3GiQlfXpokWDzcy+2rkTAHg8XrdRzr3z8cfAYMA//wk3bshlEYvFcnFxmThxIoWxbW1t5LshFT0pjrjXAYB6lUelER0dDRqxYh0+jABoY4PNzcjno4HBz4sWyZTs35F//KN9Mgq1LCQrFrW3RsQrV66MGzeOwWCkpaWhPCtWQ0ODWCyeP3/+zp07KaibBqqrgfzpYmKgoQEiI6GhwW/ZMpnC0juyZw+4uEBREaxbJ8NdebFYfP369YsXLwJARkYGhYyugoKC+fPn+/j43Lt3z9bWtqmpCQCyX3hDvSfFbdiwAQDmzJlDWePKQzNWrLVrEQC9vRERV61CAPT1lXPKggIcM+aBo+OUb775pvcjRSJRcnIyl8u1tLQk/2jiSBszZoyUFQ+xhzhmSXlONpt98eLFnsb2KKwnT54MGDAAAM6fPy+lHX2GZggrNRU9PPDePczMRC0t1NLCzEz5Zz12TAAAHA4nNze366tCofDnn39+//33SUYXwdraetOmTdHR0ZIg0oULF/ae0dVtHLNQKPzkk0+IKthsdmhoaFVVVU8z9HZVeODAAaJxdaubqBnCkrB4MQK0Ow8UwVtvvQUAEydObG5uJs80NTXFx8evXLmyo+/a2tqay+UmJydL7qt2G23cdf60tLSuqRMJCQmkJhQAkNNi70b2JiyhUEiuv2JiYqj8AZSGhgmrrg4jIrDnL7fs89WNGjUKALhcbnx8fEhICNEKwcHBgcfjpaen9zT80aNHXaONOx4wd+5cABg6dOiJEyfEYnFeXp4kb2fkyJFSVpV+gR/rxx9/BAAjI6PHjx9LM13foO7CUmjwfrekpaWx2WzJdQCDwZg0adLevXvz8vKknOHWrVsd7+inpKRIXsrLy+PxeA0NDXV1dTwej6ROcDgcHo8nWSNfyIs973PmzAGA1atXSzljH6DWwuo2eF8JnDp1at++fR4eHjExMcWUUhfJHf1hw4bBXxldknlEIpFAICCBd0wmMyQkRNaV5cXCysnJYbPZTCazl9W1j1FrYXUtpqreNDQ0SC799PX1eTze1atXJakTbm5uqampFKZ9ccz7mDFj1q5dKxaLw8LCsFOdApqudA3eV2/09fUjIiKys7MXLlzY2Ni4c+dOb2/vtLS04cOHnzp1qmN+jkxIlUzB4/HMzc1TUlLOnDlD4T1eLrotpqr2WFtbnz59OjEx0czMTFtbe82aNTk5OaTTFkWkXNk+//xzABg6dKg0weDV1dWXLl3atWvXvHnzYmJidu/eLU0RbCkRi8VLliwBAD8/PzWNmelYu0HTmDRpEgDcJFWr5UBaYbW1tZGeW7t27er6amtra2ZmpkAgWLlypYODgySzGwBItOfAgQOjoqIaGxvlNDcjI2PatGlkQgBwdnb+Rf7iVzQd6GthIWJiYiIA6Ovrk242eXl53333HZfLnTJlCrkilaCnp+fu7h4WFnbixImzZ8/OmDGDPG9lZcXn86W/ZO1IeXn58uXLiWQHDx78wQcfEMkCQMfLGRo5UYGwEJF0dbO0tOxUMZHJZDo4OCxbtuzo0aMZGRldPfUJCQmSXk4jRowgVQmlfFOhUCjxF7PZbIm/uLGxMTIykuT46unpHThwT9kZHi8DqhFWUVHRggULSOecIUOGBAUF8Xi8+Pj4ysrKF44Vi8Xx8fEkHRQAHBwc4uLiXpiZGB8fb2trS4b4+vpmd0nZLCsrCwkJGTfOncEQW1hgbCz1MEsaVJWwCElJSQ8fPqT2fiKRKC4uTqKVyZMnx8fHd3vk/fv3iW8WAEaPHv3TTz/1Mu2NG82TJ7fnt0ydinL/WV5eQm/ffjU9PUue7FhEVFJP6BciFApjY2MtLCyIbtzd3ZOSkiSvVlVVcblcUo3DxMQkKipKmuA4kQi/+QaHDEEAZDJx/34l2t+PCcnOdklPz5J7V6EaYRGam5tjY2PJfQNypktLS+u2iK/01Ncjj4f6+vivf3XOJE5Oxtdfbz/slVcU+1H6D/1BWISamhoej0f25hI/ha+vb6Yc0UuVld3Ux6KFJQ2KEpbcxZ/kxsjIKCIiYv369dHR0ZWVlYWFhRs2bJg/f748c5Jr1k71sQDg6lXw9weA556kUQaqFxbBzMxs3759ip2zaybxjBlw8iQAgJRpMhUVFR1DMWmkh3ovHY0gMBCSk0EolHlga2vrsmXL7OzsysvLlWCX+rJh6NAYW9uhurpyztPPhZWWBlOnAoUSjWw2mxQJVkCPT41iAofjOWCAodxBGQzs15EwM2bAtWvwyy/w110lGSgqKnJ0dGxpaUlNTXV1dVWCdepFZWvrwqws57/qyu62tjaQQ179fMWSBxsbGxKCFhoa2r+/fhKG6ujw7ezIQx5VAS2s3gkPD7ewsEhNTT1+/LiqbdEwaGH1BofD2b17NwB8+OGHpAK5lDx69Oi999579OiR0kxTCiUtLevz89fn528sKJB3LvldauqM/N2/xGIx2WBJWcOiqalp9+7dpOzFihUrqL9xn/OnULiUclnmLvRzYS1aVGdn15ScLFeA4fXr1xkMhq6u7oMHD3o/smtvI3net4+hhSUDpO2s/FGmJPk4ODi4pwOys7P9/PyIpOzt7aWvj7cNlGAAAAM4SURBVNBfoYUlFaWlpSSisGMUBkFSJAMASP9INY3E71toYUlLZGQkADg5OUl0Q4J/SPQ9icWoUESLr/5BfxaWpGapQoTV1NREqn/Hxsai7EUyXjb6p7AkdS/s7OwUJSxEjIuLI+c70nQOZCmS8bLR34TV3Ny8d+9ecrWvo6MzZswYXV3dd999V/7MM0R89uyZlZUVCW01NjY+cOAA5bqP/Z5+JaysH3+UXO2/9tprBQUFFRUVpCrBsGHDTp06RbmrVFtbW2xsLKk+xWQymUzmr7/+qljj+xn9RVg5OejvLzY2HmVqOmbMGFKF8NatW+7u7iwWS5Ia5OrqekP2Kh2//PKLs7MzmcHNzY2cB2fNmqWEj9F/0HxhVVTgBx8gi4UAaGb24Nix1tbW0tLSpUuXkm5hlpaWly5d+vLLL8l6YztsWNvKlShlO6DiYuHSpbYmJgBAimQg4tOnT9W2iKb6oOHC+ve/0cQEAVBLC7lcrKzExsbvDx4kPiddXd3w8HBJo7Jnz5794x//+J+HBwKgsTHu34+97JDq6/Gf/0Q9PQS45+sbGRnZcZd28OBBALCzs6P3WD2h4cL68ksEQB8fJL1e4+PR2rrK2bm3Oyp5eRgc3J6CaGeHXa/pSJ/W4cMRABkMDA7GLvn7altEU33QTGFJajGePImkw8/vv+OMGe1ycXLKunbtBTNcuEAa1iEAJic/V9wxLq79+cmTsecduqSIJoX+JS8DGiisTrUYKytx1ar2PZa5OX7xBUp5R0UoRD4fFy/uZkI/P/zmmxfm6pNE7VWrVsn5gfolGiisrrUYFy9GNhtXrkRqd1SoFndUwyKa6oMGBvp1rcV48CDcvQuxsTBwoGImlA66iGZvqFrZspOUhLNnIyLW1aGNDcpfK1COCaurq0nioZq03VMfNFBYqIRajHJMKFMRzZeHfp7+1QeIRCIXF5c7d+7s2rUrPDxc1eaoC7SwFEBKSoqnp6eenl5OTg6px0+jLrUbNJpp06YtWLAAAFhqX9W9z6BXLMUgFAopd7jsl9DColEKGujHotEEaGHRKAVaWDRKgRYWjVKghUWjFGhh0SgFWlg0SoEWFo1S+H9HbWvxh6cGYgAAAABJRU5ErkJggg==\" alt=\"Mol\"/></td>\n",
              "      <td>Inactive</td>\n",
              "      <td>NaN</td>\n",
              "      <td>0.56</td>\n",
              "    </tr>\n",
              "  </tbody>\n",
              "</table>\n",
              "</div>"
            ],
            "text/plain": [
              "         Compound_name                     InChIKey  ...        AD Confidence\n",
              "0           Sildenafil  BNRNXUUZRGQAQC-UHFFFAOYSA-N  ...       NaN       0.65\n",
              "1            Darunavir  CJBJHOAVZSMMDJ-UHFFFAOYNA-N  ...       NaN       0.61\n",
              "2            Ribavirin  IWUCXVSUMQZMFG-UHFFFAOYNA-N  ...  Inactive       0.79\n",
              "3              Arbidol  KCFYEAOKVJSACF-UHFFFAOYSA-N  ...       NaN       0.64\n",
              "4            Lopinavir  KJHKTHWMRKYKJE-UHFFFAOYNA-N  ...       NaN       0.54\n",
              "5           Fingolimod  KKGQTZUTZRNORY-UHFFFAOYSA-N  ...  Inactive       0.75\n",
              "6             Thymosin  LCJVIYPJPCBWKS-UHFFFAOYNA-N  ...       NaN       0.68\n",
              "7         Nitric Oxide  MWUXSHHQAYIFBG-UHFFFAOYSA-N  ...  Inactive       0.90\n",
              "8            Ritonavir  NCDNCNXCDXHOMX-UHFFFAOYNA-N  ...       NaN       0.59\n",
              "9           Bromhexine  OJGDCBLYJGHCIH-UHFFFAOYSA-N  ...  Inactive       0.81\n",
              "10            Losartan  PSIFNNKUMBGKDQ-UHFFFAOYSA-N  ...       NaN       0.65\n",
              "11    N-acetylcysteine  PWKSKIMOESPYIA-UHFFFAOYNA-N  ...  Inactive       0.80\n",
              "12          Remdesivir  RWWYLEGWBNMMLJ-UHFFFAOYNA-N  ...       NaN       0.61\n",
              "13         Thalidomide  UEJJHQNACJXSKW-UHFFFAOYNA-N  ...  Inactive       0.76\n",
              "14           Aviptadil  VBUWHHLIZKOSMS-UHFFFAOYNA-N  ...       NaN       0.51\n",
              "15  Methylprednisolone  VHRSUDSXCMQTMA-UHFFFAOYNA-N  ...       NaN       0.69\n",
              "16         Oseltamivir  VSZGPKBBMSAYNT-UHFFFAOYNA-N  ...       NaN       0.61\n",
              "17         Chloroquine  WHTVZRBIWZFKQO-UHFFFAOYNA-N  ...       NaN       0.55\n",
              "18         Tetrandrine  WVTKBKWTSCPRNU-UHFFFAOYNA-N  ...  Inactive       0.73\n",
              "19  Hydroxychloroquine  XXSMGPRMXLTPCZ-UHFFFAOYNA-N  ...       NaN       0.55\n",
              "20         Favipiravir  ZCGNOVWYSGBHAU-UHFFFAOYSA-N  ...  Inactive       0.78\n",
              "21          Cobicistat  ZCIGNRJZKPOIKD-UHFFFAOYNA-N  ...       NaN       0.55\n",
              "22          Danoprevir  ZVTDLPBHTSMEJZ-UHFFFAOYNA-N  ...       NaN       0.56\n",
              "\n",
              "[23 rows x 7 columns]"
            ]
          },
          "metadata": {
            "tags": []
          },
          "execution_count": 48
        }
      ]
    },
    {
      "cell_type": "code",
      "metadata": {
        "id": "y2Z-GuxSzSTK",
        "colab_type": "code",
        "colab": {}
      },
      "source": [
        "\n",
        "# SDF\n",
        "#PandasTools.WriteSDF(predictions, 'datasets/screened_compounds/drugbank_hits_qsar_sirms_dragon.sdf.gz',\n",
        "#                     molColName='Mol', properties=list(predictions.columns))\n",
        "\n",
        "predictions.drop(columns='Mol', inplace=True)\n",
        "with pd.ExcelWriter('datasets/screened_compounds/clinical-trials_hits_qsar_morgan.xlsx') as writer:\n",
        "    predictions.to_excel(writer, sheet_name='morgan', index=False)"
      ],
      "execution_count": 0,
      "outputs": []
    },
    {
      "cell_type": "code",
      "metadata": {
        "id": "yg9jHSYJzZpY",
        "colab_type": "code",
        "colab": {
          "base_uri": "https://localhost:8080/",
          "height": 17
        },
        "outputId": "00794f2a-0fd2-4e65-b26f-570e1d76b0fd"
      },
      "source": [
        "import numpy as np\n",
        "import pandas as pd\n",
        "import seaborn as sns\n",
        "import matplotlib.pyplot as plt\n",
        "import csv\n",
        "import _pickle as cPickle\n",
        "import gzip\n",
        "\n",
        "#from BalanceBySim import *\n",
        "from stats import *\n",
        "\n",
        "from collections import Counter\n",
        "\n",
        "from rdkit import Chem\n",
        "from rdkit.Chem import AllChem\n",
        "from rdkit.Chem import Draw\n",
        "from rdkit.Chem import PandasTools\n",
        "from rdkit.Chem.Draw import IPythonConsole\n",
        "\n",
        "from sklearn import metrics\n",
        "from sklearn.ensemble import RandomForestClassifier\n",
        "from sklearn.model_selection import train_test_split, cross_validate, GridSearchCV\n",
        "from sklearn.model_selection import permutation_test_score, StratifiedKFold\n",
        "\n",
        "def warn(*args, **kwargs):\n",
        "    pass\n",
        "import warnings\n",
        "warnings.filterwarnings(\"ignore\")\n",
        "warnings.warn = warn\n",
        "\n",
        "from IPython.core.interactiveshell import InteractiveShell\n",
        "InteractiveShell.ast_node_interactivity = \"all\"\n",
        "%matplotlib inline\n",
        "%reload_ext autoreload\n",
        "%autoreload 2\n",
        "Draw.DrawingOptions.atomLabelFontFace = \"DejaVu Sans\"\n",
        "Draw.DrawingOptions.atomLabelFontSize = 18\n",
        "\n",
        "from IPython.core.display import display, HTML\n",
        "display(HTML(\"<style>.container { width:90% !important; }</style>\"))"
      ],
      "execution_count": 50,
      "outputs": [
        {
          "output_type": "display_data",
          "data": {
            "text/html": [
              "<style>.container { width:90% !important; }</style>"
            ],
            "text/plain": [
              "<IPython.core.display.HTML object>"
            ]
          },
          "metadata": {
            "tags": []
          }
        }
      ]
    },
    {
      "cell_type": "code",
      "metadata": {
        "id": "eHyfDDMz3JsX",
        "colab_type": "code",
        "colab": {
          "base_uri": "https://localhost:8080/",
          "height": 52
        },
        "outputId": "c0054e30-ed5c-4280-d943-cb44615a83ee"
      },
      "source": [
        "\n",
        "# Set file path and format\n",
        "file = 'datasets/curated_data/drugbank.sdf.gz'\n",
        "\n",
        "# Read SDF\n",
        "sdfInfo = dict(molColName='ROMol')\n",
        "moldf = PandasTools.LoadSDF(file, **sdfInfo);\n",
        "#print('Original data: ', moldf.shape)\n",
        "# Rename ROMol\n",
        "moldf = moldf.rename(columns={'ROMol': 'Mol'})\n",
        "# Remove missing RDKit molecules\n",
        "moldf = moldf[pd.notnull(moldf['Mol'])]\n",
        "if 'StandardizerResult' in moldf.columns:\n",
        "    moldf = moldf.drop(columns='StandardizerResult')"
      ],
      "execution_count": 51,
      "outputs": [
        {
          "output_type": "stream",
          "text": [
            "RDKit ERROR: [05:57:27] Explicit valence for atom # 36 N, 5, is greater than permitted\n",
            "RDKit ERROR: [05:57:27] ERROR: Could not sanitize molecule ending on line 660489\n"
          ],
          "name": "stderr"
        }
      ]
    },
    {
      "cell_type": "code",
      "metadata": {
        "id": "HYxb1j8m3NNC",
        "colab_type": "code",
        "colab": {
          "base_uri": "https://localhost:8080/",
          "height": 334
        },
        "outputId": "dff04e7f-58d0-4db3-fcec-ef54b5f5ad13"
      },
      "source": [
        "# Columns\n",
        "print('Kept data: ', moldf.shape)\n",
        "moldf.head(1)\n",
        "from molvs.validate import Validator\n",
        "fmt = '%(asctime)s - %(levelname)s - %(validation)s - %(message)s'\n",
        "validator = Validator(log_format=fmt)\n",
        "print('\\n Problematic structures: \\n', validator.validate(moldf))"
      ],
      "execution_count": 52,
      "outputs": [
        {
          "output_type": "stream",
          "text": [
            "Kept data:  (9614, 6)\n"
          ],
          "name": "stdout"
        },
        {
          "output_type": "execute_result",
          "data": {
            "text/html": [
              "<div>\n",
              "<style scoped>\n",
              "    .dataframe tbody tr th:only-of-type {\n",
              "        vertical-align: middle;\n",
              "    }\n",
              "\n",
              "    .dataframe tbody tr th {\n",
              "        vertical-align: top;\n",
              "    }\n",
              "\n",
              "    .dataframe thead th {\n",
              "        text-align: right;\n",
              "    }\n",
              "</style>\n",
              "<table border=\"1\" class=\"dataframe\">\n",
              "  <thead>\n",
              "    <tr style=\"text-align: right;\">\n",
              "      <th></th>\n",
              "      <th>GENERIC_NAME</th>\n",
              "      <th>DRUGBANK_ID</th>\n",
              "      <th>DRUG_GROUPS</th>\n",
              "      <th>InChIKey</th>\n",
              "      <th>ID</th>\n",
              "      <th>Mol</th>\n",
              "    </tr>\n",
              "  </thead>\n",
              "  <tbody>\n",
              "    <tr>\n",
              "      <th>0</th>\n",
              "      <td>Elenbecestat</td>\n",
              "      <td>DB15391</td>\n",
              "      <td>investigational</td>\n",
              "      <td>AACUJFVOHGRMTR-DPXNYUHVSA-N</td>\n",
              "      <td></td>\n",
              "      <td><img data-content=\"rdkit/molecule\" src=\"data:image/png;base64,iVBORw0KGgoAAAANSUhEUgAAAMgAAADICAIAAAAiOjnJAAAABmJLR0QA/wD/AP+gvaeTAAAZkUlEQVR4nO2de1QTVxrAvwQSQEAeykOoHATkofjAgFuFLlWR6jZ2j1pOXZXSVovdqqmtdmH11Ng9R82u2x5Q22q1W0GrW6p94LNg9ViqthjQWhAFQXwEIiLvEBLIfPvHxSxFBZLMJaj3d/wjwsx3Z878uHcm8333ChARGAy+EVr7ABiPJ0wsBhWYWAwqMLEYVGBiMajAxGJQgYnFoAITi0EFJhaDCkwsBhWYWAwqMLEYVGBiMajAxGJQgYnFoAITi0EFJhaDCkwsBhWYWAwqMLEYVGBiMajAxGJQgYnFoAITi0EFJhaDCkwsBhWYWAwqMLEYVGBiMajAxGJQgYnFoAITi0EFJhaDCkwsBhWYWAwqMLEYVGBiMajAxGJQgYnFoAITi0EFWwv3b+W4KRcuPGVnR/777vDhTw8ebPFRMR55LBULAIbY2h4YPdryOIzHCTYUMqjAQ491t6NjbnEx+bwpICDAwcHymIxHHTYUMqjAhkIGFfgRq1ij2Xv79sWWFl6iMR4DLBVrkFB4ZOzYvMbGD2/d+rmpiZdjYjwG8NNjeYpEAFDT3s5LNMZjAD9iDRWLgYnF6AKfPdYdvZ6XaIzHADYUMqjAw/dYAOAqEgVxnKihoU2vtxeLeYnJeKThp8cSApx98cU9zz5bdesWLwEBQKkEW1u4cQMAYPFi+OknvgIz+gPeviD19fUFAJVKxVdAABg+HLZs4TEeo/8Y0GLFxsKpU6DR8BiS0U8MaLEAYOFCyMjo/Lx/P+zdC+wJ4ZFgIIrV1ASpqdDWBgDw6quwaxcgAsdBaiosWAB+frBuHdTVWd4OgyI269atszxKR0dHenp6VVXVr7/+CgDh4eH29vbmhcrPh/h4OHgQNBoQieCll+DSJTh+HGbNglGjoKICrl2DU6fg449BrYbgYHB3t/zwGRRAi6msrIyOjgYAkUhEYrq6ur777rs3btwwKQ7HYVoaisUIgBMm4IEDmJSEiFhejkIh5uV1bpaXh1IpCgQIgFOmrJdKpbm5uZafBYNfLBXr66+/dnd3B4Cnnnrq5MmT2dnZcXFxRC+hUCiVSs+cOdOXOLdv48yZCIACAcpk2Nb2gG3q6nDHDtRqEREvXsRFizg/vxGkraioqH379un1egtPh8EX5ovV2t7++uuvk+s6e/bsu3fvGn9VWFiYmJho7MAkEklGRkZ7e/vDQuXk5MTEvCUWo4cHHjr00BY3bEAA9PDAlBS8dQsRUa1Wr1271sPDgzQ0fPjwnTt3mn1GDB4xU6xyrfal4uI/KxT29vZpaWkcx92/TXV1tVwud793ExQQEKBQKBoaGrpu09bWtmLFCoFAAADJyceqq3tqNDsbIyMRAAHQ3h7ffnttUVERCZKRkREeHk4U/+WXX8w7KQaPmCwWh/jl7duTCgslSmViUdFvRUU9b9/c3Lx9+/bQ0FCi1+DBg2Uy2fXr1xHx8uXLERERAGBrayuXyw0GQ18OQKnExESMjMwlAaOjo7OzszmO4zguMTERAFavXm3qSTF4xzSx6tvb3y4rkyiVEqXyvWvXtH1TARENBsOBAwdiYmKIDSKRKCYmxtHREQACAwPz8/NNPe6rVyuXLl1KIgDAvn37EPGzzz4DgCRyz8+wKiaIdVuvn/nrrxKlcsqFCyfq681rr6CggNx+ubi4CIXChISEenNDIWJdXd3GjRsjIiK0Wi0iHj16FADi4uLMDvhAzp3DadM6Pz///P+fTxk9IEDEh30TcX+Vc3ZtbbVev37ECJ97PzSPoqKiMWPGODo6tvCaJv/bb7+NHTs2LCzs0qVLPIZVKiE1FY4fBwCQSiE1Fe71vIyH0kvaTLfSrrFOTvYCgVAgsLDV8PBwR0dHjUbT3NyMiGfPnrWxsTF+T2E2lF4rMczAtFc6g4RCy60iDBs2DABUKlVJScmMGTNSU1Mtj+nu7u7g4NDU1NTc3Gx5tK6cPg3+/uDvDydO8Bv4saUXsUiVM/lXodXy2LCxdyEfqqqqeAnr4+PDYzQj0dFQWQmVlTB1Kr+BH1tMGwp5xChWbGysjY3N7du3Ozo6bG0tzWj19fUtLy+vqqoKCQnh4zAZZmK1SmijWLa2tp6enhzHqdVqHsNaHophCfzkvJtB1xHQ19e3urpapVI99dRTvITlV6zIyM5HQgA4dIi3sDqd7sMPPxw6dGhdXV1ycrKbmxtvoQcAPfVYpMqZUsNdDSA3RrzYwGMoIzSy70tLSydNmrR69ep33303NTXVz89vyZIlly9f5iH0wMBqQ2FXA3jsZigNhfxm32dmZkokkvPnz/v7+ysUCqlUqtFoPv3009GjR8+aNeu4sXt8lLH+PRY8CmLxlX3f1NS0cOHCpKSklpaWhISE8+fPv/HGGwcPHrxy5YpMJrOzszt06ND06dMnTJiQmZnZ/ihnYVuzxxIKhWq12mAwWP6Nw9mzZ1tbW+H3t278Ysy+5zg4fBg4zuQI586dk0gkX3zxhbOzc2ZmZlZWlkajIW8+Ro4cmZ6eXllZqVAofHx8zp8/n5SU5Ofnt27durpHNAvbiq+TPD09AUClUuXk5ADA1KlTzQjS0dGhUChEIlFycjIi6nQ6gUBga2vb0dFh+RFeu4ZFRXjuHCYlYVMTRkXha6/hxo0IgAEBqFDg75OAHgrHcWlpaWKxGAAiIyNLS0sRMSsry9XVdfPmzd027poFBABOTk7JycklJSWWn05/Yk2xSM5Mfn5+UVERAISEhJga4caNG8888wwA2NjYrFmzhuO4hoYGkvLw73//m7yZNpv9+9HNDYOC8NSpziTpFStw5EjcsAEDAzvTwtzcMCUFb97sKY5arZ4xYwYACAQCmUym0+mam5tffvll4s3LL7/8wL04jjt69Oj06dNJsppQKJwzZ87p06ctOaP+xJpiSaVSAPjmm2+0Wu3Bgwd/++03k3bfvx9nzvweAHx9fU+ePImIZ86c8ff3BwA7OzsA8PDwSElJuUWSTU2hpQVfe61TnTlz8MSJ7tn3BgN+/TXGxHRuM2gQLl68UqlU3h8qJyfH29sbADw9PQ8fPoyISqVy5MiRAODg4JCWltbrwZDbLwcHBwB48cUXTa0ksBbWFGvJkiUA8NFHH5m6Y2srLlmCAGhri6+/nl5bW0vGGpIMHRkZuX379kmTJpEuQSwWJyYmXrx4sY/Bi4owPLwzSbXX615QgImJ+MwzV0lb0dHRWVlZZBRua2tLSUkRCoUAEBcXV1VV1XVAHD16tEl/SGq1esqUKQCQkpLS972siDXFev/99wFAIpGQe44+Ul6Oo0d3XvgtW5DjUK1WP/fcc13HGrKlUqlMTEy0sbExXnWSa/qwyBzHpadvDgkpAcDwcOwtN/b/XL9+Y9WqVS4uLqShoKCg9957b9y4cdAlObampuZPf/oTOcjk5OTW1ta+nzLh888/B4CFCxeauqNVsKZYNTU1CxYsIDcQcXFx2dnZfdmruRmDgzE0FM+fR0TMzsb4+HIA8Pb2zsnJuX/78vLylJQU41UfOXJkWlra/de1pqaGDM2hoRFLl3aYft07k7DJO0rSLY0cOZKMj8ePHyfZHEOHDj148KBJYX/55Ze9e/c2NjaSR5wpU6aYfGTWwJpiIWJxcfHixYuN1a0SiWTPnj06XS8Zz6WlqNGgVovLl3cWGL7xxsHbt2/3sEtjY2NaWpqfnx9pyNPTMyUlRaVSkd+eOHGCfE/h4uLy3//+15Iz6ujo2L17N3GLZJt999135AZ82rRpVVVVpgY0PuIUFxcDQHBwsCWH129YWSxCTU2NQqEglzYsLNLbG+Vy7FJO9gBKSnD8eARAkQjlcuxj8r1er9+zZ49EIiF62dvbv/baa0uXLiXDZWxs7M2eH/D6jLOzMwCQrOu2traoqKi+V4t0w/iI09DQAACOjo68HCFtBoRYBK1Wu3Pnzrlzj5JHLScnXLYMr159wJa7duGgQQiAwcFYUGBOW3l5eQkJCcQnNzc3GxubbqWRFkIGxKJ7t2k91FT2CnnE2bp1KyI6OTkBQGNjIz9HSZMBtICAvb39okWLvvpqxrFjEB8PGg1s3QrBwTBnDpw587vXwCUl0NoKiYlQUAATJpjTVkxMTHx8vEgkGj9+/JdffhkQEPDNN99UVFTwdS7d3ixZkmfW9V0CjVfslBhAYhEEAnjuOfj+e7h8GWQysLODpiYQi3/3GlgqhVOnIDMTnJzMb8jJyamtrS0oKGj69OnBwcHA6wWj9PaTicUDwcGQng7XrsHWrQD3vQb+4x8tjU/pLfj9wS2EUhoIbQauWAQvL7hXRP27Sdgs536xeHx1zWNAqn8A9BjoYnXFOAkbL/j4+AgEgurqao7jBnKPRfUPgB6PkljOzhAdDXl5/ESzt7d3d3dvb2+/c+dO4PDhfw4KMusx4MHwKFbXmjbWY9Fi+XIoL+ctWkl0tM7f30Oletbb+9urV5fn5/MVmV8DjDVt7OadZyIjYdcuAICAADAYeKtw92hvF1dWClUq8PUFAODvgnl7e9vY2NTU1PCSBWocAR+hHstqVToDAqNP7u5gbw+NjdDSYtF3GPewsbHx9PSsrq5Wq9XDhw+3MNq//vUvg8Ewbtw4sVgsFAr5qsGkyqPRY9GCiFVVBQIB+Ph0fuYtNm+9yx/+8IfJkyc7OjqKRCJXV1eDwfDjjz9aHpYqT7ZYRCZy7Y2S8UQ3sfbs2fO3v/3t5s2bZgdsamqaP39+fX29q6vrtGnTYmJiSKIEP4fLN0+2WF1vrXx9wdkZ+FsktqtYiLhx48ZNmzYFBgbOnz9fqVSaGu306dNjx47dt2+fs7Pz5MmTnZycTp8+/cILL4wZM2bnzp1tZFL8AYW1X1ZaFbUaMzORzFnK94zL69evB4Dnn3+eJB4+cMLfvlR8dE2OjYqKKisrQ8T6+vp//vOfxsLxVzIzt6tUdy141c07T7ZYNCkqKvrLX/4CAN7e3nK5vLa2Fvs24W9X1Gp1fHw83JccS9Dr9V988cXk2Nhp589LlMpJhYX/qKwsNyNHkQJMLMSPP8aQEAwOxvR0fgPv379/zJgxxCFHR8elS5eS/qa5uTk9PT0wMJD8ys3NLSUlpaamptvu33777ZAhQwDAy8vr6NGjPTRU0Ny88urVKKVSolRGKpXLSktPNzVNLCiYU1RE/p3t90ybJ16s0lIcMQLr67GhAUeMwEuXeG8hLy9PKpUaq7iMS2kYDAbjegsikahr+Y1Wq5XJZGSX6dOnV/c8Tfk9brW1bbpxI6awUKJUflZdPfPXX3k/l77zxIu1bRsuW9b5+a23cMsWSu2UlpbKZLJBgwaRXioiIiIjI4MspZGfn0/y+AglJSWkEMPOzk6hUJiad9rY0ZFRXU1mIub5HEzhiRdrwwZcu7bz8z/+gXI51dZIEjZ5M2O8/eqauZqRkUEKbkNCQgoLC81uSGMwdB0K+//G64kXa8cO/OtfOz/LZGh6kaMZPLCIPj8/f968eeQniYmJpBDDbDQGA+uxrEpFBfr54d272NSEgYFYVtZvLXcroicVY5aXCRGYWAOAbdswOBhDQvCTT6zS/sWLF+fOnevk5OTm5nbt2jVeYlpdrJ4WEGD0GzU1NV5eXkOGDKmtrbX2sfADE2tAgIj29vZ6vb61tZXM//Go82S/KxwwCAQCMilNdXW1tY+FH5hYA4VHKImvLzCxBgp9F4vGLM4PDKtUgnF9I6nUtIaYWAMFk3osfmdxphGWiTVQMEksvmZxpheWiTVQMPUei9/y3YeFNXvZMybWQKFXsRDhyy9hw4bO/xrLdzkOXn8dCgrMbFerhfffh6NHu4clmL3sGROLIh0dHTqdLisrqy8LyfZc5VxYCLGxMG8erFvXeX9tLN89cgR27oSJE2HRIjBpnStiamgorFsHK1Z0zlzPV1UwE4sia9asmTRp0ksvveTh4TFr1qxPP/30zp07D9vYKFa3r6zv3oW33oKJEyEvD4YMgU2bwLiSFSnfjYsDuRxEIvjPfyAoCNatg75kwJ8/32nqjRsQEQE7doDwngv8VAVb8XXS401OTo5QKLSxsRk/frzw3kUTi8UzZszYsWPHnTt37t+FLABm/JVOp/voo2wXFwRAsRhXruxpvYLSUpw1q3N68IiI+u++e+iErmq1es2aC0IhAqCnJ+7Y0df5EBGxuhoXLMAVK/D993vZkolFhZqaGjKb7fr16xGxtrY2IyNDKpUaiylsbGyio6PT0tKM86AiIkmkuXDhAiLm5uaOGjUKACZOVMfF9TSFs16Pa9dibS0i4g8/4JgxGBu7AgCmTp3abRJyvV6flpbm4uLi5DTMx6dDJuvryhpGysuxogIRcfbsXrZkYvEPx3GzZs0CgNjY2G51OHV1dcQwssQBAAiFQolEIpfLy8rKyKTi27ZtIx8AICwsLCfnx56b+/BDBEBXV1QoUKfD9nbcuvVjUq9ha2u7fPlykkiYnZ1NFi4AAKlUWlZm/myrGzbg3r29bMPE4p+fd+ywtbUdOnRo196oGw0NDXv27Jk9e7bxlbNAIBg6dCjpzADAzc0tLS1N34eitOJijI/vHATDwvCHH/IRsba29s033yRl+O7u7mPvrTsZFhZ27Ngxs0+N4/Cdd/DIkd63ZGLxTUEB2tmdHjv2+0OH+rJ5a2trdnZ2YmLi4MGDAcDZ2VkoFCYmJvY8u/j95ObiqFEYFXUIAOLi4si8uiUlJTNnzgQAT0/PwYMHKxSKbgVkprJ7N0ZHY0oK9ro+BhOLV1paMDQUAVAmM3VXrVZLUpOXLFliXuM6HW7evIsIKhaLV65cSZatIyVoh/omOl+wrxt4ZdkyuHwZwsNBoTB1V3t7+9DQUADw8vIyr3GxGJYvT6qoqJDJZAaD4ciRI+RZgahmXJujfxjQU+E8Ynz1FezaBYMGQVYWWC9Zb8iQIenp6UlJSTqdzvgQ2v8wsfhDowEHB0hPh7Awax8KTDBv/nv+YGLxxyuvwNSpcG+5niccdo9lGZ98AqGhEBICmzcDwMC0KibGZ9680c7ONv3ZKOuxLKCsDDZtgsJCEAggIgKmTx8Ig+D9vPpqVUtLcWCgoT8bZT2WBZw4Ac8/D66u4OICL7wAP/xg7QMaQDCxLKCuDu7NdAVDhsDjUhLIC0wsC/DwAGMaTG0teHpa9WgGFkwsC5g2DQ4fhro6aG6Gw4chPt7aBzSAYGJZwIgRsHo1TJoEUVGwahUEBcHXX4NOZ+3D6o5AIBYIxP18rdlToWUsWQJLlnR+/vvfQaEAmQzS0616TN0JDjaxEIIPWI/FHwkJIBbDli2QnW3tQzHC3bixrKREcunS+OvXFyP23zcOTCz+mDABNmwARFi0iMeFCCxBo1HqdFfCwgpGjbogENi2tRX3W9NMLF555x2QSqG2FubPB4MJ3QMinj17NicnBwAKCgoMpuzbA7a2HjpdpUbzCwD6+W1zcBjLS9g+0Z85Ok8EajUOG3YuNvYDhaLXbQ0GQ15enkwmMy4FQKYntTDPsysazbnKyuSSkqibN9/huDZeYvYFJhb/nMvNFQqFIpHo559/fuAGer3++++/T05O9uzy1Ze/v//KlSs3btzo7+9PfjJ37twKUrpgOk1NJ69cmdLefheRQ0RE7tq1V2pq+mOGVQITiwqrVq0CgICAgK6rTrS1teXm5spksq4+jRgxQiaT5eXlcRwxAHU6XVpamrOzMwCIxWKZTNZoyvT/Ot218vIXlUpQKqG09LmbN98mP79+/c3bt9N4PMeeYWJRQa/XP/300wCQkJBgzGrvmsM5atSolJSUvLy8h0VQqVTJycmkINHHx2f79u29TvhuMGhUKnlhoYNSCYWFg1QqeXv7nYqKecXF4cXFY8vLXzQYWvg+0YfCxKJFWVkZ6XWMlV4AIJFINmzYcOXKlT4GOXfu3OTJk8m+kZGRP/300wM34zhu9+7dhw9HK5WgVAoqKhbo9bf4OxVzYGJRJDk5mZStjho1Si6X992nrnAcl5WV5efnBwACgSAhIeH69etdN1AqldHR0QAQGxtx6ZKkufmhvWB/wsSiyIwZMwDggw8+sDyURqORy+X29vYAMGjQILlcrtVqq6qqkpKSyDTxw4YN+/zzzznOtPVR6MHEokV9fb1YLLa1tX3gNA3mUV5ePmfOHDIyenl5kZV57OzsUlNTm5qa+GqFF5hYtMjMzASAuLg43iOfPHly3LhxQUFBdnZ2Uqn06tWrvDdhOewlNC0OHDgAAHPnzuU98rPPPltQUKBSqQwGw4gRI3iPzwtsAQEqtLS0eHp66nS6W7dukfv3Jw32rpAKhw8f1mq1MTExT6ZVwMSiBL1x8FGBDYX809bW5unp2dLSUllZ6TcgKw37AdZj8c+xY8eam5snTpz4xFoFTCwasHEQ2FDIO+3t7V5eXvX19VevXg0MDLT24VgN1mPxTG5ubn19fURExJNsFTCxeIeNgwQ2FPKJwWAYNmzYnTt3Ll26FDYgJwjpN1iPxScXL15sbGwMCwt7wq0C1mPxTkNDw/Xr18eNG2ftA7EyTCwGFdhQyKACE4tBBSYWgwpMLAYVmFgMKjCxGFRgYjGowMRiUIGJxaACE4tBBSYWgwpMLAYVmFgMKjCxGFRgYjGowMRiUIGJxaACE4tBBSYWgwpMLAYVmFgMKjCxGFRgYjGowMRiUIGJxaACE4tBBSYWgwpMLAYVmFgMKjCxGFRgYjGowMRiUIGJxaACE4tBBSYWgwpMLAYVmFgMKvwPuwsguVG0rMgAAAAASUVORK5CYII=\" alt=\"Mol\"/></td>\n",
              "    </tr>\n",
              "  </tbody>\n",
              "</table>\n",
              "</div>"
            ],
            "text/plain": [
              "   GENERIC_NAME  ...                                                Mol\n",
              "0  Elenbecestat  ...  <img data-content=\"rdkit/molecule\" src=\"data:i...\n",
              "\n",
              "[1 rows x 6 columns]"
            ]
          },
          "metadata": {
            "tags": []
          },
          "execution_count": 52
        },
        {
          "output_type": "stream",
          "text": [
            "\n",
            " Problematic structures: \n",
            " []\n"
          ],
          "name": "stdout"
        }
      ]
    },
    {
      "cell_type": "code",
      "metadata": {
        "id": "RHeKKVT-3VRX",
        "colab_type": "code",
        "colab": {
          "base_uri": "https://localhost:8080/",
          "height": 35
        },
        "outputId": "356a6877-127b-43fc-94f8-3bcdf70862bb"
      },
      "source": [
        "def calcfp(mol,funcFPInfo=dict(radius=3, nBits=2048, useFeatures=False, useChirality=False)):\n",
        "    fp = AllChem.GetMorganFingerprintAsBitVect(mol, **funcFPInfo)\n",
        "    fp = pd.Series(np.asarray(fp))\n",
        "    fp = fp.add_prefix('Bit_')\n",
        "    return fp\n",
        "\n",
        "X_vs = moldf.Mol.apply(calcfp)\n",
        "X_vs.shape"
      ],
      "execution_count": 53,
      "outputs": [
        {
          "output_type": "execute_result",
          "data": {
            "text/plain": [
              "(9614, 2048)"
            ]
          },
          "metadata": {
            "tags": []
          },
          "execution_count": 53
        }
      ]
    },
    {
      "cell_type": "code",
      "metadata": {
        "id": "jreDUCmi3avH",
        "colab_type": "code",
        "colab": {}
      },
      "source": [
        "with gzip.open('model/sars-cov-3clpro-morgan_RF_ad_balanced.pgz', 'rb') as f:\n",
        "    model = cPickle.load(f)"
      ],
      "execution_count": 0,
      "outputs": []
    },
    {
      "cell_type": "code",
      "metadata": {
        "id": "zcTbXyN-3u7I",
        "colab_type": "code",
        "colab": {
          "base_uri": "https://localhost:8080/",
          "height": 52
        },
        "outputId": "396d8376-3687-4f74-ea0d-f24d05e4d35a"
      },
      "source": [
        "%%time\n",
        "ad_threshold = 0.70\n",
        "\n",
        "y_pred = model.predict(X_vs)\n",
        "confidence = model.predict_proba(X_vs)\n",
        "confidence = np.amax(confidence, axis=1).round(2)\n",
        "ad = confidence >= ad_threshold\n",
        "\n",
        "pred = pd.DataFrame({'Prediction': y_pred, 'AD': ad, 'Confidence': confidence}, index=None)\n",
        "pred.AD[pred.AD == False] = np.nan\n",
        "pred.AD[pred.AD == True] = pred.Prediction.astype(int)"
      ],
      "execution_count": 55,
      "outputs": [
        {
          "output_type": "stream",
          "text": [
            "CPU times: user 1.61 s, sys: 109 ms, total: 1.72 s\n",
            "Wall time: 1.09 s\n"
          ],
          "name": "stdout"
        }
      ]
    },
    {
      "cell_type": "code",
      "metadata": {
        "id": "pm13snIV3yDO",
        "colab_type": "code",
        "colab": {
          "base_uri": "https://localhost:8080/",
          "height": 70
        },
        "outputId": "598610e2-18f2-43e6-f875-c9c98c2d8e33"
      },
      "source": [
        "pred_ad = pred.dropna().astype(int)\n",
        "coverage_ad = len(pred_ad) * 100 / len(pred)\n",
        "\n",
        "print('VS pred: %s' % Counter(pred.Prediction))\n",
        "print('VS pred AD: %s' % Counter(pred_ad.Prediction))\n",
        "print('Coverage of AD: %.2f%%' % coverage_ad)"
      ],
      "execution_count": 56,
      "outputs": [
        {
          "output_type": "stream",
          "text": [
            "VS pred: Counter({0: 9546, 1: 68})\n",
            "VS pred AD: Counter({0: 5757})\n",
            "Coverage of AD: 59.88%\n"
          ],
          "name": "stdout"
        }
      ]
    },
    {
      "cell_type": "code",
      "metadata": {
        "id": "wuG3NDwA31Dx",
        "colab_type": "code",
        "colab": {
          "base_uri": "https://localhost:8080/",
          "height": 1000
        },
        "outputId": "86d68ac0-e11c-487c-aa9a-8441da95ebb1"
      },
      "source": [
        "\n",
        "predictions = pd.concat([moldf, pred], axis=1)\n",
        "for col in ['Prediction', 'AD']:\n",
        "    predictions[col].replace(0,'Inactive',inplace=True)\n",
        "    predictions[col].replace(1,'Active',inplace=True)\n",
        "predictions.head()"
      ],
      "execution_count": 57,
      "outputs": [
        {
          "output_type": "execute_result",
          "data": {
            "text/html": [
              "<div>\n",
              "<style scoped>\n",
              "    .dataframe tbody tr th:only-of-type {\n",
              "        vertical-align: middle;\n",
              "    }\n",
              "\n",
              "    .dataframe tbody tr th {\n",
              "        vertical-align: top;\n",
              "    }\n",
              "\n",
              "    .dataframe thead th {\n",
              "        text-align: right;\n",
              "    }\n",
              "</style>\n",
              "<table border=\"1\" class=\"dataframe\">\n",
              "  <thead>\n",
              "    <tr style=\"text-align: right;\">\n",
              "      <th></th>\n",
              "      <th>GENERIC_NAME</th>\n",
              "      <th>DRUGBANK_ID</th>\n",
              "      <th>DRUG_GROUPS</th>\n",
              "      <th>InChIKey</th>\n",
              "      <th>ID</th>\n",
              "      <th>Mol</th>\n",
              "      <th>Prediction</th>\n",
              "      <th>AD</th>\n",
              "      <th>Confidence</th>\n",
              "    </tr>\n",
              "  </thead>\n",
              "  <tbody>\n",
              "    <tr>\n",
              "      <th>0</th>\n",
              "      <td>Elenbecestat</td>\n",
              "      <td>DB15391</td>\n",
              "      <td>investigational</td>\n",
              "      <td>AACUJFVOHGRMTR-DPXNYUHVSA-N</td>\n",
              "      <td></td>\n",
              "      <td><img data-content=\"rdkit/molecule\" src=\"data:image/png;base64,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\" alt=\"Mol\"/></td>\n",
              "      <td>Inactive</td>\n",
              "      <td>NaN</td>\n",
              "      <td>0.57</td>\n",
              "    </tr>\n",
              "    <tr>\n",
              "      <th>1</th>\n",
              "      <td>Eticlopride</td>\n",
              "      <td>DB15492</td>\n",
              "      <td>experimental</td>\n",
              "      <td>AADCDMQTJNYOSS-LBPRGKRZSA-N</td>\n",
              "      <td></td>\n",
              "      <td><img data-content=\"rdkit/molecule\" src=\"data:image/png;base64,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\" alt=\"Mol\"/></td>\n",
              "      <td>Inactive</td>\n",
              "      <td>NaN</td>\n",
              "      <td>0.69</td>\n",
              "    </tr>\n",
              "    <tr>\n",
              "      <th>2</th>\n",
              "      <td>Pirnabine</td>\n",
              "      <td>DB12840</td>\n",
              "      <td>investigational</td>\n",
              "      <td>AADNQNOXNWEYHS-UHFFFAOYNA-N</td>\n",
              "      <td></td>\n",
              "      <td><img data-content=\"rdkit/molecule\" src=\"data:image/png;base64,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\" alt=\"Mol\"/></td>\n",
              "      <td>Inactive</td>\n",
              "      <td>Inactive</td>\n",
              "      <td>0.75</td>\n",
              "    </tr>\n",
              "    <tr>\n",
              "      <th>3</th>\n",
              "      <td>Dianhydrogalactitol</td>\n",
              "      <td>DB12873</td>\n",
              "      <td>investigational</td>\n",
              "      <td>AAFJXZWCNVJTMK-GUCUJZIJSA-N</td>\n",
              "      <td></td>\n",
              "      <td><img data-content=\"rdkit/molecule\" src=\"data:image/png;base64,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\" alt=\"Mol\"/></td>\n",
              "      <td>Inactive</td>\n",
              "      <td>Inactive</td>\n",
              "      <td>0.80</td>\n",
              "    </tr>\n",
              "    <tr>\n",
              "      <th>4</th>\n",
              "      <td>N-1,10-phenanthrolin-5-ylacetamide</td>\n",
              "      <td>DB08440</td>\n",
              "      <td>experimental</td>\n",
              "      <td>AAJXINSCZMZERD-UHFFFAOYSA-N</td>\n",
              "      <td></td>\n",
              "      <td><img data-content=\"rdkit/molecule\" src=\"data:image/png;base64,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\" alt=\"Mol\"/></td>\n",
              "      <td>Inactive</td>\n",
              "      <td>Inactive</td>\n",
              "      <td>0.71</td>\n",
              "    </tr>\n",
              "  </tbody>\n",
              "</table>\n",
              "</div>"
            ],
            "text/plain": [
              "                         GENERIC_NAME DRUGBANK_ID  ...        AD Confidence\n",
              "0                        Elenbecestat     DB15391  ...       NaN       0.57\n",
              "1                         Eticlopride     DB15492  ...       NaN       0.69\n",
              "2                           Pirnabine     DB12840  ...  Inactive       0.75\n",
              "3                 Dianhydrogalactitol     DB12873  ...  Inactive       0.80\n",
              "4  N-1,10-phenanthrolin-5-ylacetamide     DB08440  ...  Inactive       0.71\n",
              "\n",
              "[5 rows x 9 columns]"
            ]
          },
          "metadata": {
            "tags": []
          },
          "execution_count": 57
        }
      ]
    },
    {
      "cell_type": "code",
      "metadata": {
        "id": "vJu0rpmA34Ey",
        "colab_type": "code",
        "colab": {}
      },
      "source": [
        "\n",
        "# SDF\n",
        "#PandasTools.WriteSDF(predictions, 'datasets/screened_compounds/drugbank_hits_qsar_sirms_dragon.sdf.gz',\n",
        "#                     molColName='Mol', properties=list(predictions.columns))\n",
        "\n",
        "predictions.drop(columns='Mol', inplace=True)\n",
        "with pd.ExcelWriter('datasets/screened_compounds/drugbank_hits_qsar_morgan.xlsx') as writer:\n",
        "    predictions.to_excel(writer, sheet_name='morgan', index=False)"
      ],
      "execution_count": 0,
      "outputs": []
    },
    {
      "cell_type": "code",
      "metadata": {
        "id": "RUKonkgi4WVH",
        "colab_type": "code",
        "colab": {
          "base_uri": "https://localhost:8080/",
          "height": 17
        },
        "outputId": "5e27f44b-62bb-49d1-e96f-b2080740a7bf"
      },
      "source": [
        "\n",
        "import numpy as np\n",
        "import pandas as pd\n",
        "import seaborn as sns\n",
        "import matplotlib.pyplot as plt\n",
        "import csv\n",
        "import _pickle as cPickle\n",
        "import gzip\n",
        "\n",
        "#from BalanceBySim import *\n",
        "from stats import *\n",
        "\n",
        "from collections import Counter\n",
        "\n",
        "from rdkit import Chem\n",
        "from rdkit.Chem import AllChem\n",
        "from rdkit.Chem import Draw\n",
        "from rdkit.Chem import PandasTools\n",
        "from rdkit.Chem.Draw import IPythonConsole\n",
        "\n",
        "from sklearn import metrics\n",
        "from sklearn.ensemble import RandomForestClassifier\n",
        "from sklearn.model_selection import train_test_split, cross_validate, GridSearchCV\n",
        "from sklearn.model_selection import permutation_test_score, StratifiedKFold\n",
        "\n",
        "def warn(*args, **kwargs):\n",
        "    pass\n",
        "import warnings\n",
        "warnings.filterwarnings(\"ignore\")\n",
        "warnings.warn = warn\n",
        "\n",
        "from IPython.core.interactiveshell import InteractiveShell\n",
        "InteractiveShell.ast_node_interactivity = \"all\"\n",
        "%matplotlib inline\n",
        "%reload_ext autoreload\n",
        "%autoreload 2\n",
        "Draw.DrawingOptions.atomLabelFontFace = \"DejaVu Sans\"\n",
        "Draw.DrawingOptions.atomLabelFontSize = 18\n",
        "\n",
        "from IPython.core.display import display, HTML\n",
        "display(HTML(\"<style>.container { width:90% !important; }</style>\"))"
      ],
      "execution_count": 59,
      "outputs": [
        {
          "output_type": "display_data",
          "data": {
            "text/html": [
              "<style>.container { width:90% !important; }</style>"
            ],
            "text/plain": [
              "<IPython.core.display.HTML object>"
            ]
          },
          "metadata": {
            "tags": []
          }
        }
      ]
    },
    {
      "cell_type": "code",
      "metadata": {
        "id": "QzHqaONR4kPR",
        "colab_type": "code",
        "colab": {}
      },
      "source": [
        "# Set file path and format\n",
        "file = 'datasets/curated_data/new_sars_cov_2_hits.sdf.gz'\n",
        "\n",
        "# Read SDF\n",
        "sdfInfo = dict(molColName='ROMol')\n",
        "moldf = PandasTools.LoadSDF(file, **sdfInfo);\n",
        "#print('Original data: ', moldf.shape)\n",
        "# Rename ROMol\n",
        "moldf = moldf.rename(columns={'ROMol': 'Mol'})\n",
        "# Remove missing RDKit molecules\n",
        "moldf = moldf[pd.notnull(moldf['Mol'])]\n",
        "if 'StandardizerResult' in moldf.columns:\n",
        "    moldf = moldf.drop(columns='StandardizerResult')"
      ],
      "execution_count": 0,
      "outputs": []
    },
    {
      "cell_type": "code",
      "metadata": {
        "id": "zOwp4ryl4nqg",
        "colab_type": "code",
        "colab": {
          "base_uri": "https://localhost:8080/",
          "height": 334
        },
        "outputId": "ed0b2b13-5e6e-454a-f8f5-ee014d84ea0d"
      },
      "source": [
        "# Columns\n",
        "print('Kept data: ', moldf.shape)\n",
        "moldf.head(1)\n",
        "from molvs.validate import Validator\n",
        "fmt = '%(asctime)s - %(levelname)s - %(validation)s - %(message)s'\n",
        "validator = Validator(log_format=fmt)\n",
        "print('\\n Problematic structures: \\n', validator.validate(moldf))"
      ],
      "execution_count": 61,
      "outputs": [
        {
          "output_type": "stream",
          "text": [
            "Kept data:  (7, 4)\n"
          ],
          "name": "stdout"
        },
        {
          "output_type": "execute_result",
          "data": {
            "text/html": [
              "<div>\n",
              "<style scoped>\n",
              "    .dataframe tbody tr th:only-of-type {\n",
              "        vertical-align: middle;\n",
              "    }\n",
              "\n",
              "    .dataframe tbody tr th {\n",
              "        vertical-align: top;\n",
              "    }\n",
              "\n",
              "    .dataframe thead th {\n",
              "        text-align: right;\n",
              "    }\n",
              "</style>\n",
              "<table border=\"1\" class=\"dataframe\">\n",
              "  <thead>\n",
              "    <tr style=\"text-align: right;\">\n",
              "      <th></th>\n",
              "      <th>Compound_name</th>\n",
              "      <th>DRUGBANK_ID</th>\n",
              "      <th>ID</th>\n",
              "      <th>Mol</th>\n",
              "    </tr>\n",
              "  </thead>\n",
              "  <tbody>\n",
              "    <tr>\n",
              "      <th>0</th>\n",
              "      <td>disulfiram</td>\n",
              "      <td>DB00822</td>\n",
              "      <td></td>\n",
              "      <td><img data-content=\"rdkit/molecule\" src=\"data:image/png;base64,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\" alt=\"Mol\"/></td>\n",
              "    </tr>\n",
              "  </tbody>\n",
              "</table>\n",
              "</div>"
            ],
            "text/plain": [
              "  Compound_name  ...                                                Mol\n",
              "0    disulfiram  ...  <img data-content=\"rdkit/molecule\" src=\"data:i...\n",
              "\n",
              "[1 rows x 4 columns]"
            ]
          },
          "metadata": {
            "tags": []
          },
          "execution_count": 61
        },
        {
          "output_type": "stream",
          "text": [
            "\n",
            " Problematic structures: \n",
            " []\n"
          ],
          "name": "stdout"
        }
      ]
    },
    {
      "cell_type": "code",
      "metadata": {
        "id": "FUrWNmHS4qg8",
        "colab_type": "code",
        "colab": {
          "base_uri": "https://localhost:8080/",
          "height": 35
        },
        "outputId": "21a761d8-48da-4494-fe16-4fd6e7f703be"
      },
      "source": [
        "\n",
        "def calcfp(mol,funcFPInfo=dict(radius=3, nBits=2048, useFeatures=False, useChirality=False)):\n",
        "    fp = AllChem.GetMorganFingerprintAsBitVect(mol, **funcFPInfo)\n",
        "    fp = pd.Series(np.asarray(fp))\n",
        "    fp = fp.add_prefix('Bit_')\n",
        "    return fp\n",
        "\n",
        "X_vs = moldf.Mol.apply(calcfp)\n",
        "X_vs.shape"
      ],
      "execution_count": 62,
      "outputs": [
        {
          "output_type": "execute_result",
          "data": {
            "text/plain": [
              "(7, 2048)"
            ]
          },
          "metadata": {
            "tags": []
          },
          "execution_count": 62
        }
      ]
    },
    {
      "cell_type": "code",
      "metadata": {
        "id": "JerZ-ZU24tY_",
        "colab_type": "code",
        "colab": {}
      },
      "source": [
        "\n",
        "with gzip.open('model/sars-cov-3clpro-morgan_RF_ad_balanced.pgz', 'rb') as f:\n",
        "    model = cPickle.load(f)"
      ],
      "execution_count": 0,
      "outputs": []
    },
    {
      "cell_type": "code",
      "metadata": {
        "id": "BY3qzQOL4wCd",
        "colab_type": "code",
        "colab": {
          "base_uri": "https://localhost:8080/",
          "height": 52
        },
        "outputId": "a6be4f23-dcc6-44a8-fe83-a210ceff7299"
      },
      "source": [
        "%%time\n",
        "ad_threshold = 0.70\n",
        "\n",
        "y_pred = model.predict(X_vs)\n",
        "ad = model.predict_proba(X_vs)\n",
        "ad = np.amax(ad, axis=1) >= ad_threshold"
      ],
      "execution_count": 64,
      "outputs": [
        {
          "output_type": "stream",
          "text": [
            "CPU times: user 267 ms, sys: 56 ms, total: 324 ms\n",
            "Wall time: 407 ms\n"
          ],
          "name": "stdout"
        }
      ]
    },
    {
      "cell_type": "code",
      "metadata": {
        "id": "NmHVgLKL4yj3",
        "colab_type": "code",
        "colab": {}
      },
      "source": [
        "pred = pd.DataFrame({'Prediction': y_pred,'AD': ad}, index=None)\n",
        "pred.AD[pred.AD == False] = np.nan\n",
        "pred.AD[pred.AD == True] = pred.Prediction.astype(int)"
      ],
      "execution_count": 0,
      "outputs": []
    },
    {
      "cell_type": "code",
      "metadata": {
        "id": "_9K2yoCJ44Gj",
        "colab_type": "code",
        "colab": {
          "base_uri": "https://localhost:8080/",
          "height": 70
        },
        "outputId": "eade51fb-7151-4736-982f-f962f287fd12"
      },
      "source": [
        "pred_ad = pred.dropna().astype(int)\n",
        "coverage_ad = len(pred_ad) * 100 / len(pred)\n",
        "\n",
        "print('VS pred: %s' % Counter(pred.Prediction))\n",
        "print('VS pred AD: %s' % Counter(pred_ad.Prediction))\n",
        "print('Coverage of AD: %.2f%%' % coverage_ad)"
      ],
      "execution_count": 66,
      "outputs": [
        {
          "output_type": "stream",
          "text": [
            "VS pred: Counter({0: 7})\n",
            "VS pred AD: Counter({0: 6})\n",
            "Coverage of AD: 85.71%\n"
          ],
          "name": "stdout"
        }
      ]
    },
    {
      "cell_type": "code",
      "metadata": {
        "id": "TVv5Jdrj46fK",
        "colab_type": "code",
        "colab": {
          "base_uri": "https://localhost:8080/",
          "height": 1000
        },
        "outputId": "6febe79e-aaa4-4898-b3a1-abb255ccb3e9"
      },
      "source": [
        "predictions = pd.concat([moldf, pred], axis=1)\n",
        "\n",
        "for col in ['Prediction', 'AD']:\n",
        "    predictions[col].replace(0,'Inactive',inplace=True)\n",
        "    predictions[col].replace(1,'Active',inplace=True)\n",
        "\n",
        "predictions"
      ],
      "execution_count": 67,
      "outputs": [
        {
          "output_type": "execute_result",
          "data": {
            "text/html": [
              "<div>\n",
              "<style scoped>\n",
              "    .dataframe tbody tr th:only-of-type {\n",
              "        vertical-align: middle;\n",
              "    }\n",
              "\n",
              "    .dataframe tbody tr th {\n",
              "        vertical-align: top;\n",
              "    }\n",
              "\n",
              "    .dataframe thead th {\n",
              "        text-align: right;\n",
              "    }\n",
              "</style>\n",
              "<table border=\"1\" class=\"dataframe\">\n",
              "  <thead>\n",
              "    <tr style=\"text-align: right;\">\n",
              "      <th></th>\n",
              "      <th>Compound_name</th>\n",
              "      <th>DRUGBANK_ID</th>\n",
              "      <th>ID</th>\n",
              "      <th>Mol</th>\n",
              "      <th>Prediction</th>\n",
              "      <th>AD</th>\n",
              "    </tr>\n",
              "  </thead>\n",
              "  <tbody>\n",
              "    <tr>\n",
              "      <th>0</th>\n",
              "      <td>disulfiram</td>\n",
              "      <td>DB00822</td>\n",
              "      <td></td>\n",
              "      <td><img data-content=\"rdkit/molecule\" src=\"data:image/png;base64,iVBORw0KGgoAAAANSUhEUgAAAMgAAADICAIAAAAiOjnJAAAABmJLR0QA/wD/AP+gvaeTAAATNklEQVR4nO3dfVBTZ74H8F8SEpLwGhAxqBSDKJAWCBTH+jJe7a2tvPjGUPBWa7e67jh16ui9e7e7e1tndrpTO1bH3u5UpmvLjlsFUa8tUMRRKq1sZXlJeJMXJSkqEJWXAAlJIC/n/nEwRosIeJ6cLPl9xn9ycnieX2a+npOcc57n4VAUBQgxjct2AWhmwmAhIjBYiAgMFiICg4WIwGAhIjBYiAgMFiICg4WIwGAhIjBYiAgMFiICg4WIwGAhIjBYiAgMFiICg4WIwGAhIjBYiAgMFiICg4WIwGAhIjBYiAgMFiICg4WIwGAhIjBYiAgMFiICg4WIwGAhIjBYiAgMFiICg4WIwGAhIjBYiAgMFiICg4WIwGAhIjBYiAgMFiICg4WIwGAhIjBYiAgMFiICg4WIwGAhIjBYiAgMFiICg4WIwGAhIjBYiAgMFiICg4WIwGAhIjBYiAgMFiLCi+0CXMRm03V2/m5wsMRq7RUIwiSSLWFhf+JweGzXNWN5SrA6OnaMjnYsXFgoEIQPD1/7+eetPJ7PnDl/YLuuGctTgmUwXA0L+5NYnAgAAQHpzz13HA9XRHEoimK7BldobV3G4XBksgI+fy7btXgETwmW2dzW0bF9eLhaLE70918bHPyGUBjLdlEzmacEi2Y239Dry3S6s3p9eXj4X0JCdrNd0YzlWcFy6Ozc39ubm5CgY7uQGcsjrmMND1ffuLHaZtM7tojFSXb7MEVZWKxqZvOIYAmFi8zmVo0m02issVi69foyrfbDgIA0DofPdmkz1gw/Fd6//9nQ0IXQ0N/x+XO6u/9oMFTYbIN8/tzAwPVS6Qc8XiDbBc5YMzxYLS3JRmNNZOS5wMDNAGC19nG5Yi5XxHZdM99MPhWOjKiNxloez9/ffx29Rav9sKEhtL//JLuFeQJSV96Hhobq6upUKpVQKExLS5s7l4XLkv39pwCowMBNDw5Rdp3ujM2m9/Ze5PpiPA1jwRoYGGhqaqp9oLW11W63A4BUKt27d29BQcH69euZ6muSdLrTABAUlE2/1OvLLZYub+9IH58XXVyJB5p+sDo6OlROurq6nN8VCoUvvPCCQqHo6ur67rvv3njjjR9//FGhUDxzwZNlMjWYTNe9vGb5+b1Mb+nvzweAoKAtAByXleGxJhssm81269at69ev0wekqqqq+/fvO+/g5+cXFxeXlJQkl8tjY2OTk5O9vb0BgKKot95668SJE6mpqZWVleHh4cx/iPH09+cBgESSSV9ToCjLwMD/AYBEku2aAjzcE4Nlt9tVKpVSqVSpVHV1dfX19Uaj0XmH0NBQxQOJiYkymYzDGedIwOFwjh8/3tXVVVZWlpKSUlFRERjoih/5Ot0ZcDoPDg1dtFr7RKI4kUjugt7RRMFasWKF2Wx2bJFKpUkPyOVymUw2yT74fP65c+dWrFjR1NS0efPm0tJSgUDwrIVPqLm5ur9/tkTC8fVdQW95cB7Ew5WrUE+WnZ29devWw4cPf//99zqdboI9J0Oj0YSGhgLAjh07nrGpp9q7dy8A/Pa3/0m/tNlMKpV/TQ2YzTdJd41oEwWLcZWVlSKRSC7/1SefmMn1YrPZwsLCAKC6upreUlx87siRldXVmeQ6RY9xabAoiios/KevL8XhUHl5pLooKysDgMjISLvdTm/ZtGkTABw9epRUl+gXXB0siqI++YQCoAQC6vvvibS/c+dOAHj//ffpl4ODgyKRiMvldnZ2EukPjYeFYFEUtWcPBUAFB1NtbQy3PDo6GhwcDABNTU30ltzcXABYs2YNwz2hCbFzr/DoUdiwAfr6YN06ePRy2LMqLS3t6+uLi4uTy8cuK+Tn5wNAdjb+HnQpdoLF48GpU7BkCWg0kJ4Oj14geyZ0jLZs2UK/7OnpKSsr4/P5mzdvZqwPNAmsPd0gFsP58xAeDlVVsG8fM21aLJaLFy9yOJysrCx6y5kzZ6xW66uvvkqfH5HLsDmuMCwMLlyAN9+E/fsZaG1gYEClUu3bt+/SpUvp6envvfeeTCbD8+D0ON8I7u7urq2tnWoL7D/oR1Ew3q2gp9Nq+1WqSsfn12g0zu8KhUKxWBwREdHa2nr37l0/Pz9myp2JnnojWKvVzpkzZ0ptsj8Smk5VdDT09MCdOyAWAwDs3AlWK/ztb4/s2d0NtbUP/y1YcPGnn/7D8a5AIFi4cCF9x0mhUBw6dKi4uDgwMFCpVGKqHmOxWG7cuOF4xqmurm54eNh5B4lEEhsb67iDN3v27Kl2wX6wHAwGyM2Fd955uMVmg5MnQaUClQrq6mBw8JH9Q0KS1qxZ47gRvnjxYh7v4aj5F198cfXq1VVVVW+++eaVK1fEdGA9lcFgqKura25udhyWnO8CwzPcCH4S9k+FtOhokMuhsRFaW4HLfXjECgmB3t6xfaRSkMshNhaSkiApCWJjn3IO1Wq1S5cuvX37dmZmZn5+Ppc7k5/DHtexY8fKy8tVKpVaraafu6TxeLzo6GiFE8YfOXGjI1ZKClRVQVERbNjwcOO77wKfDwoFKBQw1eOxVCq9cOHC8uXLz5w5ExkZ+dFHHzFbsJs7cODAN99809DQAAB8Pj86OtpxTFIoFD4+PmS7Z/sK7ZjFi6ncXOrgQWrlSoqiqB07qO3bmWn54sWLfD4fAL788q/MtPivQKvV8ng8Pp//+eef19fXj46OurgA9zo77NoFSiXU1DDZ5tq1a3NycuLjpQkJRwYHi5hs2o2dPn3aZrOlpaXt3r07Li6O/q/lSu4VLIkE3noLjhyZ5gWIJ3n77bcLC3dRVMvPP281meqZbNpd5eXlAasX8NwrWACwdy+cOwd9fQw3Gx5+IChoq802dPNmyujoHYZbdzO3bt2qqqry8fFJTU1lqwa3C1ZUFLz6Kly4wHjDnIiIL/38Vlss3e3tKTbb4FP/4F/XqVOnKIrauHEj8W/oT+YuwRoagrKysSsL+/bBoxdZmMHhCGSys0LhYpOpSaPJpigrUy3bbLpbt3Y1NMxTKoVNTbKurj9SlI2pxqeB9fMggNv8KpTLKQCqtJR4R2azpq5udk0NdHTsZKrN9vZNzc2K4eFai6VnYKBQpfLXav/MVONT1dLSAgASiWRkZIStGig3+VVYXw/Xr0NICLz8MvG+vL0XREae53KFfX1/N5tbGGnTYLg6a9avxeJEL69Z9My5QmE0Iy1PQ3FxjUAgyMjIID0UamJucYE0Lw8AIDMTvFxSjq/vsgULTnl5hQiFMc/SjtXabzQqxeJ4b++o/v6vAwPX0zPnSiSZDFU6HV98sVUsTt22jbln3KaF/Vs6FAUyGXR0wI8/wsqVru59SgsLWCzdRmOtydRsNl8fHq41m1sAKJksXyRKcJOZc6urYckSmDMHOjuBx+p04+wfsSoroaMD5s+H5ctZ6H3ChQXsZvNNo1FlMtUZjUqjUWW19jr/LZfrKxbHczhCoXBxdHSlY+bcu3cPsjVzbn4+AEBWFsupAncIFn0ezMoCVu4Rj7uwwMDAt/fuHTIa6+12g/POXl6zxGKFWJwoEiWIxQqhMMr5Z7VQuEgoXBQSsruzc39X1x9cHyy7HQoKAAAePJjNJpaDZbfDuXMAAGz9NB7365FOd9pg+AcA8PlSsThJJJILhbFicZJIFPvLmWqGh6u7uv47MrKQxxt76kssTrLb/0JRFhfPcXr1KnR2woIFsGSJK7sdH8vBqqjoMhrFUVGSpCR2CoiIyO3o2N7QEO789cjPb01U1CWxONHLK+ipLThmzp0790M+P8xsbnHMnGswVFitPYGBm1zwQeDBeTA7m+EbYtPE4qUOiqJ27twpEAgOHfo7u2WYTG3373/e1rampoZ7//7nU//zVrU6o74+VKkUNjZG3rmzz2rVmUzNtbXeSqVQr/8HiZofY7FQs2dTAFRDgwt6ezo2gzUyMhIUFAQA169fZ7EMZ3fu7FOpAplq7datd2pqoK4u2Gy+wVSbT1JSQgFQMTGk+5ksNi+QlpaW9vf3x8fHx8ay8+Oc9MIC8+d/Ghi43mrtu3lzndXaw0ibT5KcDJ99Br//PdFOpoDNYD02uNT1SC8swOHwIiK+FosTRkbUavVmihphpNlxzZoFe/bAtm3kepga1i6QGo3G0NDQ4eFhjUYTERHBSg0AYDa3kV5YwGLpbm1dOjp6RyJ5XSbLZ3AG1MkMbWILa78KCwsLDQbDSy+9xGKqAEAoXCyTnSXaBZ8ftnBhUVvbSp2uQKOJlckOMNj4L4c2uQnWToWsnwddSSSKl8kKuroWr17915ycHAZbTkuDTz8FpwE47sLVwbJYLA0NDceOHSspKeFyuRkZGS4ugC3+/q/19PzX7dtd77777uXLl5lqNiUFTCYocr9H+YmfCh8bdKtUKk0mEwDExcVt3LiRntPRQ+zYsbO9XX3w4MGMjIyrV6/GxcVNtYV798aG71os8MEHAAA8HuzZA4cPPzJmzh0w/+Vdp9M5LyzQ1tZmsz18nJLL5S5cuFChUKxatWr3bo9b4JSiqG3btp08eXLu3LmVlZXz5s2beH/nWQWam8ExPUVwMPT2QnQ0vPcebNgA8+dDeTnk5MysL+86nc4xcLu2tralpcU5rF5eXo5ZAORyuUKh8OQZhTgczldffdXd3X3lypUNGzb88MMPvr6+jndtNltbW5vj/2RPz3eNjULnPw8IGBu7q1CA43+rY2gTew+4j2M6waLntXHQarXO7zpPzkETiXAZt4cEAkFOTk56erpSqXz99dcPHjxYV1c37uQcy5bdl0jCHVMKJCVBTMz4z4Ds3QvPPw+pqeDv77oPMrEpB+vevXuPLeUVEBDw/PPPO2IUHR3NY/1pIDem1+sVCkVMTMysWbPKy8vj4+Od35XJZE4zKvhKpZNq0zG0iZ5wbtozQzFoysEKDQ1NSkqSSqWJiYn0p3/uuedIVDZTnT9/3mg0+vn5FRYWqtXqjz/+ODg4eO3atcuWLUtISJj25Bz79o39NtRoIDsbjh+Hqf82YBS7tyo90Lp16wAgJyeHfqlWqzkcTnBwMFPTK/zmNxQAFR5OdXcz0t40ucUoHc/R29t7+fJlLy8vek0DAMjLy6MoKiUlhanpFY4eheXL4fZtSEsDg+Hp+xOCwXKps2fPWiyWV155xTFHHuN3IIRC+PZbWLQIlErIygIrY8Nyp4jNw6XnWbVqFQCcOHGCfklPXhUUFMT44FK1euy5v127mG14svCI5TparbaiokIoFDpWMaYPV5mZmYwPLpXJoKgIxGL44gs4coTZticFg+U6+fn5NpstNTU1ICCA3lJQUADE7sQvWQK5ucDlwoEDxqKiChJdTISdA6VHqq7OPHJkZXHxOfplZWUlAEilUqvVSq7Tw4f1sbHJIpHo2rVr5Hr5JfbHFXqIkRENh3N29WrfuLh19JazZwsAICsri+j15P37fdXq5Obm6vT09J9++ikqKupZWnO+EWy1WulT+bjYH2LvIbTaP3d3/09w8LaIiBMAAGBvbFzU3z979uz/jYl5kWjXNptt06ZNRUVFkZGR165dCwkJmfzfdnd3O0/i7Xwj2NvbW6/XP+kqCR6xXESnywcAiWRsYK5e/8PoqDo4mIqJIT6iksfjnTx5cuXKlfX19RkZGZcuXfL29h53T4qi1Gq1Y5F5lUr12BIVPj4+8fHxCoUiISEhMTFxgmMtBssVzOYWk6nJyyvI3//f6S0PFj/fwuAj8BPw8/MrKSlZunTp1atXt2/fnpeXx+FwAMBqtba1tdXW1tKHpWvXrvU9OkvntG8EY7Bcoa/vawCQSDI5HAEAUJRlYOAcOB3AXCAsLKykpGTFihWnT582GAxhYWEqlaqxsXFk5JGxQ/PmzXNeWGDaN4LxO5YrNDVFjYy0L1p0xc/v3wBgcPC79vY0oTBGLm92cSWlpaUbN26USCR3796ltzgvdpKcnDzVxZieBI9YxA0P/3NkpJ3Pl/r6jk3/RZ8Hg4O3ur6Y1157TaPRFBcXm83mxMTE+Ph4QitYYbCIGxlp5/H8JJIsej43u908OFgIABLJ66zUExYWtmvXLtK9YLCICwp6IzBws90+Nnfj4GCxzTbk47PE23shu4URhcFyBS5XxOWOPZ/t5RUSELDO338duyWRhl/eERF4xCJoSjPnzjAYLIImnDl3hsNgETTuzLlsF+Ui+B2LoNbWZRwORyYroGfO9SgYLILM5jY3WVjA9TBYxDkWFtDry9laWMD1MFiu09m5v7c3NyFBx3YhroDPvJNCeuZcN4fBIoX0zLluDk+FBLlg5ly3hcFCROCpEBGBwUJEYLAQERgsRAQGCxGBwUJEYLAQERgsRAQGCxGBwUJEYLAQERgsRAQGCxGBwUJEYLAQERgsRAQGCxGBwUJEYLAQERgsRAQGCxGBwUJEYLAQERgsRAQGCxGBwUJEYLAQERgsRAQGCxGBwUJEYLAQERgsRAQGCxGBwUJEYLAQERgsRAQGCxGBwUJEYLAQERgsRAQGCxGBwUJEYLAQERgsRAQGCxGBwUJEYLAQERgsRAQGCxGBwUJEYLAQERgsRAQGCxGBwUJE/D8sPQxNy2Rt/QAAAABJRU5ErkJggg==\" alt=\"Mol\"/></td>\n",
              "      <td>Inactive</td>\n",
              "      <td>Inactive</td>\n",
              "    </tr>\n",
              "    <tr>\n",
              "      <th>1</th>\n",
              "      <td>carmofur</td>\n",
              "      <td>DB09010</td>\n",
              "      <td></td>\n",
              "      <td><img data-content=\"rdkit/molecule\" src=\"data:image/png;base64,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\" alt=\"Mol\"/></td>\n",
              "      <td>Inactive</td>\n",
              "      <td>Inactive</td>\n",
              "    </tr>\n",
              "    <tr>\n",
              "      <th>2</th>\n",
              "      <td>ebselen</td>\n",
              "      <td>DB12610</td>\n",
              "      <td></td>\n",
              "      <td><img data-content=\"rdkit/molecule\" src=\"data:image/png;base64,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\" alt=\"Mol\"/></td>\n",
              "      <td>Inactive</td>\n",
              "      <td>Inactive</td>\n",
              "    </tr>\n",
              "    <tr>\n",
              "      <th>3</th>\n",
              "      <td>shikonin</td>\n",
              "      <td></td>\n",
              "      <td></td>\n",
              "      <td><img data-content=\"rdkit/molecule\" src=\"data:image/png;base64,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\" alt=\"Mol\"/></td>\n",
              "      <td>Inactive</td>\n",
              "      <td>Inactive</td>\n",
              "    </tr>\n",
              "    <tr>\n",
              "      <th>4</th>\n",
              "      <td>tideglusib</td>\n",
              "      <td>DB12129</td>\n",
              "      <td></td>\n",
              "      <td><img data-content=\"rdkit/molecule\" src=\"data:image/png;base64,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\" alt=\"Mol\"/></td>\n",
              "      <td>Inactive</td>\n",
              "      <td>Inactive</td>\n",
              "    </tr>\n",
              "    <tr>\n",
              "      <th>5</th>\n",
              "      <td>PX-12</td>\n",
              "      <td>DB05448</td>\n",
              "      <td></td>\n",
              "      <td><img data-content=\"rdkit/molecule\" src=\"data:image/png;base64,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\" alt=\"Mol\"/></td>\n",
              "      <td>Inactive</td>\n",
              "      <td>NaN</td>\n",
              "    </tr>\n",
              "    <tr>\n",
              "      <th>6</th>\n",
              "      <td>TDZD-8</td>\n",
              "      <td></td>\n",
              "      <td></td>\n",
              "      <td><img data-content=\"rdkit/molecule\" src=\"data:image/png;base64,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\" alt=\"Mol\"/></td>\n",
              "      <td>Inactive</td>\n",
              "      <td>Inactive</td>\n",
              "    </tr>\n",
              "  </tbody>\n",
              "</table>\n",
              "</div>"
            ],
            "text/plain": [
              "  Compound_name DRUGBANK_ID  ... Prediction        AD\n",
              "0    disulfiram     DB00822  ...   Inactive  Inactive\n",
              "1      carmofur     DB09010  ...   Inactive  Inactive\n",
              "2       ebselen     DB12610  ...   Inactive  Inactive\n",
              "3      shikonin              ...   Inactive  Inactive\n",
              "4    tideglusib     DB12129  ...   Inactive  Inactive\n",
              "5         PX-12     DB05448  ...   Inactive       NaN\n",
              "6        TDZD-8              ...   Inactive  Inactive\n",
              "\n",
              "[7 rows x 6 columns]"
            ]
          },
          "metadata": {
            "tags": []
          },
          "execution_count": 67
        }
      ]
    },
    {
      "cell_type": "code",
      "metadata": {
        "id": "kv2saxfE48wQ",
        "colab_type": "code",
        "colab": {}
      },
      "source": [
        "PandasTools.WriteSDF(predictions, 'datasets/screened_compounds/new_phen_qsar_pred-morgan.sdf.gz',\n",
        "                     molColName='Mol', properties=list(predictions.columns))"
      ],
      "execution_count": 0,
      "outputs": []
    },
    {
      "cell_type": "code",
      "metadata": {
        "id": "ykoIJbMf5Bbr",
        "colab_type": "code",
        "colab": {
          "base_uri": "https://localhost:8080/",
          "height": 72
        },
        "outputId": "d2ff80ad-674b-46cc-c122-70655cd62ea7"
      },
      "source": [
        "import numpy as np\n",
        "import pandas as pd\n",
        "import seaborn as sns\n",
        "import matplotlib.pyplot as plt\n",
        "import csv\n",
        "import _pickle as cPickle\n",
        "import gzip\n",
        "\n",
        "#from BalanceBySim import *\n",
        "from stats import *\n",
        "\n",
        "from collections import Counter\n",
        "\n",
        "from rdkit import Chem\n",
        "from rdkit.Chem import AllChem\n",
        "from rdkit.Chem import Draw\n",
        "from rdkit.Chem import PandasTools\n",
        "from rdkit.Chem.Draw import IPythonConsole\n",
        "\n",
        "from sklearn import metrics\n",
        "from sklearn.ensemble import RandomForestClassifier\n",
        "from sklearn.model_selection import train_test_split, cross_validate, GridSearchCV\n",
        "from sklearn.model_selection import permutation_test_score, StratifiedKFold\n",
        "\n",
        "def warn(*args, **kwargs):\n",
        "    pass\n",
        "import warnings\n",
        "warnings.filterwarnings(\"ignore\")\n",
        "warnings.warn = warn\n",
        "\n",
        "from IPython.core.interactiveshell import InteractiveShell\n",
        "InteractiveShell.ast_node_interactivity = \"all\"\n",
        "%matplotlib inline\n",
        "%reload_ext autoreload\n",
        "%autoreload 2\n",
        "Draw.DrawingOptions.atomLabelFontFace = \"DejaVu Sans\"\n",
        "Draw.DrawingOptions.atomLabelFontSize = 18\n",
        "\n",
        "from IPython.core.display import display, HTML\n",
        "display(HTML(\"<style>.container { width:90% !important; }</style>\"))"
      ],
      "execution_count": 5,
      "outputs": [
        {
          "output_type": "stream",
          "text": [
            "/usr/local/lib/python3.6/dist-packages/statsmodels/tools/_testing.py:19: FutureWarning: pandas.util.testing is deprecated. Use the functions in the public API at pandas.testing instead.\n",
            "  import pandas.util.testing as tm\n"
          ],
          "name": "stderr"
        },
        {
          "output_type": "display_data",
          "data": {
            "text/html": [
              "<style>.container { width:90% !important; }</style>"
            ],
            "text/plain": [
              "<IPython.core.display.HTML object>"
            ]
          },
          "metadata": {
            "tags": []
          }
        }
      ]
    },
    {
      "cell_type": "code",
      "metadata": {
        "id": "PQEgNPwnbcz6",
        "colab_type": "code",
        "colab": {}
      },
      "source": [
        "# Set file path and format\n",
        "file = 'datasets/curated_data/wang_et_al_2020.sdf.gz'\n",
        "\n",
        "# Read SDF\n",
        "sdfInfo = dict(molColName='ROMol')\n",
        "moldf = PandasTools.LoadSDF(file, **sdfInfo);\n",
        "#print('Original data: ', moldf.shape)\n",
        "# Rename ROMol\n",
        "moldf = moldf.rename(columns={'ROMol': 'Mol'})\n",
        "# Remove missing RDKit molecules\n",
        "moldf = moldf[pd.notnull(moldf['Mol'])]\n",
        "if 'StandardizerResult' in moldf.columns:\n",
        "    moldf = moldf.drop(columns='StandardizerResult')"
      ],
      "execution_count": 0,
      "outputs": []
    },
    {
      "cell_type": "code",
      "metadata": {
        "id": "amw7HKyNblcb",
        "colab_type": "code",
        "colab": {
          "base_uri": "https://localhost:8080/",
          "height": 334
        },
        "outputId": "13f11af9-28c0-4e0c-e566-46415adbe56f"
      },
      "source": [
        "# Columns\n",
        "print('Kept data: ', moldf.shape)\n",
        "moldf.head(1)\n",
        "from molvs.validate import Validator\n",
        "fmt = '%(asctime)s - %(levelname)s - %(validation)s - %(message)s'\n",
        "validator = Validator(log_format=fmt)\n",
        "print('\\n Problematic structures: \\n', validator.validate(moldf))"
      ],
      "execution_count": 9,
      "outputs": [
        {
          "output_type": "stream",
          "text": [
            "Kept data:  (7, 5)\n"
          ],
          "name": "stdout"
        },
        {
          "output_type": "execute_result",
          "data": {
            "text/html": [
              "<div>\n",
              "<style scoped>\n",
              "    .dataframe tbody tr th:only-of-type {\n",
              "        vertical-align: middle;\n",
              "    }\n",
              "\n",
              "    .dataframe tbody tr th {\n",
              "        vertical-align: top;\n",
              "    }\n",
              "\n",
              "    .dataframe thead th {\n",
              "        text-align: right;\n",
              "    }\n",
              "</style>\n",
              "<table border=\"1\" class=\"dataframe\">\n",
              "  <thead>\n",
              "    <tr style=\"text-align: right;\">\n",
              "      <th></th>\n",
              "      <th>Compound_name</th>\n",
              "      <th>Outcome</th>\n",
              "      <th>InChIKey</th>\n",
              "      <th>ID</th>\n",
              "      <th>Mol</th>\n",
              "    </tr>\n",
              "  </thead>\n",
              "  <tbody>\n",
              "    <tr>\n",
              "      <th>0</th>\n",
              "      <td>Remdesivir</td>\n",
              "      <td>Active</td>\n",
              "      <td>RWWYLEGWBNMMLJ-MEUHYHILSA-N</td>\n",
              "      <td></td>\n",
              "      <td><img data-content=\"rdkit/molecule\" src=\"data:image/png;base64,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\" alt=\"Mol\"/></td>\n",
              "    </tr>\n",
              "  </tbody>\n",
              "</table>\n",
              "</div>"
            ],
            "text/plain": [
              "  Compound_name Outcome  ... ID                                                Mol\n",
              "0    Remdesivir  Active  ...     <img data-content=\"rdkit/molecule\" src=\"data:i...\n",
              "\n",
              "[1 rows x 5 columns]"
            ]
          },
          "metadata": {
            "tags": []
          },
          "execution_count": 9
        },
        {
          "output_type": "stream",
          "text": [
            "\n",
            " Problematic structures: \n",
            " []\n"
          ],
          "name": "stdout"
        }
      ]
    },
    {
      "cell_type": "code",
      "metadata": {
        "id": "3Dkajo9KboP_",
        "colab_type": "code",
        "colab": {
          "base_uri": "https://localhost:8080/",
          "height": 212
        },
        "outputId": "aef7f4b5-bd49-43b1-d8de-595b9ef93f7c"
      },
      "source": [
        "!pip install molvs"
      ],
      "execution_count": 8,
      "outputs": [
        {
          "output_type": "stream",
          "text": [
            "Collecting molvs\n",
            "  Downloading MolVS-0.1.1.tar.gz (61 kB)\n",
            "\u001b[?25l\r\u001b[K     |█████▎                          | 10 kB 28.2 MB/s eta 0:00:01\r\u001b[K     |██████████▋                     | 20 kB 32.7 MB/s eta 0:00:01\r\u001b[K     |███████████████▉                | 30 kB 35.6 MB/s eta 0:00:01\r\u001b[K     |█████████████████████▏          | 40 kB 38.6 MB/s eta 0:00:01\r\u001b[K     |██████████████████████████▌     | 51 kB 40.6 MB/s eta 0:00:01\r\u001b[K     |███████████████████████████████▊| 61 kB 41.8 MB/s eta 0:00:01\r\u001b[K     |████████████████████████████████| 61 kB 627 kB/s \n",
            "\u001b[?25hRequirement already satisfied: six in /usr/local/lib/python3.7/site-packages (from molvs) (1.14.0)\n",
            "Building wheels for collected packages: molvs\n",
            "  Building wheel for molvs (setup.py) ... \u001b[?25l\u001b[?25hdone\n",
            "  Created wheel for molvs: filename=MolVS-0.1.1-py3-none-any.whl size=32376 sha256=81d4a1c83807f4f19ef92b8e242dac8529271c22c74fe73f35d252b98e4fdaef\n",
            "  Stored in directory: /root/.cache/pip/wheels/c4/c2/92/e85190307603c2b3733d43e357abae2d1c66b609bfbba6200d\n",
            "Successfully built molvs\n",
            "Installing collected packages: molvs\n",
            "Successfully installed molvs-0.1.1\n"
          ],
          "name": "stdout"
        }
      ]
    },
    {
      "cell_type": "code",
      "metadata": {
        "id": "vReCzpzVbrqp",
        "colab_type": "code",
        "colab": {
          "base_uri": "https://localhost:8080/",
          "height": 35
        },
        "outputId": "9444904a-2912-42e5-95e0-78e39a1d6cb1"
      },
      "source": [
        "def calcfp(mol,funcFPInfo=dict(radius=3, nBits=2048, useFeatures=False, useChirality=False)):\n",
        "    fp = AllChem.GetMorganFingerprintAsBitVect(mol, **funcFPInfo)\n",
        "    fp = pd.Series(np.asarray(fp))\n",
        "    fp = fp.add_prefix('Bit_')\n",
        "    return fp\n",
        "\n",
        "X_vs = moldf.Mol.apply(calcfp)\n",
        "X_vs.shape"
      ],
      "execution_count": 10,
      "outputs": [
        {
          "output_type": "execute_result",
          "data": {
            "text/plain": [
              "(7, 2048)"
            ]
          },
          "metadata": {
            "tags": []
          },
          "execution_count": 10
        }
      ]
    },
    {
      "cell_type": "code",
      "metadata": {
        "id": "CJcAiQsPcNNZ",
        "colab_type": "code",
        "colab": {}
      },
      "source": [
        "with gzip.open('model/sars-cov-3clpro-morgan_RF_ad_balanced.pgz', 'rb') as f:\n",
        "    model = cPickle.load(f)"
      ],
      "execution_count": 0,
      "outputs": []
    },
    {
      "cell_type": "code",
      "metadata": {
        "id": "PKK5m_wwcQEB",
        "colab_type": "code",
        "colab": {
          "base_uri": "https://localhost:8080/",
          "height": 52
        },
        "outputId": "1af9e2c3-1c21-42be-a082-3cbf5a3ed39e"
      },
      "source": [
        "%%time\n",
        "ad_threshold = 0.70\n",
        "\n",
        "y_pred = model.predict(X_vs)\n",
        "ad = model.predict_proba(X_vs)\n",
        "ad = np.amax(ad, axis=1) >= ad_threshold"
      ],
      "execution_count": 12,
      "outputs": [
        {
          "output_type": "stream",
          "text": [
            "CPU times: user 282 ms, sys: 64 ms, total: 346 ms\n",
            "Wall time: 409 ms\n"
          ],
          "name": "stdout"
        }
      ]
    },
    {
      "cell_type": "code",
      "metadata": {
        "id": "EhIU21QUcSnU",
        "colab_type": "code",
        "colab": {}
      },
      "source": [
        "\n",
        "pred = pd.DataFrame({'Prediction': y_pred,'AD': ad}, index=None)\n",
        "pred.AD[pred.AD == False] = np.nan\n",
        "pred.AD[pred.AD == True] = pred.Prediction.astype(int)"
      ],
      "execution_count": 0,
      "outputs": []
    },
    {
      "cell_type": "code",
      "metadata": {
        "id": "RGL_C6cGcVW1",
        "colab_type": "code",
        "colab": {
          "base_uri": "https://localhost:8080/",
          "height": 70
        },
        "outputId": "f510d17b-1f70-4375-c4ac-523e67a5b06c"
      },
      "source": [
        "pred_ad = pred.dropna().astype(int)\n",
        "coverage_ad = len(pred_ad) * 100 / len(pred)\n",
        "\n",
        "print('VS pred: %s' % Counter(pred.Prediction))\n",
        "print('VS pred AD: %s' % Counter(pred_ad.Prediction))\n",
        "print('Coverage of AD: %.2f%%' % coverage_ad)"
      ],
      "execution_count": 14,
      "outputs": [
        {
          "output_type": "stream",
          "text": [
            "VS pred: Counter({0: 7})\n",
            "VS pred AD: Counter({0: 3})\n",
            "Coverage of AD: 42.86%\n"
          ],
          "name": "stdout"
        }
      ]
    },
    {
      "cell_type": "code",
      "metadata": {
        "id": "yWZyf43fcX-9",
        "colab_type": "code",
        "colab": {
          "base_uri": "https://localhost:8080/",
          "height": 1000
        },
        "outputId": "1ef3071c-6850-411d-94b3-c467856c19d1"
      },
      "source": [
        "predictions = pd.concat([moldf, pred], axis=1)\n",
        "for col in ['Prediction', 'AD']:\n",
        "    predictions[col].replace(0,'Inactive',inplace=True)\n",
        "    predictions[col].replace(1,'Active',inplace=True)\n",
        "\n",
        "predictions"
      ],
      "execution_count": 15,
      "outputs": [
        {
          "output_type": "execute_result",
          "data": {
            "text/html": [
              "<div>\n",
              "<style scoped>\n",
              "    .dataframe tbody tr th:only-of-type {\n",
              "        vertical-align: middle;\n",
              "    }\n",
              "\n",
              "    .dataframe tbody tr th {\n",
              "        vertical-align: top;\n",
              "    }\n",
              "\n",
              "    .dataframe thead th {\n",
              "        text-align: right;\n",
              "    }\n",
              "</style>\n",
              "<table border=\"1\" class=\"dataframe\">\n",
              "  <thead>\n",
              "    <tr style=\"text-align: right;\">\n",
              "      <th></th>\n",
              "      <th>Compound_name</th>\n",
              "      <th>Outcome</th>\n",
              "      <th>InChIKey</th>\n",
              "      <th>ID</th>\n",
              "      <th>Mol</th>\n",
              "      <th>Prediction</th>\n",
              "      <th>AD</th>\n",
              "    </tr>\n",
              "  </thead>\n",
              "  <tbody>\n",
              "    <tr>\n",
              "      <th>0</th>\n",
              "      <td>Remdesivir</td>\n",
              "      <td>Active</td>\n",
              "      <td>RWWYLEGWBNMMLJ-MEUHYHILSA-N</td>\n",
              "      <td></td>\n",
              "      <td><img data-content=\"rdkit/molecule\" src=\"data:image/png;base64,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\" alt=\"Mol\"/></td>\n",
              "      <td>Inactive</td>\n",
              "      <td>NaN</td>\n",
              "    </tr>\n",
              "    <tr>\n",
              "      <th>1</th>\n",
              "      <td>Chloroquine</td>\n",
              "      <td>Active</td>\n",
              "      <td>WHTVZRBIWZFKQO-UHFFFAOYNA-N</td>\n",
              "      <td></td>\n",
              "      <td><img data-content=\"rdkit/molecule\" src=\"data:image/png;base64,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\" alt=\"Mol\"/></td>\n",
              "      <td>Inactive</td>\n",
              "      <td>NaN</td>\n",
              "    </tr>\n",
              "    <tr>\n",
              "      <th>2</th>\n",
              "      <td>Ribavirin</td>\n",
              "      <td>Inactive</td>\n",
              "      <td>IWUCXVSUMQZMFG-AFCXAGJDSA-N</td>\n",
              "      <td></td>\n",
              "      <td><img data-content=\"rdkit/molecule\" src=\"data:image/png;base64,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\" alt=\"Mol\"/></td>\n",
              "      <td>Inactive</td>\n",
              "      <td>Inactive</td>\n",
              "    </tr>\n",
              "    <tr>\n",
              "      <th>3</th>\n",
              "      <td>Penciclovir</td>\n",
              "      <td>Inactive</td>\n",
              "      <td>JNTOCHDNEULJHD-UHFFFAOYSA-N</td>\n",
              "      <td></td>\n",
              "      <td><img data-content=\"rdkit/molecule\" src=\"data:image/png;base64,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\" alt=\"Mol\"/></td>\n",
              "      <td>Inactive</td>\n",
              "      <td>Inactive</td>\n",
              "    </tr>\n",
              "    <tr>\n",
              "      <th>4</th>\n",
              "      <td>Nitazoxanide</td>\n",
              "      <td>Active</td>\n",
              "      <td>YQNQNVDNTFHQSW-UHFFFAOYSA-N</td>\n",
              "      <td></td>\n",
              "      <td><img data-content=\"rdkit/molecule\" src=\"data:image/png;base64,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\" alt=\"Mol\"/></td>\n",
              "      <td>Inactive</td>\n",
              "      <td>NaN</td>\n",
              "    </tr>\n",
              "    <tr>\n",
              "      <th>5</th>\n",
              "      <td>Nafamostat</td>\n",
              "      <td>Inactive</td>\n",
              "      <td>MQQNFDZXWVTQEH-UHFFFAOYSA-N</td>\n",
              "      <td></td>\n",
              "      <td><img data-content=\"rdkit/molecule\" src=\"data:image/png;base64,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\" alt=\"Mol\"/></td>\n",
              "      <td>Inactive</td>\n",
              "      <td>NaN</td>\n",
              "    </tr>\n",
              "    <tr>\n",
              "      <th>6</th>\n",
              "      <td>Favipiravir</td>\n",
              "      <td>Inactive</td>\n",
              "      <td>ZCGNOVWYSGBHAU-UHFFFAOYSA-N</td>\n",
              "      <td></td>\n",
              "      <td><img data-content=\"rdkit/molecule\" src=\"data:image/png;base64,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\" alt=\"Mol\"/></td>\n",
              "      <td>Inactive</td>\n",
              "      <td>Inactive</td>\n",
              "    </tr>\n",
              "  </tbody>\n",
              "</table>\n",
              "</div>"
            ],
            "text/plain": [
              "  Compound_name   Outcome  ... Prediction        AD\n",
              "0    Remdesivir    Active  ...   Inactive       NaN\n",
              "1   Chloroquine    Active  ...   Inactive       NaN\n",
              "2     Ribavirin  Inactive  ...   Inactive  Inactive\n",
              "3   Penciclovir  Inactive  ...   Inactive  Inactive\n",
              "4  Nitazoxanide    Active  ...   Inactive       NaN\n",
              "5    Nafamostat  Inactive  ...   Inactive       NaN\n",
              "6   Favipiravir  Inactive  ...   Inactive  Inactive\n",
              "\n",
              "[7 rows x 7 columns]"
            ]
          },
          "metadata": {
            "tags": []
          },
          "execution_count": 15
        }
      ]
    },
    {
      "cell_type": "code",
      "metadata": {
        "id": "HrKG8KpkcadD",
        "colab_type": "code",
        "colab": {}
      },
      "source": [
        "\n",
        "PandasTools.WriteSDF(predictions, 'datasets/screened_compounds/wang_et_al_qsar_pred-morgan.sdf.gz',\n",
        "                     molColName='Mol', properties=list(predictions.columns))"
      ],
      "execution_count": 0,
      "outputs": []
    },
    {
      "cell_type": "code",
      "metadata": {
        "id": "b3azzxsHchZh",
        "colab_type": "code",
        "colab": {
          "base_uri": "https://localhost:8080/",
          "height": 17
        },
        "outputId": "b6af308a-3e41-437d-d7ab-8adc8352bb00"
      },
      "source": [
        "import numpy as np\n",
        "import pandas as pd\n",
        "import seaborn as sns\n",
        "import matplotlib.pyplot as plt\n",
        "import csv\n",
        "import _pickle as cPickle\n",
        "import gzip\n",
        "\n",
        "#from BalanceBySim import *\n",
        "from stats import *\n",
        "\n",
        "from collections import Counter\n",
        "\n",
        "from rdkit import Chem\n",
        "from rdkit.Chem import Draw\n",
        "from rdkit.Chem import PandasTools\n",
        "from rdkit.Chem.Draw import IPythonConsole\n",
        "\n",
        "from sklearn import metrics\n",
        "from sklearn.ensemble import RandomForestClassifier\n",
        "from sklearn.model_selection import train_test_split, cross_validate, GridSearchCV\n",
        "from sklearn.model_selection import permutation_test_score, StratifiedKFold\n",
        "\n",
        "def warn(*args, **kwargs):\n",
        "    pass\n",
        "import warnings\n",
        "warnings.filterwarnings(\"ignore\")\n",
        "warnings.warn = warn\n",
        "\n",
        "from IPython.core.interactiveshell import InteractiveShell\n",
        "InteractiveShell.ast_node_interactivity = \"all\"\n",
        "%matplotlib inline\n",
        "%reload_ext autoreload\n",
        "%autoreload 2\n",
        "Draw.DrawingOptions.atomLabelFontFace = \"DejaVu Sans\"\n",
        "Draw.DrawingOptions.atomLabelFontSize = 18\n",
        "\n",
        "from IPython.core.display import display, HTML\n",
        "display(HTML(\"<style>.container { width:90% !important; }</style>\"))"
      ],
      "execution_count": 18,
      "outputs": [
        {
          "output_type": "display_data",
          "data": {
            "text/html": [
              "<style>.container { width:90% !important; }</style>"
            ],
            "text/plain": [
              "<IPython.core.display.HTML object>"
            ]
          },
          "metadata": {
            "tags": []
          }
        }
      ]
    },
    {
      "cell_type": "code",
      "metadata": {
        "id": "7VPg7JZCdXxM",
        "colab_type": "code",
        "colab": {}
      },
      "source": [
        "\n",
        "# Set file path and format\n",
        "file = 'datasets/curated_data/clinical_trials.sdf.gz'\n",
        "\n",
        "# Read SDF\n",
        "sdfInfo = dict(molColName='ROMol')\n",
        "moldf = PandasTools.LoadSDF(file, **sdfInfo);\n",
        "#print('Original data: ', moldf.shape)\n",
        "# Rename ROMol\n",
        "moldf = moldf.rename(columns={'ROMol': 'Mol'})\n",
        "# Remove missing RDKit molecules\n",
        "moldf = moldf[pd.notnull(moldf['Mol'])]\n",
        "if 'StandardizerResult' in moldf.columns:\n",
        "    moldf = moldf.drop(columns='StandardizerResult')"
      ],
      "execution_count": 0,
      "outputs": []
    },
    {
      "cell_type": "code",
      "metadata": {
        "id": "x66MEtV1ddqz",
        "colab_type": "code",
        "colab": {
          "base_uri": "https://localhost:8080/",
          "height": 334
        },
        "outputId": "d3804fa8-8b6f-442b-d491-f1dfa19bd441"
      },
      "source": [
        "# Columns\n",
        "print('Kept data: ', moldf.shape)\n",
        "moldf.head(1)\n",
        "from molvs.validate import Validator\n",
        "fmt = '%(asctime)s - %(levelname)s - %(validation)s - %(message)s'\n",
        "validator = Validator(log_format=fmt)\n",
        "print('\\n Problematic structures: \\n', validator.validate(moldf))"
      ],
      "execution_count": 20,
      "outputs": [
        {
          "output_type": "stream",
          "text": [
            "Kept data:  (23, 4)\n"
          ],
          "name": "stdout"
        },
        {
          "output_type": "execute_result",
          "data": {
            "text/html": [
              "<div>\n",
              "<style scoped>\n",
              "    .dataframe tbody tr th:only-of-type {\n",
              "        vertical-align: middle;\n",
              "    }\n",
              "\n",
              "    .dataframe tbody tr th {\n",
              "        vertical-align: top;\n",
              "    }\n",
              "\n",
              "    .dataframe thead th {\n",
              "        text-align: right;\n",
              "    }\n",
              "</style>\n",
              "<table border=\"1\" class=\"dataframe\">\n",
              "  <thead>\n",
              "    <tr style=\"text-align: right;\">\n",
              "      <th></th>\n",
              "      <th>Compound_name</th>\n",
              "      <th>InChIKey</th>\n",
              "      <th>ID</th>\n",
              "      <th>Mol</th>\n",
              "    </tr>\n",
              "  </thead>\n",
              "  <tbody>\n",
              "    <tr>\n",
              "      <th>0</th>\n",
              "      <td>Sildenafil</td>\n",
              "      <td>BNRNXUUZRGQAQC-UHFFFAOYSA-N</td>\n",
              "      <td></td>\n",
              "      <td><img data-content=\"rdkit/molecule\" src=\"data:image/png;base64,iVBORw0KGgoAAAANSUhEUgAAAMgAAADICAIAAAAiOjnJAAAABmJLR0QA/wD/AP+gvaeTAAAX7klEQVR4nO3daVgUV9YH8NPNJiiCO6tg3GFQlEU2jVEjqGBmYjQrMaMOavRFnMRo8kQxOnlDTMbBvCrROElwXKLGGQcZRyNuEJZos4yyKItCs4myb0Ivdd4P1fYQhKbprsui5/fBx6e76vbt7j9VXVX33BIhIhAiNHFvd4A8nShYhAkKFmGCgkWYoGARJihYhAkKFmGCgkWYoGARJihYhAkKFmGCgkWYoGARJihYhAkKFmGCgkWYoGARJihYhAkKFmGCgkWYoGARJihYhAkKFmGCgkWYoGARJihYhAkKFmGCgkWYoGARJihYhAkKFmGCgkWYoGARJihYhAkKFmGCgkWYoGARJihYhAkKFmGCgkWYoGARJihYhAkKFmGCgkWYoGARJihYhAkKFmGCgkWYoGARJihYhAkKFmGCgkWYoGARJihYhAkKFmGCgkWY0BQshULBcVyPdYU8TToN1rZt26ysrBITE3uyN+Sp0WmwZDJZVVXV6dOne7I35KkhQsQOn7hx44anp6ednZ1UKhWJRD3cLdLfdbrFcnd3d3BwKCkpuXHjRk92iDwdOg2WSCT63e9+BwC0NyQ60HRUuGTJEgA4depUT3WGpa1bYe5cmD0b9u7t7a48G7BzSqXSxsYGANLT0zUsxsLZs2c3bdpUV1cnTHNXr+LzzyPHYWsrOjlhXp7+TTY0NHz44YdRUVFvvfWWVCrVv8GnjKZgIeK7774LAB9//HHP9IanVConTJgAAKNGjTp06JBSqdS9LbkclUrctQu3b1c9smoVHjuGMpnOTXIc9/3331tbWwPAwIEDAcDMzGz79u1NTU269/Op00WwLl26BAATJ07smd6opaamzpw5k9+mTp8+PT4+XpdW4uLQxQUPHcIvvsDwcNWDK1fiunU4fjyePKlDkzdu3PDx8eE75u7ufubMmeDgYP6o2dbWNjo6muM4Xbr61OkiWAqFYsSIEQCQnZ3dMx1qKyYmxtHRkf8WAwMD7927p+2aubkYFIQACIB+fpiQgL6+qFSqdoU+PqqnFizA27e1bLK0tDQkJEQsFgOAjY3NgQMH1JvSX375xcvLi++np6dncnJy99/r06aLYCHiypUrAWDHjh090JsnNTc3R0REDBo0CABMTU03b97c0NCgaYXGRgwPRxMTBMCBAzE8HFtaEBG3bcPZs/H55/HAAZTJ8MABHD4cAdDICENC8OFDDU22trZGRkaam5sDgLGxcWhoaH19vfrZ48ePV1dXcxwXHR1tZWUFACKRKDg4uLy8XJiPoH/qOljnzp0DgKlTp/ZAbzpTUlLS5R5HqVQeOnTo1TlzEADFYlyxAjV/tQ8eYEgIGhggQMScOQcOHFAoFE8uFRMT89xzz6m3mgUFBW2fTUtLMzAwGDp0aGRkpFwub2xsDA8PNzEx4X9+hYeHt/CxfvZ0HSyZTDZkyBAAyBPiYEofGvY4CQkJbm5u/FM/vf02SiTaNpqeXrR8Ob+iq6vr1atX1c9kZ2f7+/vzT02ePPn8+fNPrp2TkzNnzhx+GRcXl0uXLiFiXl7e0qVL+QfHjRt3Uqcfc/1d18FCxODgYAD4/PPPWfemS0/ucdLT0/X/+RwTEzNmzBj1ZiktLS00NNTAwAAA+K1Rhxuztqu33arl5+cjYlxcnIuLC//gnDlzbt68qfvb7oe0CtaZM2cAwNnZuaSkhHWHtFFbW/v+++8bGxsDgPrn17Zt2/Q54G9ubt65cyd/+oD/18jIKCwsrKamRpvV+d9hgwcP5lcMDQ2tq6uTyWR79uzht/cjR4589OiRzt3rd7QKVnNzs4+Pj6WlJQBYW1sHBgaGh4fHxMRUVVWx7p8Gubm5QUFBn3322auvvlpUVCRIm8XFxTNmzDA3Nx8/fnxOTk53Vy8rK1MfOVpbW/NHjg8fPlywYIGFhcWaNWsE6WS/oFWwELGlpcXf35//41MTi8XOzs6///3vo6Ki0tLS5HI50772jL/85S8AsGHDBp1bUP8WNDc3r6ioQMQffvgBAJYtWyZcN/s6Q80XfNRMTEzOnz8PAGVlZYmJiT///HNqampaWlpWVlZWVtZ3333H7wKmTJni6+vr5ubm5ubm5OTU38fb7N+/v6GhYd26dfwOV0uenp5JSUlHjhx59OjRyJEj2XWvT9MnlXK5PDMzMzo6OiQkxMnJid8F8EQiUUJCglDx70ltt1j8dZvS0lI926QtVvcYGho6Ozs7Ozu//fbbAFBbW3v9sWvXrs2cOTM9Pd3V1VWv4JP+ScgqHUtLy/nz53/88ccxMTFvvvkmAPz9738XsH3Sj7Aq/+LHcp08eZJR+6SPYxWs2bNnjxgx4s6dOzk5OYxegvRlrIJlYGCwePFioJHNQulvI2AZVkLze0MKlgCuXYOEBIiLg59+gqgoyM/v7Q51jWGw5s2bN2TIkIyMjIKCAnav8ky4fh1eeAFEIjA2Bh8fkEh6u0NdYxgsIyOjRYsWAW209CcSgbr8ExEMDHq1N1phOykI7Q31lZEBAODlBXFxwHEgk0FyMnh49Ha3uqbXCdIuBQQEmJub37hxQyqVjh49mulrsWBjYyMWiw102kI0NTVVVFSoh9PoIiMD3N1h/nyIjYW5c2HuXECEDRvg8XDtvoztFmvAgAELFixAxH/84x/CtpySAiYmUFwMABAYCCUlwjavIpFISkpKRo0a1a21EPHUqVNOTk5Lly7Va7qesDBQKmHyZBCLYfRo+PFHuHoVQkJ0b7AHMZ8fi93e0NUVPvtM8FahsLBQ/a8Orl+/7uPjs2zZMqlUamhoWFlZCQBSqRQeX3PUtqGTJ+HaNRgxArZuhfh4WLUKXF1BJtOtV72A9cXIhoYGU1NTsVhcVlYmYLPJybhmDQYGolSKixZhcbEAbarrcGxtbQFg3rx5t27d0n71DgdjVVVVhYaGGhoa8sMcPDw8kpKSumxKqXxUEOfeGuSOX0ehUolubgiAvVTPohvmwULEl156CQCioqIEaa2uDjdtwuPHcfVqTEzEtWtVwUpOxvBw1G0MadvhowMGDPD39+dHNRoZGW3cuLHLQaRth4/yZTx1dXVyuVw9fNTQ0NDf35/PllgsXrFiheYanrKyHRIJZGVN5TiF8si3CIAODtjcrMt76yU9EazDhw8DgIuLS7sSl+5SKvHQIRw1CgHQ2xtXr0ZEXLgQ3dywuBhnzEAAtLfHY8ewW6Pe2w14v3v3LiLyWxpthr13WMbT4YD3urq6TZs28SOqBw8efOrU/3FcBzU8MllJWtpAiQTq668oFLU3062rPp3FnTnV7c+rV/VEsE6cODFo0CD+S3JycgoPD8/KyupuI7/8gl5eqjpTT0/85htVsBISEACLi/H6dfT2Vi3g4YFa7HAwPT191qxZ/NffYR1Ol4U66qvs2pfo8AsYGoolEqdbt8ZVV7dfoKbmdFqaaUHBEkQsLt4okcDt276I/azAmnmwSkpKhg0bBgDu7u4WFhbq33ZOTk5bt27VZrqRoqKi995LFolUG6TjxzvdILXdpInF+NFHR+/fv9/hkpWVldrX4WgoLZTL5bNmzdq/f79CoehWUWFm5uWsLGeJBCQSyM19sbk5s+2zra2Fra3FLS15qanGEom4qUnrarY+g22wlEolX3YXEBDAcZxCoUhISAgNDW17AO/o6BgaGpqQkPBk2VZTUxNfBm1qOnTcONnmzaihCvpf/8J9+1AuV9VCT56cZWhoyH/BbctjZDJZZGQkH3G+nEabOhzNxdBKpTI6Opp/U9qXQXOcvKLiq4yMoRIJpKYaSqXrlcpf/UJsakrLznYtLPxDl031QWyD9cknnwDAqFGjysvLc3Jyzp49yz+uThg/TRLP3t4+NDT04sWLcrmc47hjx47Z29vzX9Vrr71WVKRpfHBrK44diwDo4oJxcYiIeXl3g4KC1Lukf/7zn4h48eJFZ2dn/sF58+ZlZmZqaPNJHU7foOfEDQpFtVQamppqmJU1Valsunv39fz83+blBRYWhiByHKdQKhu71WAfwTBYycmVAwcOFYvFFy9ebGlpcXV1FYlER48ebbuMUqmMj48PCwtre17eysqKn8YIANzc3LQcO3/6ND73nOo31rp1SXzV6IULF5ycnPim7Ozs+P9MmjTp3LlzeryvZE9PT74pGxsbvmBk9OjRP/zwg85TzTQ332pqktTXXy0oUI2Lf/AgSi4Xprqurq4uOzs7JSVFkNa0xCpYNTXo4ICTJjXv3HkIETds2AAAY8eObbsHaSczMzM8PHzixIn892RhYdFlCXI7MhlGRuLw4a2OjuPVVaNyufzAgQMWFhaOjo4DBw6MiIjQfz4FjuNOnjw5evTogIAAMzOzrqcq0Y5CUZ+bG1BYuLKq6qhCoVWhbJf95AvHHR0dRSLR7NmzMzIy9G9WG6yC9frrqqOz1lY8fz5TJBIZGxtLtJtSgT+q+vOf/6zbS5eX1yxfvpzfkFhbW/MHa1u2bAGAP/7xj7q12aGGhoba2lphT/wiokxWUll5OCvrN01NGeXlnyoUnf4papaQkDB9+nT1Ie3QoUMBwMDAYM2aNQ81zq4jCCbBOngQAXDQIMzNxdJSHDECfXwKIyMPaFhFLpcXFBTwcy6uXbsWAPbt26dPHyQSia+vr7GxcW5uLiLu2LEDenxqQu21tOQhYnX1j9XVP/KPFBWtKShYJpFARsbwiopIjuvGlru4uOG1117j/7Ts7e2PHz/OcVxNTc3mzZv5s2iWlpYRERGtra1M3gwisghWbi4OGoQAeOQIKpU4bx4C4Pz5qHnCx3v37gGAg4MDChQsROQ4Tn06oy8Hq77+kkQilkrXy2T38/KC8vKC8vNfunv3rfr6hJwcb/6URHa2+82bXW+6mpsxIgLNzTkXF98OpxO7c+cOP0gOACZMmKA+nBKc8MHauxfFYnznHUTETz9FABw5ErvcXbAIVlt9Nlgcp8jKmiKRQHn5/yJiZeXhdqfja2tjbt50+P779wEwMBA7m9WQ4/D4cbS3RwAUiXD9+mwN81noeXSsDSa7witXVCecLl9GW1uMje16lWc2WA8e7JVI4Nat55TKR9XVpyQSyMnxareMUtm4b1+NqSkCoJkZfvJJ+8uGqano56c6Ip4+HbU5jH7yfF5tba1wb0uIYCUno7Ex8jNSPznQQMsrp6yDtXv3aVfXjbt29bErbtXVCn+feyeca2pOK5WPbt50lEjgwYOvO1y2uBiDg1EkQltbvHz5V5/5n/6EADhsGEZGYncOo391BWLYsGHdPQzXQJjxWBqGRpmaCvIK+mpsfDkjY3d9/Su93ZFf277d4EKS40ErS8uXK0sjZbJCU9Mpw4ev6nBZOzs4fBiuXoWDB8HU9Fef+Ztvwuefw927sGFD9wbEDxs2bM+ePdevX585c2ZVVVVYWJiHh0dRUZHeb0yggX7Tp0NxsWo8J9FWTg5ERYGBAezeDaWlIz0jx/84294uUiTSFI1Zs2DhQoBff+aGhvDBBzB4sI4d4Sc8j4mJcXBwkEql/LRCehImWIjw4YdMxnM+zS5cAIUCQkJgyhTYsgXuVwzOH24++AUt1xb8Mw8KCoqNja2qqvriiy/0b02wock+PlBUBPfvC9XeMyAsDFJSYMcOSEmBo0fBxKS7MRH8Mx8wYIBQTQk55v3DDyE1FQDg1i1obRWw4aeXpycMHw51dWBjA++9B+PGdbcB9Wfe1whQ/uXlBfzVfT8/QIToaFi9Gt59F3bv1r/tp9fWrZCUBEolvPIKrF8Pd+5Ad2Y/9PICQ0MYPx48PED7+oyeJHxd4W9+A4gQGQkvvACPx630vg8+gNBQEG5Lrx9+LoYrV0Auh2nTICBAh23Vo0eQnw9WViz6JwDhy7/c3GDnTkCElSuhvFzbtaytrZOSkgQvP+SlpMDgwVBfDyYmqiLElBT47W9Vz7q7sypL7FRfnYtBLDZxcJhnZTVDgKb0b+JJmzbBokXw8CG88QZoWbBpYmLi7e09bdo0AGhqagIAhUIhYJcYFSHqqK/OxcBx9kVFF+/fP6p/U0yCJRLBt9+ClRVcvQpffqntWlKpdM+ePX5+fn/7299sbW137dol4M1dnzzTlpwMAQEQEAB5eUK9iNb64VwM3cWqEnrkSPj2WxCJICoKWlo0LZmfL4+IiPDw8HBwcAgLC0tMTDQ1NQWA0tLSZcuWLViw4Pbt2zp3Iz0dqqsBOjrr4+0N58/D+fMwfrzOzevKz081F8P8+f1lLoZuE+TCUGe++67TG7ZlZmJEBPr6IgCOGTMRAMzMzAIDA6Ojo+vr6/lhn8OHDwcAQ0PDkJCQ7o5Nq6zE0FA0MMD/+R9MTm5fhJicjC+9pFqSf6TfSUq6+/zz769YsV/ANvPyEADHjhWgKeblX+0uUaen40cf4cSJqkvxADhkCG7ZciomJubJW808WTWqzc0vWlvxyy/RwkJ1N8IPPvhvsNRFiE9BsOLj4wHAz89PwDb7WbA8PXHtWsTHwTIwUF2KDw7GmBjschhj26rRSZMm/fvf/9aw8IUL5RMmqCK7aJH290/tfyhY7Wfv2L0br1zp3ugO7OqGlPh4bOSIEaPMzesmTEBmQyP7ChbBam3FzEwU5L6UPRGsdrN36KzDuTcQsaamJiwszMjICAAsLS2/+eZnPe5R328IHizN4+q6i/n8WDxBLpcaGxtv2LAhOzs7ODhYLpd/9dVXkydPXrFixfjx4yMjIzmOW716dV5e3qpVvkZGAvW7z0NBL+gIeLavh4IFwl0utbW1PXz4MD+dS1lZ2aVLlyorK6dNmxYfH//111/zB5LPAgsLCzc3t//85z979uxRKpWCtCnguDrmwaqogIQE+OtfVZeoH1cj66uhoeHWrVvTp08/ceLEpEmT0tPT9ZqUsR+aMmXKwoULGxsbw8LCZsyYkZiYqHNTcjncvQvwxNm+O3d07x7zYJ0+DdnZUFXFpHE7OzsvLy9+Nptn0I4dO2JiYhwdHVNTU/38/IKCgnSY4TIuDqZNg0WLgL+Epv7Rkp8PLi7w4ouQlaVL39gGSy6H2FgAgJdfZvo6z66goKCsrCx+Tp7Y2FgnJ6ctW7Y0NjZqs+7t27BgwX+j8+CB6nH+R0t+PpiZqWL33ntQV9fNnglxPNGpc+cQAF1dhW+Zv//54sWLEdHX1xcA+ul9N4VSUlISHBzMVz/b2tpGR0drmKGkpqY5LAyNjBAALS1x927s8Di6ogL/8AcUi1XFoYcOtSo1lx23wXaLxc+VvGQJ0xchAI+PaVJSUry8vEpLS5cvX+7l5ZWSktJuMY7jDh8+PGnSmMuXE5RKCA6G27dh40bo8Dh65Eg4eBAkEpg1Cx48gCNH/uTm5nbt2jWtOqTb34c25HKFtbUcALs/L2TXaIvVGQ2zwF2+fHnq1Kn89/766+u7NfHMyZPyiRMn8esuXbq0sLBQ8/IMg3Xp0qUhQ4a+8ko4i8blZ89yQ4fKXn0VEeX+/tzQoYrERBYv1E+1m7dy48aNb7zxBh8LOzs7zTvKzjQ3N0dERHQ2rWE7DIPFFzSzqmo/cwYBcPFiRFSNkaAt1hPUM+3y5TdmZmbtJs7UgXpaQ2Nj49udX4tldS8djuP4vdUS+oXVe/hpmy9cuHD//v07d+6sW7eOvzeCPvg5Mt955520tDR+lrwOsQpWUlJSeXn5mDFj6C72vU49NkRA3t7e3t7eGhZgdVTI3zxHPeM5edawChZ/UPoynRh9VomQTb2jXC6Pj4+fM2eOqDt1mN0glcJPP4GDA7z4IsTGwv37EBQE3bz/G2GHVbDIM67nhs0Ib+tWmDsXZs+GvXt7uyukPba37mVIiCp1wk6/3WL11Sp1wuu3weqrVeqE12+D9QxUqfdr/fY3lrpKHfGprVLvz+h0A2Gi3+4KSd9GwSJMULAIExQswgQFizBBwSJMULAIExQswgQFizBBwSJMULAIExQswgQFizBBwSJMULAIExQswgQFizBBwSJMULAIExQswgQFizBBwSJMULAIExQswgQFizBBwSJMULAIExQswgQFizBBwSJMULAIExQswgQFizBBwSJMULAIExQswgQFizBBwSJMULAIExQswgQFizBBwSJMULAIExQswgQFizBBwSJMULAIExQswgQFizBBwSJMULAIExQswgQFizBBwSJMULAIExQswgQFizDx/+DOwNeuMTaWAAAAAElFTkSuQmCC\" alt=\"Mol\"/></td>\n",
              "    </tr>\n",
              "  </tbody>\n",
              "</table>\n",
              "</div>"
            ],
            "text/plain": [
              "  Compound_name  ...                                                Mol\n",
              "0    Sildenafil  ...  <img data-content=\"rdkit/molecule\" src=\"data:i...\n",
              "\n",
              "[1 rows x 4 columns]"
            ]
          },
          "metadata": {
            "tags": []
          },
          "execution_count": 20
        },
        {
          "output_type": "stream",
          "text": [
            "\n",
            " Problematic structures: \n",
            " []\n"
          ],
          "name": "stdout"
        }
      ]
    },
    {
      "cell_type": "code",
      "metadata": {
        "id": "IiuY5wwpdgaZ",
        "colab_type": "code",
        "colab": {
          "base_uri": "https://localhost:8080/",
          "height": 443
        },
        "outputId": "10c9515e-7951-4e33-c387-8ce837e7ee79"
      },
      "source": [
        "train_desc = pd.read_csv('descriptors/sirms-chembl-sars-cov-3C-like-proteinase-processed.txt', sep='\\t')\n",
        "desc_list = train_desc.columns.tolist()\n",
        "train_desc.head()"
      ],
      "execution_count": 21,
      "outputs": [
        {
          "output_type": "error",
          "ename": "FileNotFoundError",
          "evalue": "ignored",
          "traceback": [
            "\u001b[0;31m---------------------------------------------------------------------------\u001b[0m",
            "\u001b[0;31mFileNotFoundError\u001b[0m                         Traceback (most recent call last)",
            "\u001b[0;32m<ipython-input-21-e93bb3c147d0>\u001b[0m in \u001b[0;36m<module>\u001b[0;34m()\u001b[0m\n\u001b[0;32m----> 1\u001b[0;31m \u001b[0mtrain_desc\u001b[0m \u001b[0;34m=\u001b[0m \u001b[0mpd\u001b[0m\u001b[0;34m.\u001b[0m\u001b[0mread_csv\u001b[0m\u001b[0;34m(\u001b[0m\u001b[0;34m'descriptors/sirms-chembl-sars-cov-3C-like-proteinase-processed.txt'\u001b[0m\u001b[0;34m,\u001b[0m \u001b[0msep\u001b[0m\u001b[0;34m=\u001b[0m\u001b[0;34m'\\t'\u001b[0m\u001b[0;34m)\u001b[0m\u001b[0;34m\u001b[0m\u001b[0;34m\u001b[0m\u001b[0m\n\u001b[0m\u001b[1;32m      2\u001b[0m \u001b[0mdesc_list\u001b[0m \u001b[0;34m=\u001b[0m \u001b[0mtrain_desc\u001b[0m\u001b[0;34m.\u001b[0m\u001b[0mcolumns\u001b[0m\u001b[0;34m.\u001b[0m\u001b[0mtolist\u001b[0m\u001b[0;34m(\u001b[0m\u001b[0;34m)\u001b[0m\u001b[0;34m\u001b[0m\u001b[0;34m\u001b[0m\u001b[0m\n\u001b[1;32m      3\u001b[0m \u001b[0mtrain_desc\u001b[0m\u001b[0;34m.\u001b[0m\u001b[0mhead\u001b[0m\u001b[0;34m(\u001b[0m\u001b[0;34m)\u001b[0m\u001b[0;34m\u001b[0m\u001b[0;34m\u001b[0m\u001b[0m\n",
            "\u001b[0;32m/usr/local/lib/python3.6/dist-packages/pandas/io/parsers.py\u001b[0m in \u001b[0;36mparser_f\u001b[0;34m(filepath_or_buffer, sep, delimiter, header, names, index_col, usecols, squeeze, prefix, mangle_dupe_cols, dtype, engine, converters, true_values, false_values, skipinitialspace, skiprows, skipfooter, nrows, na_values, keep_default_na, na_filter, verbose, skip_blank_lines, parse_dates, infer_datetime_format, keep_date_col, date_parser, dayfirst, cache_dates, iterator, chunksize, compression, thousands, decimal, lineterminator, quotechar, quoting, doublequote, escapechar, comment, encoding, dialect, error_bad_lines, warn_bad_lines, delim_whitespace, low_memory, memory_map, float_precision)\u001b[0m\n\u001b[1;32m    674\u001b[0m         )\n\u001b[1;32m    675\u001b[0m \u001b[0;34m\u001b[0m\u001b[0m\n\u001b[0;32m--> 676\u001b[0;31m         \u001b[0;32mreturn\u001b[0m \u001b[0m_read\u001b[0m\u001b[0;34m(\u001b[0m\u001b[0mfilepath_or_buffer\u001b[0m\u001b[0;34m,\u001b[0m \u001b[0mkwds\u001b[0m\u001b[0;34m)\u001b[0m\u001b[0;34m\u001b[0m\u001b[0;34m\u001b[0m\u001b[0m\n\u001b[0m\u001b[1;32m    677\u001b[0m \u001b[0;34m\u001b[0m\u001b[0m\n\u001b[1;32m    678\u001b[0m     \u001b[0mparser_f\u001b[0m\u001b[0;34m.\u001b[0m\u001b[0m__name__\u001b[0m \u001b[0;34m=\u001b[0m \u001b[0mname\u001b[0m\u001b[0;34m\u001b[0m\u001b[0;34m\u001b[0m\u001b[0m\n",
            "\u001b[0;32m/usr/local/lib/python3.6/dist-packages/pandas/io/parsers.py\u001b[0m in \u001b[0;36m_read\u001b[0;34m(filepath_or_buffer, kwds)\u001b[0m\n\u001b[1;32m    446\u001b[0m \u001b[0;34m\u001b[0m\u001b[0m\n\u001b[1;32m    447\u001b[0m     \u001b[0;31m# Create the parser.\u001b[0m\u001b[0;34m\u001b[0m\u001b[0;34m\u001b[0m\u001b[0;34m\u001b[0m\u001b[0m\n\u001b[0;32m--> 448\u001b[0;31m     \u001b[0mparser\u001b[0m \u001b[0;34m=\u001b[0m \u001b[0mTextFileReader\u001b[0m\u001b[0;34m(\u001b[0m\u001b[0mfp_or_buf\u001b[0m\u001b[0;34m,\u001b[0m \u001b[0;34m**\u001b[0m\u001b[0mkwds\u001b[0m\u001b[0;34m)\u001b[0m\u001b[0;34m\u001b[0m\u001b[0;34m\u001b[0m\u001b[0m\n\u001b[0m\u001b[1;32m    449\u001b[0m \u001b[0;34m\u001b[0m\u001b[0m\n\u001b[1;32m    450\u001b[0m     \u001b[0;32mif\u001b[0m \u001b[0mchunksize\u001b[0m \u001b[0;32mor\u001b[0m \u001b[0miterator\u001b[0m\u001b[0;34m:\u001b[0m\u001b[0;34m\u001b[0m\u001b[0;34m\u001b[0m\u001b[0m\n",
            "\u001b[0;32m/usr/local/lib/python3.6/dist-packages/pandas/io/parsers.py\u001b[0m in \u001b[0;36m__init__\u001b[0;34m(self, f, engine, **kwds)\u001b[0m\n\u001b[1;32m    878\u001b[0m             \u001b[0mself\u001b[0m\u001b[0;34m.\u001b[0m\u001b[0moptions\u001b[0m\u001b[0;34m[\u001b[0m\u001b[0;34m\"has_index_names\"\u001b[0m\u001b[0;34m]\u001b[0m \u001b[0;34m=\u001b[0m \u001b[0mkwds\u001b[0m\u001b[0;34m[\u001b[0m\u001b[0;34m\"has_index_names\"\u001b[0m\u001b[0;34m]\u001b[0m\u001b[0;34m\u001b[0m\u001b[0;34m\u001b[0m\u001b[0m\n\u001b[1;32m    879\u001b[0m \u001b[0;34m\u001b[0m\u001b[0m\n\u001b[0;32m--> 880\u001b[0;31m         \u001b[0mself\u001b[0m\u001b[0;34m.\u001b[0m\u001b[0m_make_engine\u001b[0m\u001b[0;34m(\u001b[0m\u001b[0mself\u001b[0m\u001b[0;34m.\u001b[0m\u001b[0mengine\u001b[0m\u001b[0;34m)\u001b[0m\u001b[0;34m\u001b[0m\u001b[0;34m\u001b[0m\u001b[0m\n\u001b[0m\u001b[1;32m    881\u001b[0m \u001b[0;34m\u001b[0m\u001b[0m\n\u001b[1;32m    882\u001b[0m     \u001b[0;32mdef\u001b[0m \u001b[0mclose\u001b[0m\u001b[0;34m(\u001b[0m\u001b[0mself\u001b[0m\u001b[0;34m)\u001b[0m\u001b[0;34m:\u001b[0m\u001b[0;34m\u001b[0m\u001b[0;34m\u001b[0m\u001b[0m\n",
            "\u001b[0;32m/usr/local/lib/python3.6/dist-packages/pandas/io/parsers.py\u001b[0m in \u001b[0;36m_make_engine\u001b[0;34m(self, engine)\u001b[0m\n\u001b[1;32m   1112\u001b[0m     \u001b[0;32mdef\u001b[0m \u001b[0m_make_engine\u001b[0m\u001b[0;34m(\u001b[0m\u001b[0mself\u001b[0m\u001b[0;34m,\u001b[0m \u001b[0mengine\u001b[0m\u001b[0;34m=\u001b[0m\u001b[0;34m\"c\"\u001b[0m\u001b[0;34m)\u001b[0m\u001b[0;34m:\u001b[0m\u001b[0;34m\u001b[0m\u001b[0;34m\u001b[0m\u001b[0m\n\u001b[1;32m   1113\u001b[0m         \u001b[0;32mif\u001b[0m \u001b[0mengine\u001b[0m \u001b[0;34m==\u001b[0m \u001b[0;34m\"c\"\u001b[0m\u001b[0;34m:\u001b[0m\u001b[0;34m\u001b[0m\u001b[0;34m\u001b[0m\u001b[0m\n\u001b[0;32m-> 1114\u001b[0;31m             \u001b[0mself\u001b[0m\u001b[0;34m.\u001b[0m\u001b[0m_engine\u001b[0m \u001b[0;34m=\u001b[0m \u001b[0mCParserWrapper\u001b[0m\u001b[0;34m(\u001b[0m\u001b[0mself\u001b[0m\u001b[0;34m.\u001b[0m\u001b[0mf\u001b[0m\u001b[0;34m,\u001b[0m \u001b[0;34m**\u001b[0m\u001b[0mself\u001b[0m\u001b[0;34m.\u001b[0m\u001b[0moptions\u001b[0m\u001b[0;34m)\u001b[0m\u001b[0;34m\u001b[0m\u001b[0;34m\u001b[0m\u001b[0m\n\u001b[0m\u001b[1;32m   1115\u001b[0m         \u001b[0;32melse\u001b[0m\u001b[0;34m:\u001b[0m\u001b[0;34m\u001b[0m\u001b[0;34m\u001b[0m\u001b[0m\n\u001b[1;32m   1116\u001b[0m             \u001b[0;32mif\u001b[0m \u001b[0mengine\u001b[0m \u001b[0;34m==\u001b[0m \u001b[0;34m\"python\"\u001b[0m\u001b[0;34m:\u001b[0m\u001b[0;34m\u001b[0m\u001b[0;34m\u001b[0m\u001b[0m\n",
            "\u001b[0;32m/usr/local/lib/python3.6/dist-packages/pandas/io/parsers.py\u001b[0m in \u001b[0;36m__init__\u001b[0;34m(self, src, **kwds)\u001b[0m\n\u001b[1;32m   1889\u001b[0m         \u001b[0mkwds\u001b[0m\u001b[0;34m[\u001b[0m\u001b[0;34m\"usecols\"\u001b[0m\u001b[0;34m]\u001b[0m \u001b[0;34m=\u001b[0m \u001b[0mself\u001b[0m\u001b[0;34m.\u001b[0m\u001b[0musecols\u001b[0m\u001b[0;34m\u001b[0m\u001b[0;34m\u001b[0m\u001b[0m\n\u001b[1;32m   1890\u001b[0m \u001b[0;34m\u001b[0m\u001b[0m\n\u001b[0;32m-> 1891\u001b[0;31m         \u001b[0mself\u001b[0m\u001b[0;34m.\u001b[0m\u001b[0m_reader\u001b[0m \u001b[0;34m=\u001b[0m \u001b[0mparsers\u001b[0m\u001b[0;34m.\u001b[0m\u001b[0mTextReader\u001b[0m\u001b[0;34m(\u001b[0m\u001b[0msrc\u001b[0m\u001b[0;34m,\u001b[0m \u001b[0;34m**\u001b[0m\u001b[0mkwds\u001b[0m\u001b[0;34m)\u001b[0m\u001b[0;34m\u001b[0m\u001b[0;34m\u001b[0m\u001b[0m\n\u001b[0m\u001b[1;32m   1892\u001b[0m         \u001b[0mself\u001b[0m\u001b[0;34m.\u001b[0m\u001b[0munnamed_cols\u001b[0m \u001b[0;34m=\u001b[0m \u001b[0mself\u001b[0m\u001b[0;34m.\u001b[0m\u001b[0m_reader\u001b[0m\u001b[0;34m.\u001b[0m\u001b[0munnamed_cols\u001b[0m\u001b[0;34m\u001b[0m\u001b[0;34m\u001b[0m\u001b[0m\n\u001b[1;32m   1893\u001b[0m \u001b[0;34m\u001b[0m\u001b[0m\n",
            "\u001b[0;32mpandas/_libs/parsers.pyx\u001b[0m in \u001b[0;36mpandas._libs.parsers.TextReader.__cinit__\u001b[0;34m()\u001b[0m\n",
            "\u001b[0;32mpandas/_libs/parsers.pyx\u001b[0m in \u001b[0;36mpandas._libs.parsers.TextReader._setup_parser_source\u001b[0;34m()\u001b[0m\n",
            "\u001b[0;31mFileNotFoundError\u001b[0m: [Errno 2] File descriptors/sirms-chembl-sars-cov-3C-like-proteinase-processed.txt does not exist: 'descriptors/sirms-chembl-sars-cov-3C-like-proteinase-processed.txt'"
          ]
        }
      ]
    },
    {
      "cell_type": "code",
      "metadata": {
        "id": "sHGmmgkdePfx",
        "colab_type": "code",
        "colab": {}
      },
      "source": [
        "with gzip.open('model/sars-cov-3clpro-dragon_RF_ad_balanced.pgz', 'rb') as f:\n",
        "    model = cPickle.load(f)"
      ],
      "execution_count": 0,
      "outputs": []
    },
    {
      "cell_type": "code",
      "metadata": {
        "id": "46AMlrkUectD",
        "colab_type": "code",
        "colab": {
          "base_uri": "https://localhost:8080/",
          "height": 425
        },
        "outputId": "afa84545-24ca-4426-c557-62384329542b"
      },
      "source": [
        "%%time\n",
        "ad_threshold = 0.70\n",
        "\n",
        "y_pred = model.predict(X_vs)\n",
        "ad = model.predict_proba(X_vs)\n",
        "ad = np.amax(ad, axis=1) >= ad_threshold"
      ],
      "execution_count": 23,
      "outputs": [
        {
          "output_type": "error",
          "ename": "ValueError",
          "evalue": "ignored",
          "traceback": [
            "\u001b[0;31m---------------------------------------------------------------------------\u001b[0m",
            "\u001b[0;31mValueError\u001b[0m                                Traceback (most recent call last)",
            "\u001b[0;32m<ipython-input-23-a5af3d26a66f>\u001b[0m in \u001b[0;36m<module>\u001b[0;34m()\u001b[0m\n\u001b[1;32m      1\u001b[0m \u001b[0;34m\u001b[0m\u001b[0m\n\u001b[0;32m----> 2\u001b[0;31m \u001b[0mget_ipython\u001b[0m\u001b[0;34m(\u001b[0m\u001b[0;34m)\u001b[0m\u001b[0;34m.\u001b[0m\u001b[0mrun_cell_magic\u001b[0m\u001b[0;34m(\u001b[0m\u001b[0;34m'time'\u001b[0m\u001b[0;34m,\u001b[0m \u001b[0;34m''\u001b[0m\u001b[0;34m,\u001b[0m \u001b[0;34m'ad_threshold = 0.70\\n\\ny_pred = model.predict(X_vs)\\nad = model.predict_proba(X_vs)\\nad = np.amax(ad, axis=1) >= ad_threshold'\u001b[0m\u001b[0;34m)\u001b[0m\u001b[0;34m\u001b[0m\u001b[0;34m\u001b[0m\u001b[0m\n\u001b[0m",
            "\u001b[0;32m/usr/local/lib/python3.6/dist-packages/IPython/core/interactiveshell.py\u001b[0m in \u001b[0;36mrun_cell_magic\u001b[0;34m(self, magic_name, line, cell)\u001b[0m\n\u001b[1;32m   2115\u001b[0m             \u001b[0mmagic_arg_s\u001b[0m \u001b[0;34m=\u001b[0m \u001b[0mself\u001b[0m\u001b[0;34m.\u001b[0m\u001b[0mvar_expand\u001b[0m\u001b[0;34m(\u001b[0m\u001b[0mline\u001b[0m\u001b[0;34m,\u001b[0m \u001b[0mstack_depth\u001b[0m\u001b[0;34m)\u001b[0m\u001b[0;34m\u001b[0m\u001b[0;34m\u001b[0m\u001b[0m\n\u001b[1;32m   2116\u001b[0m             \u001b[0;32mwith\u001b[0m \u001b[0mself\u001b[0m\u001b[0;34m.\u001b[0m\u001b[0mbuiltin_trap\u001b[0m\u001b[0;34m:\u001b[0m\u001b[0;34m\u001b[0m\u001b[0;34m\u001b[0m\u001b[0m\n\u001b[0;32m-> 2117\u001b[0;31m                 \u001b[0mresult\u001b[0m \u001b[0;34m=\u001b[0m \u001b[0mfn\u001b[0m\u001b[0;34m(\u001b[0m\u001b[0mmagic_arg_s\u001b[0m\u001b[0;34m,\u001b[0m \u001b[0mcell\u001b[0m\u001b[0;34m)\u001b[0m\u001b[0;34m\u001b[0m\u001b[0;34m\u001b[0m\u001b[0m\n\u001b[0m\u001b[1;32m   2118\u001b[0m             \u001b[0;32mreturn\u001b[0m \u001b[0mresult\u001b[0m\u001b[0;34m\u001b[0m\u001b[0;34m\u001b[0m\u001b[0m\n\u001b[1;32m   2119\u001b[0m \u001b[0;34m\u001b[0m\u001b[0m\n",
            "\u001b[0;32m<decorator-gen-60>\u001b[0m in \u001b[0;36mtime\u001b[0;34m(self, line, cell, local_ns)\u001b[0m\n",
            "\u001b[0;32m/usr/local/lib/python3.6/dist-packages/IPython/core/magic.py\u001b[0m in \u001b[0;36m<lambda>\u001b[0;34m(f, *a, **k)\u001b[0m\n\u001b[1;32m    186\u001b[0m     \u001b[0;31m# but it's overkill for just that one bit of state.\u001b[0m\u001b[0;34m\u001b[0m\u001b[0;34m\u001b[0m\u001b[0;34m\u001b[0m\u001b[0m\n\u001b[1;32m    187\u001b[0m     \u001b[0;32mdef\u001b[0m \u001b[0mmagic_deco\u001b[0m\u001b[0;34m(\u001b[0m\u001b[0marg\u001b[0m\u001b[0;34m)\u001b[0m\u001b[0;34m:\u001b[0m\u001b[0;34m\u001b[0m\u001b[0;34m\u001b[0m\u001b[0m\n\u001b[0;32m--> 188\u001b[0;31m         \u001b[0mcall\u001b[0m \u001b[0;34m=\u001b[0m \u001b[0;32mlambda\u001b[0m \u001b[0mf\u001b[0m\u001b[0;34m,\u001b[0m \u001b[0;34m*\u001b[0m\u001b[0ma\u001b[0m\u001b[0;34m,\u001b[0m \u001b[0;34m**\u001b[0m\u001b[0mk\u001b[0m\u001b[0;34m:\u001b[0m \u001b[0mf\u001b[0m\u001b[0;34m(\u001b[0m\u001b[0;34m*\u001b[0m\u001b[0ma\u001b[0m\u001b[0;34m,\u001b[0m \u001b[0;34m**\u001b[0m\u001b[0mk\u001b[0m\u001b[0;34m)\u001b[0m\u001b[0;34m\u001b[0m\u001b[0;34m\u001b[0m\u001b[0m\n\u001b[0m\u001b[1;32m    189\u001b[0m \u001b[0;34m\u001b[0m\u001b[0m\n\u001b[1;32m    190\u001b[0m         \u001b[0;32mif\u001b[0m \u001b[0mcallable\u001b[0m\u001b[0;34m(\u001b[0m\u001b[0marg\u001b[0m\u001b[0;34m)\u001b[0m\u001b[0;34m:\u001b[0m\u001b[0;34m\u001b[0m\u001b[0;34m\u001b[0m\u001b[0m\n",
            "\u001b[0;32m/usr/local/lib/python3.6/dist-packages/IPython/core/magics/execution.py\u001b[0m in \u001b[0;36mtime\u001b[0;34m(self, line, cell, local_ns)\u001b[0m\n\u001b[1;32m   1191\u001b[0m         \u001b[0;32melse\u001b[0m\u001b[0;34m:\u001b[0m\u001b[0;34m\u001b[0m\u001b[0;34m\u001b[0m\u001b[0m\n\u001b[1;32m   1192\u001b[0m             \u001b[0mst\u001b[0m \u001b[0;34m=\u001b[0m \u001b[0mclock2\u001b[0m\u001b[0;34m(\u001b[0m\u001b[0;34m)\u001b[0m\u001b[0;34m\u001b[0m\u001b[0;34m\u001b[0m\u001b[0m\n\u001b[0;32m-> 1193\u001b[0;31m             \u001b[0mexec\u001b[0m\u001b[0;34m(\u001b[0m\u001b[0mcode\u001b[0m\u001b[0;34m,\u001b[0m \u001b[0mglob\u001b[0m\u001b[0;34m,\u001b[0m \u001b[0mlocal_ns\u001b[0m\u001b[0;34m)\u001b[0m\u001b[0;34m\u001b[0m\u001b[0;34m\u001b[0m\u001b[0m\n\u001b[0m\u001b[1;32m   1194\u001b[0m             \u001b[0mend\u001b[0m \u001b[0;34m=\u001b[0m \u001b[0mclock2\u001b[0m\u001b[0;34m(\u001b[0m\u001b[0;34m)\u001b[0m\u001b[0;34m\u001b[0m\u001b[0;34m\u001b[0m\u001b[0m\n\u001b[1;32m   1195\u001b[0m             \u001b[0mout\u001b[0m \u001b[0;34m=\u001b[0m \u001b[0;32mNone\u001b[0m\u001b[0;34m\u001b[0m\u001b[0;34m\u001b[0m\u001b[0m\n",
            "\u001b[0;32m<timed exec>\u001b[0m in \u001b[0;36m<module>\u001b[0;34m()\u001b[0m\n",
            "\u001b[0;32m/usr/local/lib/python3.6/dist-packages/sklearn/ensemble/_forest.py\u001b[0m in \u001b[0;36mpredict\u001b[0;34m(self, X)\u001b[0m\n\u001b[1;32m    610\u001b[0m             \u001b[0mThe\u001b[0m \u001b[0mpredicted\u001b[0m \u001b[0mclasses\u001b[0m\u001b[0;34m.\u001b[0m\u001b[0;34m\u001b[0m\u001b[0;34m\u001b[0m\u001b[0m\n\u001b[1;32m    611\u001b[0m         \"\"\"\n\u001b[0;32m--> 612\u001b[0;31m         \u001b[0mproba\u001b[0m \u001b[0;34m=\u001b[0m \u001b[0mself\u001b[0m\u001b[0;34m.\u001b[0m\u001b[0mpredict_proba\u001b[0m\u001b[0;34m(\u001b[0m\u001b[0mX\u001b[0m\u001b[0;34m)\u001b[0m\u001b[0;34m\u001b[0m\u001b[0;34m\u001b[0m\u001b[0m\n\u001b[0m\u001b[1;32m    613\u001b[0m \u001b[0;34m\u001b[0m\u001b[0m\n\u001b[1;32m    614\u001b[0m         \u001b[0;32mif\u001b[0m \u001b[0mself\u001b[0m\u001b[0;34m.\u001b[0m\u001b[0mn_outputs_\u001b[0m \u001b[0;34m==\u001b[0m \u001b[0;36m1\u001b[0m\u001b[0;34m:\u001b[0m\u001b[0;34m\u001b[0m\u001b[0;34m\u001b[0m\u001b[0m\n",
            "\u001b[0;32m/usr/local/lib/python3.6/dist-packages/sklearn/ensemble/_forest.py\u001b[0m in \u001b[0;36mpredict_proba\u001b[0;34m(self, X)\u001b[0m\n\u001b[1;32m    654\u001b[0m         \u001b[0mcheck_is_fitted\u001b[0m\u001b[0;34m(\u001b[0m\u001b[0mself\u001b[0m\u001b[0;34m)\u001b[0m\u001b[0;34m\u001b[0m\u001b[0;34m\u001b[0m\u001b[0m\n\u001b[1;32m    655\u001b[0m         \u001b[0;31m# Check data\u001b[0m\u001b[0;34m\u001b[0m\u001b[0;34m\u001b[0m\u001b[0;34m\u001b[0m\u001b[0m\n\u001b[0;32m--> 656\u001b[0;31m         \u001b[0mX\u001b[0m \u001b[0;34m=\u001b[0m \u001b[0mself\u001b[0m\u001b[0;34m.\u001b[0m\u001b[0m_validate_X_predict\u001b[0m\u001b[0;34m(\u001b[0m\u001b[0mX\u001b[0m\u001b[0;34m)\u001b[0m\u001b[0;34m\u001b[0m\u001b[0;34m\u001b[0m\u001b[0m\n\u001b[0m\u001b[1;32m    657\u001b[0m \u001b[0;34m\u001b[0m\u001b[0m\n\u001b[1;32m    658\u001b[0m         \u001b[0;31m# Assign chunk of trees to jobs\u001b[0m\u001b[0;34m\u001b[0m\u001b[0;34m\u001b[0m\u001b[0;34m\u001b[0m\u001b[0m\n",
            "\u001b[0;32m/usr/local/lib/python3.6/dist-packages/sklearn/ensemble/_forest.py\u001b[0m in \u001b[0;36m_validate_X_predict\u001b[0;34m(self, X)\u001b[0m\n\u001b[1;32m    410\u001b[0m         \u001b[0mcheck_is_fitted\u001b[0m\u001b[0;34m(\u001b[0m\u001b[0mself\u001b[0m\u001b[0;34m)\u001b[0m\u001b[0;34m\u001b[0m\u001b[0;34m\u001b[0m\u001b[0m\n\u001b[1;32m    411\u001b[0m \u001b[0;34m\u001b[0m\u001b[0m\n\u001b[0;32m--> 412\u001b[0;31m         \u001b[0;32mreturn\u001b[0m \u001b[0mself\u001b[0m\u001b[0;34m.\u001b[0m\u001b[0mestimators_\u001b[0m\u001b[0;34m[\u001b[0m\u001b[0;36m0\u001b[0m\u001b[0;34m]\u001b[0m\u001b[0;34m.\u001b[0m\u001b[0m_validate_X_predict\u001b[0m\u001b[0;34m(\u001b[0m\u001b[0mX\u001b[0m\u001b[0;34m,\u001b[0m \u001b[0mcheck_input\u001b[0m\u001b[0;34m=\u001b[0m\u001b[0;32mTrue\u001b[0m\u001b[0;34m)\u001b[0m\u001b[0;34m\u001b[0m\u001b[0;34m\u001b[0m\u001b[0m\n\u001b[0m\u001b[1;32m    413\u001b[0m \u001b[0;34m\u001b[0m\u001b[0m\n\u001b[1;32m    414\u001b[0m     \u001b[0;34m@\u001b[0m\u001b[0mproperty\u001b[0m\u001b[0;34m\u001b[0m\u001b[0;34m\u001b[0m\u001b[0m\n",
            "\u001b[0;32m/usr/local/lib/python3.6/dist-packages/sklearn/tree/_classes.py\u001b[0m in \u001b[0;36m_validate_X_predict\u001b[0;34m(self, X, check_input)\u001b[0m\n\u001b[1;32m    389\u001b[0m                              \u001b[0;34m\"match the input. Model n_features is %s and \"\u001b[0m\u001b[0;34m\u001b[0m\u001b[0;34m\u001b[0m\u001b[0m\n\u001b[1;32m    390\u001b[0m                              \u001b[0;34m\"input n_features is %s \"\u001b[0m\u001b[0;34m\u001b[0m\u001b[0;34m\u001b[0m\u001b[0m\n\u001b[0;32m--> 391\u001b[0;31m                              % (self.n_features_, n_features))\n\u001b[0m\u001b[1;32m    392\u001b[0m \u001b[0;34m\u001b[0m\u001b[0m\n\u001b[1;32m    393\u001b[0m         \u001b[0;32mreturn\u001b[0m \u001b[0mX\u001b[0m\u001b[0;34m\u001b[0m\u001b[0;34m\u001b[0m\u001b[0m\n",
            "\u001b[0;31mValueError\u001b[0m: Number of features of the model must match the input. Model n_features is 378 and input n_features is 2048 "
          ]
        }
      ]
    },
    {
      "cell_type": "code",
      "metadata": {
        "id": "GIfdl6TvefNI",
        "colab_type": "code",
        "colab": {}
      },
      "source": [
        ""
      ],
      "execution_count": 0,
      "outputs": []
    }
  ]
}